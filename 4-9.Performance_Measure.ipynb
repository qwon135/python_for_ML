{
 "cells": [
  {
   "cell_type": "markdown",
   "id": "e7025224",
   "metadata": {},
   "source": [
    "## Performance Measure(성능 측정)"
   ]
  },
  {
   "cell_type": "markdown",
   "id": "a3031161",
   "metadata": {},
   "source": [
    "# General ML Process Training / Test Set\n",
    "Training과 Test set을 나누는 기법"
   ]
  },
  {
   "cell_type": "markdown",
   "id": "65f50b56",
   "metadata": {},
   "source": [
    "## 1. Holdout Method(Sampling)\n",
    "- 데이터를 Training과 Test로 나눠서 모델을 생성하고 테스트하는 기법\n",
    "- 가장 일반적인 모델 생성을 위한 데이터 랜덤 샘플링 기법\n",
    "- Training과 Test를 나누는 비율은 데이터의 크기에 따라 다름"
   ]
  },
  {
   "cell_type": "markdown",
   "id": "7db59ec4",
   "metadata": {},
   "source": [
    "## 2. Training - Validation - Test\n",
    "- 3가지로 나눔(일반적으로 6:2:2), 일반적으론 Training Test두가지로만 나눔\n",
    "- Training Set으로 모델을 만들고 중간중간 Validation으로 검사, 최종적으로 Test Set로 검사\n",
    "- Training : Model, Building\n",
    "- Validation : Model, Check\n",
    "- Test : Model, Evaluation  \n",
    "\n",
    "#### Validation Set\n",
    "- Test Set 은 Model이 생성시 절대  Training Set에 포함되지 않아야함\n",
    "- Test Set과 달리 Model 생성시 Model 성능을 평가하기 위해 사용\n",
    "- Hyper Parameter Turning시 성능 평가를 통해 Overfitting 방지\n",
    "- Training 중간에 Model의 성능을 점검\n",
    "- Validation에서 잘나왔다고 Test에서 잘나오진 않다."
   ]
  },
  {
   "cell_type": "markdown",
   "id": "fdc0ec6d",
   "metadata": {},
   "source": [
    "## 3. K-fold cross validation\n",
    "- 학습 데이터를 K번 나눠서 Test와 Train을 실시, 해당 값을 Test의 평균값으로 사용\n",
    "- 모델의 Parameter 튜닝, 간단한 모델의 최종 성능 측정 등 사용\n",
    "- sklearn.model_selection(일반적으로 sampling을 하는 경우 이 모델 사용) 사용"
   ]
  },
  {
   "cell_type": "code",
   "execution_count": 2,
   "id": "1a468582",
   "metadata": {},
   "outputs": [],
   "source": [
    "# boston Data load\n",
    "from sklearn import datasets\n",
    "boston = datasets.load_boston()\n",
    "\n",
    "X = boston.data\n",
    "y = boston.target"
   ]
  },
  {
   "cell_type": "code",
   "execution_count": 4,
   "id": "861076bb",
   "metadata": {
    "scrolled": true
   },
   "outputs": [
    {
     "name": "stdout",
     "output_type": "stream",
     "text": [
      "TRAIN -  [ 0  1  2  3  4  5  6  8  9 10]\n",
      "TEST -  [  7  36  60  67  74  98 111 112 118 128]\n",
      "TRAIN -  [ 0  1  2  4  5  6  7  8  9 10]\n",
      "TEST -  [ 3 22 23 25 38 43 48 52 61 64]\n",
      "TRAIN -  [ 0  1  3  4  5  6  7  8  9 12]\n",
      "TEST -  [  2  10  11  17  40  51  54  69 110 114]\n",
      "TRAIN -  [ 1  2  3  4  5  7  8  9 10 11]\n",
      "TEST -  [ 0  6 24 29 31 34 58 59 73 81]\n",
      "TRAIN -  [0 1 2 3 4 5 6 7 8 9]\n",
      "TEST -  [14 16 19 41 46 47 71 75 78 80]\n",
      "TRAIN -  [0 1 2 3 4 5 6 7 8 9]\n",
      "TEST -  [ 28  42  65  86  87  91 108 129 130 145]\n",
      "TRAIN -  [ 0  1  2  3  4  5  6  7 10 11]\n",
      "TEST -  [ 8  9 12 15 26 33 37 44 50 53]\n",
      "TRAIN -  [0 1 2 3 4 5 6 7 8 9]\n",
      "TEST -  [ 13  55  66  68  83  94 115 116 123 136]\n",
      "TRAIN -  [ 0  2  3  4  5  6  7  8  9 10]\n",
      "TEST -  [  1  18  30  32  35  39  76  84  96 113]\n",
      "TRAIN -  [ 0  1  2  3  6  7  8  9 10 11]\n",
      "TEST -  [ 4  5 20 21 27 45 49 56 57 63]\n"
     ]
    }
   ],
   "source": [
    "from sklearn.model_selection import KFold\n",
    "\n",
    "# 10번 나눔\n",
    "kf = KFold(n_splits = 10, shuffle = True)\n",
    "\n",
    "for train_index, test_index in kf.split(X):\n",
    "    print(\"TRAIN - \", train_index[:10])\n",
    "    print(\"TEST - \", test_index[:10])"
   ]
  },
  {
   "cell_type": "markdown",
   "id": "05d6bd2a",
   "metadata": {},
   "source": [
    "### K-fold한 Data 활용"
   ]
  },
  {
   "cell_type": "code",
   "execution_count": 5,
   "id": "cc35c596",
   "metadata": {},
   "outputs": [
    {
     "data": {
      "text/plain": [
       "(34.46408458830232, 34.07824620925941)"
      ]
     },
     "execution_count": 5,
     "metadata": {},
     "output_type": "execute_result"
    }
   ],
   "source": [
    "from sklearn.linear_model import Lasso, Ridge\n",
    "from sklearn.metrics import mean_squared_error\n",
    "kf = KFold(n_splits=10)\n",
    "lasso_regressor = Lasso()\n",
    "ridge_regressor = Ridge()\n",
    "\n",
    "lasso_mse = []\n",
    "ridge_mse = []\n",
    "\n",
    "for train_index, test_index in kf.split(X):\n",
    "    lasso_regressor.fit(X[train_index], y[train_index])\n",
    "    ridge_regressor.fit(X[train_index], y[train_index])\n",
    "    \n",
    "    lasso_mse.append(mean_squared_error(y[test_index], lasso_regressor.predict(X[test_index])))\n",
    "    ridge_mse.append(mean_squared_error(y[test_index], ridge_regressor.predict(X[test_index])))\n",
    "\n",
    "# Ridge가 MSE error가 조금더 적다.\n",
    "sum(lasso_mse) / 10, sum(ridge_mse) / 10"
   ]
  },
  {
   "cell_type": "markdown",
   "id": "29a39673",
   "metadata": {},
   "source": [
    "### 좀 더 편하게 하는 방법\n",
    "### K-fold Cross Validation\n",
    "- cross_val_score 함수로, 한번에 해결 가능\n",
    "- sklearn은 pipeline을 위해 \"High is better\"로 처리한다. 즉 sklearn은 클 수록 좋은것으로 판단\n",
    "- 하지만 MSE는 작을 수록 좋다. 그러므로 MSE를 Negative(음수)로 변환(scroing = 'neg_mean_squared_error')\n",
    "- 이로인해 RMSE를 지원하지 않는것이다."
   ]
  },
  {
   "cell_type": "code",
   "execution_count": 9,
   "id": "580eb167",
   "metadata": {},
   "outputs": [
    {
     "name": "stdout",
     "output_type": "stream",
     "text": [
      "[ -11.75904887  -17.87218543  -10.52504673  -60.79224355  -46.77806854\n",
      "  -40.75196077  -17.30562005 -102.67754279  -22.8731834   -13.30594575]\n",
      "[  -9.31766315  -12.60806897  -10.79859434  -36.6093648   -29.62109212\n",
      "  -18.62598134   -9.46641896 -168.49831117  -33.79749469  -11.43947255]\n"
     ]
    },
    {
     "data": {
      "text/plain": [
       "(-34.46408458830232, -34.078246209259405)"
      ]
     },
     "execution_count": 9,
     "metadata": {},
     "output_type": "execute_result"
    }
   ],
   "source": [
    "from sklearn.model_selection import cross_val_score\n",
    "import numpy as np \n",
    "\n",
    "lasso_regressor = Lasso(warm_start=False)\n",
    "ridge_regressor = Ridge()\n",
    "\n",
    "# regressor,X,y 를 넣는다. cv는 몇번 cross_valindation할것이냐를 의미, scoring은 점수 측정 기준\n",
    "lasso_scores = cross_val_score(lasso_regressor, X, y, cv=10, \n",
    "                               scoring='neg_mean_squared_error')\n",
    "ridge_scores= cross_val_score(ridge_regressor, X, y, cv=10, \n",
    "                              scoring='neg_mean_squared_error')\n",
    "\n",
    "print(lasso_scores)\n",
    "print(ridge_scores)\n",
    "np.mean(lasso_scores), np.mean(ridge_scores)"
   ]
  },
  {
   "cell_type": "code",
   "execution_count": 7,
   "id": "6974e67b",
   "metadata": {
    "scrolled": true
   },
   "outputs": [
    {
     "data": {
      "text/plain": [
       "{'fit_time': array([0.00101066, 0.00199866, 0.0010004 , 0.00098252, 0.00100708,\n",
       "        0.00100827, 0.        , 0.00101066, 0.0009892 , 0.00099969]),\n",
       " 'score_time': array([0.0009985 , 0.00100112, 0.00101137, 0.00099659, 0.00099468,\n",
       "        0.        , 0.00099993, 0.        , 0.        , 0.        ]),\n",
       " 'test_neg_mean_squared_error': array([ -11.75904887,  -17.87218543,  -10.52504673,  -60.79224355,\n",
       "         -46.77806854,  -40.75196077,  -17.30562005, -102.67754279,\n",
       "         -22.8731834 ,  -13.30594575]),\n",
       " 'test_r2': array([ 0.66289033,  0.33452353, -0.50043664,  0.38035161,  0.33638098,\n",
       "         0.4584511 , -0.0816218 ,  0.31138236, -0.21362102,  0.29459703])}"
      ]
     },
     "execution_count": 7,
     "metadata": {},
     "output_type": "execute_result"
    }
   ],
   "source": [
    "from sklearn.model_selection import cross_validate\n",
    "import numpy as np \n",
    "\n",
    "lasso_regressor = Lasso(warm_start=False)\n",
    "ridge_regressor = Ridge()\n",
    "\n",
    "scoring = ['neg_mean_squared_error', 'r2']\n",
    "\n",
    "lasso_scores = cross_validate(lasso_regressor, X, y, cv=10, scoring=scoring)\n",
    "ridge_scores= cross_validate(ridge_regressor, X, y, cv=10, scoring='neg_mean_squared_error')\n",
    "lasso_scores"
   ]
  },
  {
   "cell_type": "markdown",
   "id": "5b53e5cb",
   "metadata": {},
   "source": [
    "### KFold를 활용하여 MSE가 줄어듬을 관찰"
   ]
  },
  {
   "cell_type": "code",
   "execution_count": 10,
   "id": "334d57b7",
   "metadata": {},
   "outputs": [
    {
     "data": {
      "text/plain": [
       "(-28.589496580614803, -24.179756337297526)"
      ]
     },
     "execution_count": 10,
     "metadata": {},
     "output_type": "execute_result"
    }
   ],
   "source": [
    "from sklearn.model_selection import cross_val_score\n",
    "import numpy as np \n",
    "\n",
    "lasso_regressor = Lasso(warm_start=False)\n",
    "ridge_regressor = Ridge()\n",
    "\n",
    "kf = KFold(n_splits=10, shuffle=True)\n",
    "\n",
    "# cv에는 kf나 loo도 넣을 수 있음\n",
    "lasso_scores = cross_val_score(lasso_regressor, X, y, cv=kf, \n",
    "                               scoring='neg_mean_squared_error')\n",
    "ridge_scores= cross_val_score(ridge_regressor, X, y, cv=kf, \n",
    "                              scoring='neg_mean_squared_error')\n",
    "np.mean(lasso_scores), np.mean(ridge_scores)"
   ]
  },
  {
   "cell_type": "markdown",
   "id": "333a9ff2",
   "metadata": {},
   "source": [
    "### Leave One Out(LOO)\n",
    "- 잘 사용 X\n",
    "- Simple cross validation \\> k = data size\n",
    "- 한번에 한 개의 데이터만 Tes set으로 사용함 \\> 총 k번 iteration"
   ]
  },
  {
   "cell_type": "code",
   "execution_count": 11,
   "id": "7c8af701",
   "metadata": {},
   "outputs": [
    {
     "name": "stdout",
     "output_type": "stream",
     "text": [
      "[1 2 3] [0]\n",
      "[0 2 3] [1]\n",
      "[0 1 3] [2]\n",
      "[0 1 2] [3]\n"
     ]
    }
   ],
   "source": [
    "from sklearn.model_selection import LeaveOneOut\n",
    "\n",
    "test = [1, 2, 3, 4]\n",
    "loo = LeaveOneOut() # h - parameter 필요 X\n",
    "for train, test in loo.split(test):\n",
    "    print(\"%s %s\" % (train, test))"
   ]
  },
  {
   "cell_type": "code",
   "execution_count": 12,
   "id": "4121cf3e",
   "metadata": {},
   "outputs": [
    {
     "data": {
      "text/plain": [
       "(-28.40926676204934, -23.862836317209926)"
      ]
     },
     "execution_count": 12,
     "metadata": {},
     "output_type": "execute_result"
    }
   ],
   "source": [
    "loo = LeaveOneOut()\n",
    "    \n",
    "lasso_scores = cross_val_score(lasso_regressor, X, y, cv=loo, scoring='neg_mean_squared_error')\n",
    "ridge_scores= cross_val_score(ridge_regressor, X, y, cv=loo, scoring='neg_mean_squared_error')\n",
    "np.mean(lasso_scores), np.mean(ridge_scores)"
   ]
  },
  {
   "cell_type": "code",
   "execution_count": 13,
   "id": "e3f80b3b",
   "metadata": {},
   "outputs": [],
   "source": [
    "lasso_scores = cross_val_score(\n",
    "    lasso_regressor, X, y, cv=kf, scoring='neg_mean_squared_error')\n",
    "ridge_scores= cross_val_score(\n",
    "    ridge_regressor, X, y, cv=kf, scoring='neg_mean_squared_error')"
   ]
  },
  {
   "cell_type": "markdown",
   "id": "34255b2c",
   "metadata": {},
   "source": [
    "#### Check variation of cross validation\n",
    "LASSO와 RIDGE의 그래프를 그려보면 RIDGE가 더욱 분포가 넓고 데이터에 민감하게 모델이 만들어짐을 알 수 있다. 그래프에서 최대 성능을 내는 것은 Ridge지만 더 안정적인 것은 Lasso이다. (실전에서는 성능차이가 사실 크지는 않음)"
   ]
  },
  {
   "cell_type": "code",
   "execution_count": 18,
   "id": "9121359e",
   "metadata": {},
   "outputs": [
    {
     "data": {
      "image/png": "[encoded data removed]",
      "text/plain": [
       "<Figure size 432x288 with 1 Axes>"
      ]
     },
     "metadata": {
      "needs_background": "light"
     },
     "output_type": "display_data"
    }
   ],
   "source": [
    "import matplotlib.pyplot as plt\n",
    "labels=[\"LASSO\", \"RIDGE\"]\n",
    "plt.boxplot((lasso_scores, ridge_scores), labels=labels)\n",
    "plt.grid(linestyle=\"--\")\n",
    "plt.show()"
   ]
  },
  {
   "cell_type": "markdown",
   "id": "59b4baf4",
   "metadata": {},
   "source": [
    "### Validation set for parameter turning\n",
    "- Validation set 사용의 많은 이유 중 하나가 Hyper parameter turning\n",
    "- Number of iterations(SGD, 최적의 iteration은?), Number of brance(Tree-based, 깊을 수록 overfiittng) 등\n",
    "- Validation set의 성능으로 최적의 parameter를 찾음\n",
    "- Validation set결과와 Training set 결과이 차이가 벌어지면 overfitting"
   ]
  },
  {
   "cell_type": "code",
   "execution_count": 19,
   "id": "67c76f2d",
   "metadata": {},
   "outputs": [],
   "source": [
    "def rmse(predictions, targets):\n",
    "    return np.sqrt(((predictions - targets) ** 2).mean())"
   ]
  },
  {
   "cell_type": "code",
   "execution_count": 20,
   "id": "381ab597",
   "metadata": {},
   "outputs": [],
   "source": [
    "from sklearn.linear_model import SGDRegressor\n",
    "from sklearn.preprocessing import StandardScaler\n",
    "\n",
    "std = StandardScaler()\n",
    "std.fit(X)\n",
    "X_scaled = std.transform(X)\n",
    "\n",
    "eta0 = 0.01 \n",
    "max_iter = 100"
   ]
  },
  {
   "cell_type": "code",
   "execution_count": 21,
   "id": "36e77b19",
   "metadata": {},
   "outputs": [],
   "source": [
    "from sklearn.model_selection import train_test_split\n",
    "\n",
    "# 8 대 2로 train : test 분할\n",
    "X_train_dataset, X_test, y_train_dataset, y_test = train_test_split(\n",
    "            X_scaled,y, test_size=0.2, random_state=42)\n",
    "\n",
    "# eta0 max_itr 설정, warm_start 초기값 부여, learning_rate는 constant\n",
    "sgd_regressor = SGDRegressor(\n",
    "    eta0=eta0, max_iter=max_iter, warm_start=True, learning_rate=\"constant\")\n",
    "\n",
    "rmse_val_score = []\n",
    "rmse_train_score = []\n",
    "\n",
    "# weight 값을 저장할 model_list 생성\n",
    "model_list = []\n",
    "\n",
    "# X_train 을 다시 분할(실제로는 이렇게 안함)\n",
    "X_train, X_val, y_train, y_val = train_test_split(\n",
    "    X_train_dataset,y_train_dataset, test_size=0.2, random_state=42)\n",
    "\n",
    "# fitting\n",
    "sgd_regressor.fit(X_train,y_train)\n",
    "\n",
    "# kf = KFold(n_splits=100, shuffle=True)\n",
    "# for train_index, test_index in kf.split(X_train_dataset):\n",
    "\n",
    "for i in range(300):\n",
    "    \n",
    "    # train 값으로 예측\n",
    "    y_pred = sgd_regressor.predict(X_train)        \n",
    "    y_true = y_train        \n",
    "    rmse_train_score.append(rmse(y_pred, y_true))\n",
    "\n",
    "    # validation값으로 예측\n",
    "    y_pred = sgd_regressor.predict(X_val)\n",
    "    y_true = y_val\n",
    "    rmse_val_score.append(rmse(y_pred, y_true))\n",
    "    \n",
    "    # weight값 저장\n",
    "    model_list.append(sgd_regressor)\n",
    "    \n",
    "    # 모델의  coef,intercept를 복사\n",
    "    coef = sgd_regressor.coef_.copy()\n",
    "    intercept = sgd_regressor.intercept_.copy()\n",
    "    \n",
    "    # 복사한 값으로 새로운 모델 생성, 이전의 coef,intercept값을 coef_int, intercept_int에 넣어줌\n",
    "    sgd_regressor = SGDRegressor(\n",
    "        eta0=eta0, max_iter=max_iter, warm_start=True, learning_rate=\"constant\")\n",
    "    \n",
    "    # fitting\n",
    "    sgd_regressor.fit(X_train,y_train, coef_init=coef, intercept_init=intercept)    "
   ]
  },
  {
   "cell_type": "code",
   "execution_count": 24,
   "id": "ffa657a9",
   "metadata": {},
   "outputs": [
    {
     "data": {
      "image/png": "[encoded data removed]",
      "text/plain": [
       "<Figure size 432x288 with 1 Axes>"
      ]
     },
     "metadata": {
      "needs_background": "light"
     },
     "output_type": "display_data"
    }
   ],
   "source": [
    "# scaled된 데이터를 넣지않으면 그래프가 더 튐\n",
    "# learning_rate을 줄면 더욱 덜 튄다.\n",
    "plt.plot(range(len(rmse_val_score)), rmse_val_score,  c=\"g\", label=\"VAL\")\n",
    "plt.plot(range(len(rmse_train_score)), rmse_train_score,  c=\"r\", label=\"TRAINING\")\n",
    "plt.scatter(99, rmse(y_test,sgd_regressor.predict(X_test)), s=1, label=\"TEST\")\n",
    "plt.legend()\n",
    "plt.show()"
   ]
  },
  {
   "cell_type": "code",
   "execution_count": 30,
   "id": "19a2df31",
   "metadata": {},
   "outputs": [
    {
     "data": {
      "text/plain": [
       "array([ 40,  21,  81, 178, 295, 269,  72,  47, 124, 154, 252,  82,  36,\n",
       "       148, 107,  55, 220, 286, 145,  31,   2, 226, 162, 298, 205,  37,\n",
       "        61,  18, 285, 264,  41, 197, 221,  76,  89, 149, 284, 297,  49,\n",
       "       229, 101,  39,  11, 274,  22, 192, 237, 228, 249, 239,  68,   7,\n",
       "       240, 272, 146, 227, 176, 181, 128, 158, 290,  48, 129, 136, 138,\n",
       "       253, 268,  50, 213, 256, 265, 198, 121,  87, 193,  66, 147, 187,\n",
       "       278,  96, 127,  29, 117, 277,  90,  88,  84, 235,  23,  17,  70,\n",
       "       153, 155,  13, 218, 232,  83, 135, 211, 106, 251, 209, 271, 182,\n",
       "       164, 282,  94,  26, 291, 170,  35, 260, 195, 173, 134, 241,  25,\n",
       "        45,  52, 165, 169, 255, 238, 254, 215,  60, 230, 281,  57,  98,\n",
       "       115, 204, 196, 216,   9, 267, 200, 224, 299,  43, 139, 110, 279,\n",
       "       140, 257, 236, 161,  74, 206, 293, 207, 166, 231, 225,  67,  75,\n",
       "       109,  27, 233, 150, 184, 194,   3,  79,  92, 123, 262, 292, 116,\n",
       "         4,  42,   0,   6,  93, 294, 189, 283,  19,  14, 163, 247, 122,\n",
       "       102, 160, 168,  12, 258, 152, 212, 120,  71, 188,   8,  62,  16,\n",
       "        69, 137, 185, 273, 114,  28, 174, 250, 119,  80, 208, 180, 118,\n",
       "        15, 214, 171, 243,  59,  65, 190, 219, 167, 125, 159,  56,  34,\n",
       "        30, 276,  86,  95, 179, 275, 177, 142, 266, 248, 280,  32, 151,\n",
       "        63,  78, 108, 202, 130, 175,  33, 183,  53,  10, 113, 111,   1,\n",
       "       100, 156, 133, 296, 217,  91, 131, 288,  73, 157,  20, 245, 105,\n",
       "        24, 186, 244, 210, 132, 223, 259, 289, 144, 172,  99,  51, 103,\n",
       "       126, 242, 191,  38, 287,  54, 234, 246, 201, 199, 261,  58,  77,\n",
       "       104,  85, 141,   5, 222,  64, 112, 143,  97,  44, 263, 203, 270,\n",
       "        46], dtype=int64)"
      ]
     },
     "execution_count": 30,
     "metadata": {},
     "output_type": "execute_result"
    }
   ],
   "source": [
    "# 최적의 값 -> 40번째 모델의 rmse가 가장 작다.\n",
    "np.argsort(rmse_val_score)"
   ]
  },
  {
   "cell_type": "code",
   "execution_count": 26,
   "id": "76c88cb0",
   "metadata": {},
   "outputs": [
    {
     "data": {
      "text/plain": [
       "5.0405488419202795"
      ]
     },
     "execution_count": 26,
     "metadata": {},
     "output_type": "execute_result"
    }
   ],
   "source": [
    "rmse(y_test,sgd_regressor.predict(X_test))"
   ]
  },
  {
   "cell_type": "code",
   "execution_count": 31,
   "id": "3706af31",
   "metadata": {},
   "outputs": [
    {
     "data": {
      "text/plain": [
       "4.84143260338956"
      ]
     },
     "execution_count": 31,
     "metadata": {},
     "output_type": "execute_result"
    }
   ],
   "source": [
    "# 가장 RMSE가 작은 40번째 모델 5.04 -> 4.84\n",
    "rmse(y_test,model_list[40].predict(X_test))"
   ]
  },
  {
   "cell_type": "code",
   "execution_count": 28,
   "id": "14fdf62e",
   "metadata": {},
   "outputs": [
    {
     "data": {
      "text/plain": [
       "array([-1.25591456,  0.77471312,  0.19500273,  0.71766655, -2.33649215,\n",
       "        3.82727546, -0.16686289, -3.12848142,  1.75923925, -1.50983166,\n",
       "       -2.06616384,  0.97888248, -3.64740083])"
      ]
     },
     "execution_count": 28,
     "metadata": {},
     "output_type": "execute_result"
    }
   ],
   "source": [
    "model_list[0].coef_"
   ]
  },
  {
   "cell_type": "markdown",
   "id": "a678aad7",
   "metadata": {},
   "source": [
    "### 그 외 performace measure\n",
    "- RepeatedKFold : 중복이 포함된 K-Fold 생성\n",
    "- LeavePOut : 한번에 P개를 뽑음(Not LOO for one data)\n",
    "- ShuffleSplit : 독립적인(중복되는) 데이터 Sampling\n",
    "\n",
    "#### 그나마 자주 사용 되는 2가지\n",
    "- GropuKFold : 그룹별로 데이터를 Sampling\n",
    "- StratifiedKFold : Y 값 비율에 따라 뽑음(치마 추출 방법)"
   ]
  },
  {
   "cell_type": "code",
   "execution_count": null,
   "id": "e0b868c3",
   "metadata": {},
   "outputs": [],
   "source": []
  }
 ],
 "metadata": {
  "kernelspec": {
   "display_name": "Python 3",
   "language": "python",
   "name": "python3"
  },
  "language_info": {
   "codemirror_mode": {
    "name": "ipython",
    "version": 3
   },
   "file_extension": ".py",
   "mimetype": "text/x-python",
   "name": "python",
   "nbconvert_exporter": "python",
   "pygments_lexer": "ipython3",
   "version": "3.8.8"
  }
 },
 "nbformat": 4,
 "nbformat_minor": 5
}
