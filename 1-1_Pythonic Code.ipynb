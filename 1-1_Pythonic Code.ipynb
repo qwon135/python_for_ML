{
 "cells": [
  {
   "cell_type": "markdown",
   "id": "817a758e",
   "metadata": {},
   "source": [
    "## Split 함수\n",
    "String Type의 값을 나눠서 List 형태로 변환"
   ]
  },
  {
   "cell_type": "code",
   "execution_count": 1,
   "id": "4e187ea5",
   "metadata": {},
   "outputs": [
    {
     "data": {
      "text/plain": [
       "['zero', 'one', 'tow', 'three']"
      ]
     },
     "execution_count": 1,
     "metadata": {},
     "output_type": "execute_result"
    }
   ],
   "source": [
    "items = 'zero one tow three'.split() # 빈칸을 기준으로 문자열 나누기\n",
    "items"
   ]
  },
  {
   "cell_type": "code",
   "execution_count": 2,
   "id": "c250e0fa",
   "metadata": {},
   "outputs": [
    {
     "data": {
      "text/plain": [
       "['python', 'jquery', 'javascript']"
      ]
     },
     "execution_count": 2,
     "metadata": {},
     "output_type": "execute_result"
    }
   ],
   "source": [
    "example = 'python,jquery,javascript'.split(\",\") # \",\"를 기준으로 문자열 나누기\n",
    "example"
   ]
  },
  {
   "cell_type": "code",
   "execution_count": 4,
   "id": "59ff846f",
   "metadata": {},
   "outputs": [
    {
     "data": {
      "text/plain": [
       "('python', 'jquery', 'javascript')"
      ]
     },
     "execution_count": 4,
     "metadata": {},
     "output_type": "execute_result"
    }
   ],
   "source": [
    "a,b,c = example # 각 값을 a,b,c변수로 unpacking\n",
    "a,b,c"
   ]
  },
  {
   "cell_type": "markdown",
   "id": "323fafe8",
   "metadata": {},
   "source": [
    "### Join 함수\n",
    "String List를 합쳐 하나의 String으로 반환할 때 사용"
   ]
  },
  {
   "cell_type": "code",
   "execution_count": 5,
   "id": "977cbec5",
   "metadata": {},
   "outputs": [
    {
     "data": {
      "text/plain": [
       "'redbluegreenyellow'"
      ]
     },
     "execution_count": 5,
     "metadata": {},
     "output_type": "execute_result"
    }
   ],
   "source": [
    "colors = ['red','blue','green','yellow']\n",
    "result = ''.join(colors)\n",
    "result"
   ]
  },
  {
   "cell_type": "code",
   "execution_count": 6,
   "id": "8d72d7be",
   "metadata": {},
   "outputs": [
    {
     "data": {
      "text/plain": [
       "'red blue green yellow'"
      ]
     },
     "execution_count": 6,
     "metadata": {},
     "output_type": "execute_result"
    }
   ],
   "source": [
    "result = ' '.join(colors) # 빈칸으로 join\n",
    "result"
   ]
  },
  {
   "cell_type": "code",
   "execution_count": 7,
   "id": "c808c364",
   "metadata": {},
   "outputs": [
    {
     "data": {
      "text/plain": [
       "'red, blue, green, yellow'"
      ]
     },
     "execution_count": 7,
     "metadata": {},
     "output_type": "execute_result"
    }
   ],
   "source": [
    "result = ', '.join(colors) # \",\" 으로 join\n",
    "result"
   ]
  },
  {
   "cell_type": "markdown",
   "id": "c5b0685d",
   "metadata": {},
   "source": [
    "### List comprehensions\n",
    "- 기존 List를 사용하여 간단히 다른 List를 만드는 기법\n",
    "- 포괄적인 List, 포함되는 리스트라는 의미\n",
    "- 파이썬에서 가장 많이 사용되는 기법 중 하나\n",
    "- 일반적으로 for + append보다 속도가 빠름"
   ]
  },
  {
   "cell_type": "code",
   "execution_count": 8,
   "id": "deb1fbed",
   "metadata": {},
   "outputs": [
    {
     "data": {
      "text/plain": [
       "[0, 1, 2, 3, 4, 5, 6, 7, 8, 9]"
      ]
     },
     "execution_count": 8,
     "metadata": {},
     "output_type": "execute_result"
    }
   ],
   "source": [
    "result = []\n",
    "for i in range(10):\n",
    "    result.append(i)\n",
    "result"
   ]
  },
  {
   "cell_type": "code",
   "execution_count": 9,
   "id": "a941ad49",
   "metadata": {},
   "outputs": [
    {
     "data": {
      "text/plain": [
       "[0, 1, 2, 3, 4, 5, 6, 7, 8, 9]"
      ]
     },
     "execution_count": 9,
     "metadata": {},
     "output_type": "execute_result"
    }
   ],
   "source": [
    "result = [i for i in range(10)]\n",
    "result"
   ]
  },
  {
   "cell_type": "code",
   "execution_count": 12,
   "id": "8ac9a062",
   "metadata": {},
   "outputs": [
    {
     "data": {
      "text/plain": [
       "[0, 2, 4, 6, 8]"
      ]
     },
     "execution_count": 12,
     "metadata": {},
     "output_type": "execute_result"
    }
   ],
   "source": [
    "result = [i for i in range(10) if i%2 ==0] # 짝수만 filter\n",
    "result"
   ]
  },
  {
   "cell_type": "code",
   "execution_count": 14,
   "id": "027a4091",
   "metadata": {},
   "outputs": [
    {
     "name": "stdout",
     "output_type": "stream",
     "text": [
      "['HW', 'Ho', 'Hr', 'Hl', 'Hd', 'eW', 'eo', 'er', 'el', 'ed', 'lW', 'lo', 'lr', 'll', 'ld', 'lW', 'lo', 'lr', 'll', 'ld', 'oW', 'oo', 'or', 'ol', 'od']\n"
     ]
    }
   ],
   "source": [
    "word_1 = \"Hello\"\n",
    "word_2 = \"World\"\n",
    "result = [i+j for i in word_1 for j in word_2] # Nested For loop\n",
    "print(result)"
   ]
  },
  {
   "cell_type": "code",
   "execution_count": 15,
   "id": "486fb4be",
   "metadata": {},
   "outputs": [
    {
     "data": {
      "text/plain": [
       "['AD', 'AE', 'AA', 'BD', 'BE', 'BA', 'CD', 'CE', 'CA']"
      ]
     },
     "execution_count": 15,
     "metadata": {},
     "output_type": "execute_result"
    }
   ],
   "source": [
    "case_1 = [\"A\",\"B\",\"C\"]\n",
    "case_2 = [\"D\",\"E\",\"A\"]\n",
    "result = [i+j for i in case_1 for j in case_2]\n",
    "result"
   ]
  },
  {
   "cell_type": "code",
   "execution_count": 16,
   "id": "91edd5e6",
   "metadata": {},
   "outputs": [
    {
     "data": {
      "text/plain": [
       "['AD', 'AE', 'BD', 'BE', 'BA', 'CD', 'CE', 'CA']"
      ]
     },
     "execution_count": 16,
     "metadata": {},
     "output_type": "execute_result"
    }
   ],
   "source": [
    "result = [i+j for i in case_1 for j in case_2 if not i==j] # i j 다를 때만\n",
    "result"
   ]
  },
  {
   "cell_type": "code",
   "execution_count": 17,
   "id": "c5aac5d4",
   "metadata": {},
   "outputs": [
    {
     "data": {
      "text/plain": [
       "['The', 'quick', 'brown', 'fox', 'jumps', 'over', 'the', 'lazy', 'dog']"
      ]
     },
     "execution_count": 17,
     "metadata": {},
     "output_type": "execute_result"
    }
   ],
   "source": [
    "words = 'The quick brown fox jumps over the lazy dog'.split()\n",
    "words"
   ]
  },
  {
   "cell_type": "code",
   "execution_count": 19,
   "id": "f79e0235",
   "metadata": {},
   "outputs": [
    {
     "data": {
      "text/plain": [
       "[['THE', 'the', 3],\n",
       " ['QUICK', 'quick', 5],\n",
       " ['BROWN', 'brown', 5],\n",
       " ['FOX', 'fox', 3],\n",
       " ['JUMPS', 'jumps', 5],\n",
       " ['OVER', 'over', 4],\n",
       " ['THE', 'the', 3],\n",
       " ['LAZY', 'lazy', 4],\n",
       " ['DOG', 'dog', 3]]"
      ]
     },
     "execution_count": 19,
     "metadata": {},
     "output_type": "execute_result"
    }
   ],
   "source": [
    "stuff = [[w.upper(),w.lower(), len(w)] for w in words] # 2차원 리스트 two dimesional list로 변환\n",
    "stuff"
   ]
  },
  {
   "cell_type": "markdown",
   "id": "466baa2a",
   "metadata": {},
   "source": [
    "### Enumerate\n",
    "List의 element를 추출할 때 번호를 붙여서 추출"
   ]
  },
  {
   "cell_type": "code",
   "execution_count": 21,
   "id": "02ac3e58",
   "metadata": {},
   "outputs": [
    {
     "name": "stdout",
     "output_type": "stream",
     "text": [
      "0 tic\n",
      "1 tac\n",
      "2 toe\n"
     ]
    }
   ],
   "source": [
    "for i, v in enumerate(['tic', 'tac', 'toe']):\n",
    "    print(i, v)"
   ]
  },
  {
   "cell_type": "code",
   "execution_count": 22,
   "id": "f66dcc22",
   "metadata": {},
   "outputs": [
    {
     "data": {
      "text/plain": [
       "[(0, 'a'), (1, 'b'), (2, 'c'), (3, 'd')]"
      ]
     },
     "execution_count": 22,
     "metadata": {},
     "output_type": "execute_result"
    }
   ],
   "source": [
    "mylist = [\"a\", \"b\", \"c\", \"d\"]\n",
    "list(enumerate(mylist))"
   ]
  },
  {
   "cell_type": "code",
   "execution_count": 24,
   "id": "d6218ace",
   "metadata": {},
   "outputs": [
    {
     "data": {
      "text/plain": [
       "{0: 'aa', 1: 'bb', 2: 'cc', 3: 'dd', 4: 'ee'}"
      ]
     },
     "execution_count": 24,
     "metadata": {},
     "output_type": "execute_result"
    }
   ],
   "source": [
    "{i :j for i,j in enumerate(('aa bb cc dd ee').split())}"
   ]
  },
  {
   "cell_type": "markdown",
   "id": "3cfdeebe",
   "metadata": {},
   "source": [
    "### Zip\n",
    "두개의 list의 값을 병렬적으로 추출함"
   ]
  },
  {
   "cell_type": "code",
   "execution_count": 25,
   "id": "c922dd95",
   "metadata": {},
   "outputs": [
    {
     "name": "stdout",
     "output_type": "stream",
     "text": [
      "1 5\n",
      "2 6\n",
      "3 7\n",
      "4 8\n"
     ]
    }
   ],
   "source": [
    "alist = [1,2,3,4]\n",
    "blist = [5,6,7,8]\n",
    "for a,b in zip(alist,blist):\n",
    "    print(a,b)"
   ]
  },
  {
   "cell_type": "code",
   "execution_count": 26,
   "id": "268faa7b",
   "metadata": {},
   "outputs": [
    {
     "data": {
      "text/plain": [
       "((1, 10, 100), (2, 20, 200), (3, 30, 300))"
      ]
     },
     "execution_count": 26,
     "metadata": {},
     "output_type": "execute_result"
    }
   ],
   "source": [
    "a,b,c = zip((1,2,3),(10,20,30),(100,200,300))\n",
    "a,b,c"
   ]
  },
  {
   "cell_type": "code",
   "execution_count": 28,
   "id": "4b5adad3",
   "metadata": {},
   "outputs": [
    {
     "data": {
      "text/plain": [
       "[111, 222, 333]"
      ]
     },
     "execution_count": 28,
     "metadata": {},
     "output_type": "execute_result"
    }
   ],
   "source": [
    "[sum(x) for x in zip((1,2,3),(10,20,30),(100,200,300))] \n",
    "# list comprehensions와 같이 사용, 각 Tuple 같은 index를 묶어 합을 list로 변환"
   ]
  },
  {
   "cell_type": "markdown",
   "id": "d9b17b47",
   "metadata": {},
   "source": [
    "### Enumerate & Zip\n",
    "함께 사용이 가능하다"
   ]
  },
  {
   "cell_type": "code",
   "execution_count": 29,
   "id": "73eaf231",
   "metadata": {},
   "outputs": [
    {
     "name": "stdout",
     "output_type": "stream",
     "text": [
      "0 1 5\n",
      "1 2 6\n",
      "2 3 7\n",
      "3 4 8\n"
     ]
    }
   ],
   "source": [
    "for i ,(a,b) in enumerate(zip(alist,blist)):\n",
    "    print(i,a,b)"
   ]
  },
  {
   "cell_type": "markdown",
   "id": "7ecdeff8",
   "metadata": {},
   "source": [
    "### Lambda\n",
    "- 함수 이름 없이, 함수처럼 쓸 수 있는 익명 함수\n",
    "- 수학의 람다 대수에서 유래함\n",
    "- Python 3부터는 권장하지않음 (List comprehensions가 있어서)"
   ]
  },
  {
   "cell_type": "code",
   "execution_count": 30,
   "id": "413e9c13",
   "metadata": {},
   "outputs": [
    {
     "name": "stdout",
     "output_type": "stream",
     "text": [
      "5\n"
     ]
    }
   ],
   "source": [
    "# General function\n",
    "def f(x, y):\n",
    "    return x+y\n",
    "print(f(1,4))"
   ]
  },
  {
   "cell_type": "code",
   "execution_count": 31,
   "id": "e5c7a19d",
   "metadata": {},
   "outputs": [
    {
     "name": "stdout",
     "output_type": "stream",
     "text": [
      "5\n"
     ]
    }
   ],
   "source": [
    "# Lambda function\n",
    "f = lambda x, y : x + y\n",
    "print(f(1, 4))"
   ]
  },
  {
   "cell_type": "code",
   "execution_count": 32,
   "id": "3f474912",
   "metadata": {},
   "outputs": [
    {
     "name": "stdout",
     "output_type": "stream",
     "text": [
      "6\n"
     ]
    }
   ],
   "source": [
    "print((lambda x : x + 1)(5))"
   ]
  },
  {
   "cell_type": "markdown",
   "id": "309b1077",
   "metadata": {},
   "source": [
    "## Map & Reduce\n",
    "- Sequence 자료형 각 element에 동일한 function을 적용함"
   ]
  },
  {
   "cell_type": "markdown",
   "id": "d83e74f1",
   "metadata": {},
   "source": [
    "### Map"
   ]
  },
  {
   "cell_type": "code",
   "execution_count": 33,
   "id": "bd4ca8a7",
   "metadata": {},
   "outputs": [
    {
     "name": "stdout",
     "output_type": "stream",
     "text": [
      "[1, 4, 9, 16, 25]\n"
     ]
    }
   ],
   "source": [
    "# 구조 : map(function_name, List_data) \n",
    "ex = [1, 2, 3, 4, 5]\n",
    "f = lambda x : x**2\n",
    "print(list(map(f,ex)))"
   ]
  },
  {
   "cell_type": "code",
   "execution_count": 34,
   "id": "252fae43",
   "metadata": {},
   "outputs": [
    {
     "name": "stdout",
     "output_type": "stream",
     "text": [
      "[2, 4, 6, 8, 10]\n"
     ]
    }
   ],
   "source": [
    "f = lambda x, y : x + y\n",
    "print(list(map(f, ex, ex)))"
   ]
  },
  {
   "cell_type": "code",
   "execution_count": 40,
   "id": "f7173e92",
   "metadata": {},
   "outputs": [
    {
     "data": {
      "text/plain": [
       "[1, 4, 3, 16, 5]"
      ]
     },
     "execution_count": 40,
     "metadata": {},
     "output_type": "execute_result"
    }
   ],
   "source": [
    "list(map(lambda x : x ** 2 if x % 2 == 0 else x,ex)) \n",
    "# lambda 는 filter 에 else 값을 반드시 명시"
   ]
  },
  {
   "cell_type": "markdown",
   "id": "aba82e98",
   "metadata": {},
   "source": [
    "### Reduce Function\n",
    "- map function과 달리 list에 똑같은 함수를 적용해서 통함"
   ]
  },
  {
   "cell_type": "code",
   "execution_count": 42,
   "id": "eb8e41e1",
   "metadata": {},
   "outputs": [
    {
     "name": "stdout",
     "output_type": "stream",
     "text": [
      "15\n"
     ]
    }
   ],
   "source": [
    "from functools import reduce\n",
    "print(reduce(lambda x, y : x+y, [1, 2, 3, 4, 5])) # list의 값을 전부 x+y"
   ]
  },
  {
   "cell_type": "code",
   "execution_count": 45,
   "id": "640b78d9",
   "metadata": {},
   "outputs": [
    {
     "name": "stdout",
     "output_type": "stream",
     "text": [
      "6\n",
      "24\n"
     ]
    }
   ],
   "source": [
    "def factorial(n):\n",
    "    return reduce(lambda x, y : x*y, range(1,n+1))\n",
    "print(factorial(3))\n",
    "print(factorial(4))"
   ]
  },
  {
   "cell_type": "markdown",
   "id": "f469bf82",
   "metadata": {},
   "source": [
    "### Summary\n",
    "- Lambda, map, reduce는 간단한 코드로 다양한 기능 제공\n",
    "- 그러나 코드의 직관성이 떨어져 lambda나 reduce는 python3에서 사용 권장 x\n",
    "- legacy library나 다양한 ML 코드에서는 여전히 사용중"
   ]
  },
  {
   "cell_type": "markdown",
   "id": "ba79b013",
   "metadata": {},
   "source": [
    "### Asterisk\n",
    "- 흔히 알고 있는 '*'를 의미함\n",
    "- 단순 곱셉, 제곱연산, 가변 인자 활용 등 다양하게 사용됨"
   ]
  },
  {
   "cell_type": "code",
   "execution_count": 47,
   "id": "a2a39cc3",
   "metadata": {},
   "outputs": [
    {
     "name": "stdout",
     "output_type": "stream",
     "text": [
      "1 (2, 3, 4, 5, 6)\n",
      "<class 'tuple'>\n"
     ]
    }
   ],
   "source": [
    "# *args\n",
    "def asterisk_test(a,*args): # 몇개의 입력이 들어올지 모르는 경우, 한번에 여러개 인자 넘겨줌\n",
    "    print(a,args)\n",
    "    print(type(args))\n",
    "asterisk_test(1,2,3,4,5,6) # 1이 a로 나머지는 *args로"
   ]
  },
  {
   "cell_type": "code",
   "execution_count": 48,
   "id": "57e8e372",
   "metadata": {},
   "outputs": [
    {
     "name": "stdout",
     "output_type": "stream",
     "text": [
      "1 {'b': 2, 'c': 3, 'd': 4, 'e': 5, 'f': 6}\n",
      "<class 'dict'>\n"
     ]
    }
   ],
   "source": [
    "# **kargs\n",
    "def asterisk_test(a, **kargs): # 키워드 인자를  한번에 넘겨줄 때 kargs 사용\n",
    "    print(a, kargs)\n",
    "    print(type(kargs))\n",
    "asterisk_test(1, b=2, c=3, d=4, e=5, f=6)"
   ]
  },
  {
   "cell_type": "markdown",
   "id": "acf7079f",
   "metadata": {},
   "source": [
    "### Asterisk - unpacking a  container\n",
    "- tuple, dict 등 자료형에 들어가 있는 값을 unpacking\n",
    "- 함수의 입력값, zip등에 유용하게 사용"
   ]
  },
  {
   "cell_type": "code",
   "execution_count": 54,
   "id": "fa39be53",
   "metadata": {},
   "outputs": [
    {
     "name": "stdout",
     "output_type": "stream",
     "text": [
      "1 ((2, 3, 4, 5, 6),)\n",
      "<class 'tuple'>\n"
     ]
    }
   ],
   "source": [
    "def asterisk_test(a,*args): \n",
    "    print(a,args)\n",
    "    print(type(args))    \n",
    "asterisk_test(1,(2, 3, 4, 5, 6)) # 튜플이 하나의 인자로 인식된다."
   ]
  },
  {
   "cell_type": "code",
   "execution_count": 56,
   "id": "0bf78452",
   "metadata": {},
   "outputs": [
    {
     "name": "stdout",
     "output_type": "stream",
     "text": [
      "1 (2, 3, 4, 5, 6)\n",
      "<class 'tuple'>\n"
     ]
    }
   ],
   "source": [
    "def asterisk_test(a,*args): \n",
    "    print(a, *args)\n",
    "    print(type(args))    \n",
    "asterisk_test(1,(2, 3, 4, 5, 6))"
   ]
  },
  {
   "cell_type": "code",
   "execution_count": 57,
   "id": "46332bbc",
   "metadata": {},
   "outputs": [
    {
     "name": "stdout",
     "output_type": "stream",
     "text": [
      "[1, 2] [3, 4] [5, 6]\n",
      "[1, 2] [3, 4] [5, 6]\n"
     ]
    }
   ],
   "source": [
    "# 같은 결과가 나온다.\n",
    "a, b, c = ([1, 2], [3, 4], [5, 6])\n",
    "print(a, b, c)\n",
    "\n",
    "data = ([1, 2], [3, 4], [5, 6])\n",
    "print(*data)"
   ]
  },
  {
   "cell_type": "code",
   "execution_count": 58,
   "id": "d12aaf3e",
   "metadata": {},
   "outputs": [
    {
     "name": "stdout",
     "output_type": "stream",
     "text": [
      "10 1 2 3\n"
     ]
    }
   ],
   "source": [
    "# dict 타입은 ** 2개사용\n",
    "def asterisk_test(a, b, c, d):\n",
    "    print(a, b, c, d)\n",
    "data = {\"b\" : 1, \"c\" : 2, \"d\" : 3}\n",
    "asterisk_test(10, **data)"
   ]
  },
  {
   "cell_type": "code",
   "execution_count": 63,
   "id": "858a7a4a",
   "metadata": {},
   "outputs": [
    {
     "name": "stdout",
     "output_type": "stream",
     "text": [
      "10 1 2 3 56\n"
     ]
    }
   ],
   "source": [
    "def asterisk_test(a, b, c, d, e = 0): # dict로 각 값 할당\n",
    "    print(a, b, c, d, e)\n",
    "data = {\"b\" : 1, \"c\" : 2, \"d\" : 3, \"e\":56} \n",
    "asterisk_test(10, **data)"
   ]
  },
  {
   "cell_type": "markdown",
   "id": "21027b77",
   "metadata": {},
   "source": [
    "## Collections\n",
    "- List, Tuple, Dict 에 대한 Python Built - in 확장 자료 구조 (모듈)\n",
    "- 편의성, 실행 효율 제공"
   ]
  },
  {
   "cell_type": "code",
   "execution_count": 65,
   "id": "66f76164",
   "metadata": {},
   "outputs": [],
   "source": [
    "# 아래 모듈 등이 존재한다.\n",
    "from collections import deque\n",
    "from collections import Counter\n",
    "from collections import OrderedDict\n",
    "from collections import defaultdict\n",
    "from collections import namedtuple"
   ]
  },
  {
   "cell_type": "markdown",
   "id": "3df932f0",
   "metadata": {},
   "source": [
    "### deque\n",
    "- Stack, Queue를 지원하는 모듈\n",
    "- List에 비해 효율적인 자료저장 방식 지원"
   ]
  },
  {
   "cell_type": "code",
   "execution_count": 66,
   "id": "deff49c0",
   "metadata": {},
   "outputs": [
    {
     "data": {
      "text/plain": [
       "deque([8, 6, 4, 2, 0, 0, 1, 2, 3, 4])"
      ]
     },
     "execution_count": 66,
     "metadata": {},
     "output_type": "execute_result"
    }
   ],
   "source": [
    "q = deque()\n",
    "for i in range(5):\n",
    "    q.append(i)\n",
    "    q.appendleft(i*2)\n",
    "q"
   ]
  },
  {
   "cell_type": "markdown",
   "id": "580fee78",
   "metadata": {},
   "source": [
    "### OrderedDict\n",
    "- Dict와 달리, 데이터를 입력한 순서대로 dict를 반환\n",
    "- 원래 dict는 입력 순서대로 저장하지 않음"
   ]
  },
  {
   "cell_type": "code",
   "execution_count": 80,
   "id": "9085da65",
   "metadata": {},
   "outputs": [
    {
     "name": "stdout",
     "output_type": "stream",
     "text": [
      "x 100\n",
      "y 200\n",
      "z 300\n",
      "a 500\n"
     ]
    }
   ],
   "source": [
    "d = {}\n",
    "d['x'] = 100\n",
    "d['y'] = 200\n",
    "d['z'] = 300\n",
    "d['a'] = 500\n",
    "for k, v in d.items():\n",
    "    print(k ,v)"
   ]
  },
  {
   "cell_type": "code",
   "execution_count": 71,
   "id": "5710c05e",
   "metadata": {},
   "outputs": [
    {
     "name": "stdout",
     "output_type": "stream",
     "text": [
      "x 100\n",
      "y 200\n",
      "z 300\n",
      "l 500\n"
     ]
    }
   ],
   "source": [
    "d = OrderedDict()\n",
    "d['x'] = 100\n",
    "d['y'] = 200\n",
    "d['z'] = 300\n",
    "d['l'] = 500\n",
    "for k, v in d.items():\n",
    "    print(k ,v)"
   ]
  },
  {
   "cell_type": "markdown",
   "id": "db3647ab",
   "metadata": {},
   "source": [
    " #### Dicttyple의 값을, value 또는 key 값으로 정렬할 때 사용 가능"
   ]
  },
  {
   "cell_type": "code",
   "execution_count": 77,
   "id": "514173c7",
   "metadata": {},
   "outputs": [
    {
     "name": "stdout",
     "output_type": "stream",
     "text": [
      "a 500\n",
      "x 100\n",
      "y 200\n",
      "z 300\n"
     ]
    }
   ],
   "source": [
    "for k, v in OrderedDict(sorted(d.items(), key = lambda t:t[0])).items():\n",
    "    print(k, v)"
   ]
  },
  {
   "cell_type": "code",
   "execution_count": 81,
   "id": "3059a5e4",
   "metadata": {},
   "outputs": [
    {
     "name": "stdout",
     "output_type": "stream",
     "text": [
      "x 100\n",
      "y 200\n",
      "z 300\n",
      "a 500\n"
     ]
    }
   ],
   "source": [
    "for k, v in OrderedDict(sorted(d.items(), key = lambda t:t[1])).items():\n",
    "    print(k, v)"
   ]
  },
  {
   "cell_type": "markdown",
   "id": "3ea923cf",
   "metadata": {},
   "source": [
    "### defaultdict\n",
    "- Dict type의 기본 값을 지정 신규값 생성시 사용"
   ]
  },
  {
   "cell_type": "code",
   "execution_count": 84,
   "id": "953628fd",
   "metadata": {},
   "outputs": [
    {
     "name": "stdout",
     "output_type": "stream",
     "text": [
      "<object object at 0x00000252218A0500>\n",
      "0\n"
     ]
    }
   ],
   "source": [
    "d = defaultdict(object) # Dafault dictionary를 생성\n",
    "print(d[\"frist\"])\n",
    "d = defaultdict(lambda : 0) # Default 값을 0으로 생성\n",
    "print(d['second'])"
   ]
  },
  {
   "cell_type": "code",
   "execution_count": 85,
   "id": "da27f9a0",
   "metadata": {},
   "outputs": [
    {
     "name": "stdout",
     "output_type": "stream",
     "text": [
      "['Write', 'a', 'Python', 'program', 'to', 'get', 'a', 'single', 'string', 'from', 'two', 'given', 'strings', 'separated', 'by', 'a', 'space', 'and', 'swap', 'the', 'first', 'two', 'characters', 'of', 'each', 'string']\n"
     ]
    }
   ],
   "source": [
    "# 글자 수를 샐 때 유용하게 사용된다.\n",
    "text = \"\"\"Write a Python program to get a single string from two given strings\n",
    "separated by a space and swap the first two characters of each string\n",
    "\"\"\"\n",
    "text = text.split()\n",
    "print(text)"
   ]
  },
  {
   "cell_type": "code",
   "execution_count": 88,
   "id": "f63327f3",
   "metadata": {},
   "outputs": [
    {
     "name": "stdout",
     "output_type": "stream",
     "text": [
      "{'Write': 1, 'a': 3, 'Python': 1, 'program': 1, 'to': 1, 'get': 1, 'single': 1, 'string': 2, 'from': 1, 'two': 2, 'given': 1, 'strings': 1, 'separated': 1, 'by': 1, 'space': 1, 'and': 1, 'swap': 1, 'the': 1, 'first': 1, 'characters': 1, 'of': 1, 'each': 1}\n"
     ]
    }
   ],
   "source": [
    "word_count = {}\n",
    "for word in text:\n",
    "    if word in word_count.keys():\n",
    "        word_count[word] += 1\n",
    "    else:\n",
    "        word_count[word] = 1\n",
    "print(word_count)"
   ]
  },
  {
   "cell_type": "code",
   "execution_count": 92,
   "id": "96472c68",
   "metadata": {},
   "outputs": [
    {
     "name": "stdout",
     "output_type": "stream",
     "text": [
      "defaultdict(<function <lambda> at 0x0000025221C03C10>, {'Write': 2, 'a': 4, 'Python': 2, 'program': 2, 'to': 2, 'get': 2, 'single': 2, 'string': 3, 'from': 2, 'two': 3, 'given': 2, 'strings': 2, 'separated': 2, 'by': 2, 'space': 2, 'and': 2, 'swap': 2, 'the': 2, 'first': 2, 'characters': 2, 'of': 2, 'each': 2})\n"
     ]
    }
   ],
   "source": [
    "# default dict를 사용할 때\n",
    "word_count = defaultdict(object)\n",
    "word_count = defaultdict(lambda : 1)\n",
    "for word in text:\n",
    "    word_count[word] += 1\n",
    "print(word_count)"
   ]
  },
  {
   "cell_type": "code",
   "execution_count": 94,
   "id": "7ea30939",
   "metadata": {},
   "outputs": [
    {
     "name": "stdout",
     "output_type": "stream",
     "text": [
      "a 4\n",
      "string 3\n",
      "two 3\n",
      "Write 2\n",
      "Python 2\n",
      "program 2\n",
      "to 2\n",
      "get 2\n",
      "single 2\n",
      "from 2\n",
      "given 2\n",
      "strings 2\n",
      "separated 2\n",
      "by 2\n",
      "space 2\n",
      "and 2\n",
      "swap 2\n",
      "the 2\n",
      "first 2\n",
      "characters 2\n",
      "of 2\n",
      "each 2\n"
     ]
    }
   ],
   "source": [
    "# defaultdict에 OrderedDict를 사용해 순서대로 정렬\n",
    "for i, v in OrderedDict(sorted(word_count.items(), key = lambda t : t[1],reverse=True)).items():\n",
    "    print(i, v)"
   ]
  },
  {
   "cell_type": "markdown",
   "id": "2456f10e",
   "metadata": {},
   "source": [
    "### Counter\n",
    "- Sequence type의 data element들의 갯수를 dict 형태로 반환"
   ]
  },
  {
   "cell_type": "code",
   "execution_count": 99,
   "id": "3759e8b8",
   "metadata": {},
   "outputs": [
    {
     "name": "stdout",
     "output_type": "stream",
     "text": [
      "Counter({'a': 3, 'l': 2, 'g': 1, 'h': 1, 'd': 1})\n"
     ]
    }
   ],
   "source": [
    "c = Counter('gallahad')\n",
    "print(c)"
   ]
  },
  {
   "cell_type": "markdown",
   "id": "8c18d4a8",
   "metadata": {},
   "source": [
    "## 파이썬으로 선형대수 표현"
   ]
  },
  {
   "cell_type": "markdown",
   "id": "b5c42ef9",
   "metadata": {},
   "source": [
    "### Vector representation of python\n",
    "- Vector를 파이썬으로 표시하는 다양한 방법이 존재"
   ]
  },
  {
   "cell_type": "code",
   "execution_count": 100,
   "id": "a4303bdf",
   "metadata": {},
   "outputs": [],
   "source": [
    "vector_a = [1, 2, 10] # List로 표현\n",
    "vector_b = (1, 2, 10) # Tuple로 표현\n",
    "vector_c = {'x' : 1, 'y' : 1, 'z' : 10} # dict로 표현"
   ]
  },
  {
   "cell_type": "markdown",
   "id": "d9629971",
   "metadata": {},
   "source": [
    "- 최선의 방법은 없음\n",
    "- 값의 변경 유무, 속성값 유무에 따라 선택할 수 있다.\n",
    "- 기본적으로 list vector연산"
   ]
  },
  {
   "cell_type": "markdown",
   "id": "fa436380",
   "metadata": {},
   "source": [
    "### Vector의 계산"
   ]
  },
  {
   "cell_type": "code",
   "execution_count": 104,
   "id": "4ca30e07",
   "metadata": {},
   "outputs": [
    {
     "name": "stdout",
     "output_type": "stream",
     "text": [
      "[7, 10]\n"
     ]
    }
   ],
   "source": [
    "# 좋지 않은 표현의 예시\n",
    "u = [2, 2]\n",
    "v = [2, 3]\n",
    "z = [3, 5]\n",
    "result = []\n",
    "for i in range(len(u)):\n",
    "    result.append(u[i] + v[i] + z[i ])\n",
    "print(result)"
   ]
  },
  {
   "cell_type": "code",
   "execution_count": 105,
   "id": "db3acb56",
   "metadata": {},
   "outputs": [
    {
     "name": "stdout",
     "output_type": "stream",
     "text": [
      "[7, 10]\n"
     ]
    }
   ],
   "source": [
    "# Zip을 사용\n",
    "result = [sum(t ) for t in zip(u, v, z)]\n",
    "print(result)"
   ]
  },
  {
   "cell_type": "markdown",
   "id": "f048e216",
   "metadata": {},
   "source": [
    "### Scalar - Vector product"
   ]
  },
  {
   "cell_type": "code",
   "execution_count": 106,
   "id": "3da9c50c",
   "metadata": {},
   "outputs": [
    {
     "name": "stdout",
     "output_type": "stream",
     "text": [
      "[10, 12, 14]\n"
     ]
    }
   ],
   "source": [
    "u = [1, 2, 3]\n",
    "v = [4, 4, 4]\n",
    "alpha = 2\n",
    "# 2([1,2,3] + [4,4,4]) = 2[5,6,7] = [10,12,14]\n",
    "\n",
    "result = [alpha*sum(t) for t in zip(u, v)]\n",
    "print(result)"
   ]
  },
  {
   "cell_type": "markdown",
   "id": "e3cefbb0",
   "metadata": {},
   "source": [
    "### Matrix representation of python\n",
    "- Matrix 역시 Python으로 표시하는 다양한 방법 존재\n",
    "- 특히 dict로 표현할 때 무궁무진한 방법 존재\n",
    "- 수업에선 기본적으로 two - dimensional list 형태로 표현"
   ]
  },
  {
   "cell_type": "markdown",
   "id": "11c61df0",
   "metadata": {},
   "source": [
    "### Matrix의 계산 : Matrix addition"
   ]
  },
  {
   "cell_type": "code",
   "execution_count": 107,
   "id": "5a19ec0f",
   "metadata": {},
   "outputs": [
    {
     "name": "stdout",
     "output_type": "stream",
     "text": [
      "[[8, 14], [10, 12]]\n"
     ]
    }
   ],
   "source": [
    "matrix_a = [[3, 6], [4, 5]]\n",
    "matrix_b = [[5, 8], [6, 7]]\n",
    "result = [[sum(row) for row in zip(*t)] for t in zip(matrix_a, matrix_b)]\n",
    "# 튜플로 묶은후 asterisk로 풀어서 sum()함수 사용\n",
    "print(result)"
   ]
  },
  {
   "cell_type": "markdown",
   "id": "7d2d4798",
   "metadata": {},
   "source": [
    "### Matrix의 계산 : Matrix Transpose"
   ]
  },
  {
   "cell_type": "code",
   "execution_count": 109,
   "id": "c4bb4180",
   "metadata": {},
   "outputs": [
    {
     "name": "stdout",
     "output_type": "stream",
     "text": [
      "[[1, 4], [2, 5], [3, 6]]\n"
     ]
    }
   ],
   "source": [
    "matrix_a = [[1, 2, 3], [4, 5, 6]]\n",
    "result = [[element for element in t] for t in zip(*matrix_a)] \n",
    "# matrix를 askrisk로 풀어서 모든 row행들이 column순서대로 row를 다시 만듬\n",
    "print(result)"
   ]
  },
  {
   "cell_type": "markdown",
   "id": "78606e10",
   "metadata": {},
   "source": [
    "### Matrix의 계산 : Matrix Product\n",
    "행렬의 곱은 약간의 trick을 사용, 첫번째 matrix의 row 두번째 matrix의 column값 가져옴"
   ]
  },
  {
   "cell_type": "code",
   "execution_count": 112,
   "id": "63df8e18",
   "metadata": {},
   "outputs": [
    {
     "name": "stdout",
     "output_type": "stream",
     "text": [
      "[[5, 8], [5, 6]]\n"
     ]
    }
   ],
   "source": [
    "matrix_a = [[1, 1, 2], [2, 1, 1]]\n",
    "matrix_b = [[1, 1], [2, 1], [1, 3]]\n",
    "result = [[sum(a * b for a, b in zip(row_a, column_b)) for column_b in zip(*matrix_b)] for row_a in matrix_a]\n",
    "# 행렬 a의 row -> 행렬 b 의 column 을 헨프리션으로 가져온 후 zip을 통해 각각 풀어서 요소들을 곱한 튜플을 합친다.\n",
    "print(result)"
   ]
  },
  {
   "cell_type": "code",
   "execution_count": null,
   "id": "4e04abc5",
   "metadata": {},
   "outputs": [],
   "source": []
  }
 ],
 "metadata": {
  "kernelspec": {
   "display_name": "Python 3",
   "language": "python",
   "name": "python3"
  },
  "language_info": {
   "codemirror_mode": {
    "name": "ipython",
    "version": 3
   },
   "file_extension": ".py",
   "mimetype": "text/x-python",
   "name": "python",
   "nbconvert_exporter": "python",
   "pygments_lexer": "ipython3",
   "version": "3.8.8"
  }
 },
 "nbformat": 4,
 "nbformat_minor": 5
}
