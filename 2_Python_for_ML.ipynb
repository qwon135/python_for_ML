{
 "cells": [
  {
   "cell_type": "markdown",
   "id": "b414709d",
   "metadata": {},
   "source": [
    "## Key concepts\n",
    "### Model\n",
    "- 예측을 위한 수학공식, 함수\n",
    "- 1차 방정식, 확률 분포, condition rule  \n",
    "\n",
    "### Algorithms\n",
    "- 어떤 문제를 풀기 위한 과정\n",
    "- Model을 행성하기 위한 (훈련) 과정\n",
    "\n",
    "### Feature\n",
    "- 머신러닝에서 데이터의 특징을 나타내는 변수\n",
    "- feature, 독립변수, input 변수 등은 모두 동일의미\n",
    "- 일반적으로 Table 상에 Data를 표현할 때,  Column을 의미\n",
    "- 하나의 data instance(실제 데이터)는 feature vector로 표현  \n",
    "\n",
    "#### ※ Scalar는 이탤릭체 vector는 소문자 볼드 matrix는 대문자 볼드를 쓴다.  \n",
    "\n",
    "### Pandas\n",
    "- 엑셀처럼 데이터를 호출 가능한 모델"
   ]
  }
 ],
 "metadata": {
  "kernelspec": {
   "display_name": "Python 3",
   "language": "python",
   "name": "python3"
  },
  "language_info": {
   "codemirror_mode": {
    "name": "ipython",
    "version": 3
   },
   "file_extension": ".py",
   "mimetype": "text/x-python",
   "name": "python",
   "nbconvert_exporter": "python",
   "pygments_lexer": "ipython3",
   "version": "3.8.8"
  }
 },
 "nbformat": 4,
 "nbformat_minor": 5
}
