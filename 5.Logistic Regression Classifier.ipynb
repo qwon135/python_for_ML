{
 "cells": [
  {
   "cell_type": "markdown",
   "id": "92cfc5f4",
   "metadata": {},
   "source": [
    "# Logistic Regression Classifier\n",
    "value가 아닌 bool을 측정(암이다, 암이 아니다)"
   ]
  },
  {
   "cell_type": "markdown",
   "id": "1101a25c",
   "metadata": {},
   "source": [
    "### 기존 접근의 문제점들\n",
    "- 1 이상 또는 0 이하의 수들이 나오는 걸 어떻게 해석?\n",
    "- 1 또는 0으로 정확히 표현 가능한가?(f(x) \\>= 0 이면 1 otherwise는 0) \n",
    "- 변수가 Y에 영향을 주는 정도가 비례하는가?\n",
    "- 확률로 발생할 사건의 가능성을 표현해야 함"
   ]
  },
  {
   "cell_type": "markdown",
   "id": "5a52cdab",
   "metadata": {},
   "source": [
    "### Solution\n",
    "- 확률로 나타낸다!\n",
    "- 확률로 나타낸다 = 분류의 가능성을 확률로 나타내기\n",
    "- P(X) : 일어날 확률(0 <= P(X) \\<= 1)\n",
    "- 1 \\- P(X) : 일어나지 않을 확률  "
   ]
  },
  {
   "cell_type": "markdown",
   "id": "a12e283a",
   "metadata": {},
   "source": [
    "### Odd Ratio\n",
    "- odds : 확률, 승산\n",
    "- 해당 사건이 일어날 확률과 일어나지 않을 확률의 비율  \n",
    "- Odd Ratio = P(X) / 1\\-P(X)"
   ]
  },
  {
   "cell_type": "markdown",
   "id": "ced8edcc",
   "metadata": {},
   "source": [
    " ### Logit function\n",
    " - X의 값이 주어졌을 때 y의 확률을 이용한 log odds\n",
    " - logit(p(y = 1 | x)) = log_e(p / 1 \\- p) = -log_e(1 / p \\- 1)\n",
    " - Logit function 역함수 = Logistic Function = Sigmoid Function"
   ]
  },
  {
   "cell_type": "markdown",
   "id": "5366cab3",
   "metadata": {},
   "source": [
    "## Sigmoid(Logistic) Function\n",
    "- Logit 함수의 역함수로 z에 관한 확률을 산출\n",
    "- y = 1 / 1 + e \\*\\*(-z)\n",
    "- z 값에 어떤 숫자를 대입하면 확률이 나는 함수\n",
    "- 미분가능한 연속구간으로 변환 됨(가장 큰 장점)\n",
    "- S형태와 닮아 Sigmoid functions으로 호칭"
   ]
  },
  {
   "cell_type": "markdown",
   "id": "aac6ca19",
   "metadata": {},
   "source": [
    "### Sigmoid Function을 Linear Regression 하는 기본 idea\n",
    "1. Sigmoid Function역시 미분을 해서 Cost function으로 변환해줘야한다. \n",
    "2. Weight를 학습하기 위해 가설함수를 만들어야하고 이 때 Sigmoid Function으로 시작한다. \n",
    "3. 구하고자 하는 z 값은 w와 X의 linear combination으로 이루어져 있다. \n",
    "4. 이 w값을 학습해서 z를 구하고 확률값을 구할 수 있다."
   ]
  },
  {
   "cell_type": "markdown",
   "id": "23dd07dd",
   "metadata": {},
   "source": [
    "## Cost Function"
   ]
  },
  {
   "cell_type": "markdown",
   "id": "ae897d17",
   "metadata": {},
   "source": [
    "### Log 함수 이해\n",
    "- 주어진 hypothesis function은 0 \\<= h(x) \\<= 1이다.\n",
    "- y = 1일때(암일 때) |h(x) \\- y| 는 계속 줄어드므로 \\-log(h(x))를 쓴다.\n",
    "- y = 0일때(암이 아닐 때) |h(x) \\- y| 는 계속 줄어드므로 \\-log(1 \\- h(x))를 쓴다."
   ]
  },
  {
   "cell_type": "code",
   "execution_count": 35,
   "id": "bc5a4683",
   "metadata": {},
   "outputs": [
    {
     "data": {
      "image/png": "[encoded data removed]",
      "text/plain": [
       "<Figure size 432x288 with 1 Axes>"
      ]
     },
     "metadata": {
      "needs_background": "light"
     },
     "output_type": "display_data"
    }
   ],
   "source": [
    "import matplotlib.pyplot as plt\n",
    "import numpy as np\n",
    "\n",
    "X = np.arange(0.001, 1,0.001)\n",
    "y =  -np.log(X)\n",
    "y_ = -np.log(1-X)\n",
    "\n",
    "plt.plot(X,y,label = '-log(x)')\n",
    "plt.plot(X,y_,label = '-log(1-x)')\n",
    "plt.legend(loc = 'upper center')\n",
    "plt.show()"
   ]
  },
  {
   "cell_type": "markdown",
   "id": "2ba67f27",
   "metadata": {},
   "source": []
  }
 ],
 "metadata": {
  "kernelspec": {
   "display_name": "Python 3",
   "language": "python",
   "name": "python3"
  },
  "language_info": {
   "codemirror_mode": {
    "name": "ipython",
    "version": 3
   },
   "file_extension": ".py",
   "mimetype": "text/x-python",
   "name": "python",
   "nbconvert_exporter": "python",
   "pygments_lexer": "ipython3",
   "version": "3.8.8"
  }
 },
 "nbformat": 4,
 "nbformat_minor": 5
}
