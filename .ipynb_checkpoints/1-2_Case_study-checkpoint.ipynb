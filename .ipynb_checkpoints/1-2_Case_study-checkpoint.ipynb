{
 "cells": [
  {
   "cell_type": "markdown",
   "id": "970e7581",
   "metadata": {},
   "source": [
    "# Case_study"
   ]
  },
  {
   "cell_type": "markdown",
   "id": "d1b2d776",
   "metadata": {},
   "source": [
    "## 비슷한 뉴스 모으기\n",
    "- 컴퓨터는 문자를 그대로 이해하지 못한다.\n",
    "- 문자를 숫자 형태로 바꿔야 한다.\n",
    "- 숫자로 유사하다는 가까운 정도로 판단한다.\n",
    "- 문자 -> 숫자 -> 벡터 로 바꿔 거리를 측정  \n",
    "\n",
    "### 문자를 Vector로 One-hot Encoding\n",
    "- 하나의 단어를 Vector의 Index로 인식, 단어 존재시 1 없으면 0  \n",
    "\n",
    "### Bag of words\n",
    "- 단어별로 인덱스를 부여해서, 한 문장(또는 문서)의 단어의 개수를 Vector로 표현  \n",
    "\n",
    "### Euclidian distance\n",
    "- 유사도 측정시 피타고라스의 정리, 두 점사이의 거리 구함  \n",
    "\n",
    "### Cosine distance\n",
    "- 유사도 측정 시 두점  사이의 각도를 이용함.(더 많이 사용)\n"
   ]
  },
  {
   "cell_type": "markdown",
   "id": "f772ba94",
   "metadata": {},
   "source": [
    "### Process\n",
    "- 파일을 불러오기\n",
    "- 파일을 읽어서 단어사전(corpus)만들기\n",
    "- 단어별로 Index 만들기\n",
    "- 만들어진 인덱스로 문서별로 Bag of words vector 생성\n",
    "- 비교하고자 하는 문서 비교하기\n",
    "- 얼마나 맞는지 측정하기"
   ]
  },
  {
   "cell_type": "markdown",
   "id": "29a7b373",
   "metadata": {},
   "source": [
    "### 파일 불러오기"
   ]
  },
  {
   "cell_type": "code",
   "execution_count": 1,
   "id": "3a4e2d9e",
   "metadata": {},
   "outputs": [],
   "source": [
    "import os\n",
    "\n",
    "# 파일 불러오기\n",
    "def get_file_list(dir_name):\n",
    "    return os.listdir(dir_name)"
   ]
  },
  {
   "cell_type": "markdown",
   "id": "b34b720c",
   "metadata": {},
   "source": [
    "### 파일별로 내용 읽기"
   ]
  },
  {
   "cell_type": "code",
   "execution_count": 2,
   "id": "cf752bea",
   "metadata": {},
   "outputs": [],
   "source": [
    "def get_contents(file_list):\n",
    "    y_class = [] # 80개의 텍스트 중 축구인지 야구인지  0과 1로 표현\n",
    "    x_text = []\n",
    "    \n",
    "    #0은 야구 1은 축구\n",
    "    class_dict = { \n",
    "        1 : \"0\", 2:\"0\", 3 : \"0\",  4:\"0\", 5 : \"1\", 6:\"1\", 7 : \"1\",  8:\"1\"}\n",
    "    \n",
    "    for file_name in file_list:\n",
    "        try:\n",
    "            f = open(file_name, \"r\", encoding = \"cp949\") # 윈도우 파일 encoding\n",
    "            category = int(file_name.split(os.sep)[1].split(\"_\")[0])\n",
    "            y_class.append(class_dict[category])\n",
    "            x_text.append(f.read())\n",
    "            f.close()\n",
    "        except UnicodeDecodeError as e:\n",
    "            print(e)\n",
    "            print(file_name)\n",
    "    return x_text, y_class\n"
   ]
  },
  {
   "cell_type": "markdown",
   "id": "f67acc76",
   "metadata": {},
   "source": [
    "### Corpus 만들기 + 단어별 index 생성"
   ]
  },
  {
   "cell_type": "code",
   "execution_count": 3,
   "id": "abe5b801",
   "metadata": {},
   "outputs": [],
   "source": [
    "def get_cleaned_text(text): # 의미없는 문장 보호 제거\n",
    "    import re\n",
    "    text = re.sub('\\W','',text.lower())\n",
    "    return text\n",
    "\n",
    "def get_corpus_dict(text):\n",
    "    text = [sentence.split() for sentence in text]\n",
    "    cleaned_words = [get_cleaned_text(word) for words in text for word in words]\n",
    "    \n",
    "    from collections import OrderedDict\n",
    "    corpus_dict = OrderedDict()\n",
    "    for i, v in enumerate(set(cleaned_words)):\n",
    "        corpus_dict[v] = i\n",
    "    return corpus_dict\n"
   ]
  },
  {
   "cell_type": "markdown",
   "id": "4551d385",
   "metadata": {},
   "source": [
    "### 문서별로 Bag of words vector 생성"
   ]
  },
  {
   "cell_type": "code",
   "execution_count": 4,
   "id": "202913c8",
   "metadata": {},
   "outputs": [],
   "source": [
    "def get_count_vector(text, corpus):\n",
    "    text = [sentence.split() for sentence in text]\n",
    "    word_number_list = [[corpus[get_cleaned_text(word)] for word in words] for words in text]\n",
    "    x_vector = [[0 for _ in range(len(corpus))] for x in range(len(text))] \n",
    "    # 80x4024를 0으로 채운 matrix 생성\n",
    "    \n",
    "    for i, text in enumerate(word_number_list):\n",
    "        for word_number in text:\n",
    "            x_vector[i][word_number] += 1\n",
    "    return x_vector\n"
   ]
  },
  {
   "cell_type": "markdown",
   "id": "fdd01ed3",
   "metadata": {},
   "source": [
    "### 비교하기"
   ]
  },
  {
   "cell_type": "code",
   "execution_count": 5,
   "id": "ecdf10a4",
   "metadata": {},
   "outputs": [],
   "source": [
    "import math\n",
    "\n",
    "def get_cosine_similarity(v1,v2):\n",
    "    \"compute cosine similarity of v1 to v2: (v1 dot v2)/{||v1||*||v2||)\"\n",
    "    # 얼마나 유사한지를 cosine 각도를 통해 측정해주는 함수\n",
    "    sumxx, sumxy, sumyy = 0, 0, 0\n",
    "    for i in range(len(v1)):\n",
    "        x = v1[i]; y = v2[i]\n",
    "        sumxx += x*x\n",
    "        sumyy += y*y\n",
    "        sumxy += x*y\n",
    "    return sumxy/math.sqrt(sumxx*sumyy)"
   ]
  },
  {
   "cell_type": "markdown",
   "id": "19138149",
   "metadata": {},
   "source": [
    "### 비교결과 정리하기"
   ]
  },
  {
   "cell_type": "code",
   "execution_count": 6,
   "id": "15862445",
   "metadata": {},
   "outputs": [],
   "source": [
    "def get_similarity_score(x_vector, source):\n",
    "    source_vector = x_vector[source]\n",
    "    similarity_list = []\n",
    "    for target_vector in x_vector:\n",
    "        similarity_list.append(\n",
    "            get_cosine_similarity(source_vector, target_vector))\n",
    "    return similarity_list # 얼마나 같은지 list에 저장후 return\n",
    "\n",
    "# sorted 를 사용해여 value값이 가장 큰  index를 반환\n",
    "def get_top_n_similarity_news(similarity_score, n):\n",
    "    import operator\n",
    "    x = {i:v for i, v in enumerate(similarity_score)}\n",
    "    sorted_x = sorted(x.items(), key=operator.itemgetter(1))\n",
    "\n",
    "    return list(reversed(sorted_x))[1:n+1]"
   ]
  },
  {
   "cell_type": "code",
   "execution_count": 7,
   "id": "49ce9f96",
   "metadata": {},
   "outputs": [
    {
     "name": "stdout",
     "output_type": "stream",
     "text": [
      "Number of words : 4024\n",
      "0.6950000000000001\n"
     ]
    }
   ],
   "source": [
    "def get_accuracy(similarity_list, y_class, source_news):\n",
    "    source_class = y_class[source_news]\n",
    "\n",
    "    return sum([source_class == y_class[i[0]] for i in similarity_list]) / len(similarity_list)\n",
    "\n",
    "if __name__ == \"__main__\":\n",
    "    dir_name = \"news_data\"\n",
    "    file_list = get_file_list(dir_name)\n",
    "    file_list = [os.path.join(dir_name, file_name) for file_name in file_list]\n",
    "\n",
    "    x_text, y_class = get_contents(file_list)\n",
    "\n",
    "    corpus = get_corpus_dict(x_text)\n",
    "    print(\"Number of words : {0}\".format(len(corpus)))\n",
    "    x_vector = get_count_vector(x_text, corpus)\n",
    "    source_number = 10\n",
    "\n",
    "    result = []\n",
    "\n",
    "    for i in range(80):\n",
    "        source_number = i\n",
    "\n",
    "        similarity_score = get_similarity_score(x_vector, source_number)\n",
    "        similarity_news = get_top_n_similarity_news(similarity_score, 10)\n",
    "        accuracy_score = get_accuracy(similarity_news, y_class, source_number)\n",
    "        result.append(accuracy_score)    \n",
    "    print(sum(result) / 80)"
   ]
  },
  {
   "cell_type": "code",
   "execution_count": null,
   "id": "33d564f1",
   "metadata": {},
   "outputs": [],
   "source": []
  }
 ],
 "metadata": {
  "kernelspec": {
   "display_name": "Python 3",
   "language": "python",
   "name": "python3"
  },
  "language_info": {
   "codemirror_mode": {
    "name": "ipython",
    "version": 3
   },
   "file_extension": ".py",
   "mimetype": "text/x-python",
   "name": "python",
   "nbconvert_exporter": "python",
   "pygments_lexer": "ipython3",
   "version": "3.8.8"
  }
 },
 "nbformat": 4,
 "nbformat_minor": 5
}
