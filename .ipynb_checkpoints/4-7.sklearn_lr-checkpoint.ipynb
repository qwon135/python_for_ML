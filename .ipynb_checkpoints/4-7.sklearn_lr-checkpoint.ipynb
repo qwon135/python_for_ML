{
 "cells": [
  {
   "cell_type": "markdown",
   "id": "764f8508",
   "metadata": {},
   "source": [
    "## Linear Regression with Normal equation"
   ]
  },
  {
   "cell_type": "code",
   "execution_count": 1,
   "id": "f9302b59",
   "metadata": {},
   "outputs": [],
   "source": [
    "%matplotlib inline \n",
    "\n",
    "import numpy as np\n",
    "import pandas as pd\n",
    "import matplotlib.pyplot as plt"
   ]
  },
  {
   "cell_type": "code",
   "execution_count": 2,
   "id": "ad5f8e83",
   "metadata": {},
   "outputs": [],
   "source": [
    "from sklearn.datasets import load_boston\n",
    "boston = load_boston()"
   ]
  },
  {
   "cell_type": "code",
   "execution_count": 3,
   "id": "525cad1d",
   "metadata": {},
   "outputs": [
    {
     "data": {
      "text/plain": [
       "dict_keys(['data', 'target', 'feature_names', 'DESCR', 'filename'])"
      ]
     },
     "execution_count": 3,
     "metadata": {},
     "output_type": "execute_result"
    }
   ],
   "source": [
    "boston.keys()"
   ]
  },
  {
   "cell_type": "code",
   "execution_count": 4,
   "id": "e7bd527c",
   "metadata": {},
   "outputs": [
    {
     "data": {
      "text/plain": [
       "array(['CRIM', 'ZN', 'INDUS', 'CHAS', 'NOX', 'RM', 'AGE', 'DIS', 'RAD',\n",
       "       'TAX', 'PTRATIO', 'B', 'LSTAT'], dtype='<U7')"
      ]
     },
     "execution_count": 4,
     "metadata": {},
     "output_type": "execute_result"
    }
   ],
   "source": [
    "boston.feature_names"
   ]
  },
  {
   "cell_type": "code",
   "execution_count": 5,
   "id": "d3acee6a",
   "metadata": {},
   "outputs": [
    {
     "data": {
      "text/html": [
       "<div>\n",
       "<style scoped>\n",
       "    .dataframe tbody tr th:only-of-type {\n",
       "        vertical-align: middle;\n",
       "    }\n",
       "\n",
       "    .dataframe tbody tr th {\n",
       "        vertical-align: top;\n",
       "    }\n",
       "\n",
       "    .dataframe thead th {\n",
       "        text-align: right;\n",
       "    }\n",
       "</style>\n",
       "<table border=\"1\" class=\"dataframe\">\n",
       "  <thead>\n",
       "    <tr style=\"text-align: right;\">\n",
       "      <th></th>\n",
       "      <th>CRIM</th>\n",
       "      <th>ZN</th>\n",
       "      <th>INDUS</th>\n",
       "      <th>CHAS</th>\n",
       "      <th>NOX</th>\n",
       "      <th>RM</th>\n",
       "      <th>AGE</th>\n",
       "      <th>DIS</th>\n",
       "      <th>RAD</th>\n",
       "      <th>TAX</th>\n",
       "      <th>PTRATIO</th>\n",
       "      <th>B</th>\n",
       "      <th>LSTAT</th>\n",
       "    </tr>\n",
       "  </thead>\n",
       "  <tbody>\n",
       "    <tr>\n",
       "      <th>0</th>\n",
       "      <td>0.00632</td>\n",
       "      <td>18.0</td>\n",
       "      <td>2.31</td>\n",
       "      <td>0.0</td>\n",
       "      <td>0.538</td>\n",
       "      <td>6.575</td>\n",
       "      <td>65.2</td>\n",
       "      <td>4.0900</td>\n",
       "      <td>1.0</td>\n",
       "      <td>296.0</td>\n",
       "      <td>15.3</td>\n",
       "      <td>396.90</td>\n",
       "      <td>4.98</td>\n",
       "    </tr>\n",
       "    <tr>\n",
       "      <th>1</th>\n",
       "      <td>0.02731</td>\n",
       "      <td>0.0</td>\n",
       "      <td>7.07</td>\n",
       "      <td>0.0</td>\n",
       "      <td>0.469</td>\n",
       "      <td>6.421</td>\n",
       "      <td>78.9</td>\n",
       "      <td>4.9671</td>\n",
       "      <td>2.0</td>\n",
       "      <td>242.0</td>\n",
       "      <td>17.8</td>\n",
       "      <td>396.90</td>\n",
       "      <td>9.14</td>\n",
       "    </tr>\n",
       "    <tr>\n",
       "      <th>2</th>\n",
       "      <td>0.02729</td>\n",
       "      <td>0.0</td>\n",
       "      <td>7.07</td>\n",
       "      <td>0.0</td>\n",
       "      <td>0.469</td>\n",
       "      <td>7.185</td>\n",
       "      <td>61.1</td>\n",
       "      <td>4.9671</td>\n",
       "      <td>2.0</td>\n",
       "      <td>242.0</td>\n",
       "      <td>17.8</td>\n",
       "      <td>392.83</td>\n",
       "      <td>4.03</td>\n",
       "    </tr>\n",
       "    <tr>\n",
       "      <th>3</th>\n",
       "      <td>0.03237</td>\n",
       "      <td>0.0</td>\n",
       "      <td>2.18</td>\n",
       "      <td>0.0</td>\n",
       "      <td>0.458</td>\n",
       "      <td>6.998</td>\n",
       "      <td>45.8</td>\n",
       "      <td>6.0622</td>\n",
       "      <td>3.0</td>\n",
       "      <td>222.0</td>\n",
       "      <td>18.7</td>\n",
       "      <td>394.63</td>\n",
       "      <td>2.94</td>\n",
       "    </tr>\n",
       "    <tr>\n",
       "      <th>4</th>\n",
       "      <td>0.06905</td>\n",
       "      <td>0.0</td>\n",
       "      <td>2.18</td>\n",
       "      <td>0.0</td>\n",
       "      <td>0.458</td>\n",
       "      <td>7.147</td>\n",
       "      <td>54.2</td>\n",
       "      <td>6.0622</td>\n",
       "      <td>3.0</td>\n",
       "      <td>222.0</td>\n",
       "      <td>18.7</td>\n",
       "      <td>396.90</td>\n",
       "      <td>5.33</td>\n",
       "    </tr>\n",
       "  </tbody>\n",
       "</table>\n",
       "</div>"
      ],
      "text/plain": [
       "      CRIM    ZN  INDUS  CHAS    NOX     RM   AGE     DIS  RAD    TAX  \\\n",
       "0  0.00632  18.0   2.31   0.0  0.538  6.575  65.2  4.0900  1.0  296.0   \n",
       "1  0.02731   0.0   7.07   0.0  0.469  6.421  78.9  4.9671  2.0  242.0   \n",
       "2  0.02729   0.0   7.07   0.0  0.469  7.185  61.1  4.9671  2.0  242.0   \n",
       "3  0.03237   0.0   2.18   0.0  0.458  6.998  45.8  6.0622  3.0  222.0   \n",
       "4  0.06905   0.0   2.18   0.0  0.458  7.147  54.2  6.0622  3.0  222.0   \n",
       "\n",
       "   PTRATIO       B  LSTAT  \n",
       "0     15.3  396.90   4.98  \n",
       "1     17.8  396.90   9.14  \n",
       "2     17.8  392.83   4.03  \n",
       "3     18.7  394.63   2.94  \n",
       "4     18.7  396.90   5.33  "
      ]
     },
     "execution_count": 5,
     "metadata": {},
     "output_type": "execute_result"
    }
   ],
   "source": [
    "df = pd.DataFrame(boston.data, columns=boston.feature_names)\n",
    "df.head()"
   ]
  },
  {
   "cell_type": "code",
   "execution_count": 6,
   "id": "f3bbe4ae",
   "metadata": {},
   "outputs": [],
   "source": [
    "X = df.values\n",
    "y = boston.target"
   ]
  },
  {
   "cell_type": "code",
   "execution_count": 7,
   "id": "7e21bb5c",
   "metadata": {},
   "outputs": [],
   "source": [
    "from sklearn.linear_model import  LinearRegression\n",
    "lr_ne = LinearRegression(fit_intercept=True) # Normal regression으로 구현되어있는 기본 모델"
   ]
  },
  {
   "cell_type": "code",
   "execution_count": 8,
   "id": "35db4dc8",
   "metadata": {},
   "outputs": [],
   "source": [
    "from sklearn.model_selection import train_test_split\n",
    "X_train, X_test, y_train, y_test = train_test_split(\n",
    "    X, y, test_size=0.33, random_state=42)"
   ]
  },
  {
   "cell_type": "code",
   "execution_count": 9,
   "id": "d50a2d52",
   "metadata": {},
   "outputs": [
    {
     "data": {
      "text/plain": [
       "LinearRegression()"
      ]
     },
     "execution_count": 9,
     "metadata": {},
     "output_type": "execute_result"
    }
   ],
   "source": [
    "lr_ne.fit(X_train, y_train)"
   ]
  },
  {
   "cell_type": "code",
   "execution_count": 10,
   "id": "b204dc9b",
   "metadata": {},
   "outputs": [],
   "source": [
    "y_hat = lr_ne.predict(X_test)\n",
    "y_true = y_test"
   ]
  },
  {
   "cell_type": "code",
   "execution_count": 11,
   "id": "3467bb6a",
   "metadata": {},
   "outputs": [
    {
     "data": {
      "text/plain": [
       "4.552364598463056"
      ]
     },
     "execution_count": 11,
     "metadata": {},
     "output_type": "execute_result"
    }
   ],
   "source": [
    "rmse = np.sqrt((((y_hat - y_true)**2).sum() / len(y_true)))\n",
    "rmse"
   ]
  },
  {
   "cell_type": "code",
   "execution_count": 12,
   "id": "cc0624ac",
   "metadata": {},
   "outputs": [
    {
     "data": {
      "text/plain": [
       "20.724023437339696"
      ]
     },
     "execution_count": 12,
     "metadata": {},
     "output_type": "execute_result"
    }
   ],
   "source": [
    "import sklearn\n",
    "mse = sklearn.metrics.mean_squared_error(y_hat, y_true)\n",
    "mse"
   ]
  },
  {
   "cell_type": "code",
   "execution_count": 13,
   "id": "4e9f8415",
   "metadata": {},
   "outputs": [
    {
     "data": {
      "text/plain": [
       "Text(0.5, 1.0, 'Prices vs Predicted prices: $Y_i$ vs $\\\\hat{Y}_i$')"
      ]
     },
     "execution_count": 13,
     "metadata": {},
     "output_type": "execute_result"
    },
    {
     "data": {
      "image/png": "[encoded data removed]",
      "text/plain": [
       "<Figure size 432x288 with 1 Axes>"
      ]
     },
     "metadata": {
      "needs_background": "light"
     },
     "output_type": "display_data"
    }
   ],
   "source": [
    "plt.scatter(y_true, y_hat, s=10)\n",
    "plt.xlabel(\"Prices: $Y_i$\")\n",
    "plt.ylabel(\"Predicted prices: $\\hat{Y}_i$\")\n",
    "plt.title(\"Prices vs Predicted prices: $Y_i$ vs $\\hat{Y}_i$\")"
   ]
  },
  {
   "cell_type": "code",
   "execution_count": 14,
   "id": "708cbf96",
   "metadata": {},
   "outputs": [
    {
     "data": {
      "text/plain": [
       "array([-1.28749718e-01,  3.78232228e-02,  5.82109233e-02,  3.23866812e+00,\n",
       "       -1.61698120e+01,  3.90205116e+00, -1.28507825e-02, -1.42222430e+00,\n",
       "        2.34853915e-01, -8.21331947e-03, -9.28722459e-01,  1.17695921e-02,\n",
       "       -5.47566338e-01])"
      ]
     },
     "execution_count": 14,
     "metadata": {},
     "output_type": "execute_result"
    }
   ],
   "source": [
    "lr_ne.coef_"
   ]
  },
  {
   "cell_type": "code",
   "execution_count": 15,
   "id": "3f2480f7",
   "metadata": {},
   "outputs": [
    {
     "data": {
      "text/plain": [
       "array(['CRIM', 'ZN', 'INDUS', 'CHAS', 'NOX', 'RM', 'AGE', 'DIS', 'RAD',\n",
       "       'TAX', 'PTRATIO', 'B', 'LSTAT'], dtype='<U7')"
      ]
     },
     "execution_count": 15,
     "metadata": {},
     "output_type": "execute_result"
    }
   ],
   "source": [
    "boston.feature_names"
   ]
  },
  {
   "cell_type": "markdown",
   "id": "55a4bd0b",
   "metadata": {},
   "source": [
    "## Linear Regression with SGD"
   ]
  },
  {
   "cell_type": "code",
   "execution_count": 16,
   "id": "58199ba6",
   "metadata": {},
   "outputs": [],
   "source": [
    "# linear_model 모듈 안에 SGDRegressor 사용\n",
    "# Nomal Regression에 비해 여러가지 Hyper-parameter를 직접이용해야 한다는 차이점이 있다.\n",
    "# loss = lost function, 기본 squared_loss사용\n",
    "# penalty = 'l2'/l2노름\n",
    "# alpha = 000001 / learning rate 크면 클수록 regralization이 많이 되어 학습데이량이 줄어듬\n",
    "# tol = 멈추는 기준 / 굳이 설정 X\n",
    "# shuffle = True / SGD이므로 True\n",
    "# learning_rate = constant, optimal, invscaliing / 전략 종류 optimal 가장 많이사용\n",
    "# eta0 = 0.0 1/ learning rate의미\n",
    "# warm_start = weight의 초기값 지정\n",
    "from sklearn.linear_model import SGDRegressor\n",
    "\n",
    "# SGDRegressor 생성\n",
    "lr_SGD = SGDRegressor()"
   ]
  },
  {
   "cell_type": "code",
   "execution_count": 17,
   "id": "39be89a3",
   "metadata": {},
   "outputs": [],
   "source": [
    "# Data Sacle\n",
    "from sklearn.preprocessing import StandardScaler\n",
    "std_scaler = StandardScaler()\n",
    "std_scaler.fit(X)\n",
    "X_scaled = std_scaler.transform(X)"
   ]
  },
  {
   "cell_type": "markdown",
   "id": "41745dae",
   "metadata": {},
   "source": [
    "### 스케일한 데이터를 사용하지 않은 경우"
   ]
  },
  {
   "cell_type": "code",
   "execution_count": 18,
   "id": "6d8dd872",
   "metadata": {},
   "outputs": [],
   "source": [
    "# X_scaled 대신 X사용\n",
    "from sklearn.model_selection import train_test_split\n",
    "X_train, X_test, y_train, y_test = train_test_split(\n",
    "    X, y, test_size=0.33, random_state=42)"
   ]
  },
  {
   "cell_type": "code",
   "execution_count": 19,
   "id": "3de87d28",
   "metadata": {},
   "outputs": [
    {
     "data": {
      "text/plain": [
       "SGDRegressor()"
      ]
     },
     "execution_count": 19,
     "metadata": {},
     "output_type": "execute_result"
    }
   ],
   "source": [
    "# fitting\n",
    "lr_SGD.fit(X_train, y_train)"
   ]
  },
  {
   "cell_type": "code",
   "execution_count": 20,
   "id": "bbb5b535",
   "metadata": {},
   "outputs": [],
   "source": [
    "y_hat = lr_SGD.predict(X_test)\n",
    "y_true = y_test"
   ]
  },
  {
   "cell_type": "code",
   "execution_count": 21,
   "id": "b150b3fc",
   "metadata": {},
   "outputs": [
    {
     "data": {
      "text/plain": [
       "(206456247506426.75, 4.262418213443495e+28)"
      ]
     },
     "execution_count": 21,
     "metadata": {},
     "output_type": "execute_result"
    }
   ],
   "source": [
    "# 학습데이터가 엄청 큼 -> 제대로 되지않았따는 의미\n",
    "mse = sklearn.metrics.mean_squared_error(y_hat, y_true)\n",
    "rmse = np.sqrt((((y_hat - y_true)**2).sum() / len(y_true)))\n",
    "rmse, mse"
   ]
  },
  {
   "cell_type": "code",
   "execution_count": 22,
   "id": "554711f8",
   "metadata": {},
   "outputs": [
    {
     "data": {
      "text/plain": [
       "Text(0.5, 1.0, 'Prices vs Predicted prices: $Y_i$ vs $\\\\hat{Y}_i$')"
      ]
     },
     "execution_count": 22,
     "metadata": {},
     "output_type": "execute_result"
    },
    {
     "data": {
      "image/png": "[encoded data removed]",
      "text/plain": [
       "<Figure size 432x288 with 1 Axes>"
      ]
     },
     "metadata": {
      "needs_background": "light"
     },
     "output_type": "display_data"
    }
   ],
   "source": [
    "# 그래프가 잘 그려지지 않는다.\n",
    "plt.scatter(y_true, y_hat, s=10)\n",
    "plt.xlabel(\"Prices: $Y_i$\")\n",
    "plt.ylabel(\"Predicted prices: $\\hat{Y}_i$\")\n",
    "plt.title(\"Prices vs Predicted prices: $Y_i$ vs $\\hat{Y}_i$\")"
   ]
  },
  {
   "cell_type": "markdown",
   "id": "0100eb66",
   "metadata": {},
   "source": [
    "### 스케일한 데이터 사용하는 경우"
   ]
  },
  {
   "cell_type": "code",
   "execution_count": 24,
   "id": "a5417ed5",
   "metadata": {},
   "outputs": [],
   "source": [
    "# 기존 X 대신 X_scaled\n",
    "from sklearn.model_selection import train_test_split\n",
    "X_train, X_test, y_train, y_test = train_test_split(\n",
    "    X_scaled, y, test_size=0.33, random_state=42)"
   ]
  },
  {
   "cell_type": "code",
   "execution_count": 25,
   "id": "e4ee27f2",
   "metadata": {},
   "outputs": [
    {
     "data": {
      "text/plain": [
       "SGDRegressor()"
      ]
     },
     "execution_count": 25,
     "metadata": {},
     "output_type": "execute_result"
    }
   ],
   "source": [
    "lr_SGD.fit(X_train, y_train)"
   ]
  },
  {
   "cell_type": "code",
   "execution_count": 26,
   "id": "32b5644a",
   "metadata": {},
   "outputs": [],
   "source": [
    "y_hat = lr_SGD.predict(X_test)\n",
    "y_true = y_test"
   ]
  },
  {
   "cell_type": "code",
   "execution_count": 27,
   "id": "28e75b2d",
   "metadata": {},
   "outputs": [
    {
     "data": {
      "text/plain": [
       "(4.614359652226783, 21.29231500009848)"
      ]
     },
     "execution_count": 27,
     "metadata": {},
     "output_type": "execute_result"
    }
   ],
   "source": [
    "mse = sklearn.metrics.mean_squared_error(y_hat, y_true)\n",
    "rmse = np.sqrt((((y_hat - y_true)**2).sum() / len(y_true)))\n",
    "rmse, mse"
   ]
  },
  {
   "cell_type": "code",
   "execution_count": 28,
   "id": "f908b9a6",
   "metadata": {},
   "outputs": [
    {
     "data": {
      "text/plain": [
       "Text(0.5, 1.0, 'Prices vs Predicted prices: $Y_i$ vs $\\\\hat{Y}_i$')"
      ]
     },
     "execution_count": 28,
     "metadata": {},
     "output_type": "execute_result"
    },
    {
     "data": {
      "image/png": "[encoded data removed]",
      "text/plain": [
       "<Figure size 432x288 with 1 Axes>"
      ]
     },
     "metadata": {
      "needs_background": "light"
     },
     "output_type": "display_data"
    }
   ],
   "source": [
    "# 적절한 그래프가 나온다.\n",
    "plt.scatter(y_true, y_hat, s=10)\n",
    "plt.xlabel(\"Prices: $Y_i$\")\n",
    "plt.ylabel(\"Predicted prices: $\\hat{Y}_i$\")\n",
    "plt.title(\"Prices vs Predicted prices: $Y_i$ vs $\\hat{Y}_i$\")"
   ]
  },
  {
   "cell_type": "markdown",
   "id": "b41eafc7",
   "metadata": {},
   "source": [
    "#### SBD를 할땐 반드시 스케일한 데이터를 사용한다. (스케일을 하지 않을 경우는 iteration(n_itr)을 크게 learning_rate(eta0)을 작게 하고 constant 방식 사용)"
   ]
  },
  {
   "cell_type": "markdown",
   "id": "242efea7",
   "metadata": {},
   "source": [
    "## Linear Regression with Ridge & Lasso regression"
   ]
  },
  {
   "cell_type": "markdown",
   "id": "be0048d6",
   "metadata": {},
   "source": [
    "### Lasso\n",
    "- Lasso의 역할 : 적절한 Weight, bias를 찾기위해 제약조건을 걸어줌\n",
    "- MSE가 최소가 되게 하는 가중치와 편향을 찾는데 동시에 가중치들의 절대값들의 합, 즉 가중치의 절대값들이 최소(기울기가 작아지도록)가 되게 한다.\n",
    "- 다시 말해서 Wieght의 모든 원소가 0이 되거나 0에 가깝게 되게 해야한다. 따라서 어떤 특성들은 모델을 만들때 사용되지 않는다.\n",
    "- 어떤 벡터의 요소들의 절대값들의 합은 L1-norm이므로 라쏘는 간단히 말해서 L1-norm 패널티를 가진 선형 회귀 방법이다.  \n",
    "\n",
    "#### 장점\n",
    "1. 제약 조건을 통해 일반화된 모형을 찾는다는 것이다. \n",
    "2. 가중치들이 0이 되게 하여 그에 해당하는 특성들을 제외해준다. 결과적으로 모델에서 가장 중요한 특성이 무엇인지 알게되는 등 모델 해석력이 좋아진다."
   ]
  },
  {
   "cell_type": "markdown",
   "id": "0b718d17",
   "metadata": {},
   "source": [
    "### Ridge\n",
    "- Lasso와 달리 L2-norm 패널티를 가진다.\n",
    "- Lasso는 가중치들이 0이 되지만, Ridge의 가중치들은 0에 가까워질 뿐 0이 되지는 않는다.  \n",
    "\n",
    "#### Ridge vs Lasso\n",
    "- 특성이 많은데 그중 일부분만 중요하다면 Ridge가, 특성의 중요도가 전체적으로 비슷하다면 Ridge가 좀 더 괜찮은 모델을 찾아줄 것이다. "
   ]
  },
  {
   "cell_type": "code",
   "execution_count": 37,
   "id": "2dad4964",
   "metadata": {},
   "outputs": [],
   "source": [
    "from sklearn.linear_model import Lasso, Ridge\n"
   ]
  },
  {
   "cell_type": "code",
   "execution_count": 38,
   "id": "f61d6f41",
   "metadata": {},
   "outputs": [],
   "source": [
    "X_train, X_test, y_train, y_test = train_test_split(\n",
    "    X, y, test_size=0.33, random_state=42)"
   ]
  },
  {
   "cell_type": "code",
   "execution_count": 39,
   "id": "9d85b9d0",
   "metadata": {},
   "outputs": [
    {
     "data": {
      "text/plain": [
       "Ridge(alpha=0.5)"
      ]
     },
     "execution_count": 39,
     "metadata": {},
     "output_type": "execute_result"
    }
   ],
   "source": [
    "ridge = Ridge(fit_intercept=True, alpha=0.5)\n",
    "ridge.fit(X_train,y_train)\n",
    "#lasso = Lasso(fit_intercept=True, alpha=0.5)"
   ]
  },
  {
   "cell_type": "code",
   "execution_count": 32,
   "id": "d5fea71f",
   "metadata": {},
   "outputs": [
    {
     "data": {
      "text/plain": [
       "(4.57905848479117, 20.967776607138006)"
      ]
     },
     "execution_count": 32,
     "metadata": {},
     "output_type": "execute_result"
    }
   ],
   "source": [
    "y_hat = ridge.predict(X_test)\n",
    "y_true = y_test\n",
    "mse = sklearn.metrics.mean_squared_error(y_hat, y_true)\n",
    "rmse = np.sqrt((((y_hat - y_true)**2).sum() / len(y_true)))\n",
    "rmse, mse"
   ]
  },
  {
   "cell_type": "code",
   "execution_count": 33,
   "id": "fd5c2e86",
   "metadata": {},
   "outputs": [
    {
     "data": {
      "text/plain": [
       "Text(0.5, 1.0, 'Prices vs Predicted prices: $Y_i$ vs $\\\\hat{Y}_i$')"
      ]
     },
     "execution_count": 33,
     "metadata": {},
     "output_type": "execute_result"
    },
    {
     "data": {
      "image/png": "[encoded data removed]",
      "text/plain": [
       "<Figure size 432x288 with 1 Axes>"
      ]
     },
     "metadata": {
      "needs_background": "light"
     },
     "output_type": "display_data"
    }
   ],
   "source": [
    "plt.scatter(y_true, y_hat, s=10)\n",
    "plt.xlabel(\"Prices: $Y_i$\")\n",
    "plt.ylabel(\"Predicted prices: $\\hat{Y}_i$\")\n",
    "plt.title(\"Prices vs Predicted prices: $Y_i$ vs $\\hat{Y}_i$\")"
   ]
  },
  {
   "cell_type": "code",
   "execution_count": 34,
   "id": "8fce0cf4",
   "metadata": {},
   "outputs": [
    {
     "name": "stdout",
     "output_type": "stream",
     "text": [
      "Ridge Regression\n",
      "alpha\t RMSE_train\t RMSE_10cv\n",
      "\n",
      "0.010\t 4.5529\t\t 5.8757\n",
      "0.418\t 4.5749\t\t 5.8419\n",
      "0.826\t 4.5935\t\t 5.8270\n",
      "1.234\t 4.6074\t\t 5.8186\n",
      "1.642\t 4.6180\t\t 5.8126\n",
      "2.050\t 4.6262\t\t 5.8078\n",
      "2.458\t 4.6327\t\t 5.8034\n",
      "2.866\t 4.6379\t\t 5.7993\n",
      "3.274\t 4.6422\t\t 5.7953\n",
      "3.682\t 4.6458\t\t 5.7912\n",
      "4.090\t 4.6489\t\t 5.7873\n",
      "4.498\t 4.6515\t\t 5.7833\n",
      "4.906\t 4.6538\t\t 5.7793\n",
      "5.313\t 4.6558\t\t 5.7753\n",
      "5.721\t 4.6576\t\t 5.7714\n",
      "6.129\t 4.6593\t\t 5.7674\n",
      "6.537\t 4.6607\t\t 5.7635\n",
      "6.945\t 4.6621\t\t 5.7596\n",
      "7.353\t 4.6633\t\t 5.7557\n",
      "7.761\t 4.6644\t\t 5.7518\n",
      "8.169\t 4.6655\t\t 5.7479\n",
      "8.577\t 4.6665\t\t 5.7441\n",
      "8.985\t 4.6674\t\t 5.7404\n",
      "9.393\t 4.6683\t\t 5.7366\n",
      "9.801\t 4.6691\t\t 5.7329\n",
      "10.209\t 4.6699\t\t 5.7292\n",
      "10.617\t 4.6707\t\t 5.7256\n",
      "11.025\t 4.6714\t\t 5.7220\n",
      "11.433\t 4.6722\t\t 5.7184\n",
      "11.841\t 4.6729\t\t 5.7149\n",
      "12.249\t 4.6735\t\t 5.7114\n",
      "12.657\t 4.6742\t\t 5.7079\n",
      "13.065\t 4.6748\t\t 5.7045\n",
      "13.473\t 4.6755\t\t 5.7011\n",
      "13.881\t 4.6761\t\t 5.6978\n",
      "14.289\t 4.6767\t\t 5.6945\n",
      "14.697\t 4.6773\t\t 5.6912\n",
      "15.104\t 4.6779\t\t 5.6880\n",
      "15.512\t 4.6785\t\t 5.6848\n",
      "15.920\t 4.6791\t\t 5.6816\n",
      "16.328\t 4.6797\t\t 5.6785\n",
      "16.736\t 4.6803\t\t 5.6754\n",
      "17.144\t 4.6809\t\t 5.6724\n",
      "17.552\t 4.6814\t\t 5.6694\n",
      "17.960\t 4.6820\t\t 5.6664\n",
      "18.368\t 4.6826\t\t 5.6635\n",
      "18.776\t 4.6831\t\t 5.6606\n",
      "19.184\t 4.6837\t\t 5.6577\n",
      "19.592\t 4.6843\t\t 5.6549\n",
      "20.000\t 4.6848\t\t 5.6521\n"
     ]
    }
   ],
   "source": [
    "from sklearn.model_selection import KFold\n",
    "\n",
    "print('Ridge Regression')\n",
    "print('alpha\\t RMSE_train\\t RMSE_10cv\\n')\n",
    "alpha = np.linspace(.01,20,50)\n",
    "t_rmse = np.array([])\n",
    "cv_rmse = np.array([])\n",
    "\n",
    "for a in alpha:\n",
    "    ridge = Ridge(fit_intercept=True, alpha=a)\n",
    "    \n",
    "    # computing the RMSE on training data\n",
    "    ridge.fit(X_train,y_train)\n",
    "    p = ridge.predict(X_test)\n",
    "    err = p-y_test\n",
    "    total_error = np.dot(err,err)\n",
    "    rmse_train = np.sqrt(total_error/len(p))\n",
    "\n",
    "    # computing RMSE using 10-fold cross validation\n",
    "    kf = KFold(10)\n",
    "    xval_err = 0\n",
    "    for train, test in kf.split(X):\n",
    "        ridge.fit(X[train], y[train])\n",
    "        p = ridge.predict(X[test])\n",
    "        err = p - y[test]\n",
    "        xval_err += np.dot(err,err)\n",
    "    rmse_10cv = np.sqrt(xval_err/len(X))\n",
    "    \n",
    "    t_rmse = np.append(t_rmse, [rmse_train])\n",
    "    cv_rmse = np.append(cv_rmse, [rmse_10cv])\n",
    "    print('{:.3f}\\t {:.4f}\\t\\t {:.4f}'.format(a,rmse_train,rmse_10cv))"
   ]
  },
  {
   "cell_type": "code",
   "execution_count": 35,
   "id": "191431fc",
   "metadata": {},
   "outputs": [
    {
     "data": {
      "image/png": "[encoded data removed]",
      "text/plain": [
       "<Figure size 432x288 with 1 Axes>"
      ]
     },
     "metadata": {
      "needs_background": "light"
     },
     "output_type": "display_data"
    }
   ],
   "source": [
    "plt.plot(alpha, t_rmse, label='RMSE-Train')\n",
    "plt.plot(alpha, cv_rmse, label='RMSE_XVal')\n",
    "plt.legend( ('RMSE-Train', 'RMSE_XVal') )\n",
    "plt.ylabel('RMSE')\n",
    "plt.xlabel('Alpha')\n",
    "plt.show()"
   ]
  },
  {
   "cell_type": "code",
   "execution_count": 36,
   "id": "015db5d3",
   "metadata": {},
   "outputs": [
    {
     "name": "stdout",
     "output_type": "stream",
     "text": [
      "Method: linear regression\n",
      "RMSE on training: 4.5524\n",
      "RMSE on 10-fold CV: 5.8770\n",
      "Method: lasso\n",
      "RMSE on training: 4.7242\n",
      "RMSE on 10-fold CV: 5.7637\n",
      "Method: ridge\n",
      "RMSE on training: 4.5687\n",
      "RMSE on 10-fold CV: 5.8487\n"
     ]
    }
   ],
   "source": [
    "a = 0.3\n",
    "for name,met in [\n",
    "        ('linear regression', LinearRegression()),\n",
    "        ('lasso', Lasso(fit_intercept=True, alpha=a)),\n",
    "        ('ridge', Ridge(fit_intercept=True, alpha=a)),\n",
    "        ]:\n",
    "    met.fit(X_train,y_train)\n",
    "    # p = np.array([met.predict(xi) for xi in x])\n",
    "    p = met.predict(X_test)\n",
    "    e = p-y_test\n",
    "    total_error = np.dot(e,e)\n",
    "    rmse_train = np.sqrt(total_error/len(p))\n",
    "\n",
    "    kf = KFold(10)\n",
    "    err = 0\n",
    "    for train,test in kf.split(X):\n",
    "        met.fit(X[train],y[train])\n",
    "        p = met.predict(X[test])\n",
    "        e = p-y[test]\n",
    "        err += np.dot(e,e)\n",
    "\n",
    "    rmse_10cv = np.sqrt(err/len(X))\n",
    "    print('Method: %s' %name)\n",
    "    print('RMSE on training: %.4f' %rmse_train)\n",
    "    print('RMSE on 10-fold CV: %.4f' %rmse_10cv)"
   ]
  },
  {
   "cell_type": "code",
   "execution_count": null,
   "id": "a9ba934d",
   "metadata": {},
   "outputs": [],
   "source": []
  }
 ],
 "metadata": {
  "kernelspec": {
   "display_name": "Python 3",
   "language": "python",
   "name": "python3"
  },
  "language_info": {
   "codemirror_mode": {
    "name": "ipython",
    "version": 3
   },
   "file_extension": ".py",
   "mimetype": "text/x-python",
   "name": "python",
   "nbconvert_exporter": "python",
   "pygments_lexer": "ipython3",
   "version": "3.8.8"
  }
 },
 "nbformat": 4,
 "nbformat_minor": 5
}
