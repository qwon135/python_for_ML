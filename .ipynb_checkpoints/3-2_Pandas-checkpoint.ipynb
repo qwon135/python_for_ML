{
 "cells": [
  {
   "cell_type": "markdown",
   "id": "889c1ba9",
   "metadata": {},
   "source": [
    "# Data Handling - Pandas\n",
    "- 구조화된 데이터의 처리를 지원하는 Python 라이브러리\n",
    "- Python계의 엑셀!\n",
    "- 고성능 Array 계산 라이브러리인 Numpy와 통함하여, 강력한 \"스프레트시트\" 처리 기능을 제공\n",
    "- 인덱싱, 연산용 함수, 전처리 함수 등을 제공\n",
    "- Pandas는 Numpy의 Wrapper라서 Numpy의 기능을 그대로 사용 가능"
   ]
  },
  {
   "cell_type": "code",
   "execution_count": 1,
   "id": "d7f5ba2a",
   "metadata": {},
   "outputs": [],
   "source": [
    "import pandas as pd\n",
    "import numpy as np"
   ]
  },
  {
   "cell_type": "code",
   "execution_count": 2,
   "id": "4366c66f",
   "metadata": {
    "scrolled": false
   },
   "outputs": [
    {
     "data": {
      "text/html": [
       "<div>\n",
       "<style scoped>\n",
       "    .dataframe tbody tr th:only-of-type {\n",
       "        vertical-align: middle;\n",
       "    }\n",
       "\n",
       "    .dataframe tbody tr th {\n",
       "        vertical-align: top;\n",
       "    }\n",
       "\n",
       "    .dataframe thead th {\n",
       "        text-align: right;\n",
       "    }\n",
       "</style>\n",
       "<table border=\"1\" class=\"dataframe\">\n",
       "  <thead>\n",
       "    <tr style=\"text-align: right;\">\n",
       "      <th></th>\n",
       "      <th>0</th>\n",
       "      <th>1</th>\n",
       "      <th>2</th>\n",
       "      <th>3</th>\n",
       "      <th>4</th>\n",
       "      <th>5</th>\n",
       "      <th>6</th>\n",
       "      <th>7</th>\n",
       "      <th>8</th>\n",
       "      <th>9</th>\n",
       "      <th>10</th>\n",
       "      <th>11</th>\n",
       "      <th>12</th>\n",
       "      <th>13</th>\n",
       "    </tr>\n",
       "  </thead>\n",
       "  <tbody>\n",
       "    <tr>\n",
       "      <th>0</th>\n",
       "      <td>0.00632</td>\n",
       "      <td>18.0</td>\n",
       "      <td>2.31</td>\n",
       "      <td>0</td>\n",
       "      <td>0.538</td>\n",
       "      <td>6.575</td>\n",
       "      <td>65.2</td>\n",
       "      <td>4.0900</td>\n",
       "      <td>1</td>\n",
       "      <td>296.0</td>\n",
       "      <td>15.3</td>\n",
       "      <td>396.90</td>\n",
       "      <td>4.98</td>\n",
       "      <td>24.0</td>\n",
       "    </tr>\n",
       "    <tr>\n",
       "      <th>1</th>\n",
       "      <td>0.02731</td>\n",
       "      <td>0.0</td>\n",
       "      <td>7.07</td>\n",
       "      <td>0</td>\n",
       "      <td>0.469</td>\n",
       "      <td>6.421</td>\n",
       "      <td>78.9</td>\n",
       "      <td>4.9671</td>\n",
       "      <td>2</td>\n",
       "      <td>242.0</td>\n",
       "      <td>17.8</td>\n",
       "      <td>396.90</td>\n",
       "      <td>9.14</td>\n",
       "      <td>21.6</td>\n",
       "    </tr>\n",
       "    <tr>\n",
       "      <th>2</th>\n",
       "      <td>0.02729</td>\n",
       "      <td>0.0</td>\n",
       "      <td>7.07</td>\n",
       "      <td>0</td>\n",
       "      <td>0.469</td>\n",
       "      <td>7.185</td>\n",
       "      <td>61.1</td>\n",
       "      <td>4.9671</td>\n",
       "      <td>2</td>\n",
       "      <td>242.0</td>\n",
       "      <td>17.8</td>\n",
       "      <td>392.83</td>\n",
       "      <td>4.03</td>\n",
       "      <td>34.7</td>\n",
       "    </tr>\n",
       "    <tr>\n",
       "      <th>3</th>\n",
       "      <td>0.03237</td>\n",
       "      <td>0.0</td>\n",
       "      <td>2.18</td>\n",
       "      <td>0</td>\n",
       "      <td>0.458</td>\n",
       "      <td>6.998</td>\n",
       "      <td>45.8</td>\n",
       "      <td>6.0622</td>\n",
       "      <td>3</td>\n",
       "      <td>222.0</td>\n",
       "      <td>18.7</td>\n",
       "      <td>394.63</td>\n",
       "      <td>2.94</td>\n",
       "      <td>33.4</td>\n",
       "    </tr>\n",
       "    <tr>\n",
       "      <th>4</th>\n",
       "      <td>0.06905</td>\n",
       "      <td>0.0</td>\n",
       "      <td>2.18</td>\n",
       "      <td>0</td>\n",
       "      <td>0.458</td>\n",
       "      <td>7.147</td>\n",
       "      <td>54.2</td>\n",
       "      <td>6.0622</td>\n",
       "      <td>3</td>\n",
       "      <td>222.0</td>\n",
       "      <td>18.7</td>\n",
       "      <td>396.90</td>\n",
       "      <td>5.33</td>\n",
       "      <td>36.2</td>\n",
       "    </tr>\n",
       "  </tbody>\n",
       "</table>\n",
       "</div>"
      ],
      "text/plain": [
       "        0     1     2   3      4      5     6       7   8      9     10  \\\n",
       "0  0.00632  18.0  2.31   0  0.538  6.575  65.2  4.0900   1  296.0  15.3   \n",
       "1  0.02731   0.0  7.07   0  0.469  6.421  78.9  4.9671   2  242.0  17.8   \n",
       "2  0.02729   0.0  7.07   0  0.469  7.185  61.1  4.9671   2  242.0  17.8   \n",
       "3  0.03237   0.0  2.18   0  0.458  6.998  45.8  6.0622   3  222.0  18.7   \n",
       "4  0.06905   0.0  2.18   0  0.458  7.147  54.2  6.0622   3  222.0  18.7   \n",
       "\n",
       "       11    12    13  \n",
       "0  396.90  4.98  24.0  \n",
       "1  396.90  9.14  21.6  \n",
       "2  392.83  4.03  34.7  \n",
       "3  394.63  2.94  33.4  \n",
       "4  396.90  5.33  36.2  "
      ]
     },
     "execution_count": 2,
     "metadata": {},
     "output_type": "execute_result"
    }
   ],
   "source": [
    "data_url = 'https://archive.ics.uci.edu/ml/machine-learning-databases/housing/housing.data'\n",
    "df_data = pd.read_csv(data_url, sep = '\\s+', header = None) # csv타입, separate는 빈공간, column이름이 없는 것\n",
    "df_data.head() # 처음 다섯줄"
   ]
  },
  {
   "cell_type": "code",
   "execution_count": 3,
   "id": "96aced01",
   "metadata": {},
   "outputs": [
    {
     "data": {
      "text/html": [
       "<div>\n",
       "<style scoped>\n",
       "    .dataframe tbody tr th:only-of-type {\n",
       "        vertical-align: middle;\n",
       "    }\n",
       "\n",
       "    .dataframe tbody tr th {\n",
       "        vertical-align: top;\n",
       "    }\n",
       "\n",
       "    .dataframe thead th {\n",
       "        text-align: right;\n",
       "    }\n",
       "</style>\n",
       "<table border=\"1\" class=\"dataframe\">\n",
       "  <thead>\n",
       "    <tr style=\"text-align: right;\">\n",
       "      <th></th>\n",
       "      <th>CRIM</th>\n",
       "      <th>ZN</th>\n",
       "      <th>INDUS</th>\n",
       "      <th>CHAS</th>\n",
       "      <th>NOX</th>\n",
       "      <th>RM</th>\n",
       "      <th>AGE</th>\n",
       "      <th>DIS</th>\n",
       "      <th>RAD</th>\n",
       "      <th>TAX</th>\n",
       "      <th>PTRATIO</th>\n",
       "      <th>B</th>\n",
       "      <th>LSTAT</th>\n",
       "      <th>MEDV</th>\n",
       "    </tr>\n",
       "  </thead>\n",
       "  <tbody>\n",
       "    <tr>\n",
       "      <th>0</th>\n",
       "      <td>0.00632</td>\n",
       "      <td>18.0</td>\n",
       "      <td>2.31</td>\n",
       "      <td>0</td>\n",
       "      <td>0.538</td>\n",
       "      <td>6.575</td>\n",
       "      <td>65.2</td>\n",
       "      <td>4.0900</td>\n",
       "      <td>1</td>\n",
       "      <td>296.0</td>\n",
       "      <td>15.3</td>\n",
       "      <td>396.90</td>\n",
       "      <td>4.98</td>\n",
       "      <td>24.0</td>\n",
       "    </tr>\n",
       "    <tr>\n",
       "      <th>1</th>\n",
       "      <td>0.02731</td>\n",
       "      <td>0.0</td>\n",
       "      <td>7.07</td>\n",
       "      <td>0</td>\n",
       "      <td>0.469</td>\n",
       "      <td>6.421</td>\n",
       "      <td>78.9</td>\n",
       "      <td>4.9671</td>\n",
       "      <td>2</td>\n",
       "      <td>242.0</td>\n",
       "      <td>17.8</td>\n",
       "      <td>396.90</td>\n",
       "      <td>9.14</td>\n",
       "      <td>21.6</td>\n",
       "    </tr>\n",
       "    <tr>\n",
       "      <th>2</th>\n",
       "      <td>0.02729</td>\n",
       "      <td>0.0</td>\n",
       "      <td>7.07</td>\n",
       "      <td>0</td>\n",
       "      <td>0.469</td>\n",
       "      <td>7.185</td>\n",
       "      <td>61.1</td>\n",
       "      <td>4.9671</td>\n",
       "      <td>2</td>\n",
       "      <td>242.0</td>\n",
       "      <td>17.8</td>\n",
       "      <td>392.83</td>\n",
       "      <td>4.03</td>\n",
       "      <td>34.7</td>\n",
       "    </tr>\n",
       "    <tr>\n",
       "      <th>3</th>\n",
       "      <td>0.03237</td>\n",
       "      <td>0.0</td>\n",
       "      <td>2.18</td>\n",
       "      <td>0</td>\n",
       "      <td>0.458</td>\n",
       "      <td>6.998</td>\n",
       "      <td>45.8</td>\n",
       "      <td>6.0622</td>\n",
       "      <td>3</td>\n",
       "      <td>222.0</td>\n",
       "      <td>18.7</td>\n",
       "      <td>394.63</td>\n",
       "      <td>2.94</td>\n",
       "      <td>33.4</td>\n",
       "    </tr>\n",
       "    <tr>\n",
       "      <th>4</th>\n",
       "      <td>0.06905</td>\n",
       "      <td>0.0</td>\n",
       "      <td>2.18</td>\n",
       "      <td>0</td>\n",
       "      <td>0.458</td>\n",
       "      <td>7.147</td>\n",
       "      <td>54.2</td>\n",
       "      <td>6.0622</td>\n",
       "      <td>3</td>\n",
       "      <td>222.0</td>\n",
       "      <td>18.7</td>\n",
       "      <td>396.90</td>\n",
       "      <td>5.33</td>\n",
       "      <td>36.2</td>\n",
       "    </tr>\n",
       "  </tbody>\n",
       "</table>\n",
       "</div>"
      ],
      "text/plain": [
       "      CRIM    ZN  INDUS  CHAS    NOX     RM   AGE     DIS  RAD    TAX  \\\n",
       "0  0.00632  18.0   2.31     0  0.538  6.575  65.2  4.0900    1  296.0   \n",
       "1  0.02731   0.0   7.07     0  0.469  6.421  78.9  4.9671    2  242.0   \n",
       "2  0.02729   0.0   7.07     0  0.469  7.185  61.1  4.9671    2  242.0   \n",
       "3  0.03237   0.0   2.18     0  0.458  6.998  45.8  6.0622    3  222.0   \n",
       "4  0.06905   0.0   2.18     0  0.458  7.147  54.2  6.0622    3  222.0   \n",
       "\n",
       "   PTRATIO       B  LSTAT  MEDV  \n",
       "0     15.3  396.90   4.98  24.0  \n",
       "1     17.8  396.90   9.14  21.6  \n",
       "2     17.8  392.83   4.03  34.7  \n",
       "3     18.7  394.63   2.94  33.4  \n",
       "4     18.7  396.90   5.33  36.2  "
      ]
     },
     "execution_count": 3,
     "metadata": {},
     "output_type": "execute_result"
    }
   ],
   "source": [
    "df_data.columns = [\n",
    "    'CRIM','ZN', 'INDUS', 'CHAS', 'NOX', 'RM', 'AGE', 'DIS', 'RAD', 'TAX', 'PTRATIO' ,'B', 'LSTAT', 'MEDV'] \n",
    "# Column Header 이름 지정\n",
    "df_data.head()"
   ]
  },
  {
   "cell_type": "markdown",
   "id": "65ac982f",
   "metadata": {},
   "source": [
    "#### 실무에서는 Data팀이 따로 있지 않는 이상 csv구조가 아닌 DB에서 꺼내와야 한다."
   ]
  },
  {
   "cell_type": "code",
   "execution_count": 4,
   "id": "abbbaba2",
   "metadata": {},
   "outputs": [
    {
     "name": "stdout",
     "output_type": "stream",
     "text": [
      "<class 'numpy.ndarray'>\n"
     ]
    }
   ],
   "source": [
    "df_data.values # pandas는 numpy이 wrapper이다.\n",
    "print(type(df_data.values))"
   ]
  },
  {
   "cell_type": "markdown",
   "id": "9bbbdd61",
   "metadata": {},
   "source": [
    "## Pandas의 구성\n",
    "- Series : DataFrame 중 하나인 Column에 해당하는 데이터의 모음 Object\n",
    "- DafaFrame : Data Table 전체를 포함하는 Object, 일반적인 pandas활용에서는 기존 데이터를 불러와 생성한다."
   ]
  },
  {
   "cell_type": "markdown",
   "id": "7160c276",
   "metadata": {},
   "source": [
    "### Series\n",
    "- Column Vector를 표현하는 object\n",
    "- index handling이 가능함\n",
    "- Subclass of numpy.ndarray\n",
    "- Data : any type\n",
    "- index labels need not be ordered\n",
    "- Duplicates are possible"
   ]
  },
  {
   "cell_type": "code",
   "execution_count": 5,
   "id": "c8a616f3",
   "metadata": {},
   "outputs": [],
   "source": [
    "from pandas import Series, DataFrame # Series라는 객체는 따로 있다."
   ]
  },
  {
   "cell_type": "code",
   "execution_count": 6,
   "id": "1df58e4a",
   "metadata": {},
   "outputs": [
    {
     "data": {
      "text/plain": [
       "0    1\n",
       "1    2\n",
       "2    3\n",
       "3    4\n",
       "4    5\n",
       "dtype: int64"
      ]
     },
     "execution_count": 6,
     "metadata": {},
     "output_type": "execute_result"
    }
   ],
   "source": [
    "list_data = [1,2,3,4,5]\n",
    "example_obj = Series(data = list_data)\n",
    "example_obj # index, data, dtype이 출력"
   ]
  },
  {
   "cell_type": "code",
   "execution_count": 7,
   "id": "c1891fd9",
   "metadata": {},
   "outputs": [
    {
     "data": {
      "text/plain": [
       "a    1.0\n",
       "b    2.0\n",
       "c    3.0\n",
       "d    4.0\n",
       "e    5.0\n",
       "Name: exaple_data, dtype: float32"
      ]
     },
     "execution_count": 7,
     "metadata": {},
     "output_type": "execute_result"
    }
   ],
   "source": [
    "# Data와 index이름을 지정\n",
    "dict_data = {'a' : 1, 'b' : 2, 'c' : 3, 'd' : 4, 'e' : 5}\n",
    "example_obj = Series(dict_data, dtype = np.float32, name = \"exaple_data\")\n",
    "example_obj"
   ]
  },
  {
   "cell_type": "code",
   "execution_count": 8,
   "id": "76574380",
   "metadata": {},
   "outputs": [
    {
     "data": {
      "text/plain": [
       "1.0"
      ]
     },
     "execution_count": 8,
     "metadata": {},
     "output_type": "execute_result"
    }
   ],
   "source": [
    "# data index에 접근하기\n",
    "example_obj['a']"
   ]
  },
  {
   "cell_type": "code",
   "execution_count": 9,
   "id": "76b7416f",
   "metadata": {},
   "outputs": [
    {
     "data": {
      "text/plain": [
       "a    3.2\n",
       "b    2.0\n",
       "c    3.0\n",
       "d    4.0\n",
       "e    5.0\n",
       "Name: exaple_data, dtype: float32"
      ]
     },
     "execution_count": 9,
     "metadata": {},
     "output_type": "execute_result"
    }
   ],
   "source": [
    "# data index에 값 할당하기\n",
    "example_obj['a'] = 3.2\n",
    "example_obj"
   ]
  },
  {
   "cell_type": "markdown",
   "id": "365d9447",
   "metadata": {},
   "source": [
    "### Dataframe\n",
    "- 기본적으로 2차원 구조(Numpy arrat와 유사)\n",
    "- row(index)와 column의 값만 알면 Data에 접근이 가능하다."
   ]
  },
  {
   "cell_type": "code",
   "execution_count": 10,
   "id": "611473e0",
   "metadata": {},
   "outputs": [
    {
     "data": {
      "text/html": [
       "<div>\n",
       "<style scoped>\n",
       "    .dataframe tbody tr th:only-of-type {\n",
       "        vertical-align: middle;\n",
       "    }\n",
       "\n",
       "    .dataframe tbody tr th {\n",
       "        vertical-align: top;\n",
       "    }\n",
       "\n",
       "    .dataframe thead th {\n",
       "        text-align: right;\n",
       "    }\n",
       "</style>\n",
       "<table border=\"1\" class=\"dataframe\">\n",
       "  <thead>\n",
       "    <tr style=\"text-align: right;\">\n",
       "      <th></th>\n",
       "      <th>first_name</th>\n",
       "      <th>last_name</th>\n",
       "      <th>age</th>\n",
       "      <th>city</th>\n",
       "    </tr>\n",
       "  </thead>\n",
       "  <tbody>\n",
       "    <tr>\n",
       "      <th>0</th>\n",
       "      <td>Jason</td>\n",
       "      <td>Miller</td>\n",
       "      <td>42</td>\n",
       "      <td>San Francisco</td>\n",
       "    </tr>\n",
       "    <tr>\n",
       "      <th>1</th>\n",
       "      <td>Molly</td>\n",
       "      <td>Jacobson</td>\n",
       "      <td>52</td>\n",
       "      <td>Baltimore</td>\n",
       "    </tr>\n",
       "    <tr>\n",
       "      <th>2</th>\n",
       "      <td>Tina</td>\n",
       "      <td>Ali</td>\n",
       "      <td>36</td>\n",
       "      <td>Miami</td>\n",
       "    </tr>\n",
       "    <tr>\n",
       "      <th>3</th>\n",
       "      <td>Jake</td>\n",
       "      <td>Milner</td>\n",
       "      <td>24</td>\n",
       "      <td>Douglas</td>\n",
       "    </tr>\n",
       "    <tr>\n",
       "      <th>4</th>\n",
       "      <td>Amy</td>\n",
       "      <td>Cooze</td>\n",
       "      <td>73</td>\n",
       "      <td>Boston</td>\n",
       "    </tr>\n",
       "  </tbody>\n",
       "</table>\n",
       "</div>"
      ],
      "text/plain": [
       "  first_name last_name  age           city\n",
       "0      Jason    Miller   42  San Francisco\n",
       "1      Molly  Jacobson   52      Baltimore\n",
       "2       Tina       Ali   36          Miami\n",
       "3       Jake    Milner   24        Douglas\n",
       "4        Amy     Cooze   73         Boston"
      ]
     },
     "execution_count": 10,
     "metadata": {},
     "output_type": "execute_result"
    }
   ],
   "source": [
    "# dict type으로 선언이 가능하다.\n",
    "raw_data = {'first_name': ['Jason', 'Molly', 'Tina', 'Jake', 'Amy'],\n",
    "        'last_name': ['Miller', 'Jacobson', 'Ali', 'Milner', 'Cooze'],\n",
    "        'age': [42, 52, 36, 24, 73],\n",
    "        'city': ['San Francisco', 'Baltimore', 'Miami', 'Douglas', 'Boston']}\n",
    "\n",
    "# dict의 key값을 columns으로 지정\n",
    "df = pd.DataFrame(raw_data, columns = ['first_name', 'last_name', 'age', 'city'])\n",
    "df"
   ]
  },
  {
   "cell_type": "code",
   "execution_count": 11,
   "id": "0541e6e6",
   "metadata": {},
   "outputs": [
    {
     "data": {
      "text/html": [
       "<div>\n",
       "<style scoped>\n",
       "    .dataframe tbody tr th:only-of-type {\n",
       "        vertical-align: middle;\n",
       "    }\n",
       "\n",
       "    .dataframe tbody tr th {\n",
       "        vertical-align: top;\n",
       "    }\n",
       "\n",
       "    .dataframe thead th {\n",
       "        text-align: right;\n",
       "    }\n",
       "</style>\n",
       "<table border=\"1\" class=\"dataframe\">\n",
       "  <thead>\n",
       "    <tr style=\"text-align: right;\">\n",
       "      <th></th>\n",
       "      <th>age</th>\n",
       "      <th>city</th>\n",
       "    </tr>\n",
       "  </thead>\n",
       "  <tbody>\n",
       "    <tr>\n",
       "      <th>0</th>\n",
       "      <td>42</td>\n",
       "      <td>San Francisco</td>\n",
       "    </tr>\n",
       "    <tr>\n",
       "      <th>1</th>\n",
       "      <td>52</td>\n",
       "      <td>Baltimore</td>\n",
       "    </tr>\n",
       "    <tr>\n",
       "      <th>2</th>\n",
       "      <td>36</td>\n",
       "      <td>Miami</td>\n",
       "    </tr>\n",
       "    <tr>\n",
       "      <th>3</th>\n",
       "      <td>24</td>\n",
       "      <td>Douglas</td>\n",
       "    </tr>\n",
       "    <tr>\n",
       "      <th>4</th>\n",
       "      <td>73</td>\n",
       "      <td>Boston</td>\n",
       "    </tr>\n",
       "  </tbody>\n",
       "</table>\n",
       "</div>"
      ],
      "text/plain": [
       "   age           city\n",
       "0   42  San Francisco\n",
       "1   52      Baltimore\n",
       "2   36          Miami\n",
       "3   24        Douglas\n",
       "4   73         Boston"
      ]
     },
     "execution_count": 11,
     "metadata": {},
     "output_type": "execute_result"
    }
   ],
   "source": [
    "# 원하는 cloumn들만 선택할 수 있다.\n",
    "DataFrame(raw_data, columns = [\"age\", \"city\"]) "
   ]
  },
  {
   "cell_type": "code",
   "execution_count": 12,
   "id": "131fd26d",
   "metadata": {},
   "outputs": [
    {
     "data": {
      "text/html": [
       "<div>\n",
       "<style scoped>\n",
       "    .dataframe tbody tr th:only-of-type {\n",
       "        vertical-align: middle;\n",
       "    }\n",
       "\n",
       "    .dataframe tbody tr th {\n",
       "        vertical-align: top;\n",
       "    }\n",
       "\n",
       "    .dataframe thead th {\n",
       "        text-align: right;\n",
       "    }\n",
       "</style>\n",
       "<table border=\"1\" class=\"dataframe\">\n",
       "  <thead>\n",
       "    <tr style=\"text-align: right;\">\n",
       "      <th></th>\n",
       "      <th>first_name</th>\n",
       "      <th>last_name</th>\n",
       "      <th>age</th>\n",
       "      <th>city</th>\n",
       "      <th>debt</th>\n",
       "    </tr>\n",
       "  </thead>\n",
       "  <tbody>\n",
       "    <tr>\n",
       "      <th>0</th>\n",
       "      <td>Jason</td>\n",
       "      <td>Miller</td>\n",
       "      <td>42</td>\n",
       "      <td>San Francisco</td>\n",
       "      <td>NaN</td>\n",
       "    </tr>\n",
       "    <tr>\n",
       "      <th>1</th>\n",
       "      <td>Molly</td>\n",
       "      <td>Jacobson</td>\n",
       "      <td>52</td>\n",
       "      <td>Baltimore</td>\n",
       "      <td>NaN</td>\n",
       "    </tr>\n",
       "    <tr>\n",
       "      <th>2</th>\n",
       "      <td>Tina</td>\n",
       "      <td>Ali</td>\n",
       "      <td>36</td>\n",
       "      <td>Miami</td>\n",
       "      <td>NaN</td>\n",
       "    </tr>\n",
       "    <tr>\n",
       "      <th>3</th>\n",
       "      <td>Jake</td>\n",
       "      <td>Milner</td>\n",
       "      <td>24</td>\n",
       "      <td>Douglas</td>\n",
       "      <td>NaN</td>\n",
       "    </tr>\n",
       "    <tr>\n",
       "      <th>4</th>\n",
       "      <td>Amy</td>\n",
       "      <td>Cooze</td>\n",
       "      <td>73</td>\n",
       "      <td>Boston</td>\n",
       "      <td>NaN</td>\n",
       "    </tr>\n",
       "  </tbody>\n",
       "</table>\n",
       "</div>"
      ],
      "text/plain": [
       "  first_name last_name  age           city debt\n",
       "0      Jason    Miller   42  San Francisco  NaN\n",
       "1      Molly  Jacobson   52      Baltimore  NaN\n",
       "2       Tina       Ali   36          Miami  NaN\n",
       "3       Jake    Milner   24        Douglas  NaN\n",
       "4        Amy     Cooze   73         Boston  NaN"
      ]
     },
     "execution_count": 12,
     "metadata": {},
     "output_type": "execute_result"
    }
   ],
   "source": [
    "# 새로운 cloumn을 추가, Data는 NaN으로 채워짐\n",
    "DataFrame(raw_data, columns = ['first_name', 'last_name', 'age', 'city', 'debt'])"
   ]
  },
  {
   "cell_type": "code",
   "execution_count": 13,
   "id": "88cfd8af",
   "metadata": {},
   "outputs": [
    {
     "data": {
      "text/plain": [
       "0    Jason\n",
       "1    Molly\n",
       "2     Tina\n",
       "3     Jake\n",
       "4      Amy\n",
       "Name: first_name, dtype: object"
      ]
     },
     "execution_count": 13,
     "metadata": {},
     "output_type": "execute_result"
    }
   ],
   "source": [
    "# column 선택 - series 추출 2가지 방식이있음\n",
    "df.first_name"
   ]
  },
  {
   "cell_type": "code",
   "execution_count": 14,
   "id": "0cffc03d",
   "metadata": {},
   "outputs": [
    {
     "data": {
      "text/plain": [
       "0    Jason\n",
       "1    Molly\n",
       "2     Tina\n",
       "3     Jake\n",
       "4      Amy\n",
       "Name: first_name, dtype: object"
      ]
     },
     "execution_count": 14,
     "metadata": {},
     "output_type": "execute_result"
    }
   ],
   "source": [
    "df['first_name']"
   ]
  },
  {
   "cell_type": "code",
   "execution_count": 15,
   "id": "20117ef2",
   "metadata": {},
   "outputs": [
    {
     "data": {
      "text/plain": [
       "first_name        Molly\n",
       "last_name      Jacobson\n",
       "age                  52\n",
       "city          Baltimore\n",
       "Name: 1, dtype: object"
      ]
     },
     "execution_count": 15,
     "metadata": {},
     "output_type": "execute_result"
    }
   ],
   "source": [
    "# loc = index-location\n",
    "\n",
    "# index = 1 인 값 가져옴\n",
    "df.loc[1]"
   ]
  },
  {
   "cell_type": "code",
   "execution_count": 16,
   "id": "613ea726",
   "metadata": {},
   "outputs": [
    {
     "data": {
      "text/plain": [
       "1    52\n",
       "2    36\n",
       "3    24\n",
       "4    73\n",
       "Name: age, dtype: int64"
      ]
     },
     "execution_count": 16,
     "metadata": {},
     "output_type": "execute_result"
    }
   ],
   "source": [
    "# iloc = index-position\n",
    "\n",
    "# \"age\" Series에서  1부터 값 뽑음\n",
    "df[\"age\"].iloc[1:]"
   ]
  },
  {
   "cell_type": "markdown",
   "id": "dc96e44b",
   "metadata": {},
   "source": [
    "#### loc와 iloc는 다르다! loc 는 이름 , iloc는 index number!!!\n"
   ]
  },
  {
   "cell_type": "code",
   "execution_count": 17,
   "id": "b53bd75e",
   "metadata": {},
   "outputs": [
    {
     "data": {
      "text/plain": [
       "49   NaN\n",
       "48   NaN\n",
       "47   NaN\n",
       "46   NaN\n",
       "45   NaN\n",
       "1    NaN\n",
       "2    NaN\n",
       "3    NaN\n",
       "4    NaN\n",
       "5    NaN\n",
       "dtype: float64"
      ]
     },
     "execution_count": 17,
     "metadata": {},
     "output_type": "execute_result"
    }
   ],
   "source": [
    "s = pd.Series(np.nan, index=[49,48,47,46,45, 1, 2, 3, 4, 5])\n",
    "s"
   ]
  },
  {
   "cell_type": "code",
   "execution_count": 18,
   "id": "3859a7d3",
   "metadata": {},
   "outputs": [
    {
     "data": {
      "text/plain": [
       "49   NaN\n",
       "48   NaN\n",
       "47   NaN\n",
       "46   NaN\n",
       "45   NaN\n",
       "1    NaN\n",
       "2    NaN\n",
       "3    NaN\n",
       "dtype: float64"
      ]
     },
     "execution_count": 18,
     "metadata": {},
     "output_type": "execute_result"
    }
   ],
   "source": [
    "# loc는 index이름이 3까지 가져옴\n",
    "s.loc[:3]"
   ]
  },
  {
   "cell_type": "code",
   "execution_count": 19,
   "id": "4b0ee3eb",
   "metadata": {},
   "outputs": [
    {
     "data": {
      "text/plain": [
       "49   NaN\n",
       "48   NaN\n",
       "47   NaN\n",
       "dtype: float64"
      ]
     },
     "execution_count": 19,
     "metadata": {},
     "output_type": "execute_result"
    }
   ],
   "source": [
    "# iloc는 index 순서가 3까지 가져옴\n",
    "s.iloc[:3]"
   ]
  },
  {
   "cell_type": "code",
   "execution_count": 20,
   "id": "c61fd0cb",
   "metadata": {
    "scrolled": false
   },
   "outputs": [
    {
     "name": "stderr",
     "output_type": "stream",
     "text": [
      "<ipython-input-20-11fab32642af>:2: UserWarning: Pandas doesn't allow columns to be created via a new attribute name - see https://pandas.pydata.org/pandas-docs/stable/indexing.html#attribute-access\n",
      "  df.debt = df.age>40\n"
     ]
    },
    {
     "data": {
      "text/html": [
       "<div>\n",
       "<style scoped>\n",
       "    .dataframe tbody tr th:only-of-type {\n",
       "        vertical-align: middle;\n",
       "    }\n",
       "\n",
       "    .dataframe tbody tr th {\n",
       "        vertical-align: top;\n",
       "    }\n",
       "\n",
       "    .dataframe thead th {\n",
       "        text-align: right;\n",
       "    }\n",
       "</style>\n",
       "<table border=\"1\" class=\"dataframe\">\n",
       "  <thead>\n",
       "    <tr style=\"text-align: right;\">\n",
       "      <th></th>\n",
       "      <th>first_name</th>\n",
       "      <th>last_name</th>\n",
       "      <th>age</th>\n",
       "      <th>city</th>\n",
       "    </tr>\n",
       "  </thead>\n",
       "  <tbody>\n",
       "    <tr>\n",
       "      <th>0</th>\n",
       "      <td>Jason</td>\n",
       "      <td>Miller</td>\n",
       "      <td>42</td>\n",
       "      <td>San Francisco</td>\n",
       "    </tr>\n",
       "    <tr>\n",
       "      <th>1</th>\n",
       "      <td>Molly</td>\n",
       "      <td>Jacobson</td>\n",
       "      <td>52</td>\n",
       "      <td>Baltimore</td>\n",
       "    </tr>\n",
       "    <tr>\n",
       "      <th>2</th>\n",
       "      <td>Tina</td>\n",
       "      <td>Ali</td>\n",
       "      <td>36</td>\n",
       "      <td>Miami</td>\n",
       "    </tr>\n",
       "    <tr>\n",
       "      <th>3</th>\n",
       "      <td>Jake</td>\n",
       "      <td>Milner</td>\n",
       "      <td>24</td>\n",
       "      <td>Douglas</td>\n",
       "    </tr>\n",
       "    <tr>\n",
       "      <th>4</th>\n",
       "      <td>Amy</td>\n",
       "      <td>Cooze</td>\n",
       "      <td>73</td>\n",
       "      <td>Boston</td>\n",
       "    </tr>\n",
       "  </tbody>\n",
       "</table>\n",
       "</div>"
      ],
      "text/plain": [
       "  first_name last_name  age           city\n",
       "0      Jason    Miller   42  San Francisco\n",
       "1      Molly  Jacobson   52      Baltimore\n",
       "2       Tina       Ali   36          Miami\n",
       "3       Jake    Milner   24        Douglas\n",
       "4        Amy     Cooze   73         Boston"
      ]
     },
     "execution_count": 20,
     "metadata": {},
     "output_type": "execute_result"
    }
   ],
   "source": [
    "# numpy의 broadcasting 기능 사용가능\n",
    "df.debt = df.age>40\n",
    "df"
   ]
  },
  {
   "cell_type": "code",
   "execution_count": 21,
   "id": "3bc7fc4f",
   "metadata": {},
   "outputs": [
    {
     "data": {
      "text/html": [
       "<div>\n",
       "<style scoped>\n",
       "    .dataframe tbody tr th:only-of-type {\n",
       "        vertical-align: middle;\n",
       "    }\n",
       "\n",
       "    .dataframe tbody tr th {\n",
       "        vertical-align: top;\n",
       "    }\n",
       "\n",
       "    .dataframe thead th {\n",
       "        text-align: right;\n",
       "    }\n",
       "</style>\n",
       "<table border=\"1\" class=\"dataframe\">\n",
       "  <thead>\n",
       "    <tr style=\"text-align: right;\">\n",
       "      <th></th>\n",
       "      <th>0</th>\n",
       "      <th>1</th>\n",
       "      <th>2</th>\n",
       "      <th>3</th>\n",
       "      <th>4</th>\n",
       "    </tr>\n",
       "  </thead>\n",
       "  <tbody>\n",
       "    <tr>\n",
       "      <th>first_name</th>\n",
       "      <td>Jason</td>\n",
       "      <td>Molly</td>\n",
       "      <td>Tina</td>\n",
       "      <td>Jake</td>\n",
       "      <td>Amy</td>\n",
       "    </tr>\n",
       "    <tr>\n",
       "      <th>last_name</th>\n",
       "      <td>Miller</td>\n",
       "      <td>Jacobson</td>\n",
       "      <td>Ali</td>\n",
       "      <td>Milner</td>\n",
       "      <td>Cooze</td>\n",
       "    </tr>\n",
       "    <tr>\n",
       "      <th>age</th>\n",
       "      <td>42</td>\n",
       "      <td>52</td>\n",
       "      <td>36</td>\n",
       "      <td>24</td>\n",
       "      <td>73</td>\n",
       "    </tr>\n",
       "    <tr>\n",
       "      <th>city</th>\n",
       "      <td>San Francisco</td>\n",
       "      <td>Baltimore</td>\n",
       "      <td>Miami</td>\n",
       "      <td>Douglas</td>\n",
       "      <td>Boston</td>\n",
       "    </tr>\n",
       "  </tbody>\n",
       "</table>\n",
       "</div>"
      ],
      "text/plain": [
       "                        0          1      2        3       4\n",
       "first_name          Jason      Molly   Tina     Jake     Amy\n",
       "last_name          Miller   Jacobson    Ali   Milner   Cooze\n",
       "age                    42         52     36       24      73\n",
       "city        San Francisco  Baltimore  Miami  Douglas  Boston"
      ]
     },
     "execution_count": 21,
     "metadata": {},
     "output_type": "execute_result"
    }
   ],
   "source": [
    "df.T # transpose"
   ]
  },
  {
   "cell_type": "code",
   "execution_count": 22,
   "id": "ee6e437d",
   "metadata": {},
   "outputs": [
    {
     "data": {
      "text/plain": [
       "array([['Jason', 'Miller', 42, 'San Francisco'],\n",
       "       ['Molly', 'Jacobson', 52, 'Baltimore'],\n",
       "       ['Tina', 'Ali', 36, 'Miami'],\n",
       "       ['Jake', 'Milner', 24, 'Douglas'],\n",
       "       ['Amy', 'Cooze', 73, 'Boston']], dtype=object)"
      ]
     },
     "execution_count": 22,
     "metadata": {},
     "output_type": "execute_result"
    }
   ],
   "source": [
    "df.values # 값 출력"
   ]
  },
  {
   "cell_type": "code",
   "execution_count": 23,
   "id": "5d56fb19",
   "metadata": {},
   "outputs": [
    {
     "data": {
      "text/plain": [
       "',first_name,last_name,age,city\\r\\n0,Jason,Miller,42,San Francisco\\r\\n1,Molly,Jacobson,52,Baltimore\\r\\n2,Tina,Ali,36,Miami\\r\\n3,Jake,Milner,24,Douglas\\r\\n4,Amy,Cooze,73,Boston\\r\\n'"
      ]
     },
     "execution_count": 23,
     "metadata": {},
     "output_type": "execute_result"
    }
   ],
   "source": [
    "df.to_csv() # csv변환"
   ]
  },
  {
   "cell_type": "code",
   "execution_count": 25,
   "id": "7efc50f2",
   "metadata": {},
   "outputs": [
    {
     "data": {
      "text/html": [
       "<div>\n",
       "<style scoped>\n",
       "    .dataframe tbody tr th:only-of-type {\n",
       "        vertical-align: middle;\n",
       "    }\n",
       "\n",
       "    .dataframe tbody tr th {\n",
       "        vertical-align: top;\n",
       "    }\n",
       "\n",
       "    .dataframe thead th {\n",
       "        text-align: right;\n",
       "    }\n",
       "</style>\n",
       "<table border=\"1\" class=\"dataframe\">\n",
       "  <thead>\n",
       "    <tr style=\"text-align: right;\">\n",
       "      <th></th>\n",
       "      <th>first_name</th>\n",
       "      <th>last_name</th>\n",
       "      <th>age</th>\n",
       "    </tr>\n",
       "  </thead>\n",
       "  <tbody>\n",
       "    <tr>\n",
       "      <th>0</th>\n",
       "      <td>Jason</td>\n",
       "      <td>Miller</td>\n",
       "      <td>42</td>\n",
       "    </tr>\n",
       "    <tr>\n",
       "      <th>1</th>\n",
       "      <td>Molly</td>\n",
       "      <td>Jacobson</td>\n",
       "      <td>52</td>\n",
       "    </tr>\n",
       "    <tr>\n",
       "      <th>2</th>\n",
       "      <td>Tina</td>\n",
       "      <td>Ali</td>\n",
       "      <td>36</td>\n",
       "    </tr>\n",
       "    <tr>\n",
       "      <th>3</th>\n",
       "      <td>Jake</td>\n",
       "      <td>Milner</td>\n",
       "      <td>24</td>\n",
       "    </tr>\n",
       "    <tr>\n",
       "      <th>4</th>\n",
       "      <td>Amy</td>\n",
       "      <td>Cooze</td>\n",
       "      <td>73</td>\n",
       "    </tr>\n",
       "  </tbody>\n",
       "</table>\n",
       "</div>"
      ],
      "text/plain": [
       "  first_name last_name  age\n",
       "0      Jason    Miller   42\n",
       "1      Molly  Jacobson   52\n",
       "2       Tina       Ali   36\n",
       "3       Jake    Milner   24\n",
       "4        Amy     Cooze   73"
      ]
     },
     "execution_count": 25,
     "metadata": {},
     "output_type": "execute_result"
    }
   ],
   "source": [
    "# column을 삭제하기\n",
    "del df[\"city\"]\n",
    "df"
   ]
  },
  {
   "cell_type": "markdown",
   "id": "133a0242",
   "metadata": {},
   "source": [
    "### Selection with column names"
   ]
  },
  {
   "cell_type": "code",
   "execution_count": 26,
   "id": "7d33d56c",
   "metadata": {},
   "outputs": [
    {
     "data": {
      "text/plain": [
       "0    42\n",
       "1    52\n",
       "2    36\n",
       "Name: age, dtype: int64"
      ]
     },
     "execution_count": 26,
     "metadata": {},
     "output_type": "execute_result"
    }
   ],
   "source": [
    "# 한개의 column 선택 - 상단부터 3개 가져오기 \n",
    "df[\"age\"].head(3)"
   ]
  },
  {
   "cell_type": "code",
   "execution_count": 27,
   "id": "94458183",
   "metadata": {},
   "outputs": [
    {
     "data": {
      "text/html": [
       "<div>\n",
       "<style scoped>\n",
       "    .dataframe tbody tr th:only-of-type {\n",
       "        vertical-align: middle;\n",
       "    }\n",
       "\n",
       "    .dataframe tbody tr th {\n",
       "        vertical-align: top;\n",
       "    }\n",
       "\n",
       "    .dataframe thead th {\n",
       "        text-align: right;\n",
       "    }\n",
       "</style>\n",
       "<table border=\"1\" class=\"dataframe\">\n",
       "  <thead>\n",
       "    <tr style=\"text-align: right;\">\n",
       "      <th></th>\n",
       "      <th>first_name</th>\n",
       "      <th>last_name</th>\n",
       "      <th>age</th>\n",
       "    </tr>\n",
       "  </thead>\n",
       "  <tbody>\n",
       "    <tr>\n",
       "      <th>0</th>\n",
       "      <td>Jason</td>\n",
       "      <td>Miller</td>\n",
       "      <td>42</td>\n",
       "    </tr>\n",
       "    <tr>\n",
       "      <th>1</th>\n",
       "      <td>Molly</td>\n",
       "      <td>Jacobson</td>\n",
       "      <td>52</td>\n",
       "    </tr>\n",
       "    <tr>\n",
       "      <th>2</th>\n",
       "      <td>Tina</td>\n",
       "      <td>Ali</td>\n",
       "      <td>36</td>\n",
       "    </tr>\n",
       "  </tbody>\n",
       "</table>\n",
       "</div>"
      ],
      "text/plain": [
       "  first_name last_name  age\n",
       "0      Jason    Miller   42\n",
       "1      Molly  Jacobson   52\n",
       "2       Tina       Ali   36"
      ]
     },
     "execution_count": 27,
     "metadata": {},
     "output_type": "execute_result"
    }
   ],
   "source": [
    "df[[\"first_name\",\"last_name\",\"age\"]].head(3)"
   ]
  },
  {
   "cell_type": "markdown",
   "id": "7c8dfce8",
   "metadata": {},
   "source": [
    "### Selection with index number "
   ]
  },
  {
   "cell_type": "code",
   "execution_count": 30,
   "id": "7591ba76",
   "metadata": {},
   "outputs": [
    {
     "data": {
      "text/html": [
       "<div>\n",
       "<style scoped>\n",
       "    .dataframe tbody tr th:only-of-type {\n",
       "        vertical-align: middle;\n",
       "    }\n",
       "\n",
       "    .dataframe tbody tr th {\n",
       "        vertical-align: top;\n",
       "    }\n",
       "\n",
       "    .dataframe thead th {\n",
       "        text-align: right;\n",
       "    }\n",
       "</style>\n",
       "<table border=\"1\" class=\"dataframe\">\n",
       "  <thead>\n",
       "    <tr style=\"text-align: right;\">\n",
       "      <th></th>\n",
       "      <th>first_name</th>\n",
       "      <th>last_name</th>\n",
       "      <th>age</th>\n",
       "    </tr>\n",
       "  </thead>\n",
       "  <tbody>\n",
       "    <tr>\n",
       "      <th>0</th>\n",
       "      <td>Jason</td>\n",
       "      <td>Miller</td>\n",
       "      <td>42</td>\n",
       "    </tr>\n",
       "    <tr>\n",
       "      <th>1</th>\n",
       "      <td>Molly</td>\n",
       "      <td>Jacobson</td>\n",
       "      <td>52</td>\n",
       "    </tr>\n",
       "  </tbody>\n",
       "</table>\n",
       "</div>"
      ],
      "text/plain": [
       "  first_name last_name  age\n",
       "0      Jason    Miller   42\n",
       "1      Molly  Jacobson   52"
      ]
     },
     "execution_count": 30,
     "metadata": {},
     "output_type": "execute_result"
    }
   ],
   "source": [
    "# column 이름 없이 사용하는 index number는 row기준 표시\n",
    "df[:2]"
   ]
  },
  {
   "cell_type": "code",
   "execution_count": 36,
   "id": "53ff624d",
   "metadata": {},
   "outputs": [
    {
     "data": {
      "text/plain": [
       "0    42\n",
       "1    52\n",
       "Name: age, dtype: int64"
      ]
     },
     "execution_count": 36,
     "metadata": {},
     "output_type": "execute_result"
    }
   ],
   "source": [
    "# column 이름과 함께 row index 사용시, 해당 column만\n",
    "df[\"age\"][:2]"
   ]
  },
  {
   "cell_type": "code",
   "execution_count": 38,
   "id": "598569aa",
   "metadata": {},
   "outputs": [
    {
     "data": {
      "text/html": [
       "<div>\n",
       "<style scoped>\n",
       "    .dataframe tbody tr th:only-of-type {\n",
       "        vertical-align: middle;\n",
       "    }\n",
       "\n",
       "    .dataframe tbody tr th {\n",
       "        vertical-align: top;\n",
       "    }\n",
       "\n",
       "    .dataframe thead th {\n",
       "        text-align: right;\n",
       "    }\n",
       "</style>\n",
       "<table border=\"1\" class=\"dataframe\">\n",
       "  <thead>\n",
       "    <tr style=\"text-align: right;\">\n",
       "      <th></th>\n",
       "      <th>account</th>\n",
       "      <th>name</th>\n",
       "      <th>street</th>\n",
       "      <th>city</th>\n",
       "      <th>state</th>\n",
       "      <th>postal-code</th>\n",
       "      <th>Jan</th>\n",
       "      <th>Feb</th>\n",
       "      <th>Mar</th>\n",
       "    </tr>\n",
       "  </thead>\n",
       "  <tbody>\n",
       "    <tr>\n",
       "      <th>0</th>\n",
       "      <td>211829</td>\n",
       "      <td>Kerluke, Koepp and Hilpert</td>\n",
       "      <td>34456 Sean Highway</td>\n",
       "      <td>New Jaycob</td>\n",
       "      <td>Texas</td>\n",
       "      <td>28752</td>\n",
       "      <td>10000</td>\n",
       "      <td>62000</td>\n",
       "      <td>35000</td>\n",
       "    </tr>\n",
       "    <tr>\n",
       "      <th>1</th>\n",
       "      <td>320563</td>\n",
       "      <td>Walter-Trantow</td>\n",
       "      <td>1311 Alvis Tunnel</td>\n",
       "      <td>Port Khadijah</td>\n",
       "      <td>NorthCarolina</td>\n",
       "      <td>38365</td>\n",
       "      <td>95000</td>\n",
       "      <td>45000</td>\n",
       "      <td>35000</td>\n",
       "    </tr>\n",
       "    <tr>\n",
       "      <th>2</th>\n",
       "      <td>648336</td>\n",
       "      <td>Bashirian, Kunde and Price</td>\n",
       "      <td>62184 Schamberger Underpass Apt. 231</td>\n",
       "      <td>New Lilianland</td>\n",
       "      <td>Iowa</td>\n",
       "      <td>76517</td>\n",
       "      <td>91000</td>\n",
       "      <td>120000</td>\n",
       "      <td>35000</td>\n",
       "    </tr>\n",
       "    <tr>\n",
       "      <th>3</th>\n",
       "      <td>109996</td>\n",
       "      <td>D'Amore, Gleichner and Bode</td>\n",
       "      <td>155 Fadel Crescent Apt. 144</td>\n",
       "      <td>Hyattburgh</td>\n",
       "      <td>Maine</td>\n",
       "      <td>46021</td>\n",
       "      <td>45000</td>\n",
       "      <td>120000</td>\n",
       "      <td>10000</td>\n",
       "    </tr>\n",
       "    <tr>\n",
       "      <th>4</th>\n",
       "      <td>121213</td>\n",
       "      <td>Bauch-Goldner</td>\n",
       "      <td>7274 Marissa Common</td>\n",
       "      <td>Shanahanchester</td>\n",
       "      <td>California</td>\n",
       "      <td>49681</td>\n",
       "      <td>162000</td>\n",
       "      <td>120000</td>\n",
       "      <td>35000</td>\n",
       "    </tr>\n",
       "  </tbody>\n",
       "</table>\n",
       "</div>"
      ],
      "text/plain": [
       "   account                         name                                street  \\\n",
       "0   211829   Kerluke, Koepp and Hilpert                    34456 Sean Highway   \n",
       "1   320563               Walter-Trantow                     1311 Alvis Tunnel   \n",
       "2   648336   Bashirian, Kunde and Price  62184 Schamberger Underpass Apt. 231   \n",
       "3   109996  D'Amore, Gleichner and Bode           155 Fadel Crescent Apt. 144   \n",
       "4   121213                Bauch-Goldner                   7274 Marissa Common   \n",
       "\n",
       "              city          state  postal-code     Jan     Feb    Mar  \n",
       "0       New Jaycob          Texas        28752   10000   62000  35000  \n",
       "1    Port Khadijah  NorthCarolina        38365   95000   45000  35000  \n",
       "2   New Lilianland           Iowa        76517   91000  120000  35000  \n",
       "3       Hyattburgh          Maine        46021   45000  120000  10000  \n",
       "4  Shanahanchester     California        49681  162000  120000  35000  "
      ]
     },
     "execution_count": 38,
     "metadata": {},
     "output_type": "execute_result"
    }
   ],
   "source": [
    "df = pd.read_excel(\"excel-comp-data.xlsx\")\n",
    "df.head()"
   ]
  },
  {
   "cell_type": "markdown",
   "id": "3bdb27b9",
   "metadata": {},
   "source": [
    "### Series selection"
   ]
  },
  {
   "cell_type": "code",
   "execution_count": 45,
   "id": "3da13629",
   "metadata": {},
   "outputs": [
    {
     "data": {
      "text/plain": [
       "0    211829\n",
       "1    320563\n",
       "2    648336\n",
       "Name: account, dtype: int64"
      ]
     },
     "execution_count": 45,
     "metadata": {},
     "output_type": "execute_result"
    }
   ],
   "source": [
    "account_series = df[\"account\"]\n",
    "account_series[:3] # ~3 미만 index 까지"
   ]
  },
  {
   "cell_type": "code",
   "execution_count": 46,
   "id": "9ed7bd49",
   "metadata": {},
   "outputs": [
    {
     "data": {
      "text/plain": [
       "0    211829\n",
       "1    320563\n",
       "2    648336\n",
       "Name: account, dtype: int64"
      ]
     },
     "execution_count": 46,
     "metadata": {},
     "output_type": "execute_result"
    }
   ],
   "source": [
    "account_series[[0,1,2]] # index의 번호를 넣으면 1개이상의 해당 index호출 가능"
   ]
  },
  {
   "cell_type": "code",
   "execution_count": 47,
   "id": "b4d1e8a7",
   "metadata": {
    "scrolled": true
   },
   "outputs": [
    {
     "data": {
      "text/plain": [
       "0     211829\n",
       "3     109996\n",
       "4     121213\n",
       "5     132971\n",
       "6     145068\n",
       "7     205217\n",
       "8     209744\n",
       "9     212303\n",
       "10    214098\n",
       "11    231907\n",
       "12    242368\n",
       "Name: account, dtype: int64"
      ]
     },
     "execution_count": 47,
     "metadata": {},
     "output_type": "execute_result"
    }
   ],
   "source": [
    "account_series[account_series<250000] # Boolean index"
   ]
  },
  {
   "cell_type": "code",
   "execution_count": 50,
   "id": "56a63b19",
   "metadata": {},
   "outputs": [
    {
     "data": {
      "text/html": [
       "<div>\n",
       "<style scoped>\n",
       "    .dataframe tbody tr th:only-of-type {\n",
       "        vertical-align: middle;\n",
       "    }\n",
       "\n",
       "    .dataframe tbody tr th {\n",
       "        vertical-align: top;\n",
       "    }\n",
       "\n",
       "    .dataframe thead th {\n",
       "        text-align: right;\n",
       "    }\n",
       "</style>\n",
       "<table border=\"1\" class=\"dataframe\">\n",
       "  <thead>\n",
       "    <tr style=\"text-align: right;\">\n",
       "      <th></th>\n",
       "      <th>account</th>\n",
       "      <th>name</th>\n",
       "      <th>street</th>\n",
       "      <th>city</th>\n",
       "      <th>state</th>\n",
       "      <th>postal-code</th>\n",
       "      <th>Jan</th>\n",
       "      <th>Feb</th>\n",
       "      <th>Mar</th>\n",
       "    </tr>\n",
       "    <tr>\n",
       "      <th>account</th>\n",
       "      <th></th>\n",
       "      <th></th>\n",
       "      <th></th>\n",
       "      <th></th>\n",
       "      <th></th>\n",
       "      <th></th>\n",
       "      <th></th>\n",
       "      <th></th>\n",
       "      <th></th>\n",
       "    </tr>\n",
       "  </thead>\n",
       "  <tbody>\n",
       "    <tr>\n",
       "      <th>211829</th>\n",
       "      <td>211829</td>\n",
       "      <td>Kerluke, Koepp and Hilpert</td>\n",
       "      <td>34456 Sean Highway</td>\n",
       "      <td>New Jaycob</td>\n",
       "      <td>Texas</td>\n",
       "      <td>28752</td>\n",
       "      <td>10000</td>\n",
       "      <td>62000</td>\n",
       "      <td>35000</td>\n",
       "    </tr>\n",
       "    <tr>\n",
       "      <th>320563</th>\n",
       "      <td>320563</td>\n",
       "      <td>Walter-Trantow</td>\n",
       "      <td>1311 Alvis Tunnel</td>\n",
       "      <td>Port Khadijah</td>\n",
       "      <td>NorthCarolina</td>\n",
       "      <td>38365</td>\n",
       "      <td>95000</td>\n",
       "      <td>45000</td>\n",
       "      <td>35000</td>\n",
       "    </tr>\n",
       "    <tr>\n",
       "      <th>648336</th>\n",
       "      <td>648336</td>\n",
       "      <td>Bashirian, Kunde and Price</td>\n",
       "      <td>62184 Schamberger Underpass Apt. 231</td>\n",
       "      <td>New Lilianland</td>\n",
       "      <td>Iowa</td>\n",
       "      <td>76517</td>\n",
       "      <td>91000</td>\n",
       "      <td>120000</td>\n",
       "      <td>35000</td>\n",
       "    </tr>\n",
       "    <tr>\n",
       "      <th>109996</th>\n",
       "      <td>109996</td>\n",
       "      <td>D'Amore, Gleichner and Bode</td>\n",
       "      <td>155 Fadel Crescent Apt. 144</td>\n",
       "      <td>Hyattburgh</td>\n",
       "      <td>Maine</td>\n",
       "      <td>46021</td>\n",
       "      <td>45000</td>\n",
       "      <td>120000</td>\n",
       "      <td>10000</td>\n",
       "    </tr>\n",
       "    <tr>\n",
       "      <th>121213</th>\n",
       "      <td>121213</td>\n",
       "      <td>Bauch-Goldner</td>\n",
       "      <td>7274 Marissa Common</td>\n",
       "      <td>Shanahanchester</td>\n",
       "      <td>California</td>\n",
       "      <td>49681</td>\n",
       "      <td>162000</td>\n",
       "      <td>120000</td>\n",
       "      <td>35000</td>\n",
       "    </tr>\n",
       "  </tbody>\n",
       "</table>\n",
       "</div>"
      ],
      "text/plain": [
       "         account                         name  \\\n",
       "account                                         \n",
       "211829    211829   Kerluke, Koepp and Hilpert   \n",
       "320563    320563               Walter-Trantow   \n",
       "648336    648336   Bashirian, Kunde and Price   \n",
       "109996    109996  D'Amore, Gleichner and Bode   \n",
       "121213    121213                Bauch-Goldner   \n",
       "\n",
       "                                       street             city          state  \\\n",
       "account                                                                         \n",
       "211829                     34456 Sean Highway       New Jaycob          Texas   \n",
       "320563                      1311 Alvis Tunnel    Port Khadijah  NorthCarolina   \n",
       "648336   62184 Schamberger Underpass Apt. 231   New Lilianland           Iowa   \n",
       "109996            155 Fadel Crescent Apt. 144       Hyattburgh          Maine   \n",
       "121213                    7274 Marissa Common  Shanahanchester     California   \n",
       "\n",
       "         postal-code     Jan     Feb    Mar  \n",
       "account                                      \n",
       "211829         28752   10000   62000  35000  \n",
       "320563         38365   95000   45000  35000  \n",
       "648336         76517   91000  120000  35000  \n",
       "109996         46021   45000  120000  10000  \n",
       "121213         49681  162000  120000  35000  "
      ]
     },
     "execution_count": 50,
     "metadata": {},
     "output_type": "execute_result"
    }
   ],
   "source": [
    "# index 변경, 해당 data의 고유한 특징을 나타내는 Series로 index를 변경할 때\n",
    "df.index = df[\"account\"]\n",
    "df.head() "
   ]
  },
  {
   "cell_type": "code",
   "execution_count": 51,
   "id": "52bad238",
   "metadata": {},
   "outputs": [
    {
     "data": {
      "text/html": [
       "<div>\n",
       "<style scoped>\n",
       "    .dataframe tbody tr th:only-of-type {\n",
       "        vertical-align: middle;\n",
       "    }\n",
       "\n",
       "    .dataframe tbody tr th {\n",
       "        vertical-align: top;\n",
       "    }\n",
       "\n",
       "    .dataframe thead th {\n",
       "        text-align: right;\n",
       "    }\n",
       "</style>\n",
       "<table border=\"1\" class=\"dataframe\">\n",
       "  <thead>\n",
       "    <tr style=\"text-align: right;\">\n",
       "      <th></th>\n",
       "      <th>name</th>\n",
       "      <th>street</th>\n",
       "      <th>city</th>\n",
       "      <th>state</th>\n",
       "      <th>postal-code</th>\n",
       "      <th>Jan</th>\n",
       "      <th>Feb</th>\n",
       "      <th>Mar</th>\n",
       "    </tr>\n",
       "    <tr>\n",
       "      <th>account</th>\n",
       "      <th></th>\n",
       "      <th></th>\n",
       "      <th></th>\n",
       "      <th></th>\n",
       "      <th></th>\n",
       "      <th></th>\n",
       "      <th></th>\n",
       "      <th></th>\n",
       "    </tr>\n",
       "  </thead>\n",
       "  <tbody>\n",
       "    <tr>\n",
       "      <th>211829</th>\n",
       "      <td>Kerluke, Koepp and Hilpert</td>\n",
       "      <td>34456 Sean Highway</td>\n",
       "      <td>New Jaycob</td>\n",
       "      <td>Texas</td>\n",
       "      <td>28752</td>\n",
       "      <td>10000</td>\n",
       "      <td>62000</td>\n",
       "      <td>35000</td>\n",
       "    </tr>\n",
       "    <tr>\n",
       "      <th>320563</th>\n",
       "      <td>Walter-Trantow</td>\n",
       "      <td>1311 Alvis Tunnel</td>\n",
       "      <td>Port Khadijah</td>\n",
       "      <td>NorthCarolina</td>\n",
       "      <td>38365</td>\n",
       "      <td>95000</td>\n",
       "      <td>45000</td>\n",
       "      <td>35000</td>\n",
       "    </tr>\n",
       "    <tr>\n",
       "      <th>648336</th>\n",
       "      <td>Bashirian, Kunde and Price</td>\n",
       "      <td>62184 Schamberger Underpass Apt. 231</td>\n",
       "      <td>New Lilianland</td>\n",
       "      <td>Iowa</td>\n",
       "      <td>76517</td>\n",
       "      <td>91000</td>\n",
       "      <td>120000</td>\n",
       "      <td>35000</td>\n",
       "    </tr>\n",
       "    <tr>\n",
       "      <th>109996</th>\n",
       "      <td>D'Amore, Gleichner and Bode</td>\n",
       "      <td>155 Fadel Crescent Apt. 144</td>\n",
       "      <td>Hyattburgh</td>\n",
       "      <td>Maine</td>\n",
       "      <td>46021</td>\n",
       "      <td>45000</td>\n",
       "      <td>120000</td>\n",
       "      <td>10000</td>\n",
       "    </tr>\n",
       "    <tr>\n",
       "      <th>121213</th>\n",
       "      <td>Bauch-Goldner</td>\n",
       "      <td>7274 Marissa Common</td>\n",
       "      <td>Shanahanchester</td>\n",
       "      <td>California</td>\n",
       "      <td>49681</td>\n",
       "      <td>162000</td>\n",
       "      <td>120000</td>\n",
       "      <td>35000</td>\n",
       "    </tr>\n",
       "  </tbody>\n",
       "</table>\n",
       "</div>"
      ],
      "text/plain": [
       "                                name                                street  \\\n",
       "account                                                                      \n",
       "211829    Kerluke, Koepp and Hilpert                    34456 Sean Highway   \n",
       "320563                Walter-Trantow                     1311 Alvis Tunnel   \n",
       "648336    Bashirian, Kunde and Price  62184 Schamberger Underpass Apt. 231   \n",
       "109996   D'Amore, Gleichner and Bode           155 Fadel Crescent Apt. 144   \n",
       "121213                 Bauch-Goldner                   7274 Marissa Common   \n",
       "\n",
       "                    city          state  postal-code     Jan     Feb    Mar  \n",
       "account                                                                      \n",
       "211829        New Jaycob          Texas        28752   10000   62000  35000  \n",
       "320563     Port Khadijah  NorthCarolina        38365   95000   45000  35000  \n",
       "648336    New Lilianland           Iowa        76517   91000  120000  35000  \n",
       "109996        Hyattburgh          Maine        46021   45000  120000  10000  \n",
       "121213   Shanahanchester     California        49681  162000  120000  35000  "
      ]
     },
     "execution_count": 51,
     "metadata": {},
     "output_type": "execute_result"
    }
   ],
   "source": [
    "# index로 설정한 account가 그대로 남아있으므로 del\n",
    "del df[\"account\"]\n",
    "df.head()"
   ]
  },
  {
   "cell_type": "code",
   "execution_count": 52,
   "id": "f22370c4",
   "metadata": {},
   "outputs": [
    {
     "data": {
      "text/html": [
       "<div>\n",
       "<style scoped>\n",
       "    .dataframe tbody tr th:only-of-type {\n",
       "        vertical-align: middle;\n",
       "    }\n",
       "\n",
       "    .dataframe tbody tr th {\n",
       "        vertical-align: top;\n",
       "    }\n",
       "\n",
       "    .dataframe thead th {\n",
       "        text-align: right;\n",
       "    }\n",
       "</style>\n",
       "<table border=\"1\" class=\"dataframe\">\n",
       "  <thead>\n",
       "    <tr style=\"text-align: right;\">\n",
       "      <th></th>\n",
       "      <th>name</th>\n",
       "      <th>street</th>\n",
       "    </tr>\n",
       "    <tr>\n",
       "      <th>account</th>\n",
       "      <th></th>\n",
       "      <th></th>\n",
       "    </tr>\n",
       "  </thead>\n",
       "  <tbody>\n",
       "    <tr>\n",
       "      <th>211829</th>\n",
       "      <td>Kerluke, Koepp and Hilpert</td>\n",
       "      <td>34456 Sean Highway</td>\n",
       "    </tr>\n",
       "    <tr>\n",
       "      <th>320563</th>\n",
       "      <td>Walter-Trantow</td>\n",
       "      <td>1311 Alvis Tunnel</td>\n",
       "    </tr>\n",
       "  </tbody>\n",
       "</table>\n",
       "</div>"
      ],
      "text/plain": [
       "                               name              street\n",
       "account                                                \n",
       "211829   Kerluke, Koepp and Hilpert  34456 Sean Highway\n",
       "320563               Walter-Trantow   1311 Alvis Tunnel"
      ]
     },
     "execution_count": 52,
     "metadata": {},
     "output_type": "execute_result"
    }
   ],
   "source": [
    "# Column과 index number\n",
    "df[[\"name\", \"street\"]][:2]"
   ]
  },
  {
   "cell_type": "code",
   "execution_count": 53,
   "id": "d1b30473",
   "metadata": {},
   "outputs": [
    {
     "data": {
      "text/html": [
       "<div>\n",
       "<style scoped>\n",
       "    .dataframe tbody tr th:only-of-type {\n",
       "        vertical-align: middle;\n",
       "    }\n",
       "\n",
       "    .dataframe tbody tr th {\n",
       "        vertical-align: top;\n",
       "    }\n",
       "\n",
       "    .dataframe thead th {\n",
       "        text-align: right;\n",
       "    }\n",
       "</style>\n",
       "<table border=\"1\" class=\"dataframe\">\n",
       "  <thead>\n",
       "    <tr style=\"text-align: right;\">\n",
       "      <th></th>\n",
       "      <th>name</th>\n",
       "      <th>street</th>\n",
       "    </tr>\n",
       "    <tr>\n",
       "      <th>account</th>\n",
       "      <th></th>\n",
       "      <th></th>\n",
       "    </tr>\n",
       "  </thead>\n",
       "  <tbody>\n",
       "    <tr>\n",
       "      <th>211829</th>\n",
       "      <td>Kerluke, Koepp and Hilpert</td>\n",
       "      <td>34456 Sean Highway</td>\n",
       "    </tr>\n",
       "    <tr>\n",
       "      <th>320563</th>\n",
       "      <td>Walter-Trantow</td>\n",
       "      <td>1311 Alvis Tunnel</td>\n",
       "    </tr>\n",
       "  </tbody>\n",
       "</table>\n",
       "</div>"
      ],
      "text/plain": [
       "                               name              street\n",
       "account                                                \n",
       "211829   Kerluke, Koepp and Hilpert  34456 Sean Highway\n",
       "320563               Walter-Trantow   1311 Alvis Tunnel"
      ]
     },
     "execution_count": 53,
     "metadata": {},
     "output_type": "execute_result"
    }
   ],
   "source": [
    "# Index의 값과 Column의 이름\n",
    "df.loc[[211829, 320563],[\"name\",\"street\"]]"
   ]
  },
  {
   "cell_type": "code",
   "execution_count": 54,
   "id": "388c9ece",
   "metadata": {},
   "outputs": [
    {
     "data": {
      "text/html": [
       "<div>\n",
       "<style scoped>\n",
       "    .dataframe tbody tr th:only-of-type {\n",
       "        vertical-align: middle;\n",
       "    }\n",
       "\n",
       "    .dataframe tbody tr th {\n",
       "        vertical-align: top;\n",
       "    }\n",
       "\n",
       "    .dataframe thead th {\n",
       "        text-align: right;\n",
       "    }\n",
       "</style>\n",
       "<table border=\"1\" class=\"dataframe\">\n",
       "  <thead>\n",
       "    <tr style=\"text-align: right;\">\n",
       "      <th></th>\n",
       "      <th>name</th>\n",
       "      <th>street</th>\n",
       "    </tr>\n",
       "    <tr>\n",
       "      <th>account</th>\n",
       "      <th></th>\n",
       "      <th></th>\n",
       "    </tr>\n",
       "  </thead>\n",
       "  <tbody>\n",
       "    <tr>\n",
       "      <th>211829</th>\n",
       "      <td>Kerluke, Koepp and Hilpert</td>\n",
       "      <td>34456 Sean Highway</td>\n",
       "    </tr>\n",
       "    <tr>\n",
       "      <th>320563</th>\n",
       "      <td>Walter-Trantow</td>\n",
       "      <td>1311 Alvis Tunnel</td>\n",
       "    </tr>\n",
       "  </tbody>\n",
       "</table>\n",
       "</div>"
      ],
      "text/plain": [
       "                               name              street\n",
       "account                                                \n",
       "211829   Kerluke, Koepp and Hilpert  34456 Sean Highway\n",
       "320563               Walter-Trantow   1311 Alvis Tunnel"
      ]
     },
     "execution_count": 54,
     "metadata": {},
     "output_type": "execute_result"
    }
   ],
   "source": [
    "# iloc을 사용해 column number만 사용\n",
    "# 간단하나 data 숫자가 커지면 사용 힘들 수도 있음\n",
    "df.iloc[:2, :2]"
   ]
  },
  {
   "cell_type": "markdown",
   "id": "99b01642",
   "metadata": {},
   "source": [
    "### index 재설정"
   ]
  },
  {
   "cell_type": "code",
   "execution_count": 55,
   "id": "75af0af8",
   "metadata": {},
   "outputs": [
    {
     "data": {
      "text/html": [
       "<div>\n",
       "<style scoped>\n",
       "    .dataframe tbody tr th:only-of-type {\n",
       "        vertical-align: middle;\n",
       "    }\n",
       "\n",
       "    .dataframe tbody tr th {\n",
       "        vertical-align: top;\n",
       "    }\n",
       "\n",
       "    .dataframe thead th {\n",
       "        text-align: right;\n",
       "    }\n",
       "</style>\n",
       "<table border=\"1\" class=\"dataframe\">\n",
       "  <thead>\n",
       "    <tr style=\"text-align: right;\">\n",
       "      <th></th>\n",
       "      <th>name</th>\n",
       "      <th>street</th>\n",
       "      <th>city</th>\n",
       "      <th>state</th>\n",
       "      <th>postal-code</th>\n",
       "      <th>Jan</th>\n",
       "      <th>Feb</th>\n",
       "      <th>Mar</th>\n",
       "    </tr>\n",
       "  </thead>\n",
       "  <tbody>\n",
       "    <tr>\n",
       "      <th>0</th>\n",
       "      <td>Kerluke, Koepp and Hilpert</td>\n",
       "      <td>34456 Sean Highway</td>\n",
       "      <td>New Jaycob</td>\n",
       "      <td>Texas</td>\n",
       "      <td>28752</td>\n",
       "      <td>10000</td>\n",
       "      <td>62000</td>\n",
       "      <td>35000</td>\n",
       "    </tr>\n",
       "    <tr>\n",
       "      <th>1</th>\n",
       "      <td>Walter-Trantow</td>\n",
       "      <td>1311 Alvis Tunnel</td>\n",
       "      <td>Port Khadijah</td>\n",
       "      <td>NorthCarolina</td>\n",
       "      <td>38365</td>\n",
       "      <td>95000</td>\n",
       "      <td>45000</td>\n",
       "      <td>35000</td>\n",
       "    </tr>\n",
       "    <tr>\n",
       "      <th>2</th>\n",
       "      <td>Bashirian, Kunde and Price</td>\n",
       "      <td>62184 Schamberger Underpass Apt. 231</td>\n",
       "      <td>New Lilianland</td>\n",
       "      <td>Iowa</td>\n",
       "      <td>76517</td>\n",
       "      <td>91000</td>\n",
       "      <td>120000</td>\n",
       "      <td>35000</td>\n",
       "    </tr>\n",
       "    <tr>\n",
       "      <th>3</th>\n",
       "      <td>D'Amore, Gleichner and Bode</td>\n",
       "      <td>155 Fadel Crescent Apt. 144</td>\n",
       "      <td>Hyattburgh</td>\n",
       "      <td>Maine</td>\n",
       "      <td>46021</td>\n",
       "      <td>45000</td>\n",
       "      <td>120000</td>\n",
       "      <td>10000</td>\n",
       "    </tr>\n",
       "    <tr>\n",
       "      <th>4</th>\n",
       "      <td>Bauch-Goldner</td>\n",
       "      <td>7274 Marissa Common</td>\n",
       "      <td>Shanahanchester</td>\n",
       "      <td>California</td>\n",
       "      <td>49681</td>\n",
       "      <td>162000</td>\n",
       "      <td>120000</td>\n",
       "      <td>35000</td>\n",
       "    </tr>\n",
       "  </tbody>\n",
       "</table>\n",
       "</div>"
      ],
      "text/plain": [
       "                          name                                street  \\\n",
       "0   Kerluke, Koepp and Hilpert                    34456 Sean Highway   \n",
       "1               Walter-Trantow                     1311 Alvis Tunnel   \n",
       "2   Bashirian, Kunde and Price  62184 Schamberger Underpass Apt. 231   \n",
       "3  D'Amore, Gleichner and Bode           155 Fadel Crescent Apt. 144   \n",
       "4                Bauch-Goldner                   7274 Marissa Common   \n",
       "\n",
       "              city          state  postal-code     Jan     Feb    Mar  \n",
       "0       New Jaycob          Texas        28752   10000   62000  35000  \n",
       "1    Port Khadijah  NorthCarolina        38365   95000   45000  35000  \n",
       "2   New Lilianland           Iowa        76517   91000  120000  35000  \n",
       "3       Hyattburgh          Maine        46021   45000  120000  10000  \n",
       "4  Shanahanchester     California        49681  162000  120000  35000  "
      ]
     },
     "execution_count": 55,
     "metadata": {},
     "output_type": "execute_result"
    }
   ],
   "source": [
    "df.index = list(range(0,15))\n",
    "df.head()"
   ]
  },
  {
   "cell_type": "markdown",
   "id": "e1d01536",
   "metadata": {},
   "source": [
    "### Data drop"
   ]
  },
  {
   "cell_type": "code",
   "execution_count": 60,
   "id": "8768466c",
   "metadata": {},
   "outputs": [
    {
     "data": {
      "text/html": [
       "<div>\n",
       "<style scoped>\n",
       "    .dataframe tbody tr th:only-of-type {\n",
       "        vertical-align: middle;\n",
       "    }\n",
       "\n",
       "    .dataframe tbody tr th {\n",
       "        vertical-align: top;\n",
       "    }\n",
       "\n",
       "    .dataframe thead th {\n",
       "        text-align: right;\n",
       "    }\n",
       "</style>\n",
       "<table border=\"1\" class=\"dataframe\">\n",
       "  <thead>\n",
       "    <tr style=\"text-align: right;\">\n",
       "      <th></th>\n",
       "      <th>name</th>\n",
       "      <th>street</th>\n",
       "      <th>city</th>\n",
       "      <th>state</th>\n",
       "      <th>postal-code</th>\n",
       "      <th>Jan</th>\n",
       "      <th>Feb</th>\n",
       "      <th>Mar</th>\n",
       "    </tr>\n",
       "  </thead>\n",
       "  <tbody>\n",
       "    <tr>\n",
       "      <th>0</th>\n",
       "      <td>Kerluke, Koepp and Hilpert</td>\n",
       "      <td>34456 Sean Highway</td>\n",
       "      <td>New Jaycob</td>\n",
       "      <td>Texas</td>\n",
       "      <td>28752</td>\n",
       "      <td>10000</td>\n",
       "      <td>62000</td>\n",
       "      <td>35000</td>\n",
       "    </tr>\n",
       "    <tr>\n",
       "      <th>3</th>\n",
       "      <td>D'Amore, Gleichner and Bode</td>\n",
       "      <td>155 Fadel Crescent Apt. 144</td>\n",
       "      <td>Hyattburgh</td>\n",
       "      <td>Maine</td>\n",
       "      <td>46021</td>\n",
       "      <td>45000</td>\n",
       "      <td>120000</td>\n",
       "      <td>10000</td>\n",
       "    </tr>\n",
       "    <tr>\n",
       "      <th>4</th>\n",
       "      <td>Bauch-Goldner</td>\n",
       "      <td>7274 Marissa Common</td>\n",
       "      <td>Shanahanchester</td>\n",
       "      <td>California</td>\n",
       "      <td>49681</td>\n",
       "      <td>162000</td>\n",
       "      <td>120000</td>\n",
       "      <td>35000</td>\n",
       "    </tr>\n",
       "    <tr>\n",
       "      <th>5</th>\n",
       "      <td>Williamson, Schumm and Hettinger</td>\n",
       "      <td>89403 Casimer Spring</td>\n",
       "      <td>Jeremieburgh</td>\n",
       "      <td>Arkansas</td>\n",
       "      <td>62785</td>\n",
       "      <td>150000</td>\n",
       "      <td>120000</td>\n",
       "      <td>35000</td>\n",
       "    </tr>\n",
       "    <tr>\n",
       "      <th>6</th>\n",
       "      <td>Casper LLC</td>\n",
       "      <td>340 Consuela Bridge Apt. 400</td>\n",
       "      <td>Lake Gabriellaton</td>\n",
       "      <td>Mississipi</td>\n",
       "      <td>18008</td>\n",
       "      <td>62000</td>\n",
       "      <td>120000</td>\n",
       "      <td>70000</td>\n",
       "    </tr>\n",
       "  </tbody>\n",
       "</table>\n",
       "</div>"
      ],
      "text/plain": [
       "                               name                        street  \\\n",
       "0        Kerluke, Koepp and Hilpert            34456 Sean Highway   \n",
       "3       D'Amore, Gleichner and Bode   155 Fadel Crescent Apt. 144   \n",
       "4                     Bauch-Goldner           7274 Marissa Common   \n",
       "5  Williamson, Schumm and Hettinger          89403 Casimer Spring   \n",
       "6                        Casper LLC  340 Consuela Bridge Apt. 400   \n",
       "\n",
       "                city       state  postal-code     Jan     Feb    Mar  \n",
       "0         New Jaycob       Texas        28752   10000   62000  35000  \n",
       "3         Hyattburgh       Maine        46021   45000  120000  10000  \n",
       "4    Shanahanchester  California        49681  162000  120000  35000  \n",
       "5       Jeremieburgh    Arkansas        62785  150000  120000  35000  \n",
       "6  Lake Gabriellaton  Mississipi        18008   62000  120000  70000  "
      ]
     },
     "execution_count": 60,
     "metadata": {},
     "output_type": "execute_result"
    }
   ],
   "source": [
    "# row 를 drop(없앨 때) / column단위로 없앨 때는 del을 사용\n",
    "\n",
    "# 한개 이상의  Index number로 drop  \n",
    "df.drop([1,2]).head()"
   ]
  },
  {
   "cell_type": "code",
   "execution_count": 64,
   "id": "50e6f08a",
   "metadata": {},
   "outputs": [
    {
     "data": {
      "text/html": [
       "<div>\n",
       "<style scoped>\n",
       "    .dataframe tbody tr th:only-of-type {\n",
       "        vertical-align: middle;\n",
       "    }\n",
       "\n",
       "    .dataframe tbody tr th {\n",
       "        vertical-align: top;\n",
       "    }\n",
       "\n",
       "    .dataframe thead th {\n",
       "        text-align: right;\n",
       "    }\n",
       "</style>\n",
       "<table border=\"1\" class=\"dataframe\">\n",
       "  <thead>\n",
       "    <tr style=\"text-align: right;\">\n",
       "      <th></th>\n",
       "      <th>name</th>\n",
       "      <th>state</th>\n",
       "      <th>postal-code</th>\n",
       "      <th>Jan</th>\n",
       "      <th>Feb</th>\n",
       "      <th>Mar</th>\n",
       "    </tr>\n",
       "  </thead>\n",
       "  <tbody>\n",
       "    <tr>\n",
       "      <th>0</th>\n",
       "      <td>Kerluke, Koepp and Hilpert</td>\n",
       "      <td>Texas</td>\n",
       "      <td>28752</td>\n",
       "      <td>10000</td>\n",
       "      <td>62000</td>\n",
       "      <td>35000</td>\n",
       "    </tr>\n",
       "    <tr>\n",
       "      <th>1</th>\n",
       "      <td>Walter-Trantow</td>\n",
       "      <td>NorthCarolina</td>\n",
       "      <td>38365</td>\n",
       "      <td>95000</td>\n",
       "      <td>45000</td>\n",
       "      <td>35000</td>\n",
       "    </tr>\n",
       "  </tbody>\n",
       "</table>\n",
       "</div>"
      ],
      "text/plain": [
       "                         name          state  postal-code    Jan    Feb    Mar\n",
       "0  Kerluke, Koepp and Hilpert          Texas        28752  10000  62000  35000\n",
       "1              Walter-Trantow  NorthCarolina        38365  95000  45000  35000"
      ]
     },
     "execution_count": 64,
     "metadata": {},
     "output_type": "execute_result"
    }
   ],
   "source": [
    "# axis를 지정해 축을 기준으로 drop \n",
    "\n",
    "# column중 \"city\"를 drop\n",
    "df.drop(\"city\", axis = 1).head(2)\n",
    "df.drop([\"city\",\"street\"], axis = 1).head(2)\n",
    "\n",
    "# inplace = True를 설정해줘야 원본데이터 변환이 가능\n",
    "# df.drop(\"city\", axis = 1, inplace = True).head(2)"
   ]
  },
  {
   "cell_type": "markdown",
   "id": "094a770a",
   "metadata": {},
   "source": [
    "### Series operation"
   ]
  },
  {
   "cell_type": "code",
   "execution_count": 67,
   "id": "9d1e00af",
   "metadata": {},
   "outputs": [
    {
     "data": {
      "text/plain": [
       "a    1\n",
       "b    2\n",
       "c    3\n",
       "e    4\n",
       "d    5\n",
       "dtype: int64"
      ]
     },
     "execution_count": 67,
     "metadata": {},
     "output_type": "execute_result"
    }
   ],
   "source": [
    "s1 = Series(range(1, 6), index = list(\"abced\"))\n",
    "s1"
   ]
  },
  {
   "cell_type": "code",
   "execution_count": 68,
   "id": "8792fd13",
   "metadata": {},
   "outputs": [
    {
     "data": {
      "text/plain": [
       "b     5\n",
       "c     6\n",
       "e     7\n",
       "d     8\n",
       "e     9\n",
       "f    10\n",
       "dtype: int64"
      ]
     },
     "execution_count": 68,
     "metadata": {},
     "output_type": "execute_result"
    }
   ],
   "source": [
    "s2 = Series(range(5, 11), index = list(\"bcedef\"))\n",
    "s2"
   ]
  },
  {
   "cell_type": "code",
   "execution_count": 69,
   "id": "d18d35c1",
   "metadata": {},
   "outputs": [
    {
     "data": {
      "text/plain": [
       "a     NaN\n",
       "b     7.0\n",
       "c     9.0\n",
       "d    13.0\n",
       "e    11.0\n",
       "e    13.0\n",
       "f     NaN\n",
       "dtype: float64"
      ]
     },
     "execution_count": 69,
     "metadata": {},
     "output_type": "execute_result"
    }
   ],
   "source": [
    "s1.add(s2)# 이름이 같은것 끼리 더해주며 존재하지 않는 index는 NaN"
   ]
  },
  {
   "cell_type": "code",
   "execution_count": 70,
   "id": "d06a9a40",
   "metadata": {},
   "outputs": [
    {
     "data": {
      "text/plain": [
       "a     NaN\n",
       "b     7.0\n",
       "c     9.0\n",
       "d    13.0\n",
       "e    11.0\n",
       "e    13.0\n",
       "f     NaN\n",
       "dtype: float64"
      ]
     },
     "execution_count": 70,
     "metadata": {},
     "output_type": "execute_result"
    }
   ],
   "source": [
    "s1 + s2"
   ]
  },
  {
   "cell_type": "markdown",
   "id": "00d9412c",
   "metadata": {},
   "source": [
    "### DataFrame operation"
   ]
  },
  {
   "cell_type": "code",
   "execution_count": 71,
   "id": "06d89e4a",
   "metadata": {},
   "outputs": [
    {
     "data": {
      "text/html": [
       "<div>\n",
       "<style scoped>\n",
       "    .dataframe tbody tr th:only-of-type {\n",
       "        vertical-align: middle;\n",
       "    }\n",
       "\n",
       "    .dataframe tbody tr th {\n",
       "        vertical-align: top;\n",
       "    }\n",
       "\n",
       "    .dataframe thead th {\n",
       "        text-align: right;\n",
       "    }\n",
       "</style>\n",
       "<table border=\"1\" class=\"dataframe\">\n",
       "  <thead>\n",
       "    <tr style=\"text-align: right;\">\n",
       "      <th></th>\n",
       "      <th>a</th>\n",
       "      <th>b</th>\n",
       "      <th>c</th>\n",
       "    </tr>\n",
       "  </thead>\n",
       "  <tbody>\n",
       "    <tr>\n",
       "      <th>0</th>\n",
       "      <td>0</td>\n",
       "      <td>1</td>\n",
       "      <td>2</td>\n",
       "    </tr>\n",
       "    <tr>\n",
       "      <th>1</th>\n",
       "      <td>3</td>\n",
       "      <td>4</td>\n",
       "      <td>5</td>\n",
       "    </tr>\n",
       "    <tr>\n",
       "      <th>2</th>\n",
       "      <td>6</td>\n",
       "      <td>7</td>\n",
       "      <td>8</td>\n",
       "    </tr>\n",
       "  </tbody>\n",
       "</table>\n",
       "</div>"
      ],
      "text/plain": [
       "   a  b  c\n",
       "0  0  1  2\n",
       "1  3  4  5\n",
       "2  6  7  8"
      ]
     },
     "execution_count": 71,
     "metadata": {},
     "output_type": "execute_result"
    }
   ],
   "source": [
    "df1 = DataFrame(\n",
    "    np.arange(9).reshape(3,3), \n",
    "    columns=list(\"abc\"))\n",
    "df1"
   ]
  },
  {
   "cell_type": "code",
   "execution_count": 72,
   "id": "90a989a5",
   "metadata": {},
   "outputs": [
    {
     "data": {
      "text/html": [
       "<div>\n",
       "<style scoped>\n",
       "    .dataframe tbody tr th:only-of-type {\n",
       "        vertical-align: middle;\n",
       "    }\n",
       "\n",
       "    .dataframe tbody tr th {\n",
       "        vertical-align: top;\n",
       "    }\n",
       "\n",
       "    .dataframe thead th {\n",
       "        text-align: right;\n",
       "    }\n",
       "</style>\n",
       "<table border=\"1\" class=\"dataframe\">\n",
       "  <thead>\n",
       "    <tr style=\"text-align: right;\">\n",
       "      <th></th>\n",
       "      <th>a</th>\n",
       "      <th>b</th>\n",
       "      <th>c</th>\n",
       "      <th>d</th>\n",
       "    </tr>\n",
       "  </thead>\n",
       "  <tbody>\n",
       "    <tr>\n",
       "      <th>0</th>\n",
       "      <td>0</td>\n",
       "      <td>1</td>\n",
       "      <td>2</td>\n",
       "      <td>3</td>\n",
       "    </tr>\n",
       "    <tr>\n",
       "      <th>1</th>\n",
       "      <td>4</td>\n",
       "      <td>5</td>\n",
       "      <td>6</td>\n",
       "      <td>7</td>\n",
       "    </tr>\n",
       "    <tr>\n",
       "      <th>2</th>\n",
       "      <td>8</td>\n",
       "      <td>9</td>\n",
       "      <td>10</td>\n",
       "      <td>11</td>\n",
       "    </tr>\n",
       "    <tr>\n",
       "      <th>3</th>\n",
       "      <td>12</td>\n",
       "      <td>13</td>\n",
       "      <td>14</td>\n",
       "      <td>15</td>\n",
       "    </tr>\n",
       "  </tbody>\n",
       "</table>\n",
       "</div>"
      ],
      "text/plain": [
       "    a   b   c   d\n",
       "0   0   1   2   3\n",
       "1   4   5   6   7\n",
       "2   8   9  10  11\n",
       "3  12  13  14  15"
      ]
     },
     "execution_count": 72,
     "metadata": {},
     "output_type": "execute_result"
    }
   ],
   "source": [
    "df2 = DataFrame(\n",
    "    np.arange(16).reshape(4,4), \n",
    "    columns=list(\"abcd\"))\n",
    "df2"
   ]
  },
  {
   "cell_type": "markdown",
   "id": "0c2dadcc",
   "metadata": {},
   "source": [
    "#### df 는 column과 index를 모두 고려 add operation을 쓰면 NaN값 0으로 변환  add, sub, div ,mul등 이 있다."
   ]
  },
  {
   "cell_type": "code",
   "execution_count": 73,
   "id": "2d10a9d9",
   "metadata": {},
   "outputs": [
    {
     "data": {
      "text/html": [
       "<div>\n",
       "<style scoped>\n",
       "    .dataframe tbody tr th:only-of-type {\n",
       "        vertical-align: middle;\n",
       "    }\n",
       "\n",
       "    .dataframe tbody tr th {\n",
       "        vertical-align: top;\n",
       "    }\n",
       "\n",
       "    .dataframe thead th {\n",
       "        text-align: right;\n",
       "    }\n",
       "</style>\n",
       "<table border=\"1\" class=\"dataframe\">\n",
       "  <thead>\n",
       "    <tr style=\"text-align: right;\">\n",
       "      <th></th>\n",
       "      <th>a</th>\n",
       "      <th>b</th>\n",
       "      <th>c</th>\n",
       "      <th>d</th>\n",
       "    </tr>\n",
       "  </thead>\n",
       "  <tbody>\n",
       "    <tr>\n",
       "      <th>0</th>\n",
       "      <td>0.0</td>\n",
       "      <td>2.0</td>\n",
       "      <td>4.0</td>\n",
       "      <td>NaN</td>\n",
       "    </tr>\n",
       "    <tr>\n",
       "      <th>1</th>\n",
       "      <td>7.0</td>\n",
       "      <td>9.0</td>\n",
       "      <td>11.0</td>\n",
       "      <td>NaN</td>\n",
       "    </tr>\n",
       "    <tr>\n",
       "      <th>2</th>\n",
       "      <td>14.0</td>\n",
       "      <td>16.0</td>\n",
       "      <td>18.0</td>\n",
       "      <td>NaN</td>\n",
       "    </tr>\n",
       "    <tr>\n",
       "      <th>3</th>\n",
       "      <td>NaN</td>\n",
       "      <td>NaN</td>\n",
       "      <td>NaN</td>\n",
       "      <td>NaN</td>\n",
       "    </tr>\n",
       "  </tbody>\n",
       "</table>\n",
       "</div>"
      ],
      "text/plain": [
       "      a     b     c   d\n",
       "0   0.0   2.0   4.0 NaN\n",
       "1   7.0   9.0  11.0 NaN\n",
       "2  14.0  16.0  18.0 NaN\n",
       "3   NaN   NaN   NaN NaN"
      ]
     },
     "execution_count": 73,
     "metadata": {},
     "output_type": "execute_result"
    }
   ],
   "source": [
    "df1 + df2"
   ]
  },
  {
   "cell_type": "code",
   "execution_count": 76,
   "id": "ef89e4da",
   "metadata": {},
   "outputs": [
    {
     "data": {
      "text/html": [
       "<div>\n",
       "<style scoped>\n",
       "    .dataframe tbody tr th:only-of-type {\n",
       "        vertical-align: middle;\n",
       "    }\n",
       "\n",
       "    .dataframe tbody tr th {\n",
       "        vertical-align: top;\n",
       "    }\n",
       "\n",
       "    .dataframe thead th {\n",
       "        text-align: right;\n",
       "    }\n",
       "</style>\n",
       "<table border=\"1\" class=\"dataframe\">\n",
       "  <thead>\n",
       "    <tr style=\"text-align: right;\">\n",
       "      <th></th>\n",
       "      <th>a</th>\n",
       "      <th>b</th>\n",
       "      <th>c</th>\n",
       "      <th>d</th>\n",
       "    </tr>\n",
       "  </thead>\n",
       "  <tbody>\n",
       "    <tr>\n",
       "      <th>0</th>\n",
       "      <td>0.0</td>\n",
       "      <td>2.0</td>\n",
       "      <td>4.0</td>\n",
       "      <td>3.0</td>\n",
       "    </tr>\n",
       "    <tr>\n",
       "      <th>1</th>\n",
       "      <td>7.0</td>\n",
       "      <td>9.0</td>\n",
       "      <td>11.0</td>\n",
       "      <td>7.0</td>\n",
       "    </tr>\n",
       "    <tr>\n",
       "      <th>2</th>\n",
       "      <td>14.0</td>\n",
       "      <td>16.0</td>\n",
       "      <td>18.0</td>\n",
       "      <td>11.0</td>\n",
       "    </tr>\n",
       "    <tr>\n",
       "      <th>3</th>\n",
       "      <td>12.0</td>\n",
       "      <td>13.0</td>\n",
       "      <td>14.0</td>\n",
       "      <td>15.0</td>\n",
       "    </tr>\n",
       "  </tbody>\n",
       "</table>\n",
       "</div>"
      ],
      "text/plain": [
       "      a     b     c     d\n",
       "0   0.0   2.0   4.0   3.0\n",
       "1   7.0   9.0  11.0   7.0\n",
       "2  14.0  16.0  18.0  11.0\n",
       "3  12.0  13.0  14.0  15.0"
      ]
     },
     "execution_count": 76,
     "metadata": {},
     "output_type": "execute_result"
    }
   ],
   "source": [
    "df1.add(df2, fill_value = 0) # 없는 값에는 0을 더해줌"
   ]
  },
  {
   "cell_type": "markdown",
   "id": "ed30393c",
   "metadata": {},
   "source": [
    "### Series + Dataframe"
   ]
  },
  {
   "cell_type": "code",
   "execution_count": 77,
   "id": "926f5b00",
   "metadata": {},
   "outputs": [
    {
     "data": {
      "text/html": [
       "<div>\n",
       "<style scoped>\n",
       "    .dataframe tbody tr th:only-of-type {\n",
       "        vertical-align: middle;\n",
       "    }\n",
       "\n",
       "    .dataframe tbody tr th {\n",
       "        vertical-align: top;\n",
       "    }\n",
       "\n",
       "    .dataframe thead th {\n",
       "        text-align: right;\n",
       "    }\n",
       "</style>\n",
       "<table border=\"1\" class=\"dataframe\">\n",
       "  <thead>\n",
       "    <tr style=\"text-align: right;\">\n",
       "      <th></th>\n",
       "      <th>a</th>\n",
       "      <th>b</th>\n",
       "      <th>c</th>\n",
       "      <th>d</th>\n",
       "    </tr>\n",
       "  </thead>\n",
       "  <tbody>\n",
       "    <tr>\n",
       "      <th>0</th>\n",
       "      <td>0</td>\n",
       "      <td>1</td>\n",
       "      <td>2</td>\n",
       "      <td>3</td>\n",
       "    </tr>\n",
       "    <tr>\n",
       "      <th>1</th>\n",
       "      <td>4</td>\n",
       "      <td>5</td>\n",
       "      <td>6</td>\n",
       "      <td>7</td>\n",
       "    </tr>\n",
       "    <tr>\n",
       "      <th>2</th>\n",
       "      <td>8</td>\n",
       "      <td>9</td>\n",
       "      <td>10</td>\n",
       "      <td>11</td>\n",
       "    </tr>\n",
       "    <tr>\n",
       "      <th>3</th>\n",
       "      <td>12</td>\n",
       "      <td>13</td>\n",
       "      <td>14</td>\n",
       "      <td>15</td>\n",
       "    </tr>\n",
       "  </tbody>\n",
       "</table>\n",
       "</div>"
      ],
      "text/plain": [
       "    a   b   c   d\n",
       "0   0   1   2   3\n",
       "1   4   5   6   7\n",
       "2   8   9  10  11\n",
       "3  12  13  14  15"
      ]
     },
     "execution_count": 77,
     "metadata": {},
     "output_type": "execute_result"
    }
   ],
   "source": [
    "df = DataFrame(\n",
    "    np.arange(16).reshape(4,4), \n",
    "    columns=list(\"abcd\"))\n",
    "df"
   ]
  },
  {
   "cell_type": "code",
   "execution_count": 78,
   "id": "94a64cd1",
   "metadata": {},
   "outputs": [
    {
     "data": {
      "text/plain": [
       "a    10\n",
       "b    11\n",
       "c    12\n",
       "d    13\n",
       "dtype: int32"
      ]
     },
     "execution_count": 78,
     "metadata": {},
     "output_type": "execute_result"
    }
   ],
   "source": [
    "s = Series(\n",
    "    np.arange(10,14), \n",
    "    index=list(\"abcd\"))\n",
    "s"
   ]
  },
  {
   "cell_type": "code",
   "execution_count": 79,
   "id": "6072bdc4",
   "metadata": {},
   "outputs": [
    {
     "data": {
      "text/html": [
       "<div>\n",
       "<style scoped>\n",
       "    .dataframe tbody tr th:only-of-type {\n",
       "        vertical-align: middle;\n",
       "    }\n",
       "\n",
       "    .dataframe tbody tr th {\n",
       "        vertical-align: top;\n",
       "    }\n",
       "\n",
       "    .dataframe thead th {\n",
       "        text-align: right;\n",
       "    }\n",
       "</style>\n",
       "<table border=\"1\" class=\"dataframe\">\n",
       "  <thead>\n",
       "    <tr style=\"text-align: right;\">\n",
       "      <th></th>\n",
       "      <th>a</th>\n",
       "      <th>b</th>\n",
       "      <th>c</th>\n",
       "      <th>d</th>\n",
       "    </tr>\n",
       "  </thead>\n",
       "  <tbody>\n",
       "    <tr>\n",
       "      <th>0</th>\n",
       "      <td>10</td>\n",
       "      <td>12</td>\n",
       "      <td>14</td>\n",
       "      <td>16</td>\n",
       "    </tr>\n",
       "    <tr>\n",
       "      <th>1</th>\n",
       "      <td>14</td>\n",
       "      <td>16</td>\n",
       "      <td>18</td>\n",
       "      <td>20</td>\n",
       "    </tr>\n",
       "    <tr>\n",
       "      <th>2</th>\n",
       "      <td>18</td>\n",
       "      <td>20</td>\n",
       "      <td>22</td>\n",
       "      <td>24</td>\n",
       "    </tr>\n",
       "    <tr>\n",
       "      <th>3</th>\n",
       "      <td>22</td>\n",
       "      <td>24</td>\n",
       "      <td>26</td>\n",
       "      <td>28</td>\n",
       "    </tr>\n",
       "  </tbody>\n",
       "</table>\n",
       "</div>"
      ],
      "text/plain": [
       "    a   b   c   d\n",
       "0  10  12  14  16\n",
       "1  14  16  18  20\n",
       "2  18  20  22  24\n",
       "3  22  24  26  28"
      ]
     },
     "execution_count": 79,
     "metadata": {},
     "output_type": "execute_result"
    }
   ],
   "source": [
    "# column을 기준으로 broadcastiong이 발생\n",
    "df + s"
   ]
  },
  {
   "cell_type": "code",
   "execution_count": 82,
   "id": "339197f4",
   "metadata": {},
   "outputs": [
    {
     "data": {
      "text/html": [
       "<div>\n",
       "<style scoped>\n",
       "    .dataframe tbody tr th:only-of-type {\n",
       "        vertical-align: middle;\n",
       "    }\n",
       "\n",
       "    .dataframe tbody tr th {\n",
       "        vertical-align: top;\n",
       "    }\n",
       "\n",
       "    .dataframe thead th {\n",
       "        text-align: right;\n",
       "    }\n",
       "</style>\n",
       "<table border=\"1\" class=\"dataframe\">\n",
       "  <thead>\n",
       "    <tr style=\"text-align: right;\">\n",
       "      <th></th>\n",
       "      <th>a</th>\n",
       "      <th>b</th>\n",
       "      <th>c</th>\n",
       "      <th>d</th>\n",
       "    </tr>\n",
       "  </thead>\n",
       "  <tbody>\n",
       "    <tr>\n",
       "      <th>0</th>\n",
       "      <td>10</td>\n",
       "      <td>11</td>\n",
       "      <td>12</td>\n",
       "      <td>13</td>\n",
       "    </tr>\n",
       "    <tr>\n",
       "      <th>1</th>\n",
       "      <td>15</td>\n",
       "      <td>16</td>\n",
       "      <td>17</td>\n",
       "      <td>18</td>\n",
       "    </tr>\n",
       "    <tr>\n",
       "      <th>2</th>\n",
       "      <td>20</td>\n",
       "      <td>21</td>\n",
       "      <td>22</td>\n",
       "      <td>23</td>\n",
       "    </tr>\n",
       "    <tr>\n",
       "      <th>3</th>\n",
       "      <td>25</td>\n",
       "      <td>26</td>\n",
       "      <td>27</td>\n",
       "      <td>28</td>\n",
       "    </tr>\n",
       "  </tbody>\n",
       "</table>\n",
       "</div>"
      ],
      "text/plain": [
       "    a   b   c   d\n",
       "0  10  11  12  13\n",
       "1  15  16  17  18\n",
       "2  20  21  22  23\n",
       "3  25  26  27  28"
      ]
     },
     "execution_count": 82,
     "metadata": {},
     "output_type": "execute_result"
    }
   ],
   "source": [
    "# axis를 기준으로 row broadcastion 실행\n",
    "s2 = Series(np.arange(10,14))\n",
    "df.add(s2, axis= 0)"
   ]
  },
  {
   "cell_type": "markdown",
   "id": "a373398a",
   "metadata": {},
   "source": [
    "## lambda, map, apply\n",
    "- Pandas에서 편하게 자주 사용"
   ]
  },
  {
   "cell_type": "markdown",
   "id": "ce793b2c",
   "metadata": {},
   "source": [
    "### map for series\n",
    "- pandas의 series type의 데이터에도 map 함수 사용가능\n",
    "- function 대신 dict, sequence형 자료등으로 대체 가능"
   ]
  },
  {
   "cell_type": "code",
   "execution_count": 83,
   "id": "1738ae17",
   "metadata": {},
   "outputs": [
    {
     "data": {
      "text/plain": [
       "0    0\n",
       "1    1\n",
       "2    2\n",
       "3    3\n",
       "4    4\n",
       "dtype: int32"
      ]
     },
     "execution_count": 83,
     "metadata": {},
     "output_type": "execute_result"
    }
   ],
   "source": [
    "s1 = Series(np.arange(10))\n",
    "s1.head(5)"
   ]
  },
  {
   "cell_type": "code",
   "execution_count": 84,
   "id": "1c30581e",
   "metadata": {},
   "outputs": [
    {
     "data": {
      "text/plain": [
       "0     0\n",
       "1     1\n",
       "2     4\n",
       "3     9\n",
       "4    16\n",
       "dtype: int64"
      ]
     },
     "execution_count": 84,
     "metadata": {},
     "output_type": "execute_result"
    }
   ],
   "source": [
    "s1.map(lambda x : x**2).head(5)"
   ]
  },
  {
   "cell_type": "code",
   "execution_count": 86,
   "id": "6bd74e1b",
   "metadata": {},
   "outputs": [
    {
     "data": {
      "text/plain": [
       "0    NaN\n",
       "1      A\n",
       "2      B\n",
       "3      C\n",
       "4    NaN\n",
       "5    NaN\n",
       "6    NaN\n",
       "7    NaN\n",
       "8    NaN\n",
       "9    NaN\n",
       "dtype: object"
      ]
     },
     "execution_count": 86,
     "metadata": {},
     "output_type": "execute_result"
    }
   ],
   "source": [
    "# 자주사용!!!\n",
    "# map에 dict를 적용해 값을 key에 맞는 index의 Data 변환\n",
    "z = {1: 'A', 2: 'B', 3: 'C'}\n",
    "s1.map(z)"
   ]
  },
  {
   "cell_type": "code",
   "execution_count": 88,
   "id": "d37c3826",
   "metadata": {
    "scrolled": true
   },
   "outputs": [
    {
     "data": {
      "text/plain": [
       "0    10\n",
       "1    11\n",
       "2    12\n",
       "3    13\n",
       "4    14\n",
       "5    15\n",
       "6    16\n",
       "7    17\n",
       "8    18\n",
       "9    19\n",
       "dtype: int32"
      ]
     },
     "execution_count": 88,
     "metadata": {},
     "output_type": "execute_result"
    }
   ],
   "source": [
    "s2 = Series(np.arange(10, 20))\n",
    "s1.map(s2) # s1의 각 index Data를 s2해당 index Data로 변경"
   ]
  },
  {
   "cell_type": "markdown",
   "id": "3c86ed77",
   "metadata": {},
   "source": [
    "## Example\n",
    "- map에 dict를 적용 하는 예시\n",
    "- 분석 시 문자를 숫자로 변환"
   ]
  },
  {
   "cell_type": "code",
   "execution_count": 90,
   "id": "0f05fb88",
   "metadata": {},
   "outputs": [
    {
     "data": {
      "text/html": [
       "<div>\n",
       "<style scoped>\n",
       "    .dataframe tbody tr th:only-of-type {\n",
       "        vertical-align: middle;\n",
       "    }\n",
       "\n",
       "    .dataframe tbody tr th {\n",
       "        vertical-align: top;\n",
       "    }\n",
       "\n",
       "    .dataframe thead th {\n",
       "        text-align: right;\n",
       "    }\n",
       "</style>\n",
       "<table border=\"1\" class=\"dataframe\">\n",
       "  <thead>\n",
       "    <tr style=\"text-align: right;\">\n",
       "      <th></th>\n",
       "      <th>earn</th>\n",
       "      <th>height</th>\n",
       "      <th>sex</th>\n",
       "      <th>race</th>\n",
       "      <th>ed</th>\n",
       "      <th>age</th>\n",
       "    </tr>\n",
       "  </thead>\n",
       "  <tbody>\n",
       "    <tr>\n",
       "      <th>0</th>\n",
       "      <td>79571.299011</td>\n",
       "      <td>73.89</td>\n",
       "      <td>male</td>\n",
       "      <td>white</td>\n",
       "      <td>16</td>\n",
       "      <td>49</td>\n",
       "    </tr>\n",
       "    <tr>\n",
       "      <th>1</th>\n",
       "      <td>96396.988643</td>\n",
       "      <td>66.23</td>\n",
       "      <td>female</td>\n",
       "      <td>white</td>\n",
       "      <td>16</td>\n",
       "      <td>62</td>\n",
       "    </tr>\n",
       "    <tr>\n",
       "      <th>2</th>\n",
       "      <td>48710.666947</td>\n",
       "      <td>63.77</td>\n",
       "      <td>female</td>\n",
       "      <td>white</td>\n",
       "      <td>16</td>\n",
       "      <td>33</td>\n",
       "    </tr>\n",
       "    <tr>\n",
       "      <th>3</th>\n",
       "      <td>80478.096153</td>\n",
       "      <td>63.22</td>\n",
       "      <td>female</td>\n",
       "      <td>other</td>\n",
       "      <td>16</td>\n",
       "      <td>95</td>\n",
       "    </tr>\n",
       "    <tr>\n",
       "      <th>4</th>\n",
       "      <td>82089.345498</td>\n",
       "      <td>63.08</td>\n",
       "      <td>female</td>\n",
       "      <td>white</td>\n",
       "      <td>17</td>\n",
       "      <td>43</td>\n",
       "    </tr>\n",
       "  </tbody>\n",
       "</table>\n",
       "</div>"
      ],
      "text/plain": [
       "           earn  height     sex   race  ed  age\n",
       "0  79571.299011   73.89    male  white  16   49\n",
       "1  96396.988643   66.23  female  white  16   62\n",
       "2  48710.666947   63.77  female  white  16   33\n",
       "3  80478.096153   63.22  female  other  16   95\n",
       "4  82089.345498   63.08  female  white  17   43"
      ]
     },
     "execution_count": 90,
     "metadata": {},
     "output_type": "execute_result"
    }
   ],
   "source": [
    "df = pd.read_csv(\"wages.csv\")\n",
    "df.head() "
   ]
  },
  {
   "cell_type": "code",
   "execution_count": 91,
   "id": "7fc9cc85",
   "metadata": {},
   "outputs": [
    {
     "data": {
      "text/plain": [
       "array(['male', 'female'], dtype=object)"
      ]
     },
     "execution_count": 91,
     "metadata": {},
     "output_type": "execute_result"
    }
   ],
   "source": [
    "df.sex.unique()"
   ]
  },
  {
   "cell_type": "code",
   "execution_count": 92,
   "id": "bc4b8dfe",
   "metadata": {},
   "outputs": [
    {
     "data": {
      "text/html": [
       "<div>\n",
       "<style scoped>\n",
       "    .dataframe tbody tr th:only-of-type {\n",
       "        vertical-align: middle;\n",
       "    }\n",
       "\n",
       "    .dataframe tbody tr th {\n",
       "        vertical-align: top;\n",
       "    }\n",
       "\n",
       "    .dataframe thead th {\n",
       "        text-align: right;\n",
       "    }\n",
       "</style>\n",
       "<table border=\"1\" class=\"dataframe\">\n",
       "  <thead>\n",
       "    <tr style=\"text-align: right;\">\n",
       "      <th></th>\n",
       "      <th>earn</th>\n",
       "      <th>height</th>\n",
       "      <th>sex</th>\n",
       "      <th>race</th>\n",
       "      <th>ed</th>\n",
       "      <th>age</th>\n",
       "      <th>sex_code</th>\n",
       "    </tr>\n",
       "  </thead>\n",
       "  <tbody>\n",
       "    <tr>\n",
       "      <th>0</th>\n",
       "      <td>79571.299011</td>\n",
       "      <td>73.89</td>\n",
       "      <td>male</td>\n",
       "      <td>white</td>\n",
       "      <td>16</td>\n",
       "      <td>49</td>\n",
       "      <td>0</td>\n",
       "    </tr>\n",
       "    <tr>\n",
       "      <th>1</th>\n",
       "      <td>96396.988643</td>\n",
       "      <td>66.23</td>\n",
       "      <td>female</td>\n",
       "      <td>white</td>\n",
       "      <td>16</td>\n",
       "      <td>62</td>\n",
       "      <td>1</td>\n",
       "    </tr>\n",
       "    <tr>\n",
       "      <th>2</th>\n",
       "      <td>48710.666947</td>\n",
       "      <td>63.77</td>\n",
       "      <td>female</td>\n",
       "      <td>white</td>\n",
       "      <td>16</td>\n",
       "      <td>33</td>\n",
       "      <td>1</td>\n",
       "    </tr>\n",
       "    <tr>\n",
       "      <th>3</th>\n",
       "      <td>80478.096153</td>\n",
       "      <td>63.22</td>\n",
       "      <td>female</td>\n",
       "      <td>other</td>\n",
       "      <td>16</td>\n",
       "      <td>95</td>\n",
       "      <td>1</td>\n",
       "    </tr>\n",
       "    <tr>\n",
       "      <th>4</th>\n",
       "      <td>82089.345498</td>\n",
       "      <td>63.08</td>\n",
       "      <td>female</td>\n",
       "      <td>white</td>\n",
       "      <td>17</td>\n",
       "      <td>43</td>\n",
       "      <td>1</td>\n",
       "    </tr>\n",
       "  </tbody>\n",
       "</table>\n",
       "</div>"
      ],
      "text/plain": [
       "           earn  height     sex   race  ed  age  sex_code\n",
       "0  79571.299011   73.89    male  white  16   49         0\n",
       "1  96396.988643   66.23  female  white  16   62         1\n",
       "2  48710.666947   63.77  female  white  16   33         1\n",
       "3  80478.096153   63.22  female  other  16   95         1\n",
       "4  82089.345498   63.08  female  white  17   43         1"
      ]
     },
     "execution_count": 92,
     "metadata": {},
     "output_type": "execute_result"
    }
   ],
   "source": [
    "df[\"sex_code\"] = df.sex.map({\"male\" : 0, \"female\" : 1}) # 성별을 0 1로 변경\n",
    "df.head(5)"
   ]
  },
  {
   "cell_type": "code",
   "execution_count": 94,
   "id": "9e0031ae",
   "metadata": {},
   "outputs": [
    {
     "data": {
      "text/html": [
       "<div>\n",
       "<style scoped>\n",
       "    .dataframe tbody tr th:only-of-type {\n",
       "        vertical-align: middle;\n",
       "    }\n",
       "\n",
       "    .dataframe tbody tr th {\n",
       "        vertical-align: top;\n",
       "    }\n",
       "\n",
       "    .dataframe thead th {\n",
       "        text-align: right;\n",
       "    }\n",
       "</style>\n",
       "<table border=\"1\" class=\"dataframe\">\n",
       "  <thead>\n",
       "    <tr style=\"text-align: right;\">\n",
       "      <th></th>\n",
       "      <th>earn</th>\n",
       "      <th>height</th>\n",
       "      <th>sex</th>\n",
       "      <th>race</th>\n",
       "      <th>ed</th>\n",
       "      <th>age</th>\n",
       "      <th>sex_code</th>\n",
       "    </tr>\n",
       "  </thead>\n",
       "  <tbody>\n",
       "    <tr>\n",
       "      <th>0</th>\n",
       "      <td>79571.299011</td>\n",
       "      <td>73.89</td>\n",
       "      <td>0</td>\n",
       "      <td>white</td>\n",
       "      <td>16</td>\n",
       "      <td>49</td>\n",
       "      <td>0</td>\n",
       "    </tr>\n",
       "    <tr>\n",
       "      <th>1</th>\n",
       "      <td>96396.988643</td>\n",
       "      <td>66.23</td>\n",
       "      <td>1</td>\n",
       "      <td>white</td>\n",
       "      <td>16</td>\n",
       "      <td>62</td>\n",
       "      <td>1</td>\n",
       "    </tr>\n",
       "    <tr>\n",
       "      <th>2</th>\n",
       "      <td>48710.666947</td>\n",
       "      <td>63.77</td>\n",
       "      <td>1</td>\n",
       "      <td>white</td>\n",
       "      <td>16</td>\n",
       "      <td>33</td>\n",
       "      <td>1</td>\n",
       "    </tr>\n",
       "    <tr>\n",
       "      <th>3</th>\n",
       "      <td>80478.096153</td>\n",
       "      <td>63.22</td>\n",
       "      <td>1</td>\n",
       "      <td>other</td>\n",
       "      <td>16</td>\n",
       "      <td>95</td>\n",
       "      <td>1</td>\n",
       "    </tr>\n",
       "    <tr>\n",
       "      <th>4</th>\n",
       "      <td>82089.345498</td>\n",
       "      <td>63.08</td>\n",
       "      <td>1</td>\n",
       "      <td>white</td>\n",
       "      <td>17</td>\n",
       "      <td>43</td>\n",
       "      <td>1</td>\n",
       "    </tr>\n",
       "  </tbody>\n",
       "</table>\n",
       "</div>"
      ],
      "text/plain": [
       "           earn  height  sex   race  ed  age  sex_code\n",
       "0  79571.299011   73.89    0  white  16   49         0\n",
       "1  96396.988643   66.23    1  white  16   62         1\n",
       "2  48710.666947   63.77    1  white  16   33         1\n",
       "3  80478.096153   63.22    1  other  16   95         1\n",
       "4  82089.345498   63.08    1  white  17   43         1"
      ]
     },
     "execution_count": 94,
     "metadata": {},
     "output_type": "execute_result"
    }
   ],
   "source": [
    "# replace로도 사용가능\n",
    "df.replace({\"male\" : 0, \"female\" : 1}).head()"
   ]
  },
  {
   "cell_type": "code",
   "execution_count": 97,
   "id": "28eb75b6",
   "metadata": {},
   "outputs": [
    {
     "data": {
      "text/html": [
       "<div>\n",
       "<style scoped>\n",
       "    .dataframe tbody tr th:only-of-type {\n",
       "        vertical-align: middle;\n",
       "    }\n",
       "\n",
       "    .dataframe tbody tr th {\n",
       "        vertical-align: top;\n",
       "    }\n",
       "\n",
       "    .dataframe thead th {\n",
       "        text-align: right;\n",
       "    }\n",
       "</style>\n",
       "<table border=\"1\" class=\"dataframe\">\n",
       "  <thead>\n",
       "    <tr style=\"text-align: right;\">\n",
       "      <th></th>\n",
       "      <th>earn</th>\n",
       "      <th>height</th>\n",
       "      <th>sex</th>\n",
       "      <th>race</th>\n",
       "      <th>ed</th>\n",
       "      <th>age</th>\n",
       "      <th>sex_code</th>\n",
       "    </tr>\n",
       "  </thead>\n",
       "  <tbody>\n",
       "    <tr>\n",
       "      <th>0</th>\n",
       "      <td>79571.299011</td>\n",
       "      <td>73.89</td>\n",
       "      <td>0</td>\n",
       "      <td>white</td>\n",
       "      <td>16</td>\n",
       "      <td>49</td>\n",
       "      <td>0</td>\n",
       "    </tr>\n",
       "    <tr>\n",
       "      <th>1</th>\n",
       "      <td>96396.988643</td>\n",
       "      <td>66.23</td>\n",
       "      <td>1</td>\n",
       "      <td>white</td>\n",
       "      <td>16</td>\n",
       "      <td>62</td>\n",
       "      <td>1</td>\n",
       "    </tr>\n",
       "    <tr>\n",
       "      <th>2</th>\n",
       "      <td>48710.666947</td>\n",
       "      <td>63.77</td>\n",
       "      <td>1</td>\n",
       "      <td>white</td>\n",
       "      <td>16</td>\n",
       "      <td>33</td>\n",
       "      <td>1</td>\n",
       "    </tr>\n",
       "    <tr>\n",
       "      <th>3</th>\n",
       "      <td>80478.096153</td>\n",
       "      <td>63.22</td>\n",
       "      <td>1</td>\n",
       "      <td>other</td>\n",
       "      <td>16</td>\n",
       "      <td>95</td>\n",
       "      <td>1</td>\n",
       "    </tr>\n",
       "    <tr>\n",
       "      <th>4</th>\n",
       "      <td>82089.345498</td>\n",
       "      <td>63.08</td>\n",
       "      <td>1</td>\n",
       "      <td>white</td>\n",
       "      <td>17</td>\n",
       "      <td>43</td>\n",
       "      <td>1</td>\n",
       "    </tr>\n",
       "  </tbody>\n",
       "</table>\n",
       "</div>"
      ],
      "text/plain": [
       "           earn  height  sex   race  ed  age  sex_code\n",
       "0  79571.299011   73.89    0  white  16   49         0\n",
       "1  96396.988643   66.23    1  white  16   62         1\n",
       "2  48710.666947   63.77    1  white  16   33         1\n",
       "3  80478.096153   63.22    1  other  16   95         1\n",
       "4  82089.345498   63.08    1  white  17   43         1"
      ]
     },
     "execution_count": 97,
     "metadata": {},
     "output_type": "execute_result"
    }
   ],
   "source": [
    "# replace list로 사용\n",
    "df.replace([\"male\", \"female\"],[0,1],inplace = True)\n",
    "df.head()"
   ]
  },
  {
   "cell_type": "code",
   "execution_count": 98,
   "id": "feede6f2",
   "metadata": {},
   "outputs": [
    {
     "data": {
      "text/html": [
       "<div>\n",
       "<style scoped>\n",
       "    .dataframe tbody tr th:only-of-type {\n",
       "        vertical-align: middle;\n",
       "    }\n",
       "\n",
       "    .dataframe tbody tr th {\n",
       "        vertical-align: top;\n",
       "    }\n",
       "\n",
       "    .dataframe thead th {\n",
       "        text-align: right;\n",
       "    }\n",
       "</style>\n",
       "<table border=\"1\" class=\"dataframe\">\n",
       "  <thead>\n",
       "    <tr style=\"text-align: right;\">\n",
       "      <th></th>\n",
       "      <th>earn</th>\n",
       "      <th>height</th>\n",
       "      <th>sex</th>\n",
       "      <th>race</th>\n",
       "      <th>ed</th>\n",
       "      <th>age</th>\n",
       "    </tr>\n",
       "  </thead>\n",
       "  <tbody>\n",
       "    <tr>\n",
       "      <th>0</th>\n",
       "      <td>79571.299011</td>\n",
       "      <td>73.89</td>\n",
       "      <td>0</td>\n",
       "      <td>white</td>\n",
       "      <td>16</td>\n",
       "      <td>49</td>\n",
       "    </tr>\n",
       "    <tr>\n",
       "      <th>1</th>\n",
       "      <td>96396.988643</td>\n",
       "      <td>66.23</td>\n",
       "      <td>1</td>\n",
       "      <td>white</td>\n",
       "      <td>16</td>\n",
       "      <td>62</td>\n",
       "    </tr>\n",
       "    <tr>\n",
       "      <th>2</th>\n",
       "      <td>48710.666947</td>\n",
       "      <td>63.77</td>\n",
       "      <td>1</td>\n",
       "      <td>white</td>\n",
       "      <td>16</td>\n",
       "      <td>33</td>\n",
       "    </tr>\n",
       "    <tr>\n",
       "      <th>3</th>\n",
       "      <td>80478.096153</td>\n",
       "      <td>63.22</td>\n",
       "      <td>1</td>\n",
       "      <td>other</td>\n",
       "      <td>16</td>\n",
       "      <td>95</td>\n",
       "    </tr>\n",
       "    <tr>\n",
       "      <th>4</th>\n",
       "      <td>82089.345498</td>\n",
       "      <td>63.08</td>\n",
       "      <td>1</td>\n",
       "      <td>white</td>\n",
       "      <td>17</td>\n",
       "      <td>43</td>\n",
       "    </tr>\n",
       "  </tbody>\n",
       "</table>\n",
       "</div>"
      ],
      "text/plain": [
       "           earn  height  sex   race  ed  age\n",
       "0  79571.299011   73.89    0  white  16   49\n",
       "1  96396.988643   66.23    1  white  16   62\n",
       "2  48710.666947   63.77    1  white  16   33\n",
       "3  80478.096153   63.22    1  other  16   95\n",
       "4  82089.345498   63.08    1  white  17   43"
      ]
     },
     "execution_count": 98,
     "metadata": {},
     "output_type": "execute_result"
    }
   ],
   "source": [
    "del df[\"sex_code\"]\n",
    "df.head()"
   ]
  },
  {
   "cell_type": "markdown",
   "id": "29d96481",
   "metadata": {},
   "source": [
    "### apply for dataframe\n",
    "- map과 달리, series 전체(column)에 해당 함수를 적용\n",
    "- 입력값이 series 데이터로 입력받아 handling 가능\n",
    "- 내장 연산 함수를 사용할 때도 똑같은 효과를 거둘 수 있음\n",
    "- mean, std등 사용가능\n",
    "- scalar 값 이외에 series값의 반환도 가능함"
   ]
  },
  {
   "cell_type": "code",
   "execution_count": 99,
   "id": "8b239c93",
   "metadata": {},
   "outputs": [
    {
     "data": {
      "text/html": [
       "<div>\n",
       "<style scoped>\n",
       "    .dataframe tbody tr th:only-of-type {\n",
       "        vertical-align: middle;\n",
       "    }\n",
       "\n",
       "    .dataframe tbody tr th {\n",
       "        vertical-align: top;\n",
       "    }\n",
       "\n",
       "    .dataframe thead th {\n",
       "        text-align: right;\n",
       "    }\n",
       "</style>\n",
       "<table border=\"1\" class=\"dataframe\">\n",
       "  <thead>\n",
       "    <tr style=\"text-align: right;\">\n",
       "      <th></th>\n",
       "      <th>earn</th>\n",
       "      <th>height</th>\n",
       "      <th>age</th>\n",
       "    </tr>\n",
       "  </thead>\n",
       "  <tbody>\n",
       "    <tr>\n",
       "      <th>0</th>\n",
       "      <td>79571.299011</td>\n",
       "      <td>73.89</td>\n",
       "      <td>49</td>\n",
       "    </tr>\n",
       "    <tr>\n",
       "      <th>1</th>\n",
       "      <td>96396.988643</td>\n",
       "      <td>66.23</td>\n",
       "      <td>62</td>\n",
       "    </tr>\n",
       "    <tr>\n",
       "      <th>2</th>\n",
       "      <td>48710.666947</td>\n",
       "      <td>63.77</td>\n",
       "      <td>33</td>\n",
       "    </tr>\n",
       "    <tr>\n",
       "      <th>3</th>\n",
       "      <td>80478.096153</td>\n",
       "      <td>63.22</td>\n",
       "      <td>95</td>\n",
       "    </tr>\n",
       "    <tr>\n",
       "      <th>4</th>\n",
       "      <td>82089.345498</td>\n",
       "      <td>63.08</td>\n",
       "      <td>43</td>\n",
       "    </tr>\n",
       "  </tbody>\n",
       "</table>\n",
       "</div>"
      ],
      "text/plain": [
       "           earn  height  age\n",
       "0  79571.299011   73.89   49\n",
       "1  96396.988643   66.23   62\n",
       "2  48710.666947   63.77   33\n",
       "3  80478.096153   63.22   95\n",
       "4  82089.345498   63.08   43"
      ]
     },
     "execution_count": 99,
     "metadata": {},
     "output_type": "execute_result"
    }
   ],
   "source": [
    "df_info = df[[\"earn\", \"height\", \"age\"]]\n",
    "df_info.head()"
   ]
  },
  {
   "cell_type": "code",
   "execution_count": 100,
   "id": "959d2113",
   "metadata": {},
   "outputs": [
    {
     "data": {
      "text/plain": [
       "earn      318047.708444\n",
       "height        19.870000\n",
       "age           73.000000\n",
       "dtype: float64"
      ]
     },
     "execution_count": 100,
     "metadata": {},
     "output_type": "execute_result"
    }
   ],
   "source": [
    "f = lambda x : x.max() - x.min()\n",
    "df_info.apply(f) # 해당 column의 max -min 통계를 낼 때 유용하게 사용 가능"
   ]
  },
  {
   "cell_type": "code",
   "execution_count": 104,
   "id": "186f12e6",
   "metadata": {},
   "outputs": [
    {
     "data": {
      "text/plain": [
       "earn      4.474344e+07\n",
       "height    9.183125e+04\n",
       "age       6.250800e+04\n",
       "dtype: float64"
      ]
     },
     "execution_count": 104,
     "metadata": {},
     "output_type": "execute_result"
    }
   ],
   "source": [
    "df_info.sum()"
   ]
  },
  {
   "cell_type": "code",
   "execution_count": 105,
   "id": "88aa21fc",
   "metadata": {},
   "outputs": [
    {
     "data": {
      "text/plain": [
       "earn      4.474344e+07\n",
       "height    9.183125e+04\n",
       "age       6.250800e+04\n",
       "dtype: float64"
      ]
     },
     "execution_count": 105,
     "metadata": {},
     "output_type": "execute_result"
    }
   ],
   "source": [
    "df_info.apply(sum)"
   ]
  },
  {
   "cell_type": "code",
   "execution_count": 111,
   "id": "3f389fc6",
   "metadata": {},
   "outputs": [
    {
     "data": {
      "text/html": [
       "<div>\n",
       "<style scoped>\n",
       "    .dataframe tbody tr th:only-of-type {\n",
       "        vertical-align: middle;\n",
       "    }\n",
       "\n",
       "    .dataframe tbody tr th {\n",
       "        vertical-align: top;\n",
       "    }\n",
       "\n",
       "    .dataframe thead th {\n",
       "        text-align: right;\n",
       "    }\n",
       "</style>\n",
       "<table border=\"1\" class=\"dataframe\">\n",
       "  <thead>\n",
       "    <tr style=\"text-align: right;\">\n",
       "      <th></th>\n",
       "      <th>earn</th>\n",
       "      <th>height</th>\n",
       "      <th>age</th>\n",
       "    </tr>\n",
       "  </thead>\n",
       "  <tbody>\n",
       "    <tr>\n",
       "      <th>min</th>\n",
       "      <td>-98.580489</td>\n",
       "      <td>57.34</td>\n",
       "      <td>22</td>\n",
       "    </tr>\n",
       "    <tr>\n",
       "      <th>max</th>\n",
       "      <td>317949.127955</td>\n",
       "      <td>77.21</td>\n",
       "      <td>95</td>\n",
       "    </tr>\n",
       "  </tbody>\n",
       "</table>\n",
       "</div>"
      ],
      "text/plain": [
       "              earn  height  age\n",
       "min     -98.580489   57.34   22\n",
       "max  317949.127955   77.21   95"
      ]
     },
     "execution_count": 111,
     "metadata": {},
     "output_type": "execute_result"
    }
   ],
   "source": [
    "def f(x):\n",
    "    return Series([x.min(), x.max()], index = [\"min\", \"max\"])\n",
    "df_info.apply(f)"
   ]
  },
  {
   "cell_type": "markdown",
   "id": "ccefe948",
   "metadata": {},
   "source": [
    "### applymap for dataframe\n",
    "- series 단위가 아닌 element 단위로 함수를 적용함\n",
    "- series 단위에 apply를 적용시킬 때와 같은 효과"
   ]
  },
  {
   "cell_type": "code",
   "execution_count": 107,
   "id": "23d9deca",
   "metadata": {},
   "outputs": [
    {
     "data": {
      "text/html": [
       "<div>\n",
       "<style scoped>\n",
       "    .dataframe tbody tr th:only-of-type {\n",
       "        vertical-align: middle;\n",
       "    }\n",
       "\n",
       "    .dataframe tbody tr th {\n",
       "        vertical-align: top;\n",
       "    }\n",
       "\n",
       "    .dataframe thead th {\n",
       "        text-align: right;\n",
       "    }\n",
       "</style>\n",
       "<table border=\"1\" class=\"dataframe\">\n",
       "  <thead>\n",
       "    <tr style=\"text-align: right;\">\n",
       "      <th></th>\n",
       "      <th>earn</th>\n",
       "      <th>height</th>\n",
       "      <th>age</th>\n",
       "    </tr>\n",
       "  </thead>\n",
       "  <tbody>\n",
       "    <tr>\n",
       "      <th>0</th>\n",
       "      <td>-79571.299011</td>\n",
       "      <td>-73.89</td>\n",
       "      <td>-49</td>\n",
       "    </tr>\n",
       "    <tr>\n",
       "      <th>1</th>\n",
       "      <td>-96396.988643</td>\n",
       "      <td>-66.23</td>\n",
       "      <td>-62</td>\n",
       "    </tr>\n",
       "    <tr>\n",
       "      <th>2</th>\n",
       "      <td>-48710.666947</td>\n",
       "      <td>-63.77</td>\n",
       "      <td>-33</td>\n",
       "    </tr>\n",
       "    <tr>\n",
       "      <th>3</th>\n",
       "      <td>-80478.096153</td>\n",
       "      <td>-63.22</td>\n",
       "      <td>-95</td>\n",
       "    </tr>\n",
       "    <tr>\n",
       "      <th>4</th>\n",
       "      <td>-82089.345498</td>\n",
       "      <td>-63.08</td>\n",
       "      <td>-43</td>\n",
       "    </tr>\n",
       "  </tbody>\n",
       "</table>\n",
       "</div>"
      ],
      "text/plain": [
       "           earn  height  age\n",
       "0 -79571.299011  -73.89  -49\n",
       "1 -96396.988643  -66.23  -62\n",
       "2 -48710.666947  -63.77  -33\n",
       "3 -80478.096153  -63.22  -95\n",
       "4 -82089.345498  -63.08  -43"
      ]
     },
     "execution_count": 107,
     "metadata": {},
     "output_type": "execute_result"
    }
   ],
   "source": [
    "f = lambda x : -x\n",
    "df_info.applymap(f).head(5)"
   ]
  },
  {
   "cell_type": "code",
   "execution_count": 108,
   "id": "8bf1bbe7",
   "metadata": {},
   "outputs": [
    {
     "data": {
      "text/plain": [
       "0   -79571.299011\n",
       "1   -96396.988643\n",
       "2   -48710.666947\n",
       "3   -80478.096153\n",
       "4   -82089.345498\n",
       "Name: earn, dtype: float64"
      ]
     },
     "execution_count": 108,
     "metadata": {},
     "output_type": "execute_result"
    }
   ],
   "source": [
    "df_info[\"earn\"].apply(f).head(5)"
   ]
  },
  {
   "cell_type": "markdown",
   "id": "e21606ae",
   "metadata": {},
   "source": [
    "## Pandas Built-in functions"
   ]
  },
  {
   "cell_type": "markdown",
   "id": "5d604e2c",
   "metadata": {},
   "source": [
    "### describe\n",
    "- Numeric type 데이터의 요약 정보를 보여줌"
   ]
  },
  {
   "cell_type": "code",
   "execution_count": 112,
   "id": "adf4bcfd",
   "metadata": {},
   "outputs": [
    {
     "data": {
      "text/html": [
       "<div>\n",
       "<style scoped>\n",
       "    .dataframe tbody tr th:only-of-type {\n",
       "        vertical-align: middle;\n",
       "    }\n",
       "\n",
       "    .dataframe tbody tr th {\n",
       "        vertical-align: top;\n",
       "    }\n",
       "\n",
       "    .dataframe thead th {\n",
       "        text-align: right;\n",
       "    }\n",
       "</style>\n",
       "<table border=\"1\" class=\"dataframe\">\n",
       "  <thead>\n",
       "    <tr style=\"text-align: right;\">\n",
       "      <th></th>\n",
       "      <th>earn</th>\n",
       "      <th>height</th>\n",
       "      <th>sex</th>\n",
       "      <th>race</th>\n",
       "      <th>ed</th>\n",
       "      <th>age</th>\n",
       "    </tr>\n",
       "  </thead>\n",
       "  <tbody>\n",
       "    <tr>\n",
       "      <th>0</th>\n",
       "      <td>79571.299011</td>\n",
       "      <td>73.89</td>\n",
       "      <td>male</td>\n",
       "      <td>white</td>\n",
       "      <td>16</td>\n",
       "      <td>49</td>\n",
       "    </tr>\n",
       "    <tr>\n",
       "      <th>1</th>\n",
       "      <td>96396.988643</td>\n",
       "      <td>66.23</td>\n",
       "      <td>female</td>\n",
       "      <td>white</td>\n",
       "      <td>16</td>\n",
       "      <td>62</td>\n",
       "    </tr>\n",
       "    <tr>\n",
       "      <th>2</th>\n",
       "      <td>48710.666947</td>\n",
       "      <td>63.77</td>\n",
       "      <td>female</td>\n",
       "      <td>white</td>\n",
       "      <td>16</td>\n",
       "      <td>33</td>\n",
       "    </tr>\n",
       "    <tr>\n",
       "      <th>3</th>\n",
       "      <td>80478.096153</td>\n",
       "      <td>63.22</td>\n",
       "      <td>female</td>\n",
       "      <td>other</td>\n",
       "      <td>16</td>\n",
       "      <td>95</td>\n",
       "    </tr>\n",
       "    <tr>\n",
       "      <th>4</th>\n",
       "      <td>82089.345498</td>\n",
       "      <td>63.08</td>\n",
       "      <td>female</td>\n",
       "      <td>white</td>\n",
       "      <td>17</td>\n",
       "      <td>43</td>\n",
       "    </tr>\n",
       "  </tbody>\n",
       "</table>\n",
       "</div>"
      ],
      "text/plain": [
       "           earn  height     sex   race  ed  age\n",
       "0  79571.299011   73.89    male  white  16   49\n",
       "1  96396.988643   66.23  female  white  16   62\n",
       "2  48710.666947   63.77  female  white  16   33\n",
       "3  80478.096153   63.22  female  other  16   95\n",
       "4  82089.345498   63.08  female  white  17   43"
      ]
     },
     "execution_count": 112,
     "metadata": {},
     "output_type": "execute_result"
    }
   ],
   "source": [
    "df = pd.read_csv(\"wages.csv\")\n",
    "df.head()"
   ]
  },
  {
   "cell_type": "code",
   "execution_count": 113,
   "id": "1c05c764",
   "metadata": {},
   "outputs": [
    {
     "data": {
      "text/html": [
       "<div>\n",
       "<style scoped>\n",
       "    .dataframe tbody tr th:only-of-type {\n",
       "        vertical-align: middle;\n",
       "    }\n",
       "\n",
       "    .dataframe tbody tr th {\n",
       "        vertical-align: top;\n",
       "    }\n",
       "\n",
       "    .dataframe thead th {\n",
       "        text-align: right;\n",
       "    }\n",
       "</style>\n",
       "<table border=\"1\" class=\"dataframe\">\n",
       "  <thead>\n",
       "    <tr style=\"text-align: right;\">\n",
       "      <th></th>\n",
       "      <th>earn</th>\n",
       "      <th>height</th>\n",
       "      <th>ed</th>\n",
       "      <th>age</th>\n",
       "    </tr>\n",
       "  </thead>\n",
       "  <tbody>\n",
       "    <tr>\n",
       "      <th>count</th>\n",
       "      <td>1379.000000</td>\n",
       "      <td>1379.000000</td>\n",
       "      <td>1379.000000</td>\n",
       "      <td>1379.000000</td>\n",
       "    </tr>\n",
       "    <tr>\n",
       "      <th>mean</th>\n",
       "      <td>32446.292622</td>\n",
       "      <td>66.592640</td>\n",
       "      <td>13.354605</td>\n",
       "      <td>45.328499</td>\n",
       "    </tr>\n",
       "    <tr>\n",
       "      <th>std</th>\n",
       "      <td>31257.070006</td>\n",
       "      <td>3.818108</td>\n",
       "      <td>2.438741</td>\n",
       "      <td>15.789715</td>\n",
       "    </tr>\n",
       "    <tr>\n",
       "      <th>min</th>\n",
       "      <td>-98.580489</td>\n",
       "      <td>57.340000</td>\n",
       "      <td>3.000000</td>\n",
       "      <td>22.000000</td>\n",
       "    </tr>\n",
       "    <tr>\n",
       "      <th>25%</th>\n",
       "      <td>10538.790721</td>\n",
       "      <td>63.720000</td>\n",
       "      <td>12.000000</td>\n",
       "      <td>33.000000</td>\n",
       "    </tr>\n",
       "    <tr>\n",
       "      <th>50%</th>\n",
       "      <td>26877.870178</td>\n",
       "      <td>66.050000</td>\n",
       "      <td>13.000000</td>\n",
       "      <td>42.000000</td>\n",
       "    </tr>\n",
       "    <tr>\n",
       "      <th>75%</th>\n",
       "      <td>44506.215336</td>\n",
       "      <td>69.315000</td>\n",
       "      <td>15.000000</td>\n",
       "      <td>55.000000</td>\n",
       "    </tr>\n",
       "    <tr>\n",
       "      <th>max</th>\n",
       "      <td>317949.127955</td>\n",
       "      <td>77.210000</td>\n",
       "      <td>18.000000</td>\n",
       "      <td>95.000000</td>\n",
       "    </tr>\n",
       "  </tbody>\n",
       "</table>\n",
       "</div>"
      ],
      "text/plain": [
       "                earn       height           ed          age\n",
       "count    1379.000000  1379.000000  1379.000000  1379.000000\n",
       "mean    32446.292622    66.592640    13.354605    45.328499\n",
       "std     31257.070006     3.818108     2.438741    15.789715\n",
       "min       -98.580489    57.340000     3.000000    22.000000\n",
       "25%     10538.790721    63.720000    12.000000    33.000000\n",
       "50%     26877.870178    66.050000    13.000000    42.000000\n",
       "75%     44506.215336    69.315000    15.000000    55.000000\n",
       "max    317949.127955    77.210000    18.000000    95.000000"
      ]
     },
     "execution_count": 113,
     "metadata": {},
     "output_type": "execute_result"
    }
   ],
   "source": [
    "df.describe()"
   ]
  },
  {
   "cell_type": "markdown",
   "id": "33c8aa65",
   "metadata": {},
   "source": [
    "### unique\n",
    "- series data의 유일한 값을 list로 반환함"
   ]
  },
  {
   "cell_type": "code",
   "execution_count": 114,
   "id": "4eca81d9",
   "metadata": {},
   "outputs": [
    {
     "data": {
      "text/plain": [
       "array(['white', 'other', 'hispanic', 'black'], dtype=object)"
      ]
     },
     "execution_count": 114,
     "metadata": {},
     "output_type": "execute_result"
    }
   ],
   "source": [
    "# 유일한 인종의 값 list\n",
    "df.race.unique()"
   ]
  },
  {
   "cell_type": "code",
   "execution_count": 117,
   "id": "bffabe8a",
   "metadata": {},
   "outputs": [
    {
     "data": {
      "text/plain": [
       "array({0: 'white', 1: 'other', 2: 'hispanic', 3: 'black'}, dtype=object)"
      ]
     },
     "execution_count": 117,
     "metadata": {},
     "output_type": "execute_result"
    }
   ],
   "source": [
    "# dict type으로 index\n",
    "np.array(dict(enumerate(df[\"race\"].unique())))"
   ]
  },
  {
   "cell_type": "code",
   "execution_count": 121,
   "id": "29c9afc2",
   "metadata": {},
   "outputs": [
    {
     "data": {
      "text/plain": [
       "([0, 1, 2, 3], ['white', 'other', 'hispanic', 'black'])"
      ]
     },
     "execution_count": 121,
     "metadata": {},
     "output_type": "execute_result"
    }
   ],
   "source": [
    "# label 인코딩\n",
    "# label index 값과 label값 각각 추출\n",
    "value = list(map(int,np.array(list(enumerate(df[\"race\"].unique())))[:, 0].tolist()))\n",
    "key = np.array(list(enumerate(df[\"race\"].unique())), dtype = str)[:, 1].tolist()\n",
    "value, key"
   ]
  },
  {
   "cell_type": "markdown",
   "id": "85312f87",
   "metadata": {},
   "source": [
    "## Data handling\n",
    "- Data는 대부분 지저분한 형태이므로 전처리를 위해 pandas를 사용한다."
   ]
  },
  {
   "cell_type": "code",
   "execution_count": 125,
   "id": "6b8e76f7",
   "metadata": {},
   "outputs": [
    {
     "data": {
      "text/html": [
       "<div>\n",
       "<style scoped>\n",
       "    .dataframe tbody tr th:only-of-type {\n",
       "        vertical-align: middle;\n",
       "    }\n",
       "\n",
       "    .dataframe tbody tr th {\n",
       "        vertical-align: top;\n",
       "    }\n",
       "\n",
       "    .dataframe thead th {\n",
       "        text-align: right;\n",
       "    }\n",
       "</style>\n",
       "<table border=\"1\" class=\"dataframe\">\n",
       "  <thead>\n",
       "    <tr style=\"text-align: right;\">\n",
       "      <th></th>\n",
       "      <th>Team</th>\n",
       "      <th>Rank</th>\n",
       "      <th>Year</th>\n",
       "      <th>Points</th>\n",
       "    </tr>\n",
       "  </thead>\n",
       "  <tbody>\n",
       "    <tr>\n",
       "      <th>0</th>\n",
       "      <td>Riders</td>\n",
       "      <td>1</td>\n",
       "      <td>2014</td>\n",
       "      <td>876</td>\n",
       "    </tr>\n",
       "    <tr>\n",
       "      <th>1</th>\n",
       "      <td>Riders</td>\n",
       "      <td>2</td>\n",
       "      <td>2015</td>\n",
       "      <td>789</td>\n",
       "    </tr>\n",
       "    <tr>\n",
       "      <th>2</th>\n",
       "      <td>Devils</td>\n",
       "      <td>2</td>\n",
       "      <td>2014</td>\n",
       "      <td>863</td>\n",
       "    </tr>\n",
       "    <tr>\n",
       "      <th>3</th>\n",
       "      <td>Devils</td>\n",
       "      <td>3</td>\n",
       "      <td>2015</td>\n",
       "      <td>673</td>\n",
       "    </tr>\n",
       "    <tr>\n",
       "      <th>4</th>\n",
       "      <td>Kings</td>\n",
       "      <td>3</td>\n",
       "      <td>2014</td>\n",
       "      <td>741</td>\n",
       "    </tr>\n",
       "  </tbody>\n",
       "</table>\n",
       "</div>"
      ],
      "text/plain": [
       "     Team  Rank  Year  Points\n",
       "0  Riders     1  2014     876\n",
       "1  Riders     2  2015     789\n",
       "2  Devils     2  2014     863\n",
       "3  Devils     3  2015     673\n",
       "4   Kings     3  2014     741"
      ]
     },
     "execution_count": 125,
     "metadata": {},
     "output_type": "execute_result"
    }
   ],
   "source": [
    "# data from: \n",
    "ipl_data = {'Team': ['Riders', 'Riders', 'Devils', 'Devils', 'Kings',\n",
    "         'kings', 'Kings', 'Kings', 'Riders', 'Royals', 'Royals', 'Riders'],\n",
    "         'Rank': [1, 2, 2, 3, 3,4 ,1 ,1,2 , 4,1,2],\n",
    "         'Year': [2014,2015,2014,2015,2014,2015,2016,2017,2016,2014,2015,2017],\n",
    "         'Points':[876,789,863,673,741,812,756,788,694,701,804,690]}\n",
    "\n",
    "df = pd.DataFrame(ipl_data)\n",
    "df.head()"
   ]
  },
  {
   "cell_type": "markdown",
   "id": "d11d70bf",
   "metadata": {},
   "source": [
    "### Groupby\n",
    "- SQL groupby 명령어와 같다.\n",
    "- split > apply > combine 과정을 거쳐 연산함\n",
    "- 한 개 이상의 column을 묶을 수 있음"
   ]
  },
  {
   "cell_type": "code",
   "execution_count": 124,
   "id": "e15d5b1e",
   "metadata": {},
   "outputs": [
    {
     "data": {
      "text/plain": [
       "Team\n",
       "Devils    1536\n",
       "Kings     2285\n",
       "Riders    3049\n",
       "Royals    1505\n",
       "kings      812\n",
       "Name: Points, dtype: int64"
      ]
     },
     "execution_count": 124,
     "metadata": {},
     "output_type": "execute_result"
    }
   ],
   "source": [
    "# Team : 묶음의 기준이 되는 Column\n",
    "# Points : 적용받는 컬럼\n",
    "# 결과 : Team을 기준으로 Points를 Sum(팀별 포인트 합)\n",
    "df.groupby(\"Team\")[\"Points\"].sum()"
   ]
  },
  {
   "cell_type": "code",
   "execution_count": 126,
   "id": "3f069c2d",
   "metadata": {},
   "outputs": [
    {
     "data": {
      "text/plain": [
       "Team    Year\n",
       "Devils  2014    863\n",
       "        2015    673\n",
       "Kings   2014    741\n",
       "        2016    756\n",
       "        2017    788\n",
       "Riders  2014    876\n",
       "        2015    789\n",
       "        2016    694\n",
       "        2017    690\n",
       "Royals  2014    701\n",
       "        2015    804\n",
       "kings   2015    812\n",
       "Name: Points, dtype: int64"
      ]
     },
     "execution_count": 126,
     "metadata": {},
     "output_type": "execute_result"
    }
   ],
   "source": [
    "# 한 개 이상의 column을 묶을 수 있음\n",
    "# Team 마다 년도별 points 합\n",
    "\n",
    "df.groupby([\"Team\", \"Year\"])[\"Points\"].sum()"
   ]
  },
  {
   "cell_type": "markdown",
   "id": "37aca200",
   "metadata": {},
   "source": [
    "### Hierarchical index\n",
    "- Groupby 명령으 결과물도 결국 dataframe이다.\n",
    "- 두 개이 column으로 groupby를 할 경우, index가 두개 생성"
   ]
  },
  {
   "cell_type": "code",
   "execution_count": 129,
   "id": "b898ded2",
   "metadata": {},
   "outputs": [
    {
     "data": {
      "text/plain": [
       "MultiIndex([('Devils', 2014),\n",
       "            ('Devils', 2015),\n",
       "            ( 'Kings', 2014),\n",
       "            ( 'Kings', 2016),\n",
       "            ( 'Kings', 2017),\n",
       "            ('Riders', 2014),\n",
       "            ('Riders', 2015),\n",
       "            ('Riders', 2016),\n",
       "            ('Riders', 2017),\n",
       "            ('Royals', 2014),\n",
       "            ('Royals', 2015),\n",
       "            ( 'kings', 2015)],\n",
       "           names=['Team', 'Year'])"
      ]
     },
     "execution_count": 129,
     "metadata": {},
     "output_type": "execute_result"
    }
   ],
   "source": [
    "h_index = df.groupby([\"Team\", \"Year\"])[\"Points\"].sum()\n",
    "h_index.index"
   ]
  },
  {
   "cell_type": "code",
   "execution_count": 130,
   "id": "7ae0e542",
   "metadata": {},
   "outputs": [
    {
     "data": {
      "text/plain": [
       "9187"
      ]
     },
     "execution_count": 130,
     "metadata": {},
     "output_type": "execute_result"
    }
   ],
   "source": [
    "h_index.sum()"
   ]
  },
  {
   "cell_type": "code",
   "execution_count": 131,
   "id": "4ae5e5ca",
   "metadata": {},
   "outputs": [
    {
     "data": {
      "text/plain": [
       "Team    Year\n",
       "Devils  2014    863\n",
       "        2015    673\n",
       "Kings   2014    741\n",
       "        2016    756\n",
       "        2017    788\n",
       "Name: Points, dtype: int64"
      ]
     },
     "execution_count": 131,
     "metadata": {},
     "output_type": "execute_result"
    }
   ],
   "source": [
    "h_index[\"Devils\" : \"Kings\"]"
   ]
  },
  {
   "cell_type": "markdown",
   "id": "44f925de",
   "metadata": {},
   "source": [
    "### Hierarchical index - unstack()\n",
    "- Group으로 묶여진 데이터를 matrix 형태로 전환해줌"
   ]
  },
  {
   "cell_type": "code",
   "execution_count": 136,
   "id": "9b461e90",
   "metadata": {},
   "outputs": [
    {
     "name": "stdout",
     "output_type": "stream",
     "text": [
      "Team    Year\n",
      "Devils  2014    863\n",
      "        2015    673\n",
      "Kings   2014    741\n",
      "Name: Points, dtype: int64\n"
     ]
    },
    {
     "data": {
      "text/html": [
       "<div>\n",
       "<style scoped>\n",
       "    .dataframe tbody tr th:only-of-type {\n",
       "        vertical-align: middle;\n",
       "    }\n",
       "\n",
       "    .dataframe tbody tr th {\n",
       "        vertical-align: top;\n",
       "    }\n",
       "\n",
       "    .dataframe thead th {\n",
       "        text-align: right;\n",
       "    }\n",
       "</style>\n",
       "<table border=\"1\" class=\"dataframe\">\n",
       "  <thead>\n",
       "    <tr style=\"text-align: right;\">\n",
       "      <th>Year</th>\n",
       "      <th>2014</th>\n",
       "      <th>2015</th>\n",
       "      <th>2016</th>\n",
       "      <th>2017</th>\n",
       "    </tr>\n",
       "    <tr>\n",
       "      <th>Team</th>\n",
       "      <th></th>\n",
       "      <th></th>\n",
       "      <th></th>\n",
       "      <th></th>\n",
       "    </tr>\n",
       "  </thead>\n",
       "  <tbody>\n",
       "    <tr>\n",
       "      <th>Devils</th>\n",
       "      <td>863.0</td>\n",
       "      <td>673.0</td>\n",
       "      <td>NaN</td>\n",
       "      <td>NaN</td>\n",
       "    </tr>\n",
       "    <tr>\n",
       "      <th>Kings</th>\n",
       "      <td>741.0</td>\n",
       "      <td>NaN</td>\n",
       "      <td>756.0</td>\n",
       "      <td>788.0</td>\n",
       "    </tr>\n",
       "    <tr>\n",
       "      <th>Riders</th>\n",
       "      <td>876.0</td>\n",
       "      <td>789.0</td>\n",
       "      <td>694.0</td>\n",
       "      <td>690.0</td>\n",
       "    </tr>\n",
       "    <tr>\n",
       "      <th>Royals</th>\n",
       "      <td>701.0</td>\n",
       "      <td>804.0</td>\n",
       "      <td>NaN</td>\n",
       "      <td>NaN</td>\n",
       "    </tr>\n",
       "    <tr>\n",
       "      <th>kings</th>\n",
       "      <td>NaN</td>\n",
       "      <td>812.0</td>\n",
       "      <td>NaN</td>\n",
       "      <td>NaN</td>\n",
       "    </tr>\n",
       "  </tbody>\n",
       "</table>\n",
       "</div>"
      ],
      "text/plain": [
       "Year     2014   2015   2016   2017\n",
       "Team                              \n",
       "Devils  863.0  673.0    NaN    NaN\n",
       "Kings   741.0    NaN  756.0  788.0\n",
       "Riders  876.0  789.0  694.0  690.0\n",
       "Royals  701.0  804.0    NaN    NaN\n",
       "kings     NaN  812.0    NaN    NaN"
      ]
     },
     "execution_count": 136,
     "metadata": {},
     "output_type": "execute_result"
    }
   ],
   "source": [
    "print(h_index.head(3))\n",
    "h_index.unstack()"
   ]
  },
  {
   "cell_type": "markdown",
   "id": "b9846328",
   "metadata": {},
   "source": [
    "### Hierarchical index - swaplevel\n",
    "- Index level을 변경할 수 있다."
   ]
  },
  {
   "cell_type": "code",
   "execution_count": 141,
   "id": "6194bae8",
   "metadata": {},
   "outputs": [
    {
     "data": {
      "text/plain": [
       "Year  Team  \n",
       "2014  Devils    863\n",
       "2015  Devils    673\n",
       "2014  Kings     741\n",
       "2016  Kings     756\n",
       "2017  Kings     788\n",
       "2014  Riders    876\n",
       "2015  Riders    789\n",
       "2016  Riders    694\n",
       "2017  Riders    690\n",
       "2014  Royals    701\n",
       "2015  Royals    804\n",
       "      kings     812\n",
       "Name: Points, dtype: int64"
      ]
     },
     "execution_count": 141,
     "metadata": {},
     "output_type": "execute_result"
    }
   ],
   "source": [
    "h_index.swaplevel()"
   ]
  },
  {
   "cell_type": "code",
   "execution_count": 150,
   "id": "d61064fd",
   "metadata": {},
   "outputs": [
    {
     "data": {
      "text/plain": [
       "Year  Team  \n",
       "2014  Devils    863\n",
       "      Kings     741\n",
       "      Riders    876\n",
       "      Royals    701\n",
       "2015  Devils    673\n",
       "      Riders    789\n",
       "      Royals    804\n",
       "      kings     812\n",
       "2016  Kings     756\n",
       "      Riders    694\n",
       "2017  Kings     788\n",
       "      Riders    690\n",
       "Name: Points, dtype: int64"
      ]
     },
     "execution_count": 150,
     "metadata": {},
     "output_type": "execute_result"
    }
   ],
   "source": [
    "h_index.swaplevel().sort_index(0)"
   ]
  },
  {
   "cell_type": "markdown",
   "id": "bb59bef1",
   "metadata": {},
   "source": [
    "### Hierarchical index - operations\n",
    "- Index level을 기준으로 기본 연산 수행 가능"
   ]
  },
  {
   "cell_type": "code",
   "execution_count": 151,
   "id": "ed29e981",
   "metadata": {},
   "outputs": [
    {
     "data": {
      "text/plain": [
       "Team\n",
       "Devils    1536\n",
       "Kings     2285\n",
       "Riders    3049\n",
       "Royals    1505\n",
       "kings      812\n",
       "Name: Points, dtype: int64"
      ]
     },
     "execution_count": 151,
     "metadata": {},
     "output_type": "execute_result"
    }
   ],
   "source": [
    "h_index.sum(level = 0)"
   ]
  },
  {
   "cell_type": "code",
   "execution_count": 152,
   "id": "e5cb4eae",
   "metadata": {},
   "outputs": [
    {
     "data": {
      "text/plain": [
       "Year\n",
       "2014    3181\n",
       "2015    3078\n",
       "2016    1450\n",
       "2017    1478\n",
       "Name: Points, dtype: int64"
      ]
     },
     "execution_count": 152,
     "metadata": {},
     "output_type": "execute_result"
    }
   ],
   "source": [
    "h_index.sum(level = 1)"
   ]
  },
  {
   "cell_type": "markdown",
   "id": "8d16fdb4",
   "metadata": {},
   "source": [
    "## Groupby_2\n",
    "- 크게 사용은 X"
   ]
  },
  {
   "cell_type": "markdown",
   "id": "6f3d4926",
   "metadata": {},
   "source": [
    "### Groupby - gropued\n",
    "- Grouby에 의해 split된 상태를 추출 가능함\n",
    "- 추출 된 group 정보에는 세 가지 유형의 apply가 가능\n",
    "- Aggregation : 요약된 통계정보를 추출해줌\n",
    "- Transformation : 해당 정보를 변환해줌\n",
    "- Filtration : 특정 정보를 제거 하여 보여주는 필터링 기능"
   ]
  },
  {
   "cell_type": "code",
   "execution_count": 154,
   "id": "bad4f411",
   "metadata": {},
   "outputs": [
    {
     "name": "stdout",
     "output_type": "stream",
     "text": [
      "Devils\n",
      "     Team  Rank  Year  Points\n",
      "2  Devils     2  2014     863\n",
      "3  Devils     3  2015     673\n",
      "Kings\n",
      "    Team  Rank  Year  Points\n",
      "4  Kings     3  2014     741\n",
      "6  Kings     1  2016     756\n",
      "7  Kings     1  2017     788\n",
      "Riders\n",
      "      Team  Rank  Year  Points\n",
      "0   Riders     1  2014     876\n",
      "1   Riders     2  2015     789\n",
      "8   Riders     2  2016     694\n",
      "11  Riders     2  2017     690\n",
      "Royals\n",
      "      Team  Rank  Year  Points\n",
      "9   Royals     4  2014     701\n",
      "10  Royals     1  2015     804\n",
      "kings\n",
      "    Team  Rank  Year  Points\n",
      "5  kings     4  2015     812\n"
     ]
    }
   ],
   "source": [
    "# Team 별로 나눔\n",
    "grouped = df.groupby(\"Team\")\n",
    "\n",
    "for name, group in grouped:\n",
    "    print(name)\n",
    "    print(group)"
   ]
  },
  {
   "cell_type": "markdown",
   "id": "e9bb2f06",
   "metadata": {},
   "source": [
    "### Groupby - aggregation\n",
    "- lambda도 가능\n",
    "- 특정 column에 여러개의 function을 apply할 수 도 있다."
   ]
  },
  {
   "cell_type": "code",
   "execution_count": 155,
   "id": "eb664df6",
   "metadata": {},
   "outputs": [
    {
     "data": {
      "text/html": [
       "<div>\n",
       "<style scoped>\n",
       "    .dataframe tbody tr th:only-of-type {\n",
       "        vertical-align: middle;\n",
       "    }\n",
       "\n",
       "    .dataframe tbody tr th {\n",
       "        vertical-align: top;\n",
       "    }\n",
       "\n",
       "    .dataframe thead th {\n",
       "        text-align: right;\n",
       "    }\n",
       "</style>\n",
       "<table border=\"1\" class=\"dataframe\">\n",
       "  <thead>\n",
       "    <tr style=\"text-align: right;\">\n",
       "      <th></th>\n",
       "      <th>Rank</th>\n",
       "      <th>Year</th>\n",
       "      <th>Points</th>\n",
       "    </tr>\n",
       "    <tr>\n",
       "      <th>Team</th>\n",
       "      <th></th>\n",
       "      <th></th>\n",
       "      <th></th>\n",
       "    </tr>\n",
       "  </thead>\n",
       "  <tbody>\n",
       "    <tr>\n",
       "      <th>Devils</th>\n",
       "      <td>5</td>\n",
       "      <td>4029</td>\n",
       "      <td>1536</td>\n",
       "    </tr>\n",
       "    <tr>\n",
       "      <th>Kings</th>\n",
       "      <td>5</td>\n",
       "      <td>6047</td>\n",
       "      <td>2285</td>\n",
       "    </tr>\n",
       "    <tr>\n",
       "      <th>Riders</th>\n",
       "      <td>7</td>\n",
       "      <td>8062</td>\n",
       "      <td>3049</td>\n",
       "    </tr>\n",
       "    <tr>\n",
       "      <th>Royals</th>\n",
       "      <td>5</td>\n",
       "      <td>4029</td>\n",
       "      <td>1505</td>\n",
       "    </tr>\n",
       "    <tr>\n",
       "      <th>kings</th>\n",
       "      <td>4</td>\n",
       "      <td>2015</td>\n",
       "      <td>812</td>\n",
       "    </tr>\n",
       "  </tbody>\n",
       "</table>\n",
       "</div>"
      ],
      "text/plain": [
       "        Rank  Year  Points\n",
       "Team                      \n",
       "Devils     5  4029    1536\n",
       "Kings      5  6047    2285\n",
       "Riders     7  8062    3049\n",
       "Royals     5  4029    1505\n",
       "kings      4  2015     812"
      ]
     },
     "execution_count": 155,
     "metadata": {},
     "output_type": "execute_result"
    }
   ],
   "source": [
    "# 그룹별 합\n",
    "grouped.agg(sum)"
   ]
  },
  {
   "cell_type": "code",
   "execution_count": 156,
   "id": "5bfd13fd",
   "metadata": {},
   "outputs": [
    {
     "data": {
      "text/html": [
       "<div>\n",
       "<style scoped>\n",
       "    .dataframe tbody tr th:only-of-type {\n",
       "        vertical-align: middle;\n",
       "    }\n",
       "\n",
       "    .dataframe tbody tr th {\n",
       "        vertical-align: top;\n",
       "    }\n",
       "\n",
       "    .dataframe thead th {\n",
       "        text-align: right;\n",
       "    }\n",
       "</style>\n",
       "<table border=\"1\" class=\"dataframe\">\n",
       "  <thead>\n",
       "    <tr style=\"text-align: right;\">\n",
       "      <th></th>\n",
       "      <th>Rank</th>\n",
       "      <th>Year</th>\n",
       "      <th>Points</th>\n",
       "    </tr>\n",
       "    <tr>\n",
       "      <th>Team</th>\n",
       "      <th></th>\n",
       "      <th></th>\n",
       "      <th></th>\n",
       "    </tr>\n",
       "  </thead>\n",
       "  <tbody>\n",
       "    <tr>\n",
       "      <th>Devils</th>\n",
       "      <td>2.500000</td>\n",
       "      <td>2014.500000</td>\n",
       "      <td>768.000000</td>\n",
       "    </tr>\n",
       "    <tr>\n",
       "      <th>Kings</th>\n",
       "      <td>1.666667</td>\n",
       "      <td>2015.666667</td>\n",
       "      <td>761.666667</td>\n",
       "    </tr>\n",
       "    <tr>\n",
       "      <th>Riders</th>\n",
       "      <td>1.750000</td>\n",
       "      <td>2015.500000</td>\n",
       "      <td>762.250000</td>\n",
       "    </tr>\n",
       "    <tr>\n",
       "      <th>Royals</th>\n",
       "      <td>2.500000</td>\n",
       "      <td>2014.500000</td>\n",
       "      <td>752.500000</td>\n",
       "    </tr>\n",
       "    <tr>\n",
       "      <th>kings</th>\n",
       "      <td>4.000000</td>\n",
       "      <td>2015.000000</td>\n",
       "      <td>812.000000</td>\n",
       "    </tr>\n",
       "  </tbody>\n",
       "</table>\n",
       "</div>"
      ],
      "text/plain": [
       "            Rank         Year      Points\n",
       "Team                                     \n",
       "Devils  2.500000  2014.500000  768.000000\n",
       "Kings   1.666667  2015.666667  761.666667\n",
       "Riders  1.750000  2015.500000  762.250000\n",
       "Royals  2.500000  2014.500000  752.500000\n",
       "kings   4.000000  2015.000000  812.000000"
      ]
     },
     "execution_count": 156,
     "metadata": {},
     "output_type": "execute_result"
    }
   ],
   "source": [
    "# 그룹 별 평균\n",
    "grouped.agg(np.mean)"
   ]
  },
  {
   "cell_type": "code",
   "execution_count": 157,
   "id": "32da70f4",
   "metadata": {},
   "outputs": [
    {
     "data": {
      "text/html": [
       "<div>\n",
       "<style scoped>\n",
       "    .dataframe tbody tr th:only-of-type {\n",
       "        vertical-align: middle;\n",
       "    }\n",
       "\n",
       "    .dataframe tbody tr th {\n",
       "        vertical-align: top;\n",
       "    }\n",
       "\n",
       "    .dataframe thead th {\n",
       "        text-align: right;\n",
       "    }\n",
       "</style>\n",
       "<table border=\"1\" class=\"dataframe\">\n",
       "  <thead>\n",
       "    <tr style=\"text-align: right;\">\n",
       "      <th></th>\n",
       "      <th>sum</th>\n",
       "      <th>mean</th>\n",
       "      <th>std</th>\n",
       "    </tr>\n",
       "    <tr>\n",
       "      <th>Team</th>\n",
       "      <th></th>\n",
       "      <th></th>\n",
       "      <th></th>\n",
       "    </tr>\n",
       "  </thead>\n",
       "  <tbody>\n",
       "    <tr>\n",
       "      <th>Devils</th>\n",
       "      <td>1536</td>\n",
       "      <td>768.000000</td>\n",
       "      <td>134.350288</td>\n",
       "    </tr>\n",
       "    <tr>\n",
       "      <th>Kings</th>\n",
       "      <td>2285</td>\n",
       "      <td>761.666667</td>\n",
       "      <td>24.006943</td>\n",
       "    </tr>\n",
       "    <tr>\n",
       "      <th>Riders</th>\n",
       "      <td>3049</td>\n",
       "      <td>762.250000</td>\n",
       "      <td>88.567771</td>\n",
       "    </tr>\n",
       "    <tr>\n",
       "      <th>Royals</th>\n",
       "      <td>1505</td>\n",
       "      <td>752.500000</td>\n",
       "      <td>72.831998</td>\n",
       "    </tr>\n",
       "    <tr>\n",
       "      <th>kings</th>\n",
       "      <td>812</td>\n",
       "      <td>812.000000</td>\n",
       "      <td>NaN</td>\n",
       "    </tr>\n",
       "  </tbody>\n",
       "</table>\n",
       "</div>"
      ],
      "text/plain": [
       "         sum        mean         std\n",
       "Team                                \n",
       "Devils  1536  768.000000  134.350288\n",
       "Kings   2285  761.666667   24.006943\n",
       "Riders  3049  762.250000   88.567771\n",
       "Royals  1505  752.500000   72.831998\n",
       "kings    812  812.000000         NaN"
      ]
     },
     "execution_count": 157,
     "metadata": {},
     "output_type": "execute_result"
    }
   ],
   "source": [
    "grouped[\"Points\"].agg([np.sum, np.mean, np.std])"
   ]
  },
  {
   "cell_type": "markdown",
   "id": "8f4f69d4",
   "metadata": {},
   "source": [
    "### Groupby - transformation\n",
    "- Agregation과 달리 key값 별로 요약된 정보가 아님\n",
    "- 개별 데이터의 변환을 지원함"
   ]
  },
  {
   "cell_type": "code",
   "execution_count": 160,
   "id": "50f2b3ac",
   "metadata": {},
   "outputs": [
    {
     "data": {
      "text/html": [
       "<div>\n",
       "<style scoped>\n",
       "    .dataframe tbody tr th:only-of-type {\n",
       "        vertical-align: middle;\n",
       "    }\n",
       "\n",
       "    .dataframe tbody tr th {\n",
       "        vertical-align: top;\n",
       "    }\n",
       "\n",
       "    .dataframe thead th {\n",
       "        text-align: right;\n",
       "    }\n",
       "</style>\n",
       "<table border=\"1\" class=\"dataframe\">\n",
       "  <thead>\n",
       "    <tr style=\"text-align: right;\">\n",
       "      <th></th>\n",
       "      <th>Rank</th>\n",
       "      <th>Year</th>\n",
       "      <th>Points</th>\n",
       "    </tr>\n",
       "  </thead>\n",
       "  <tbody>\n",
       "    <tr>\n",
       "      <th>0</th>\n",
       "      <td>-2.500000</td>\n",
       "      <td>452.800413</td>\n",
       "      <td>867.393596</td>\n",
       "    </tr>\n",
       "    <tr>\n",
       "      <th>1</th>\n",
       "      <td>-1.500000</td>\n",
       "      <td>453.800413</td>\n",
       "      <td>780.393596</td>\n",
       "    </tr>\n",
       "    <tr>\n",
       "      <th>2</th>\n",
       "      <td>-1.535534</td>\n",
       "      <td>-834.933221</td>\n",
       "      <td>857.283600</td>\n",
       "    </tr>\n",
       "    <tr>\n",
       "      <th>3</th>\n",
       "      <td>-0.535534</td>\n",
       "      <td>-833.933221</td>\n",
       "      <td>667.283600</td>\n",
       "    </tr>\n",
       "    <tr>\n",
       "      <th>4</th>\n",
       "      <td>1.556624</td>\n",
       "      <td>694.436418</td>\n",
       "      <td>709.273068</td>\n",
       "    </tr>\n",
       "    <tr>\n",
       "      <th>5</th>\n",
       "      <td>NaN</td>\n",
       "      <td>NaN</td>\n",
       "      <td>NaN</td>\n",
       "    </tr>\n",
       "    <tr>\n",
       "      <th>6</th>\n",
       "      <td>-0.443376</td>\n",
       "      <td>696.436418</td>\n",
       "      <td>724.273068</td>\n",
       "    </tr>\n",
       "    <tr>\n",
       "      <th>7</th>\n",
       "      <td>-0.443376</td>\n",
       "      <td>697.436418</td>\n",
       "      <td>756.273068</td>\n",
       "    </tr>\n",
       "    <tr>\n",
       "      <th>8</th>\n",
       "      <td>-1.500000</td>\n",
       "      <td>454.800413</td>\n",
       "      <td>685.393596</td>\n",
       "    </tr>\n",
       "    <tr>\n",
       "      <th>9</th>\n",
       "      <td>2.821489</td>\n",
       "      <td>-834.933221</td>\n",
       "      <td>690.668003</td>\n",
       "    </tr>\n",
       "    <tr>\n",
       "      <th>10</th>\n",
       "      <td>-0.178511</td>\n",
       "      <td>-833.933221</td>\n",
       "      <td>793.668003</td>\n",
       "    </tr>\n",
       "    <tr>\n",
       "      <th>11</th>\n",
       "      <td>-1.500000</td>\n",
       "      <td>455.800413</td>\n",
       "      <td>681.393596</td>\n",
       "    </tr>\n",
       "  </tbody>\n",
       "</table>\n",
       "</div>"
      ],
      "text/plain": [
       "        Rank        Year      Points\n",
       "0  -2.500000  452.800413  867.393596\n",
       "1  -1.500000  453.800413  780.393596\n",
       "2  -1.535534 -834.933221  857.283600\n",
       "3  -0.535534 -833.933221  667.283600\n",
       "4   1.556624  694.436418  709.273068\n",
       "5        NaN         NaN         NaN\n",
       "6  -0.443376  696.436418  724.273068\n",
       "7  -0.443376  697.436418  756.273068\n",
       "8  -1.500000  454.800413  685.393596\n",
       "9   2.821489 -834.933221  690.668003\n",
       "10 -0.178511 -833.933221  793.668003\n",
       "11 -1.500000  455.800413  681.393596"
      ]
     },
     "execution_count": 160,
     "metadata": {},
     "output_type": "execute_result"
    }
   ],
   "source": [
    "# group별 정규분포\n",
    "score = lambda x :(x - x.mean() / x.std())\n",
    "grouped.transform(score)"
   ]
  },
  {
   "cell_type": "markdown",
   "id": "ca00f691",
   "metadata": {},
   "source": [
    "### Groupby - filter\n",
    "- 특정 조건으로 데이터를 검색할 때 사용\n",
    "- filter안에는 boolean조건이 존재해야함\n",
    "- len(x)는 grouped된 dataframe개수\n",
    "- 자주 사용 O"
   ]
  },
  {
   "cell_type": "code",
   "execution_count": 163,
   "id": "110b68ff",
   "metadata": {},
   "outputs": [
    {
     "data": {
      "text/html": [
       "<div>\n",
       "<style scoped>\n",
       "    .dataframe tbody tr th:only-of-type {\n",
       "        vertical-align: middle;\n",
       "    }\n",
       "\n",
       "    .dataframe tbody tr th {\n",
       "        vertical-align: top;\n",
       "    }\n",
       "\n",
       "    .dataframe thead th {\n",
       "        text-align: right;\n",
       "    }\n",
       "</style>\n",
       "<table border=\"1\" class=\"dataframe\">\n",
       "  <thead>\n",
       "    <tr style=\"text-align: right;\">\n",
       "      <th></th>\n",
       "      <th>Team</th>\n",
       "      <th>Rank</th>\n",
       "      <th>Year</th>\n",
       "      <th>Points</th>\n",
       "    </tr>\n",
       "  </thead>\n",
       "  <tbody>\n",
       "    <tr>\n",
       "      <th>0</th>\n",
       "      <td>Riders</td>\n",
       "      <td>1</td>\n",
       "      <td>2014</td>\n",
       "      <td>876</td>\n",
       "    </tr>\n",
       "    <tr>\n",
       "      <th>1</th>\n",
       "      <td>Riders</td>\n",
       "      <td>2</td>\n",
       "      <td>2015</td>\n",
       "      <td>789</td>\n",
       "    </tr>\n",
       "    <tr>\n",
       "      <th>4</th>\n",
       "      <td>Kings</td>\n",
       "      <td>3</td>\n",
       "      <td>2014</td>\n",
       "      <td>741</td>\n",
       "    </tr>\n",
       "    <tr>\n",
       "      <th>6</th>\n",
       "      <td>Kings</td>\n",
       "      <td>1</td>\n",
       "      <td>2016</td>\n",
       "      <td>756</td>\n",
       "    </tr>\n",
       "    <tr>\n",
       "      <th>7</th>\n",
       "      <td>Kings</td>\n",
       "      <td>1</td>\n",
       "      <td>2017</td>\n",
       "      <td>788</td>\n",
       "    </tr>\n",
       "    <tr>\n",
       "      <th>8</th>\n",
       "      <td>Riders</td>\n",
       "      <td>2</td>\n",
       "      <td>2016</td>\n",
       "      <td>694</td>\n",
       "    </tr>\n",
       "    <tr>\n",
       "      <th>11</th>\n",
       "      <td>Riders</td>\n",
       "      <td>2</td>\n",
       "      <td>2017</td>\n",
       "      <td>690</td>\n",
       "    </tr>\n",
       "  </tbody>\n",
       "</table>\n",
       "</div>"
      ],
      "text/plain": [
       "      Team  Rank  Year  Points\n",
       "0   Riders     1  2014     876\n",
       "1   Riders     2  2015     789\n",
       "4    Kings     3  2014     741\n",
       "6    Kings     1  2016     756\n",
       "7    Kings     1  2017     788\n",
       "8   Riders     2  2016     694\n",
       "11  Riders     2  2017     690"
      ]
     },
     "execution_count": 163,
     "metadata": {},
     "output_type": "execute_result"
    }
   ],
   "source": [
    "# Data가 3개이상 있는 것만 , 3명이상 있는 팀만\n",
    "df.groupby(\"Team\").filter(lambda x : len(x) >= 3)"
   ]
  },
  {
   "cell_type": "markdown",
   "id": "4cf7b124",
   "metadata": {},
   "source": [
    "### Pivot Table\n",
    "- Gropuby에서 한것들을 Pivot Table로도 할 수 있다."
   ]
  },
  {
   "cell_type": "code",
   "execution_count": 165,
   "id": "147d92aa",
   "metadata": {
    "scrolled": true
   },
   "outputs": [
    {
     "data": {
      "text/html": [
       "<div>\n",
       "<style scoped>\n",
       "    .dataframe tbody tr th:only-of-type {\n",
       "        vertical-align: middle;\n",
       "    }\n",
       "\n",
       "    .dataframe tbody tr th {\n",
       "        vertical-align: top;\n",
       "    }\n",
       "\n",
       "    .dataframe thead th {\n",
       "        text-align: right;\n",
       "    }\n",
       "</style>\n",
       "<table border=\"1\" class=\"dataframe\">\n",
       "  <thead>\n",
       "    <tr style=\"text-align: right;\">\n",
       "      <th></th>\n",
       "      <th>index</th>\n",
       "      <th>date</th>\n",
       "      <th>duration</th>\n",
       "      <th>item</th>\n",
       "      <th>month</th>\n",
       "      <th>network</th>\n",
       "      <th>network_type</th>\n",
       "    </tr>\n",
       "  </thead>\n",
       "  <tbody>\n",
       "    <tr>\n",
       "      <th>0</th>\n",
       "      <td>0</td>\n",
       "      <td>2014-10-15 06:58:00</td>\n",
       "      <td>34.429</td>\n",
       "      <td>data</td>\n",
       "      <td>2014-11</td>\n",
       "      <td>data</td>\n",
       "      <td>data</td>\n",
       "    </tr>\n",
       "    <tr>\n",
       "      <th>1</th>\n",
       "      <td>1</td>\n",
       "      <td>2014-10-15 06:58:00</td>\n",
       "      <td>13.000</td>\n",
       "      <td>call</td>\n",
       "      <td>2014-11</td>\n",
       "      <td>Vodafone</td>\n",
       "      <td>mobile</td>\n",
       "    </tr>\n",
       "    <tr>\n",
       "      <th>2</th>\n",
       "      <td>2</td>\n",
       "      <td>2014-10-15 14:46:00</td>\n",
       "      <td>23.000</td>\n",
       "      <td>call</td>\n",
       "      <td>2014-11</td>\n",
       "      <td>Meteor</td>\n",
       "      <td>mobile</td>\n",
       "    </tr>\n",
       "    <tr>\n",
       "      <th>3</th>\n",
       "      <td>3</td>\n",
       "      <td>2014-10-15 14:48:00</td>\n",
       "      <td>4.000</td>\n",
       "      <td>call</td>\n",
       "      <td>2014-11</td>\n",
       "      <td>Tesco</td>\n",
       "      <td>mobile</td>\n",
       "    </tr>\n",
       "    <tr>\n",
       "      <th>4</th>\n",
       "      <td>4</td>\n",
       "      <td>2014-10-15 17:27:00</td>\n",
       "      <td>4.000</td>\n",
       "      <td>call</td>\n",
       "      <td>2014-11</td>\n",
       "      <td>Tesco</td>\n",
       "      <td>mobile</td>\n",
       "    </tr>\n",
       "  </tbody>\n",
       "</table>\n",
       "</div>"
      ],
      "text/plain": [
       "   index                date  duration  item    month   network network_type\n",
       "0      0 2014-10-15 06:58:00    34.429  data  2014-11      data         data\n",
       "1      1 2014-10-15 06:58:00    13.000  call  2014-11  Vodafone       mobile\n",
       "2      2 2014-10-15 14:46:00    23.000  call  2014-11    Meteor       mobile\n",
       "3      3 2014-10-15 14:48:00     4.000  call  2014-11     Tesco       mobile\n",
       "4      4 2014-10-15 17:27:00     4.000  call  2014-11     Tesco       mobile"
      ]
     },
     "execution_count": 165,
     "metadata": {},
     "output_type": "execute_result"
    }
   ],
   "source": [
    "import dateutil\n",
    "\n",
    "df_phone = pd.read_csv(\"phone_data.csv\")\n",
    "df_phone['date'] = df_phone['date'].apply(dateutil.parser.parse, dayfirst=True)\n",
    "df_phone.head()"
   ]
  },
  {
   "cell_type": "code",
   "execution_count": 167,
   "id": "1f895be3",
   "metadata": {
    "collapsed": true
   },
   "outputs": [
    {
     "data": {
      "text/html": [
       "<div>\n",
       "<style scoped>\n",
       "    .dataframe tbody tr th:only-of-type {\n",
       "        vertical-align: middle;\n",
       "    }\n",
       "\n",
       "    .dataframe tbody tr th {\n",
       "        vertical-align: top;\n",
       "    }\n",
       "\n",
       "    .dataframe thead tr th {\n",
       "        text-align: left;\n",
       "    }\n",
       "\n",
       "    .dataframe thead tr:last-of-type th {\n",
       "        text-align: right;\n",
       "    }\n",
       "</style>\n",
       "<table border=\"1\" class=\"dataframe\">\n",
       "  <thead>\n",
       "    <tr>\n",
       "      <th></th>\n",
       "      <th></th>\n",
       "      <th colspan=\"9\" halign=\"left\">duration</th>\n",
       "    </tr>\n",
       "    <tr>\n",
       "      <th></th>\n",
       "      <th>network</th>\n",
       "      <th>Meteor</th>\n",
       "      <th>Tesco</th>\n",
       "      <th>Three</th>\n",
       "      <th>Vodafone</th>\n",
       "      <th>data</th>\n",
       "      <th>landline</th>\n",
       "      <th>special</th>\n",
       "      <th>voicemail</th>\n",
       "      <th>world</th>\n",
       "    </tr>\n",
       "    <tr>\n",
       "      <th>month</th>\n",
       "      <th>item</th>\n",
       "      <th></th>\n",
       "      <th></th>\n",
       "      <th></th>\n",
       "      <th></th>\n",
       "      <th></th>\n",
       "      <th></th>\n",
       "      <th></th>\n",
       "      <th></th>\n",
       "      <th></th>\n",
       "    </tr>\n",
       "  </thead>\n",
       "  <tbody>\n",
       "    <tr>\n",
       "      <th rowspan=\"3\" valign=\"top\">2014-11</th>\n",
       "      <th>call</th>\n",
       "      <td>1521</td>\n",
       "      <td>4045</td>\n",
       "      <td>12458</td>\n",
       "      <td>4316</td>\n",
       "      <td>0.000</td>\n",
       "      <td>2906</td>\n",
       "      <td>0</td>\n",
       "      <td>301</td>\n",
       "      <td>0</td>\n",
       "    </tr>\n",
       "    <tr>\n",
       "      <th>data</th>\n",
       "      <td>0</td>\n",
       "      <td>0</td>\n",
       "      <td>0</td>\n",
       "      <td>0</td>\n",
       "      <td>998.441</td>\n",
       "      <td>0</td>\n",
       "      <td>0</td>\n",
       "      <td>0</td>\n",
       "      <td>0</td>\n",
       "    </tr>\n",
       "    <tr>\n",
       "      <th>sms</th>\n",
       "      <td>10</td>\n",
       "      <td>3</td>\n",
       "      <td>25</td>\n",
       "      <td>55</td>\n",
       "      <td>0.000</td>\n",
       "      <td>0</td>\n",
       "      <td>1</td>\n",
       "      <td>0</td>\n",
       "      <td>0</td>\n",
       "    </tr>\n",
       "    <tr>\n",
       "      <th rowspan=\"3\" valign=\"top\">2014-12</th>\n",
       "      <th>call</th>\n",
       "      <td>2010</td>\n",
       "      <td>1819</td>\n",
       "      <td>6316</td>\n",
       "      <td>1302</td>\n",
       "      <td>0.000</td>\n",
       "      <td>1424</td>\n",
       "      <td>0</td>\n",
       "      <td>690</td>\n",
       "      <td>0</td>\n",
       "    </tr>\n",
       "    <tr>\n",
       "      <th>data</th>\n",
       "      <td>0</td>\n",
       "      <td>0</td>\n",
       "      <td>0</td>\n",
       "      <td>0</td>\n",
       "      <td>1032.870</td>\n",
       "      <td>0</td>\n",
       "      <td>0</td>\n",
       "      <td>0</td>\n",
       "      <td>0</td>\n",
       "    </tr>\n",
       "    <tr>\n",
       "      <th>sms</th>\n",
       "      <td>12</td>\n",
       "      <td>1</td>\n",
       "      <td>13</td>\n",
       "      <td>18</td>\n",
       "      <td>0.000</td>\n",
       "      <td>0</td>\n",
       "      <td>0</td>\n",
       "      <td>0</td>\n",
       "      <td>4</td>\n",
       "    </tr>\n",
       "    <tr>\n",
       "      <th rowspan=\"3\" valign=\"top\">2015-01</th>\n",
       "      <th>call</th>\n",
       "      <td>2207</td>\n",
       "      <td>2904</td>\n",
       "      <td>6445</td>\n",
       "      <td>3626</td>\n",
       "      <td>0.000</td>\n",
       "      <td>1603</td>\n",
       "      <td>0</td>\n",
       "      <td>285</td>\n",
       "      <td>0</td>\n",
       "    </tr>\n",
       "    <tr>\n",
       "      <th>data</th>\n",
       "      <td>0</td>\n",
       "      <td>0</td>\n",
       "      <td>0</td>\n",
       "      <td>0</td>\n",
       "      <td>1067.299</td>\n",
       "      <td>0</td>\n",
       "      <td>0</td>\n",
       "      <td>0</td>\n",
       "      <td>0</td>\n",
       "    </tr>\n",
       "    <tr>\n",
       "      <th>sms</th>\n",
       "      <td>10</td>\n",
       "      <td>3</td>\n",
       "      <td>33</td>\n",
       "      <td>40</td>\n",
       "      <td>0.000</td>\n",
       "      <td>0</td>\n",
       "      <td>0</td>\n",
       "      <td>0</td>\n",
       "      <td>0</td>\n",
       "    </tr>\n",
       "    <tr>\n",
       "      <th rowspan=\"3\" valign=\"top\">2015-02</th>\n",
       "      <th>call</th>\n",
       "      <td>1188</td>\n",
       "      <td>4087</td>\n",
       "      <td>6279</td>\n",
       "      <td>1864</td>\n",
       "      <td>0.000</td>\n",
       "      <td>730</td>\n",
       "      <td>0</td>\n",
       "      <td>268</td>\n",
       "      <td>0</td>\n",
       "    </tr>\n",
       "    <tr>\n",
       "      <th>data</th>\n",
       "      <td>0</td>\n",
       "      <td>0</td>\n",
       "      <td>0</td>\n",
       "      <td>0</td>\n",
       "      <td>1067.299</td>\n",
       "      <td>0</td>\n",
       "      <td>0</td>\n",
       "      <td>0</td>\n",
       "      <td>0</td>\n",
       "    </tr>\n",
       "    <tr>\n",
       "      <th>sms</th>\n",
       "      <td>1</td>\n",
       "      <td>2</td>\n",
       "      <td>11</td>\n",
       "      <td>23</td>\n",
       "      <td>0.000</td>\n",
       "      <td>0</td>\n",
       "      <td>2</td>\n",
       "      <td>0</td>\n",
       "      <td>0</td>\n",
       "    </tr>\n",
       "    <tr>\n",
       "      <th rowspan=\"3\" valign=\"top\">2015-03</th>\n",
       "      <th>call</th>\n",
       "      <td>274</td>\n",
       "      <td>973</td>\n",
       "      <td>4966</td>\n",
       "      <td>3513</td>\n",
       "      <td>0.000</td>\n",
       "      <td>11770</td>\n",
       "      <td>0</td>\n",
       "      <td>231</td>\n",
       "      <td>0</td>\n",
       "    </tr>\n",
       "    <tr>\n",
       "      <th>data</th>\n",
       "      <td>0</td>\n",
       "      <td>0</td>\n",
       "      <td>0</td>\n",
       "      <td>0</td>\n",
       "      <td>998.441</td>\n",
       "      <td>0</td>\n",
       "      <td>0</td>\n",
       "      <td>0</td>\n",
       "      <td>0</td>\n",
       "    </tr>\n",
       "    <tr>\n",
       "      <th>sms</th>\n",
       "      <td>0</td>\n",
       "      <td>4</td>\n",
       "      <td>5</td>\n",
       "      <td>13</td>\n",
       "      <td>0.000</td>\n",
       "      <td>0</td>\n",
       "      <td>0</td>\n",
       "      <td>0</td>\n",
       "      <td>3</td>\n",
       "    </tr>\n",
       "  </tbody>\n",
       "</table>\n",
       "</div>"
      ],
      "text/plain": [
       "             duration                                                   \\\n",
       "network        Meteor Tesco  Three Vodafone      data landline special   \n",
       "month   item                                                             \n",
       "2014-11 call     1521  4045  12458     4316     0.000     2906       0   \n",
       "        data        0     0      0        0   998.441        0       0   \n",
       "        sms        10     3     25       55     0.000        0       1   \n",
       "2014-12 call     2010  1819   6316     1302     0.000     1424       0   \n",
       "        data        0     0      0        0  1032.870        0       0   \n",
       "        sms        12     1     13       18     0.000        0       0   \n",
       "2015-01 call     2207  2904   6445     3626     0.000     1603       0   \n",
       "        data        0     0      0        0  1067.299        0       0   \n",
       "        sms        10     3     33       40     0.000        0       0   \n",
       "2015-02 call     1188  4087   6279     1864     0.000      730       0   \n",
       "        data        0     0      0        0  1067.299        0       0   \n",
       "        sms         1     2     11       23     0.000        0       2   \n",
       "2015-03 call      274   973   4966     3513     0.000    11770       0   \n",
       "        data        0     0      0        0   998.441        0       0   \n",
       "        sms         0     4      5       13     0.000        0       0   \n",
       "\n",
       "                              \n",
       "network      voicemail world  \n",
       "month   item                  \n",
       "2014-11 call       301     0  \n",
       "        data         0     0  \n",
       "        sms          0     0  \n",
       "2014-12 call       690     0  \n",
       "        data         0     0  \n",
       "        sms          0     4  \n",
       "2015-01 call       285     0  \n",
       "        data         0     0  \n",
       "        sms          0     0  \n",
       "2015-02 call       268     0  \n",
       "        data         0     0  \n",
       "        sms          0     0  \n",
       "2015-03 call       231     0  \n",
       "        data         0     0  \n",
       "        sms          0     3  "
      ]
     },
     "execution_count": 167,
     "metadata": {},
     "output_type": "execute_result"
    }
   ],
   "source": [
    "# duration의 Data에서 moth, item / network column선택 후 sum으로 aggregation한다.\n",
    "df_phone.pivot_table([\"duration\"],\n",
    "                     index=[df_phone.month,df_phone.item], \n",
    "                     columns=df_phone.network, aggfunc=\"sum\", fill_value=0)"
   ]
  },
  {
   "cell_type": "markdown",
   "id": "736a58fc",
   "metadata": {},
   "source": [
    "### Crosstab\n",
    "- 특히 두 column의 교차 빈도, 비율, 덧셈 등을 구할 때 사용\n",
    "- Pivot table의 특수한 형태\n",
    "- User-Item Rating Matrix 등을 만들 때 사용 가능함"
   ]
  },
  {
   "cell_type": "code",
   "execution_count": 169,
   "id": "6de545d8",
   "metadata": {},
   "outputs": [
    {
     "data": {
      "text/html": [
       "<div>\n",
       "<style scoped>\n",
       "    .dataframe tbody tr th:only-of-type {\n",
       "        vertical-align: middle;\n",
       "    }\n",
       "\n",
       "    .dataframe tbody tr th {\n",
       "        vertical-align: top;\n",
       "    }\n",
       "\n",
       "    .dataframe thead th {\n",
       "        text-align: right;\n",
       "    }\n",
       "</style>\n",
       "<table border=\"1\" class=\"dataframe\">\n",
       "  <thead>\n",
       "    <tr style=\"text-align: right;\">\n",
       "      <th></th>\n",
       "      <th>critic</th>\n",
       "      <th>title</th>\n",
       "      <th>rating</th>\n",
       "    </tr>\n",
       "  </thead>\n",
       "  <tbody>\n",
       "    <tr>\n",
       "      <th>0</th>\n",
       "      <td>Jack Matthews</td>\n",
       "      <td>Lady in the Water</td>\n",
       "      <td>3.0</td>\n",
       "    </tr>\n",
       "    <tr>\n",
       "      <th>1</th>\n",
       "      <td>Jack Matthews</td>\n",
       "      <td>Snakes on a Plane</td>\n",
       "      <td>4.0</td>\n",
       "    </tr>\n",
       "    <tr>\n",
       "      <th>2</th>\n",
       "      <td>Jack Matthews</td>\n",
       "      <td>You Me and Dupree</td>\n",
       "      <td>3.5</td>\n",
       "    </tr>\n",
       "    <tr>\n",
       "      <th>3</th>\n",
       "      <td>Jack Matthews</td>\n",
       "      <td>Superman Returns</td>\n",
       "      <td>5.0</td>\n",
       "    </tr>\n",
       "    <tr>\n",
       "      <th>4</th>\n",
       "      <td>Jack Matthews</td>\n",
       "      <td>The Night Listener</td>\n",
       "      <td>3.0</td>\n",
       "    </tr>\n",
       "  </tbody>\n",
       "</table>\n",
       "</div>"
      ],
      "text/plain": [
       "          critic               title  rating\n",
       "0  Jack Matthews   Lady in the Water     3.0\n",
       "1  Jack Matthews   Snakes on a Plane     4.0\n",
       "2  Jack Matthews   You Me and Dupree     3.5\n",
       "3  Jack Matthews    Superman Returns     5.0\n",
       "4  Jack Matthews  The Night Listener     3.0"
      ]
     },
     "execution_count": 169,
     "metadata": {},
     "output_type": "execute_result"
    }
   ],
   "source": [
    "df_movie = pd.read_csv(\"movie_rating.csv\")\n",
    "df_movie.head()"
   ]
  },
  {
   "cell_type": "code",
   "execution_count": 170,
   "id": "132ecb6a",
   "metadata": {},
   "outputs": [
    {
     "data": {
      "text/html": [
       "<div>\n",
       "<style scoped>\n",
       "    .dataframe tbody tr th:only-of-type {\n",
       "        vertical-align: middle;\n",
       "    }\n",
       "\n",
       "    .dataframe tbody tr th {\n",
       "        vertical-align: top;\n",
       "    }\n",
       "\n",
       "    .dataframe thead tr th {\n",
       "        text-align: left;\n",
       "    }\n",
       "\n",
       "    .dataframe thead tr:last-of-type th {\n",
       "        text-align: right;\n",
       "    }\n",
       "</style>\n",
       "<table border=\"1\" class=\"dataframe\">\n",
       "  <thead>\n",
       "    <tr>\n",
       "      <th></th>\n",
       "      <th colspan=\"6\" halign=\"left\">rating</th>\n",
       "    </tr>\n",
       "    <tr>\n",
       "      <th>title</th>\n",
       "      <th>Just My Luck</th>\n",
       "      <th>Lady in the Water</th>\n",
       "      <th>Snakes on a Plane</th>\n",
       "      <th>Superman Returns</th>\n",
       "      <th>The Night Listener</th>\n",
       "      <th>You Me and Dupree</th>\n",
       "    </tr>\n",
       "    <tr>\n",
       "      <th>critic</th>\n",
       "      <th></th>\n",
       "      <th></th>\n",
       "      <th></th>\n",
       "      <th></th>\n",
       "      <th></th>\n",
       "      <th></th>\n",
       "    </tr>\n",
       "  </thead>\n",
       "  <tbody>\n",
       "    <tr>\n",
       "      <th>Claudia Puig</th>\n",
       "      <td>3.0</td>\n",
       "      <td>0.0</td>\n",
       "      <td>3.5</td>\n",
       "      <td>4.0</td>\n",
       "      <td>4.5</td>\n",
       "      <td>2.5</td>\n",
       "    </tr>\n",
       "    <tr>\n",
       "      <th>Gene Seymour</th>\n",
       "      <td>1.5</td>\n",
       "      <td>3.0</td>\n",
       "      <td>3.5</td>\n",
       "      <td>5.0</td>\n",
       "      <td>3.0</td>\n",
       "      <td>3.5</td>\n",
       "    </tr>\n",
       "    <tr>\n",
       "      <th>Jack Matthews</th>\n",
       "      <td>0.0</td>\n",
       "      <td>3.0</td>\n",
       "      <td>4.0</td>\n",
       "      <td>5.0</td>\n",
       "      <td>3.0</td>\n",
       "      <td>3.5</td>\n",
       "    </tr>\n",
       "    <tr>\n",
       "      <th>Lisa Rose</th>\n",
       "      <td>3.0</td>\n",
       "      <td>2.5</td>\n",
       "      <td>3.5</td>\n",
       "      <td>3.5</td>\n",
       "      <td>3.0</td>\n",
       "      <td>2.5</td>\n",
       "    </tr>\n",
       "    <tr>\n",
       "      <th>Mick LaSalle</th>\n",
       "      <td>2.0</td>\n",
       "      <td>3.0</td>\n",
       "      <td>4.0</td>\n",
       "      <td>3.0</td>\n",
       "      <td>3.0</td>\n",
       "      <td>2.0</td>\n",
       "    </tr>\n",
       "    <tr>\n",
       "      <th>Toby</th>\n",
       "      <td>0.0</td>\n",
       "      <td>0.0</td>\n",
       "      <td>4.5</td>\n",
       "      <td>4.0</td>\n",
       "      <td>0.0</td>\n",
       "      <td>1.0</td>\n",
       "    </tr>\n",
       "  </tbody>\n",
       "</table>\n",
       "</div>"
      ],
      "text/plain": [
       "                    rating                                      \\\n",
       "title         Just My Luck Lady in the Water Snakes on a Plane   \n",
       "critic                                                           \n",
       "Claudia Puig           3.0               0.0               3.5   \n",
       "Gene Seymour           1.5               3.0               3.5   \n",
       "Jack Matthews          0.0               3.0               4.0   \n",
       "Lisa Rose              3.0               2.5               3.5   \n",
       "Mick LaSalle           2.0               3.0               4.0   \n",
       "Toby                   0.0               0.0               4.5   \n",
       "\n",
       "                                                                     \n",
       "title         Superman Returns The Night Listener You Me and Dupree  \n",
       "critic                                                               \n",
       "Claudia Puig               4.0                4.5               2.5  \n",
       "Gene Seymour               5.0                3.0               3.5  \n",
       "Jack Matthews              5.0                3.0               3.5  \n",
       "Lisa Rose                  3.5                3.0               2.5  \n",
       "Mick LaSalle               3.0                3.0               2.0  \n",
       "Toby                       4.0                0.0               1.0  "
      ]
     },
     "execution_count": 170,
     "metadata": {},
     "output_type": "execute_result"
    }
   ],
   "source": [
    "# Pivot Table생성\n",
    "df_movie.pivot_table([\"rating\"], index=df_movie.critic, columns=df_movie.title, aggfunc=\"sum\", fill_value=0)"
   ]
  },
  {
   "cell_type": "code",
   "execution_count": 177,
   "id": "8987f402",
   "metadata": {},
   "outputs": [
    {
     "data": {
      "text/html": [
       "<div>\n",
       "<style scoped>\n",
       "    .dataframe tbody tr th:only-of-type {\n",
       "        vertical-align: middle;\n",
       "    }\n",
       "\n",
       "    .dataframe tbody tr th {\n",
       "        vertical-align: top;\n",
       "    }\n",
       "\n",
       "    .dataframe thead th {\n",
       "        text-align: right;\n",
       "    }\n",
       "</style>\n",
       "<table border=\"1\" class=\"dataframe\">\n",
       "  <thead>\n",
       "    <tr style=\"text-align: right;\">\n",
       "      <th>title</th>\n",
       "      <th>Just My Luck</th>\n",
       "      <th>Lady in the Water</th>\n",
       "      <th>Snakes on a Plane</th>\n",
       "      <th>Superman Returns</th>\n",
       "      <th>The Night Listener</th>\n",
       "      <th>You Me and Dupree</th>\n",
       "    </tr>\n",
       "    <tr>\n",
       "      <th>critic</th>\n",
       "      <th></th>\n",
       "      <th></th>\n",
       "      <th></th>\n",
       "      <th></th>\n",
       "      <th></th>\n",
       "      <th></th>\n",
       "    </tr>\n",
       "  </thead>\n",
       "  <tbody>\n",
       "    <tr>\n",
       "      <th>Claudia Puig</th>\n",
       "      <td>3.0</td>\n",
       "      <td>0.0</td>\n",
       "      <td>3.5</td>\n",
       "      <td>4.0</td>\n",
       "      <td>4.5</td>\n",
       "      <td>2.5</td>\n",
       "    </tr>\n",
       "    <tr>\n",
       "      <th>Gene Seymour</th>\n",
       "      <td>1.5</td>\n",
       "      <td>3.0</td>\n",
       "      <td>3.5</td>\n",
       "      <td>5.0</td>\n",
       "      <td>3.0</td>\n",
       "      <td>3.5</td>\n",
       "    </tr>\n",
       "    <tr>\n",
       "      <th>Jack Matthews</th>\n",
       "      <td>0.0</td>\n",
       "      <td>3.0</td>\n",
       "      <td>4.0</td>\n",
       "      <td>5.0</td>\n",
       "      <td>3.0</td>\n",
       "      <td>3.5</td>\n",
       "    </tr>\n",
       "    <tr>\n",
       "      <th>Lisa Rose</th>\n",
       "      <td>3.0</td>\n",
       "      <td>2.5</td>\n",
       "      <td>3.5</td>\n",
       "      <td>3.5</td>\n",
       "      <td>3.0</td>\n",
       "      <td>2.5</td>\n",
       "    </tr>\n",
       "    <tr>\n",
       "      <th>Mick LaSalle</th>\n",
       "      <td>2.0</td>\n",
       "      <td>3.0</td>\n",
       "      <td>4.0</td>\n",
       "      <td>3.0</td>\n",
       "      <td>3.0</td>\n",
       "      <td>2.0</td>\n",
       "    </tr>\n",
       "    <tr>\n",
       "      <th>Toby</th>\n",
       "      <td>0.0</td>\n",
       "      <td>0.0</td>\n",
       "      <td>4.5</td>\n",
       "      <td>4.0</td>\n",
       "      <td>0.0</td>\n",
       "      <td>1.0</td>\n",
       "    </tr>\n",
       "  </tbody>\n",
       "</table>\n",
       "</div>"
      ],
      "text/plain": [
       "title          Just My Luck  Lady in the Water  Snakes on a Plane  \\\n",
       "critic                                                              \n",
       "Claudia Puig            3.0                0.0                3.5   \n",
       "Gene Seymour            1.5                3.0                3.5   \n",
       "Jack Matthews           0.0                3.0                4.0   \n",
       "Lisa Rose               3.0                2.5                3.5   \n",
       "Mick LaSalle            2.0                3.0                4.0   \n",
       "Toby                    0.0                0.0                4.5   \n",
       "\n",
       "title          Superman Returns  The Night Listener  You Me and Dupree  \n",
       "critic                                                                  \n",
       "Claudia Puig                4.0                 4.5                2.5  \n",
       "Gene Seymour                5.0                 3.0                3.5  \n",
       "Jack Matthews               5.0                 3.0                3.5  \n",
       "Lisa Rose                   3.5                 3.0                2.5  \n",
       "Mick LaSalle                3.0                 3.0                2.0  \n",
       "Toby                        4.0                 0.0                1.0  "
      ]
     },
     "execution_count": 177,
     "metadata": {},
     "output_type": "execute_result"
    }
   ],
   "source": [
    "# corsstab 생성\n",
    "# index에는 critic을 / column에는 title / values(data) 는 rating을 넣어준뒤 aggfuc와 fillna 설정\n",
    "\n",
    "pd.crosstab(index=df_movie.critic,columns=df_movie.title,values=df_movie.rating,aggfunc=\"first\").fillna(0)"
   ]
  },
  {
   "cell_type": "code",
   "execution_count": 178,
   "id": "7dca2677",
   "metadata": {},
   "outputs": [],
   "source": [
    "# 실제 데이터에서는 is_null()로 없는 데이터를 걸러준다.\n",
    "# df = df[df[\"index\"].isnull() == False]"
   ]
  },
  {
   "cell_type": "markdown",
   "id": "24d6b1de",
   "metadata": {},
   "source": [
    "### Merge\n",
    "- SQL에서 많이 사용하는 Merge와 같은 기능\n",
    "- 두 개의 데이터를 하나로 합침\n",
    "- 여러 데이터에 같은 대상의 정보가 흩어져있을 때 사용"
   ]
  },
  {
   "cell_type": "code",
   "execution_count": 182,
   "id": "bb150fd8",
   "metadata": {},
   "outputs": [],
   "source": [
    "raw_data = {\n",
    "        'subject_id': ['1', '2', '3', '4', '5', '7', '8', '9', '10', '11'],\n",
    "        'test_score': [51, 15, 15, 61, 16, 14, 15, 1, 61, 16]}\n",
    "df_a = pd.DataFrame(raw_data, columns = ['subject_id', 'test_score'])\n",
    "\n",
    "raw_data = {\n",
    "        'subject_id': ['4', '5', '6', '7', '8'],\n",
    "        'first_name': ['Billy', 'Brian', 'Bran', 'Bryce', 'Betty'], \n",
    "        'last_name': ['Bonder', 'Black', 'Balwner', 'Brice', 'Btisan']}\n",
    "df_b = pd.DataFrame(raw_data, columns = ['subject_id', 'first_name', 'last_name'])"
   ]
  },
  {
   "cell_type": "code",
   "execution_count": 183,
   "id": "fabf8e63",
   "metadata": {},
   "outputs": [
    {
     "data": {
      "text/html": [
       "<div>\n",
       "<style scoped>\n",
       "    .dataframe tbody tr th:only-of-type {\n",
       "        vertical-align: middle;\n",
       "    }\n",
       "\n",
       "    .dataframe tbody tr th {\n",
       "        vertical-align: top;\n",
       "    }\n",
       "\n",
       "    .dataframe thead th {\n",
       "        text-align: right;\n",
       "    }\n",
       "</style>\n",
       "<table border=\"1\" class=\"dataframe\">\n",
       "  <thead>\n",
       "    <tr style=\"text-align: right;\">\n",
       "      <th></th>\n",
       "      <th>subject_id</th>\n",
       "      <th>test_score</th>\n",
       "      <th>first_name</th>\n",
       "      <th>last_name</th>\n",
       "    </tr>\n",
       "  </thead>\n",
       "  <tbody>\n",
       "    <tr>\n",
       "      <th>0</th>\n",
       "      <td>4</td>\n",
       "      <td>61</td>\n",
       "      <td>Billy</td>\n",
       "      <td>Bonder</td>\n",
       "    </tr>\n",
       "    <tr>\n",
       "      <th>1</th>\n",
       "      <td>5</td>\n",
       "      <td>16</td>\n",
       "      <td>Brian</td>\n",
       "      <td>Black</td>\n",
       "    </tr>\n",
       "    <tr>\n",
       "      <th>2</th>\n",
       "      <td>7</td>\n",
       "      <td>14</td>\n",
       "      <td>Bryce</td>\n",
       "      <td>Brice</td>\n",
       "    </tr>\n",
       "    <tr>\n",
       "      <th>3</th>\n",
       "      <td>8</td>\n",
       "      <td>15</td>\n",
       "      <td>Betty</td>\n",
       "      <td>Btisan</td>\n",
       "    </tr>\n",
       "  </tbody>\n",
       "</table>\n",
       "</div>"
      ],
      "text/plain": [
       "  subject_id  test_score first_name last_name\n",
       "0          4          61      Billy    Bonder\n",
       "1          5          16      Brian     Black\n",
       "2          7          14      Bryce     Brice\n",
       "3          8          15      Betty    Btisan"
      ]
     },
     "execution_count": 183,
     "metadata": {},
     "output_type": "execute_result"
    }
   ],
   "source": [
    "pd.merge(df_a, df_b, on = \"subject_id\")"
   ]
  },
  {
   "cell_type": "code",
   "execution_count": 184,
   "id": "3070d97a",
   "metadata": {},
   "outputs": [
    {
     "data": {
      "text/html": [
       "<div>\n",
       "<style scoped>\n",
       "    .dataframe tbody tr th:only-of-type {\n",
       "        vertical-align: middle;\n",
       "    }\n",
       "\n",
       "    .dataframe tbody tr th {\n",
       "        vertical-align: top;\n",
       "    }\n",
       "\n",
       "    .dataframe thead th {\n",
       "        text-align: right;\n",
       "    }\n",
       "</style>\n",
       "<table border=\"1\" class=\"dataframe\">\n",
       "  <thead>\n",
       "    <tr style=\"text-align: right;\">\n",
       "      <th></th>\n",
       "      <th>subject_id</th>\n",
       "      <th>test_score</th>\n",
       "      <th>first_name</th>\n",
       "      <th>last_name</th>\n",
       "    </tr>\n",
       "  </thead>\n",
       "  <tbody>\n",
       "    <tr>\n",
       "      <th>0</th>\n",
       "      <td>4</td>\n",
       "      <td>61</td>\n",
       "      <td>Billy</td>\n",
       "      <td>Bonder</td>\n",
       "    </tr>\n",
       "    <tr>\n",
       "      <th>1</th>\n",
       "      <td>5</td>\n",
       "      <td>16</td>\n",
       "      <td>Brian</td>\n",
       "      <td>Black</td>\n",
       "    </tr>\n",
       "    <tr>\n",
       "      <th>2</th>\n",
       "      <td>7</td>\n",
       "      <td>14</td>\n",
       "      <td>Bryce</td>\n",
       "      <td>Brice</td>\n",
       "    </tr>\n",
       "    <tr>\n",
       "      <th>3</th>\n",
       "      <td>8</td>\n",
       "      <td>15</td>\n",
       "      <td>Betty</td>\n",
       "      <td>Btisan</td>\n",
       "    </tr>\n",
       "  </tbody>\n",
       "</table>\n",
       "</div>"
      ],
      "text/plain": [
       "  subject_id  test_score first_name last_name\n",
       "0          4          61      Billy    Bonder\n",
       "1          5          16      Brian     Black\n",
       "2          7          14      Bryce     Brice\n",
       "3          8          15      Betty    Btisan"
      ]
     },
     "execution_count": 184,
     "metadata": {},
     "output_type": "execute_result"
    }
   ],
   "source": [
    "# 두 dataframe이 column이름이 다를 때\n",
    "pd.merge(df_a, df_b, left_on='subject_id', right_on='subject_id')"
   ]
  },
  {
   "cell_type": "code",
   "execution_count": 185,
   "id": "572986e4",
   "metadata": {
    "scrolled": true
   },
   "outputs": [
    {
     "data": {
      "text/html": [
       "<div>\n",
       "<style scoped>\n",
       "    .dataframe tbody tr th:only-of-type {\n",
       "        vertical-align: middle;\n",
       "    }\n",
       "\n",
       "    .dataframe tbody tr th {\n",
       "        vertical-align: top;\n",
       "    }\n",
       "\n",
       "    .dataframe thead th {\n",
       "        text-align: right;\n",
       "    }\n",
       "</style>\n",
       "<table border=\"1\" class=\"dataframe\">\n",
       "  <thead>\n",
       "    <tr style=\"text-align: right;\">\n",
       "      <th></th>\n",
       "      <th>subject_id</th>\n",
       "      <th>test_score</th>\n",
       "      <th>first_name</th>\n",
       "      <th>last_name</th>\n",
       "    </tr>\n",
       "  </thead>\n",
       "  <tbody>\n",
       "    <tr>\n",
       "      <th>0</th>\n",
       "      <td>1</td>\n",
       "      <td>51</td>\n",
       "      <td>NaN</td>\n",
       "      <td>NaN</td>\n",
       "    </tr>\n",
       "    <tr>\n",
       "      <th>1</th>\n",
       "      <td>2</td>\n",
       "      <td>15</td>\n",
       "      <td>NaN</td>\n",
       "      <td>NaN</td>\n",
       "    </tr>\n",
       "    <tr>\n",
       "      <th>2</th>\n",
       "      <td>3</td>\n",
       "      <td>15</td>\n",
       "      <td>NaN</td>\n",
       "      <td>NaN</td>\n",
       "    </tr>\n",
       "    <tr>\n",
       "      <th>3</th>\n",
       "      <td>4</td>\n",
       "      <td>61</td>\n",
       "      <td>Billy</td>\n",
       "      <td>Bonder</td>\n",
       "    </tr>\n",
       "    <tr>\n",
       "      <th>4</th>\n",
       "      <td>5</td>\n",
       "      <td>16</td>\n",
       "      <td>Brian</td>\n",
       "      <td>Black</td>\n",
       "    </tr>\n",
       "    <tr>\n",
       "      <th>5</th>\n",
       "      <td>7</td>\n",
       "      <td>14</td>\n",
       "      <td>Bryce</td>\n",
       "      <td>Brice</td>\n",
       "    </tr>\n",
       "    <tr>\n",
       "      <th>6</th>\n",
       "      <td>8</td>\n",
       "      <td>15</td>\n",
       "      <td>Betty</td>\n",
       "      <td>Btisan</td>\n",
       "    </tr>\n",
       "    <tr>\n",
       "      <th>7</th>\n",
       "      <td>9</td>\n",
       "      <td>1</td>\n",
       "      <td>NaN</td>\n",
       "      <td>NaN</td>\n",
       "    </tr>\n",
       "    <tr>\n",
       "      <th>8</th>\n",
       "      <td>10</td>\n",
       "      <td>61</td>\n",
       "      <td>NaN</td>\n",
       "      <td>NaN</td>\n",
       "    </tr>\n",
       "    <tr>\n",
       "      <th>9</th>\n",
       "      <td>11</td>\n",
       "      <td>16</td>\n",
       "      <td>NaN</td>\n",
       "      <td>NaN</td>\n",
       "    </tr>\n",
       "  </tbody>\n",
       "</table>\n",
       "</div>"
      ],
      "text/plain": [
       "  subject_id  test_score first_name last_name\n",
       "0          1          51        NaN       NaN\n",
       "1          2          15        NaN       NaN\n",
       "2          3          15        NaN       NaN\n",
       "3          4          61      Billy    Bonder\n",
       "4          5          16      Brian     Black\n",
       "5          7          14      Bryce     Brice\n",
       "6          8          15      Betty    Btisan\n",
       "7          9           1        NaN       NaN\n",
       "8         10          61        NaN       NaN\n",
       "9         11          16        NaN       NaN"
      ]
     },
     "execution_count": 185,
     "metadata": {},
     "output_type": "execute_result"
    }
   ],
   "source": [
    "pd.merge(df_a, df_b, on='subject_id', how='left')"
   ]
  },
  {
   "cell_type": "markdown",
   "id": "d636186d",
   "metadata": {},
   "source": [
    "### Index based join\n",
    "- Index를 살리고 싶을 때"
   ]
  },
  {
   "cell_type": "code",
   "execution_count": 186,
   "id": "2f12dab7",
   "metadata": {},
   "outputs": [
    {
     "data": {
      "text/html": [
       "<div>\n",
       "<style scoped>\n",
       "    .dataframe tbody tr th:only-of-type {\n",
       "        vertical-align: middle;\n",
       "    }\n",
       "\n",
       "    .dataframe tbody tr th {\n",
       "        vertical-align: top;\n",
       "    }\n",
       "\n",
       "    .dataframe thead th {\n",
       "        text-align: right;\n",
       "    }\n",
       "</style>\n",
       "<table border=\"1\" class=\"dataframe\">\n",
       "  <thead>\n",
       "    <tr style=\"text-align: right;\">\n",
       "      <th></th>\n",
       "      <th>subject_id_x</th>\n",
       "      <th>test_score</th>\n",
       "      <th>subject_id_y</th>\n",
       "      <th>first_name</th>\n",
       "      <th>last_name</th>\n",
       "    </tr>\n",
       "  </thead>\n",
       "  <tbody>\n",
       "    <tr>\n",
       "      <th>0</th>\n",
       "      <td>1</td>\n",
       "      <td>51</td>\n",
       "      <td>4</td>\n",
       "      <td>Billy</td>\n",
       "      <td>Bonder</td>\n",
       "    </tr>\n",
       "    <tr>\n",
       "      <th>1</th>\n",
       "      <td>2</td>\n",
       "      <td>15</td>\n",
       "      <td>5</td>\n",
       "      <td>Brian</td>\n",
       "      <td>Black</td>\n",
       "    </tr>\n",
       "    <tr>\n",
       "      <th>2</th>\n",
       "      <td>3</td>\n",
       "      <td>15</td>\n",
       "      <td>6</td>\n",
       "      <td>Bran</td>\n",
       "      <td>Balwner</td>\n",
       "    </tr>\n",
       "    <tr>\n",
       "      <th>3</th>\n",
       "      <td>4</td>\n",
       "      <td>61</td>\n",
       "      <td>7</td>\n",
       "      <td>Bryce</td>\n",
       "      <td>Brice</td>\n",
       "    </tr>\n",
       "    <tr>\n",
       "      <th>4</th>\n",
       "      <td>5</td>\n",
       "      <td>16</td>\n",
       "      <td>8</td>\n",
       "      <td>Betty</td>\n",
       "      <td>Btisan</td>\n",
       "    </tr>\n",
       "  </tbody>\n",
       "</table>\n",
       "</div>"
      ],
      "text/plain": [
       "  subject_id_x  test_score subject_id_y first_name last_name\n",
       "0            1          51            4      Billy    Bonder\n",
       "1            2          15            5      Brian     Black\n",
       "2            3          15            6       Bran   Balwner\n",
       "3            4          61            7      Bryce     Brice\n",
       "4            5          16            8      Betty    Btisan"
      ]
     },
     "execution_count": 186,
     "metadata": {},
     "output_type": "execute_result"
    }
   ],
   "source": [
    "pd.merge(df_a, df_b, right_index=True, left_index=True)"
   ]
  },
  {
   "cell_type": "markdown",
   "id": "66ff0288",
   "metadata": {},
   "source": [
    "## Concat\n",
    "- 같은 형태의 데이터를 붙이는 연산 작업 (Numpy와 동일)"
   ]
  },
  {
   "cell_type": "markdown",
   "id": "7a85f205",
   "metadata": {},
   "source": [
    "## DB Persistence"
   ]
  },
  {
   "cell_type": "markdown",
   "id": "54bcd6e7",
   "metadata": {},
   "source": [
    "### Database connection\n",
    "- Data loading시 db connection 기능을 제공함"
   ]
  },
  {
   "cell_type": "code",
   "execution_count": 188,
   "id": "d79d9ab3",
   "metadata": {
    "scrolled": true
   },
   "outputs": [
    {
     "data": {
      "text/plain": [
       "[(0, '1', 'Private flight', '\\\\N', '-', None, None, None, 'Y'),\n",
       " (1, '2', '135 Airways', '\\\\N', None, 'GNL', 'GENERAL', 'United States', 'N'),\n",
       " (2, '3', '1Time Airline', '\\\\N', '1T', 'RNX', 'NEXTIME', 'South Africa', 'Y'),\n",
       " (3,\n",
       "  '4',\n",
       "  '2 Sqn No 1 Elementary Flying Training School',\n",
       "  '\\\\N',\n",
       "  None,\n",
       "  'WYT',\n",
       "  None,\n",
       "  'United Kingdom',\n",
       "  'N'),\n",
       " (4, '5', '213 Flight Unit', '\\\\N', None, 'TFU', None, 'Russia', 'N')]"
      ]
     },
     "execution_count": 188,
     "metadata": {},
     "output_type": "execute_result"
    }
   ],
   "source": [
    "# Database연결 코드\n",
    "import sqlite3 #pymysql <- 설치\n",
    "\n",
    "conn = sqlite3.connect(\"flights.db\") # connections 생성\n",
    "cur = conn.cursor()\n",
    "cur.execute(\"select * from airlines limit 5;\")\n",
    "results = cur.fetchall()\n",
    "results"
   ]
  },
  {
   "cell_type": "code",
   "execution_count": 190,
   "id": "a7d6a227",
   "metadata": {},
   "outputs": [
    {
     "data": {
      "text/html": [
       "<div>\n",
       "<style scoped>\n",
       "    .dataframe tbody tr th:only-of-type {\n",
       "        vertical-align: middle;\n",
       "    }\n",
       "\n",
       "    .dataframe tbody tr th {\n",
       "        vertical-align: top;\n",
       "    }\n",
       "\n",
       "    .dataframe thead th {\n",
       "        text-align: right;\n",
       "    }\n",
       "</style>\n",
       "<table border=\"1\" class=\"dataframe\">\n",
       "  <thead>\n",
       "    <tr style=\"text-align: right;\">\n",
       "      <th></th>\n",
       "      <th>index</th>\n",
       "      <th>id</th>\n",
       "      <th>name</th>\n",
       "      <th>alias</th>\n",
       "      <th>iata</th>\n",
       "      <th>icao</th>\n",
       "      <th>callsign</th>\n",
       "      <th>country</th>\n",
       "      <th>active</th>\n",
       "    </tr>\n",
       "  </thead>\n",
       "  <tbody>\n",
       "    <tr>\n",
       "      <th>0</th>\n",
       "      <td>0</td>\n",
       "      <td>1</td>\n",
       "      <td>Private flight</td>\n",
       "      <td>\\N</td>\n",
       "      <td>-</td>\n",
       "      <td>None</td>\n",
       "      <td>None</td>\n",
       "      <td>None</td>\n",
       "      <td>Y</td>\n",
       "    </tr>\n",
       "    <tr>\n",
       "      <th>1</th>\n",
       "      <td>1</td>\n",
       "      <td>2</td>\n",
       "      <td>135 Airways</td>\n",
       "      <td>\\N</td>\n",
       "      <td>None</td>\n",
       "      <td>GNL</td>\n",
       "      <td>GENERAL</td>\n",
       "      <td>United States</td>\n",
       "      <td>N</td>\n",
       "    </tr>\n",
       "    <tr>\n",
       "      <th>2</th>\n",
       "      <td>2</td>\n",
       "      <td>3</td>\n",
       "      <td>1Time Airline</td>\n",
       "      <td>\\N</td>\n",
       "      <td>1T</td>\n",
       "      <td>RNX</td>\n",
       "      <td>NEXTIME</td>\n",
       "      <td>South Africa</td>\n",
       "      <td>Y</td>\n",
       "    </tr>\n",
       "    <tr>\n",
       "      <th>3</th>\n",
       "      <td>3</td>\n",
       "      <td>4</td>\n",
       "      <td>2 Sqn No 1 Elementary Flying Training School</td>\n",
       "      <td>\\N</td>\n",
       "      <td>None</td>\n",
       "      <td>WYT</td>\n",
       "      <td>None</td>\n",
       "      <td>United Kingdom</td>\n",
       "      <td>N</td>\n",
       "    </tr>\n",
       "    <tr>\n",
       "      <th>4</th>\n",
       "      <td>4</td>\n",
       "      <td>5</td>\n",
       "      <td>213 Flight Unit</td>\n",
       "      <td>\\N</td>\n",
       "      <td>None</td>\n",
       "      <td>TFU</td>\n",
       "      <td>None</td>\n",
       "      <td>Russia</td>\n",
       "      <td>N</td>\n",
       "    </tr>\n",
       "  </tbody>\n",
       "</table>\n",
       "</div>"
      ],
      "text/plain": [
       "   index id                                          name alias  iata  icao  \\\n",
       "0      0  1                                Private flight    \\N     -  None   \n",
       "1      1  2                                   135 Airways    \\N  None   GNL   \n",
       "2      2  3                                 1Time Airline    \\N    1T   RNX   \n",
       "3      3  4  2 Sqn No 1 Elementary Flying Training School    \\N  None   WYT   \n",
       "4      4  5                               213 Flight Unit    \\N  None   TFU   \n",
       "\n",
       "  callsign         country active  \n",
       "0     None            None      Y  \n",
       "1  GENERAL   United States      N  \n",
       "2  NEXTIME    South Africa      Y  \n",
       "3     None  United Kingdom      N  \n",
       "4     None          Russia      N  "
      ]
     },
     "execution_count": 190,
     "metadata": {},
     "output_type": "execute_result"
    }
   ],
   "source": [
    "# 속도를 위해 파일 형태로 저장\n",
    "df_airplines = pd.read_sql_query(\"select * from airlines;\", conn)\n",
    "df_airports = pd.read_sql_query(\"select * from airports;\", conn)\n",
    "df_routes = pd.read_sql_query(\"select * from routes;\", conn)\n",
    "df_airplines.head()"
   ]
  },
  {
   "cell_type": "markdown",
   "id": "52a6e7fc",
   "metadata": {},
   "source": [
    "### XLS persistence\n",
    "- Dataframe의 엑셀 추출 코드\n",
    "- Xls 엔진으로 openpyxls 또는 xlsxWrite사용"
   ]
  },
  {
   "cell_type": "markdown",
   "id": "369d6883",
   "metadata": {},
   "source": [
    "### Pickle persistence\n",
    "- 가장 일반적인 python 파일 persistence\n",
    "- to_pickle, read_pickle 함수 사용"
   ]
  }
 ],
 "metadata": {
  "kernelspec": {
   "display_name": "Python 3",
   "language": "python",
   "name": "python3"
  },
  "language_info": {
   "codemirror_mode": {
    "name": "ipython",
    "version": 3
   },
   "file_extension": ".py",
   "mimetype": "text/x-python",
   "name": "python",
   "nbconvert_exporter": "python",
   "pygments_lexer": "ipython3",
   "version": "3.8.8"
  }
 },
 "nbformat": 4,
 "nbformat_minor": 5
}
