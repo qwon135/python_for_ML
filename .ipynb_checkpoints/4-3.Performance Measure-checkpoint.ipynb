{
 "cells": [
  {
   "cell_type": "markdown",
   "id": "8c82461a",
   "metadata": {},
   "source": [
    "# Linear Regression - Performance Measure\n",
    " 만든 Model이 얼마나 실제 값을 잘 대변 해주는지에 대한 상대적 지표"
   ]
  },
  {
   "cell_type": "markdown",
   "id": "ec436648",
   "metadata": {},
   "source": [
    "## Regression metrics\n",
    ": 클수록 좋은 것도 있고 반대인 경우도 있어서 실제 sklearn에서 적절하게 - 기호를 붙여서 사용한다"
   ]
  },
  {
   "cell_type": "markdown",
   "id": "c5819569",
   "metadata": {},
   "source": [
    "### Mean Absolute Error\n",
    ": 잔차의 절대값의 Sum"
   ]
  },
  {
   "cell_type": "code",
   "execution_count": 10,
   "id": "c525aca5",
   "metadata": {},
   "outputs": [
    {
     "data": {
      "text/plain": [
       "0.5"
      ]
     },
     "execution_count": 10,
     "metadata": {},
     "output_type": "execute_result"
    }
   ],
   "source": [
    "from sklearn.metrics import median_absolute_error\n",
    "import numpy as np\n",
    "\n",
    "y_true = np.array([3, -0.5, 2, 7])\n",
    "y_pred = np.array([2.5, 0.0, 2, 8])\n",
    "median_absolute_error(y_true, y_pred)"
   ]
  },
  {
   "cell_type": "code",
   "execution_count": 11,
   "id": "8312d53c",
   "metadata": {},
   "outputs": [
    {
     "data": {
      "text/plain": [
       "0.5"
      ]
     },
     "execution_count": 11,
     "metadata": {},
     "output_type": "execute_result"
    }
   ],
   "source": [
    "# 직접 numpy로 구현\n",
    "np.abs(y_true - y_pred).sum()/len(y_true)"
   ]
  },
  {
   "cell_type": "markdown",
   "id": "22751499",
   "metadata": {},
   "source": [
    "### RMSE(Root Mean Squared Error)\n",
    ": 잔체 제곱의 sum의 루트"
   ]
  },
  {
   "cell_type": "code",
   "execution_count": 13,
   "id": "2eb70df6",
   "metadata": {},
   "outputs": [
    {
     "data": {
      "text/plain": [
       "0.375"
      ]
     },
     "execution_count": 13,
     "metadata": {},
     "output_type": "execute_result"
    }
   ],
   "source": [
    "from sklearn.metrics import mean_squared_error\n",
    "mean_squared_error(y_true, y_pred)"
   ]
  },
  {
   "cell_type": "code",
   "execution_count": 23,
   "id": "324452d7",
   "metadata": {},
   "outputs": [
    {
     "data": {
      "text/plain": [
       "0.375"
      ]
     },
     "execution_count": 23,
     "metadata": {},
     "output_type": "execute_result"
    }
   ],
   "source": [
    "# 실제 구현\n",
    "((y_true-y_pred)**2).sum()/len(y_true)"
   ]
  },
  {
   "cell_type": "markdown",
   "id": "ca2e99b5",
   "metadata": {},
   "source": [
    "### R squared\n",
    ": 0과 1사이 숫자로 크면 클 수록 높은 적합도를 지님"
   ]
  },
  {
   "cell_type": "code",
   "execution_count": 24,
   "id": "8c357aa7",
   "metadata": {},
   "outputs": [
    {
     "data": {
      "text/plain": [
       "0.9486081370449679"
      ]
     },
     "execution_count": 24,
     "metadata": {},
     "output_type": "execute_result"
    }
   ],
   "source": [
    "from sklearn.metrics import r2_score\n",
    "r2_score(y_true, y_pred)"
   ]
  },
  {
   "cell_type": "code",
   "execution_count": 71,
   "id": "39bb55bf",
   "metadata": {},
   "outputs": [],
   "source": [
    "# sst = total sum of squares : 관측값에서 관측값의 평균을 뺀 결과의 합, 독립변수 y의 분산\n",
    "# sse = explained  sum of squares : 추정값에서 관측값의 평균을 뺀 결과의 합(겹치는 부분)\n",
    "# ssr = residual sum of squares : 관측값에서 추정값을 뺀 잔차의 총합 (겹치치 않는 부분)\n",
    "\n",
    "# sst = sse+ssr\n",
    "# R-squared 는 설명된 분산 / 종속변수 전체의 분산 = SSE/SST =  1- SSR/SST"
   ]
  },
  {
   "cell_type": "markdown",
   "id": "56fdd0eb",
   "metadata": {},
   "source": [
    "## Training & Test data set\n",
    "- Training한 데이터로 다시 Test를 할 경우, Training 데이터에 과도하게 fitting 된 모델을 사용할 수 있음\n",
    "- 새로운 데이터가 출현했을 때, 기존 모델과의 차이가 존재\n",
    "- 모델은 새로운 데이터가 처리가능하도록 generalize 되어야함.\n",
    "- 이를 위해 Training Set와 Test Set을 분리함"
   ]
  },
  {
   "cell_type": "code",
   "execution_count": 73,
   "id": "31a69cd8",
   "metadata": {},
   "outputs": [],
   "source": [
    "import numpy as np\n",
    "from sklearn.model_selection import train_test_split\n",
    "\n",
    "# model_selection 모듈에서 training / test 나눠줌\n",
    "X, y = np.arange(10).reshape((5, 2)), range(5)\n",
    "\n",
    "X_train, X_test, y_train, y_test = train_test_split(X, y, test_size=0.33, random_state=42)"
   ]
  }
 ],
 "metadata": {
  "kernelspec": {
   "display_name": "Python 3",
   "language": "python",
   "name": "python3"
  },
  "language_info": {
   "codemirror_mode": {
    "name": "ipython",
    "version": 3
   },
   "file_extension": ".py",
   "mimetype": "text/x-python",
   "name": "python",
   "nbconvert_exporter": "python",
   "pygments_lexer": "ipython3",
   "version": "3.8.8"
  }
 },
 "nbformat": 4,
 "nbformat_minor": 5
}
