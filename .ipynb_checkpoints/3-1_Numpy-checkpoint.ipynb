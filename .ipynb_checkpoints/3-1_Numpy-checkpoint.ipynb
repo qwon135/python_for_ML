{
 "cells": [
  {
   "cell_type": "markdown",
   "id": "1a2d919a",
   "metadata": {},
   "source": [
    "# Data Handling - Numpy"
   ]
  },
  {
   "cell_type": "markdown",
   "id": "1826664b",
   "metadata": {},
   "source": [
    "### 코드로 방정식 표현하기\n",
    "- 2x + 2y + z = 9 > [ 2 2 1 9 ] , 리스트로 표현 가능\n",
    "- 하지만 다양한 Matrix 계산을 어떻게 만들 것 인가?\n",
    "- 굉장히 큰 Matrix의 표현은?\n",
    "- 파이썬은 Interpreter 언어라 속도가 느림\n",
    "- 적절한 패키지를 활용하는 것이 좋다."
   ]
  },
  {
   "cell_type": "markdown",
   "id": "bd3b2af4",
   "metadata": {},
   "source": [
    "### Numpy\n",
    "- Numerical Python의 약자\n",
    "- 파이썬의 고성능 과학 계산용 패키지\n",
    "- Matrix와 Vector와 같은 Array연산의 사실상의 표준\n",
    "- 넘파이, 넘피, 늄파이 등으로 부르기도함."
   ]
  },
  {
   "cell_type": "markdown",
   "id": "c7a1a0de",
   "metadata": {},
   "source": [
    "### Numpy 특징\n",
    "- 일반 List에 비해 빠르고, 메모리를 효율적으로 사용한다.\n",
    "- 반복문(for문 등) 없이 데이터 배열에 대한 처리를 지원한다.\n",
    "- 선형대수와 관련된 다양한 기능을 제공함\n",
    "- C, C++, 포트란 등의 언어와 통합 가능\n",
    "- ndarray가 가장 기본 단위이다.\n",
    "- aslias(별칭)을 np로 사용하는 것이 세계적인 약속이다."
   ]
  },
  {
   "cell_type": "markdown",
   "id": "b168e01d",
   "metadata": {},
   "source": [
    "### Array creation\n",
    "- numpy는 np.array 함수를 활용하여 배열을 생성 > ndarray\n",
    "- numpy는 하나의 데이터 type만 배열에 넣을 수 있음\n",
    "- List와의 가장 큰 차이점 : Dynapic typing not supported 즉 실행시점에 데이터 타입을 결정하여 마지막에 데이터 타입을 결정해 여러가지 데이터 타입을 넣을 수 있던 List와 달리 하나의 데이터만 넣을 수 있다.\n",
    "- C의 Array를 사용하여 배열을 생성한다."
   ]
  },
  {
   "cell_type": "code",
   "execution_count": 6,
   "id": "b7934dd0",
   "metadata": {},
   "outputs": [
    {
     "name": "stdout",
     "output_type": "stream",
     "text": [
      "[1. 4. 5. 8.]\n"
     ]
    },
    {
     "data": {
      "text/plain": [
       "numpy.float64"
      ]
     },
     "execution_count": 6,
     "metadata": {},
     "output_type": "execute_result"
    }
   ],
   "source": [
    "import numpy as np\n",
    "test_array = np.array([1, 4, 5, 8], float)\n",
    "print(test_array)\n",
    "type(test_array[3]) # 64는 64비트"
   ]
  },
  {
   "cell_type": "markdown",
   "id": "bab2570d",
   "metadata": {},
   "source": [
    "## Array shape\n",
    "- numpy array의 object의 dimnsion 구성을 반환함\n",
    "- matrix의 크기\n",
    "- 중요한 개념!"
   ]
  },
  {
   "cell_type": "code",
   "execution_count": 17,
   "id": "e92fac69",
   "metadata": {},
   "outputs": [
    {
     "name": "stdout",
     "output_type": "stream",
     "text": [
      "(4, 3)\n"
     ]
    }
   ],
   "source": [
    "test_array = np.array([[1,2,3],[4,5,6],[7,8,9],[10,11,12]],float)\n",
    "print(test_array.shape)"
   ]
  },
  {
   "cell_type": "markdown",
   "id": "bc354115",
   "metadata": {},
   "source": [
    "### Array shape - ndim & size\n",
    "- ndim : number of dimnsion\n",
    "- size : data의 갯수"
   ]
  },
  {
   "cell_type": "code",
   "execution_count": 22,
   "id": "5d933b73",
   "metadata": {},
   "outputs": [
    {
     "name": "stdout",
     "output_type": "stream",
     "text": [
      "2\n",
      "12\n"
     ]
    }
   ],
   "source": [
    "print(test_array.ndim) # 2차원\n",
    "print(test_array.size) # 총 데이터 4 * 3 = 12개"
   ]
  },
  {
   "cell_type": "markdown",
   "id": "d66f08ce",
   "metadata": {},
   "source": [
    "### Array dtype\n",
    "- numpy array 전체의 데이터 Type을 반환함\n",
    "- 대부분 float 32 사용"
   ]
  },
  {
   "cell_type": "code",
   "execution_count": 30,
   "id": "159b3132",
   "metadata": {},
   "outputs": [
    {
     "name": "stdout",
     "output_type": "stream",
     "text": [
      "float64\n"
     ]
    }
   ],
   "source": [
    "test_array = np.array([[1,2,3],[4,5,6],[7,8,9],[10,11,12]], float)\n",
    "print(test_array.dtype)"
   ]
  },
  {
   "cell_type": "markdown",
   "id": "13b6b483",
   "metadata": {},
   "source": [
    "### Array dtype - nbytes\n",
    "- nbytes : ndarray object의 메모리 크기를 반환"
   ]
  },
  {
   "cell_type": "code",
   "execution_count": 29,
   "id": "63bbf57c",
   "metadata": {},
   "outputs": [
    {
     "name": "stdout",
     "output_type": "stream",
     "text": [
      "24\n",
      "6\n",
      "48\n"
     ]
    }
   ],
   "source": [
    "test_array = np.array([[1,2,3],[4,5,6]], dtype = np.float32)\n",
    "# 32bits = 4bytes \n",
    "print(test_array.nbytes) # 6 * 4\n",
    "\n",
    "test_array = np.array([[1,2,3],[4,5,6]], dtype = np.int8)\n",
    "# 8bits = 1bytes\n",
    "print(test_array.nbytes) # 6 * 1\n",
    "\n",
    "test_array = np.array([[1,2,3],[4,5,6]], dtype = np.float64)\n",
    "# 64bits = 8bytes\n",
    "print(test_array.nbytes) # 6 * 8"
   ]
  },
  {
   "cell_type": "markdown",
   "id": "7d7bf556",
   "metadata": {},
   "source": [
    "## Handling shape\n",
    "### reshape\n",
    "- Array의 shaped의 크기를 변경함 element 갯수는 동일\n",
    "- sklearn등에서 Vector형태를 Matrix로 바꿀 때 자주 사용\n",
    "- ex) 2 x 4 행렬 > 1 x 8 행렬"
   ]
  },
  {
   "cell_type": "code",
   "execution_count": 31,
   "id": "eb08ebdb",
   "metadata": {},
   "outputs": [
    {
     "data": {
      "text/plain": [
       "(2, 4)"
      ]
     },
     "execution_count": 31,
     "metadata": {},
     "output_type": "execute_result"
    }
   ],
   "source": [
    "test_matrix = [[1,2,3,4],[1,2,5,8]]\n",
    "np.array(test_matrix).shape"
   ]
  },
  {
   "cell_type": "code",
   "execution_count": 39,
   "id": "7399e3c6",
   "metadata": {},
   "outputs": [
    {
     "name": "stdout",
     "output_type": "stream",
     "text": [
      "[[[1 2]\n",
      "  [3 4]]\n",
      "\n",
      " [[1 2]\n",
      "  [5 8]]]\n",
      "[[1 2 3 4 1 2 5 8]]\n"
     ]
    }
   ],
   "source": [
    "# 2 * 4 = 2 * 2 * 2 \n",
    "print(np.array(test_matrix).reshape(2,2,2))\n",
    "\n",
    "# 2 * 4 = 1 * 8\n",
    "print(np.array(test_matrix).reshape(1,8))"
   ]
  },
  {
   "cell_type": "code",
   "execution_count": 48,
   "id": "87b8f2d3",
   "metadata": {
    "scrolled": true
   },
   "outputs": [
    {
     "name": "stdout",
     "output_type": "stream",
     "text": [
      "[[1 2]\n",
      " [3 4]\n",
      " [1 2]\n",
      " [5 8]]\n"
     ]
    },
    {
     "data": {
      "text/plain": [
       "(4, 2)"
      ]
     },
     "execution_count": 48,
     "metadata": {},
     "output_type": "execute_result"
    }
   ],
   "source": [
    "# row의 갯수를 정확하게 모르지만 column의 갯수를 2개로 만들고 싶을때\n",
    "# -1 : size를 기반으로 row 개수 선정\n",
    "print(np.array(test_matrix).reshape(-1,2))\n",
    "\n",
    "# shape을 찍으면 4,2\n",
    "np.array(test_matrix).reshape(-1,2).shape"
   ]
  },
  {
   "cell_type": "code",
   "execution_count": 53,
   "id": "1d018ca9",
   "metadata": {},
   "outputs": [
    {
     "data": {
      "text/plain": [
       "array([1, 2, 3, 4, 1, 2, 5, 8])"
      ]
     },
     "execution_count": 53,
     "metadata": {},
     "output_type": "execute_result"
    }
   ],
   "source": [
    "# 8개 데이터를 row vector로\n",
    "test = np.array(test_matrix).reshape(8,)\n",
    "test"
   ]
  },
  {
   "cell_type": "code",
   "execution_count": 54,
   "id": "1105cb7e",
   "metadata": {
    "scrolled": true
   },
   "outputs": [
    {
     "data": {
      "text/plain": [
       "array([[1],\n",
       "       [2],\n",
       "       [3],\n",
       "       [4],\n",
       "       [1],\n",
       "       [2],\n",
       "       [5],\n",
       "       [8]])"
      ]
     },
     "execution_count": 54,
     "metadata": {},
     "output_type": "execute_result"
    }
   ],
   "source": [
    "# 8개 데이터를 column vector로\n",
    "test = np.array(test_matrix).reshape(-1,1)\n",
    "test"
   ]
  },
  {
   "cell_type": "markdown",
   "id": "a58108e6",
   "metadata": {},
   "source": [
    "### flatten\n",
    "- 다차원 array를 1차원 array로 변환\n",
    "- reshape을 써도 되지만 쉽게 펴준다."
   ]
  },
  {
   "cell_type": "code",
   "execution_count": 56,
   "id": "a65df4c2",
   "metadata": {},
   "outputs": [
    {
     "data": {
      "text/plain": [
       "array([1, 2, 3, 4, 1, 2, 5, 8, 1, 2, 3, 4, 1, 2, 5, 8])"
      ]
     },
     "execution_count": 56,
     "metadata": {},
     "output_type": "execute_result"
    }
   ],
   "source": [
    "test_matrix = [[[1,2,3,4],[1,2,5,8]],[[1,2,3,4],[1,2,5,8]]]\n",
    "np.array(test_matrix).flatten()"
   ]
  },
  {
   "cell_type": "markdown",
   "id": "3bcddb12",
   "metadata": {},
   "source": [
    "## Indexing & slicing"
   ]
  },
  {
   "cell_type": "markdown",
   "id": "5ca8dd5e",
   "metadata": {},
   "source": [
    "### Indexing\n",
    "- List와 달리 이차원 배열에서 [0, 0]과 같은 표기법을 제공함\n",
    "- Matrix의 경우 앞은 row 뒤는 cloumn을 의미함"
   ]
  },
  {
   "cell_type": "code",
   "execution_count": 63,
   "id": "98a1f173",
   "metadata": {},
   "outputs": [
    {
     "name": "stdout",
     "output_type": "stream",
     "text": [
      "1\n",
      "1\n"
     ]
    }
   ],
   "source": [
    "test_matrix = np.array([[1,2,3,4],[1,2,5,8]],int)\n",
    "print(test_matrix[0,0])\n",
    "print(test_matrix[0][0])"
   ]
  },
  {
   "cell_type": "markdown",
   "id": "9a802eb3",
   "metadata": {},
   "source": [
    "### slicing\n",
    "- List와 달리 행과 열 부분을 나눠서 slicing이 가능함\n",
    "- Matrix의 부분 집합을 추출할 때 유용함"
   ]
  },
  {
   "cell_type": "code",
   "execution_count": 69,
   "id": "59975f39",
   "metadata": {},
   "outputs": [],
   "source": [
    "test_matrix = np.array([[1,2,3,4,5],[6,7,8,9,10]],int)"
   ]
  },
  {
   "cell_type": "code",
   "execution_count": 70,
   "id": "65d4711e",
   "metadata": {},
   "outputs": [
    {
     "data": {
      "text/plain": [
       "array([[ 3,  4,  5],\n",
       "       [ 8,  9, 10]])"
      ]
     },
     "execution_count": 70,
     "metadata": {},
     "output_type": "execute_result"
    }
   ],
   "source": [
    "test_matrix[:, 2:] # 전체 Row의 2열 이상"
   ]
  },
  {
   "cell_type": "code",
   "execution_count": 67,
   "id": "4785dd45",
   "metadata": {},
   "outputs": [
    {
     "data": {
      "text/plain": [
       "array([7, 8])"
      ]
     },
     "execution_count": 67,
     "metadata": {},
     "output_type": "execute_result"
    }
   ],
   "source": [
    "test_matrix[1, 1:3] # 1 Row의 1~2열"
   ]
  },
  {
   "cell_type": "code",
   "execution_count": 68,
   "id": "639148d6",
   "metadata": {},
   "outputs": [
    {
     "data": {
      "text/plain": [
       "array([[ 6,  7,  8,  9, 10]])"
      ]
     },
     "execution_count": 68,
     "metadata": {},
     "output_type": "execute_result"
    }
   ],
   "source": [
    "test_matrix[1:3] # 1 Row ~ 2 Row의 전체"
   ]
  },
  {
   "cell_type": "code",
   "execution_count": 73,
   "id": "e8a09bd4",
   "metadata": {},
   "outputs": [
    {
     "data": {
      "text/plain": [
       "array([[2, 3],\n",
       "       [7, 8]])"
      ]
     },
     "execution_count": 73,
     "metadata": {},
     "output_type": "execute_result"
    }
   ],
   "source": [
    "test_matrix[:,1:3] # 전체 Row의 1열~2열"
   ]
  },
  {
   "cell_type": "markdown",
   "id": "d18cea58",
   "metadata": {},
   "source": [
    "#### 띄워서 slicing(거의 사용 X)"
   ]
  },
  {
   "cell_type": "code",
   "execution_count": 77,
   "id": "10ef4bed",
   "metadata": {},
   "outputs": [
    {
     "data": {
      "text/plain": [
       "array([[ 1,  3,  5],\n",
       "       [ 6,  8, 10]])"
      ]
     },
     "execution_count": 77,
     "metadata": {},
     "output_type": "execute_result"
    }
   ],
   "source": [
    "test_matrix[:,::2] # 전체 Row중 2칸 씩 띄워서"
   ]
  },
  {
   "cell_type": "code",
   "execution_count": 76,
   "id": "05056497",
   "metadata": {
    "scrolled": true
   },
   "outputs": [
    {
     "data": {
      "text/plain": [
       "array([[1, 4]])"
      ]
     },
     "execution_count": 76,
     "metadata": {},
     "output_type": "execute_result"
    }
   ],
   "source": [
    "test_matrix[::2,::3] # ~ 1 까지 Row 중 3칸씩 띄워서 "
   ]
  },
  {
   "cell_type": "markdown",
   "id": "926b3435",
   "metadata": {},
   "source": [
    "## creation function\n",
    "numpy array 생성 하는 방법"
   ]
  },
  {
   "cell_type": "markdown",
   "id": "b7e13f35",
   "metadata": {},
   "source": [
    "### arange\n",
    "- array의 범위를 지정하여, 값의 list를 생성하는 명령어"
   ]
  },
  {
   "cell_type": "code",
   "execution_count": 79,
   "id": "1e340785",
   "metadata": {},
   "outputs": [
    {
     "data": {
      "text/plain": [
       "array([ 0,  1,  2,  3,  4,  5,  6,  7,  8,  9, 10, 11, 12, 13, 14, 15, 16,\n",
       "       17, 18, 19, 20, 21, 22, 23, 24, 25, 26, 27, 28, 29])"
      ]
     },
     "execution_count": 79,
     "metadata": {},
     "output_type": "execute_result"
    }
   ],
   "source": [
    "np.arange(30) # arange : List의 range와 같은 효과, integer 0~29"
   ]
  },
  {
   "cell_type": "code",
   "execution_count": 86,
   "id": "84342feb",
   "metadata": {},
   "outputs": [
    {
     "data": {
      "text/plain": [
       "array([ 0,  5, 10, 15, 20, 25])"
      ]
     },
     "execution_count": 86,
     "metadata": {},
     "output_type": "execute_result"
    }
   ],
   "source": [
    "np.arange(0, 30, 5) # (시작, 끝, step)을 의미"
   ]
  },
  {
   "cell_type": "code",
   "execution_count": 87,
   "id": "5779ed98",
   "metadata": {},
   "outputs": [
    {
     "data": {
      "text/plain": [
       "[0.0, 0.5, 1.0, 1.5, 2.0, 2.5, 3.0, 3.5, 4.0, 4.5]"
      ]
     },
     "execution_count": 87,
     "metadata": {},
     "output_type": "execute_result"
    }
   ],
   "source": [
    "np.arange(0, 5, 0.5).tolist() # 리스트와 달리 floating point도 설정가능하므로 list에서 필요할 때 tolist()로 사용도 가능하다."
   ]
  },
  {
   "cell_type": "code",
   "execution_count": 83,
   "id": "5dfea837",
   "metadata": {},
   "outputs": [
    {
     "data": {
      "text/plain": [
       "array([[ 0,  1,  2,  3,  4],\n",
       "       [ 5,  6,  7,  8,  9],\n",
       "       [10, 11, 12, 13, 14],\n",
       "       [15, 16, 17, 18, 19],\n",
       "       [20, 21, 22, 23, 24],\n",
       "       [25, 26, 27, 28, 29]])"
      ]
     },
     "execution_count": 83,
     "metadata": {},
     "output_type": "execute_result"
    }
   ],
   "source": [
    "np.arange(30).reshape(-1,5)# 만든 배열를 reshape해 matrix로 변환 가능"
   ]
  },
  {
   "cell_type": "markdown",
   "id": "f9bc65f4",
   "metadata": {},
   "source": [
    "### ones, zeros and empty\n",
    "- zeros : 0으로 가득찬 ndarray 생성  \n",
    "- ones : 1로 가득찬 ndarray 생성  \n",
    "- empty : shape만 주어지고 비어있는 ndarray 생성(memory initialization 이 되지 않음) 메모리 공간만 잡아준다. ( 거의 안씀)"
   ]
  },
  {
   "cell_type": "code",
   "execution_count": 100,
   "id": "2a1350dc",
   "metadata": {},
   "outputs": [
    {
     "data": {
      "text/plain": [
       "array([0, 0, 0, 0, 0, 0, 0, 0, 0, 0], dtype=int8)"
      ]
     },
     "execution_count": 100,
     "metadata": {},
     "output_type": "execute_result"
    }
   ],
   "source": [
    "# 기본구조 : np.zeros(shape,dtype,order)\n",
    "np.zeros(shape=(10,), dtype = np.int8) # 10개의 데이터를 가지는 zero vector생성"
   ]
  },
  {
   "cell_type": "code",
   "execution_count": 92,
   "id": "dd469a95",
   "metadata": {},
   "outputs": [
    {
     "data": {
      "text/plain": [
       "array([[0, 0, 0, 0, 0],\n",
       "       [0, 0, 0, 0, 0]], dtype=int8)"
      ]
     },
     "execution_count": 92,
     "metadata": {},
     "output_type": "execute_result"
    }
   ],
   "source": [
    "np.zeros((2, 5), dtype = np.int8) # 2*5 의 zero matrix 생성"
   ]
  },
  {
   "cell_type": "code",
   "execution_count": 99,
   "id": "0ae35d4e",
   "metadata": {},
   "outputs": [
    {
     "data": {
      "text/plain": [
       "array([[1., 1., 1., 1.],\n",
       "       [1., 1., 1., 1.],\n",
       "       [1., 1., 1., 1.]])"
      ]
     },
     "execution_count": 99,
     "metadata": {},
     "output_type": "execute_result"
    }
   ],
   "source": [
    "np.ones((3,4), dtype = np.float64)# 2 *4 의 one matrix"
   ]
  },
  {
   "cell_type": "markdown",
   "id": "4ba9ea51",
   "metadata": {},
   "source": [
    "### something_like\n",
    "- 기존 ndarray의 shape 크기 만큼 1, 0 또는 empty array를 반환\n",
    "- tensorflow는 numpy에 미분을 가능하게 해주는 모듈로 생각보다 사용 빈도가 있다."
   ]
  },
  {
   "cell_type": "code",
   "execution_count": 102,
   "id": "5f47ceb9",
   "metadata": {},
   "outputs": [
    {
     "data": {
      "text/plain": [
       "array([[1, 1, 1, 1, 1, 1],\n",
       "       [1, 1, 1, 1, 1, 1],\n",
       "       [1, 1, 1, 1, 1, 1],\n",
       "       [1, 1, 1, 1, 1, 1],\n",
       "       [1, 1, 1, 1, 1, 1]])"
      ]
     },
     "execution_count": 102,
     "metadata": {},
     "output_type": "execute_result"
    }
   ],
   "source": [
    "test_matrix = np.arange(30).reshape(5, 6)\n",
    "np.ones_like(test_matrix)"
   ]
  },
  {
   "cell_type": "code",
   "execution_count": 106,
   "id": "14a5078f",
   "metadata": {
    "scrolled": true
   },
   "outputs": [
    {
     "data": {
      "text/plain": [
       "array([[0, 0, 0, 0, 0, 0],\n",
       "       [0, 0, 0, 0, 0, 0],\n",
       "       [0, 0, 0, 0, 0, 0],\n",
       "       [0, 0, 0, 0, 0, 0],\n",
       "       [0, 0, 0, 0, 0, 0]])"
      ]
     },
     "execution_count": 106,
     "metadata": {},
     "output_type": "execute_result"
    }
   ],
   "source": [
    "np.zeros_like(test_matrix)"
   ]
  },
  {
   "cell_type": "markdown",
   "id": "52bd48a4",
   "metadata": {},
   "source": [
    "### identity\n",
    "- 단위 행렬 (i 행렬) 생성\n",
    "- n은 number of rows 의미"
   ]
  },
  {
   "cell_type": "code",
   "execution_count": 108,
   "id": "b539ce8e",
   "metadata": {},
   "outputs": [
    {
     "data": {
      "text/plain": [
       "array([[1, 0, 0],\n",
       "       [0, 1, 0],\n",
       "       [0, 0, 1]], dtype=int8)"
      ]
     },
     "execution_count": 108,
     "metadata": {},
     "output_type": "execute_result"
    }
   ],
   "source": [
    "np.identity(n=3, dtype = np.int8)"
   ]
  },
  {
   "cell_type": "code",
   "execution_count": 110,
   "id": "cf604e71",
   "metadata": {},
   "outputs": [
    {
     "data": {
      "text/plain": [
       "array([[1., 0., 0., 0., 0.],\n",
       "       [0., 1., 0., 0., 0.],\n",
       "       [0., 0., 1., 0., 0.],\n",
       "       [0., 0., 0., 1., 0.],\n",
       "       [0., 0., 0., 0., 1.]])"
      ]
     },
     "execution_count": 110,
     "metadata": {},
     "output_type": "execute_result"
    }
   ],
   "source": [
    "np.identity(5)"
   ]
  },
  {
   "cell_type": "markdown",
   "id": "776b9eab",
   "metadata": {},
   "source": [
    "### eye\n",
    "- 대각선이 1인 행렬, k값을 지정하여 시작 index 설정이 가능하다."
   ]
  },
  {
   "cell_type": "code",
   "execution_count": 115,
   "id": "a0b6c94e",
   "metadata": {},
   "outputs": [
    {
     "data": {
      "text/plain": [
       "array([[1, 0, 0, 0, 0],\n",
       "       [0, 1, 0, 0, 0],\n",
       "       [0, 0, 1, 0, 0]], dtype=int8)"
      ]
     },
     "execution_count": 115,
     "metadata": {},
     "output_type": "execute_result"
    }
   ],
   "source": [
    "np.eye(N = 3, M = 5, dtype = np.int8)"
   ]
  },
  {
   "cell_type": "code",
   "execution_count": 116,
   "id": "2b80d7d2",
   "metadata": {},
   "outputs": [
    {
     "data": {
      "text/plain": [
       "array([[1., 0., 0., 0., 0.],\n",
       "       [0., 1., 0., 0., 0.],\n",
       "       [0., 0., 1., 0., 0.]])"
      ]
     },
     "execution_count": 116,
     "metadata": {},
     "output_type": "execute_result"
    }
   ],
   "source": [
    "np.eye(3,5)"
   ]
  },
  {
   "cell_type": "code",
   "execution_count": 119,
   "id": "d83cf892",
   "metadata": {},
   "outputs": [
    {
     "data": {
      "text/plain": [
       "array([[1., 0., 0., 0., 0.],\n",
       "       [0., 1., 0., 0., 0.],\n",
       "       [0., 0., 1., 0., 0.],\n",
       "       [0., 0., 0., 1., 0.],\n",
       "       [0., 0., 0., 0., 1.]])"
      ]
     },
     "execution_count": 119,
     "metadata": {},
     "output_type": "execute_result"
    }
   ],
   "source": [
    "np.eye(5) # identity"
   ]
  },
  {
   "cell_type": "code",
   "execution_count": 124,
   "id": "6c8b5fcd",
   "metadata": {},
   "outputs": [
    {
     "data": {
      "text/plain": [
       "array([[0., 0., 1., 0., 0., 0., 0.],\n",
       "       [0., 0., 0., 1., 0., 0., 0.],\n",
       "       [0., 0., 0., 0., 1., 0., 0.],\n",
       "       [0., 0., 0., 0., 0., 1., 0.]])"
      ]
     },
     "execution_count": 124,
     "metadata": {},
     "output_type": "execute_result"
    }
   ],
   "source": [
    "np.eye(4, 7, k = 2) # k = start index"
   ]
  },
  {
   "cell_type": "markdown",
   "id": "bcb69572",
   "metadata": {},
   "source": [
    "### diag\n",
    "- 대각 행렬의 값 추출"
   ]
  },
  {
   "cell_type": "code",
   "execution_count": 125,
   "id": "d22e81dc",
   "metadata": {},
   "outputs": [
    {
     "name": "stdout",
     "output_type": "stream",
     "text": [
      "[[0 1 2]\n",
      " [3 4 5]\n",
      " [6 7 8]]\n"
     ]
    },
    {
     "data": {
      "text/plain": [
       "array([0, 4, 8])"
      ]
     },
     "execution_count": 125,
     "metadata": {},
     "output_type": "execute_result"
    }
   ],
   "source": [
    "matrix = np.arange(9).reshape(3, 3)\n",
    "print(matrix)\n",
    "np.diag(matrix)"
   ]
  },
  {
   "cell_type": "code",
   "execution_count": 126,
   "id": "df851481",
   "metadata": {},
   "outputs": [
    {
     "data": {
      "text/plain": [
       "array([1, 5])"
      ]
     },
     "execution_count": 126,
     "metadata": {},
     "output_type": "execute_result"
    }
   ],
   "source": [
    "np.diag(matrix, k = 1) # k start index"
   ]
  },
  {
   "cell_type": "markdown",
   "id": "cdf96af7",
   "metadata": {},
   "source": [
    "### random sampling\n",
    "- 데이터 분포에 따른 sampling으로 array를 생성"
   ]
  },
  {
   "cell_type": "markdown",
   "id": "64c0497f",
   "metadata": {},
   "source": [
    "#### 균등 분포"
   ]
  },
  {
   "cell_type": "code",
   "execution_count": 128,
   "id": "ef9c223f",
   "metadata": {
    "scrolled": true
   },
   "outputs": [
    {
     "data": {
      "text/plain": [
       "array([[0.87171817, 0.88764393, 0.13594846, 0.8360082 , 0.39323105],\n",
       "       [0.74101723, 0.79313384, 0.50058477, 0.88128704, 0.00442702]])"
      ]
     },
     "execution_count": 128,
     "metadata": {},
     "output_type": "execute_result"
    }
   ],
   "source": [
    "np.random.uniform(0,1,10).reshape(2,5)"
   ]
  },
  {
   "cell_type": "markdown",
   "id": "f89d95b6",
   "metadata": {},
   "source": [
    "#### 정규 분포"
   ]
  },
  {
   "cell_type": "code",
   "execution_count": 130,
   "id": "7e25887a",
   "metadata": {
    "scrolled": true
   },
   "outputs": [
    {
     "data": {
      "text/plain": [
       "array([[-1.44267898, -0.06098191, -0.37127715,  1.2943759 , -1.46437856],\n",
       "       [ 0.82436016, -0.73363802,  0.16272333, -1.38591877, -0.72058574]])"
      ]
     },
     "execution_count": 130,
     "metadata": {},
     "output_type": "execute_result"
    }
   ],
   "source": [
    "np.random.normal(0,1,10).reshape(2,5)"
   ]
  },
  {
   "cell_type": "markdown",
   "id": "61f98106",
   "metadata": {},
   "source": [
    "### sum\n",
    "- ndarray의 element들 간의 합을 구함(list의 sum과 동일)"
   ]
  },
  {
   "cell_type": "code",
   "execution_count": 135,
   "id": "84a8dde5",
   "metadata": {},
   "outputs": [
    {
     "data": {
      "text/plain": [
       "55.0"
      ]
     },
     "execution_count": 135,
     "metadata": {},
     "output_type": "execute_result"
    }
   ],
   "source": [
    "test_array = np.arange(1,11)\n",
    "test_array.sum(dtype = np.float64)"
   ]
  },
  {
   "cell_type": "markdown",
   "id": "ec3661a4",
   "metadata": {},
   "source": [
    "### axis\n",
    "- axis 개념을 아는 것이 중요!\n",
    "- 모든 operation function을 실행할 때, 기준이 되는 dimension 축\n",
    "- 즉 계산을 할때 어떤 축을 기준으로 하는지를 알아야 함."
   ]
  },
  {
   "cell_type": "code",
   "execution_count": 137,
   "id": "4299cfa8",
   "metadata": {},
   "outputs": [
    {
     "data": {
      "text/plain": [
       "array([[ 1,  2,  3,  4],\n",
       "       [ 5,  6,  7,  8],\n",
       "       [ 9, 10, 11, 12]])"
      ]
     },
     "execution_count": 137,
     "metadata": {},
     "output_type": "execute_result"
    }
   ],
   "source": [
    "test_array = np.arange(1, 13).reshape(3, 4)\n",
    "test_array"
   ]
  },
  {
   "cell_type": "code",
   "execution_count": 144,
   "id": "848035ef",
   "metadata": {},
   "outputs": [
    {
     "data": {
      "text/plain": [
       "78"
      ]
     },
     "execution_count": 144,
     "metadata": {},
     "output_type": "execute_result"
    }
   ],
   "source": [
    "test_array.sum() # 모든 데이터 합"
   ]
  },
  {
   "cell_type": "code",
   "execution_count": 140,
   "id": "fda5fb2d",
   "metadata": {},
   "outputs": [
    {
     "data": {
      "text/plain": [
       "array([10, 26, 42])"
      ]
     },
     "execution_count": 140,
     "metadata": {},
     "output_type": "execute_result"
    }
   ],
   "source": [
    "test_array.sum(axis = 1) # axis = 1  후에 생기는 shape (열을 기준)"
   ]
  },
  {
   "cell_type": "code",
   "execution_count": 143,
   "id": "c7f88529",
   "metadata": {},
   "outputs": [
    {
     "data": {
      "text/plain": [
       "array([15, 18, 21, 24])"
      ]
     },
     "execution_count": 143,
     "metadata": {},
     "output_type": "execute_result"
    }
   ],
   "source": [
    "test_array.sum(axis = 0) # axis = 0 새로 생기는 shape (행을 기준)"
   ]
  },
  {
   "cell_type": "code",
   "execution_count": 145,
   "id": "31078af0",
   "metadata": {},
   "outputs": [],
   "source": [
    "# 3차원 array라서 축이 밀리더라도 기존의 axis값은 유지 하며 새로 생기는 축이 새로운 axis값 할당 받음"
   ]
  },
  {
   "cell_type": "markdown",
   "id": "18a6b1fa",
   "metadata": {},
   "source": [
    "### 그 외에도 다양한 수학 연산자 제공\n",
    "- mean : 평균\n",
    "- std : 표준편차\n",
    "- sin, cos, sinh, cosh, log 등등"
   ]
  },
  {
   "cell_type": "markdown",
   "id": "a41bac05",
   "metadata": {},
   "source": [
    "### concatenate\n",
    "- Numpy array를 합치는 함수."
   ]
  },
  {
   "cell_type": "code",
   "execution_count": 148,
   "id": "b5c3499e",
   "metadata": {},
   "outputs": [
    {
     "data": {
      "text/plain": [
       "array([[1, 2, 3],\n",
       "       [2, 3, 4]])"
      ]
     },
     "execution_count": 148,
     "metadata": {},
     "output_type": "execute_result"
    }
   ],
   "source": [
    "# vstack\n",
    "a = np.array([1, 2, 3])\n",
    "b = np.array([2, 3, 4])\n",
    "np.vstack((a, b))"
   ]
  },
  {
   "cell_type": "code",
   "execution_count": 149,
   "id": "95a5b3ec",
   "metadata": {},
   "outputs": [
    {
     "data": {
      "text/plain": [
       "array([[1, 2],\n",
       "       [2, 3],\n",
       "       [3, 4]])"
      ]
     },
     "execution_count": 149,
     "metadata": {},
     "output_type": "execute_result"
    }
   ],
   "source": [
    "# hstack\n",
    "a = np.array([[1], [2], [3]])\n",
    "b = np.array([[2], [3], [4]])\n",
    "np.hstack((a, b))"
   ]
  },
  {
   "cell_type": "code",
   "execution_count": 151,
   "id": "b069d39e",
   "metadata": {},
   "outputs": [
    {
     "data": {
      "text/plain": [
       "array([[1, 2, 3],\n",
       "       [2, 3, 4]])"
      ]
     },
     "execution_count": 151,
     "metadata": {},
     "output_type": "execute_result"
    }
   ],
   "source": [
    "# concatenate & axis , 축을 기준으로 붙여줌\n",
    "a = np.array([[1, 2, 3]])\n",
    "b = np.array([[2, 3, 4]])\n",
    "np.concatenate((a,b), axis = 0) # a에 b를 row 기준으로 붙임"
   ]
  },
  {
   "cell_type": "code",
   "execution_count": 153,
   "id": "cd9595db",
   "metadata": {},
   "outputs": [
    {
     "data": {
      "text/plain": [
       "array([[1, 2, 5],\n",
       "       [3, 4, 6]])"
      ]
     },
     "execution_count": 153,
     "metadata": {},
     "output_type": "execute_result"
    }
   ],
   "source": [
    "a = np.array([[1, 2], [3, 4]])\n",
    "b = np.array([[5, 6]])\n",
    "np.concatenate((a, b.T), axis = 1) # a에 b의 전치행렬을 row 뒤에 붙임"
   ]
  },
  {
   "cell_type": "markdown",
   "id": "445e14b9",
   "metadata": {},
   "source": [
    "## Array Operation"
   ]
  },
  {
   "cell_type": "markdown",
   "id": "2dfb9772",
   "metadata": {},
   "source": [
    "### Operation b/t arrays\n",
    "- Numpy는 array간 기본적인 사칙 연산을 지원함"
   ]
  },
  {
   "cell_type": "markdown",
   "id": "bb064b76",
   "metadata": {},
   "source": [
    "### Element-wise operations\n",
    "- Array간 shape이 같을 때 일어나는 연산\n",
    "- numpy가 operation이전에 shape이 같은지 먼저 확인한다."
   ]
  },
  {
   "cell_type": "code",
   "execution_count": 155,
   "id": "3f3923e5",
   "metadata": {},
   "outputs": [
    {
     "data": {
      "text/plain": [
       "array([[ 2.,  4.,  6.],\n",
       "       [ 8., 10., 12.]])"
      ]
     },
     "execution_count": 155,
     "metadata": {},
     "output_type": "execute_result"
    }
   ],
   "source": [
    "test_a = np.array([[1,2,3],[4,5,6]], float)\n",
    "\n",
    "test_a + test_a # Matrx + Matrix의 연산"
   ]
  },
  {
   "cell_type": "code",
   "execution_count": 156,
   "id": "07213ddb",
   "metadata": {},
   "outputs": [
    {
     "data": {
      "text/plain": [
       "array([[0., 0., 0.],\n",
       "       [0., 0., 0.]])"
      ]
     },
     "execution_count": 156,
     "metadata": {},
     "output_type": "execute_result"
    }
   ],
   "source": [
    "test_a - test_a # Matrix - Matrix 연산"
   ]
  },
  {
   "cell_type": "code",
   "execution_count": 157,
   "id": "99215250",
   "metadata": {},
   "outputs": [
    {
     "data": {
      "text/plain": [
       "array([[ 1.,  4.,  9.],\n",
       "       [16., 25., 36.]])"
      ]
     },
     "execution_count": 157,
     "metadata": {},
     "output_type": "execute_result"
    }
   ],
   "source": [
    "test_a * test_a # Matrix내 element들 간 같은 위치의 값들 끼리 연산"
   ]
  },
  {
   "cell_type": "markdown",
   "id": "0fa89294",
   "metadata": {},
   "source": [
    "### Dot product\n",
    "- Matrix의 기본 연산\n",
    "- dot 함수 사용"
   ]
  },
  {
   "cell_type": "code",
   "execution_count": 162,
   "id": "f207a123",
   "metadata": {},
   "outputs": [
    {
     "data": {
      "text/plain": [
       "array([[ 58,  64],\n",
       "       [139, 154]])"
      ]
     },
     "execution_count": 162,
     "metadata": {},
     "output_type": "execute_result"
    }
   ],
   "source": [
    "test_a = np.arange(1, 7).reshape(2, 3)\n",
    "test_b = np.arange(7, 13).reshape(3, 2)\n",
    "\n",
    "test_a.dot(test_b)"
   ]
  },
  {
   "cell_type": "markdown",
   "id": "422394fe",
   "metadata": {},
   "source": [
    "### transpose\n",
    "- transpose 또는 T attribute 사용\n",
    "- 전치행렬로 변환"
   ]
  },
  {
   "cell_type": "code",
   "execution_count": 164,
   "id": "ba551699",
   "metadata": {},
   "outputs": [
    {
     "data": {
      "text/plain": [
       "array([[1, 4],\n",
       "       [2, 5],\n",
       "       [3, 6]])"
      ]
     },
     "execution_count": 164,
     "metadata": {},
     "output_type": "execute_result"
    }
   ],
   "source": [
    "test_a = np.arange(1, 7).reshape(2, 3)\n",
    "\n",
    "test_a.transpose()"
   ]
  },
  {
   "cell_type": "code",
   "execution_count": 165,
   "id": "ee79e5f6",
   "metadata": {},
   "outputs": [
    {
     "data": {
      "text/plain": [
       "array([[1, 4],\n",
       "       [2, 5],\n",
       "       [3, 6]])"
      ]
     },
     "execution_count": 165,
     "metadata": {},
     "output_type": "execute_result"
    }
   ],
   "source": [
    "test_a.T"
   ]
  },
  {
   "cell_type": "markdown",
   "id": "47c4859a",
   "metadata": {},
   "source": [
    "### broadcasting\n",
    "- operation에서 제일 중요한 개념\n",
    "- Shape이 다른 배열 간 연산을 지원하는 기능(퍼뜨려서 계산)"
   ]
  },
  {
   "cell_type": "code",
   "execution_count": 167,
   "id": "ee676b4b",
   "metadata": {},
   "outputs": [
    {
     "data": {
      "text/plain": [
       "array([[4., 5., 6.],\n",
       "       [7., 8., 9.]])"
      ]
     },
     "execution_count": 167,
     "metadata": {},
     "output_type": "execute_result"
    }
   ],
   "source": [
    "test_matrix = np.array([[1,2,3],[4,5,6]], float)\n",
    "scalar = 3\n",
    "test_matrix + scalar # Matrix + Scalar 덧셈"
   ]
  },
  {
   "cell_type": "code",
   "execution_count": 169,
   "id": "fa6704ea",
   "metadata": {},
   "outputs": [
    {
     "data": {
      "text/plain": [
       "array([[-2., -1.,  0.],\n",
       "       [ 1.,  2.,  3.]])"
      ]
     },
     "execution_count": 169,
     "metadata": {},
     "output_type": "execute_result"
    }
   ],
   "source": [
    "test_matrix - scalar # Matrix - Scalar 뺄셈"
   ]
  },
  {
   "cell_type": "code",
   "execution_count": 170,
   "id": "735a9232",
   "metadata": {},
   "outputs": [
    {
     "data": {
      "text/plain": [
       "array([[ 3.,  6.,  9.],\n",
       "       [12., 15., 18.]])"
      ]
     },
     "execution_count": 170,
     "metadata": {},
     "output_type": "execute_result"
    }
   ],
   "source": [
    "test_matrix * scalar # Matrix * Scalar 곱셈"
   ]
  },
  {
   "cell_type": "code",
   "execution_count": 171,
   "id": "d6769ca0",
   "metadata": {},
   "outputs": [
    {
     "data": {
      "text/plain": [
       "array([[0.33333333, 0.66666667, 1.        ],\n",
       "       [1.33333333, 1.66666667, 2.        ]])"
      ]
     },
     "execution_count": 171,
     "metadata": {},
     "output_type": "execute_result"
    }
   ],
   "source": [
    "test_matrix / scalar # Matrix / Scalar 나눗셈"
   ]
  },
  {
   "cell_type": "code",
   "execution_count": 173,
   "id": "26f465d2",
   "metadata": {},
   "outputs": [
    {
     "data": {
      "text/plain": [
       "array([[ 4.,  9., 14.],\n",
       "       [19., 24., 29.]])"
      ]
     },
     "execution_count": 173,
     "metadata": {},
     "output_type": "execute_result"
    }
   ],
   "source": [
    "test_matrix // 0.2 # Matrix // Scalar 몫"
   ]
  },
  {
   "cell_type": "code",
   "execution_count": 174,
   "id": "177433d8",
   "metadata": {},
   "outputs": [
    {
     "data": {
      "text/plain": [
       "array([[ 1.,  4.,  9.],\n",
       "       [16., 25., 36.]])"
      ]
     },
     "execution_count": 174,
     "metadata": {},
     "output_type": "execute_result"
    }
   ],
   "source": [
    "test_matrix ** 2 # Matrix ** Scalar 제곱"
   ]
  },
  {
   "cell_type": "markdown",
   "id": "831871d0",
   "metadata": {},
   "source": [
    "### broadcasting\n",
    "- Scalar - vector 외에도 vector - matrix간의 연산도 지원"
   ]
  },
  {
   "cell_type": "code",
   "execution_count": 175,
   "id": "72be0d01",
   "metadata": {},
   "outputs": [
    {
     "data": {
      "text/plain": [
       "array([[ 1,  2,  3],\n",
       "       [ 4,  5,  6],\n",
       "       [ 7,  8,  9],\n",
       "       [10, 11, 12]])"
      ]
     },
     "execution_count": 175,
     "metadata": {},
     "output_type": "execute_result"
    }
   ],
   "source": [
    "test_matrix = np.arange(1,13).reshape(4,3)\n",
    "test_matrix"
   ]
  },
  {
   "cell_type": "code",
   "execution_count": 177,
   "id": "b8f73b39",
   "metadata": {},
   "outputs": [
    {
     "data": {
      "text/plain": [
       "array([10, 20, 30])"
      ]
     },
     "execution_count": 177,
     "metadata": {},
     "output_type": "execute_result"
    }
   ],
   "source": [
    "test_vector = np.arange(10,40,10)\n",
    "test_vector"
   ]
  },
  {
   "cell_type": "code",
   "execution_count": 178,
   "id": "0dac91d4",
   "metadata": {},
   "outputs": [
    {
     "data": {
      "text/plain": [
       "array([[11, 22, 33],\n",
       "       [14, 25, 36],\n",
       "       [17, 28, 39],\n",
       "       [20, 31, 42]])"
      ]
     },
     "execution_count": 178,
     "metadata": {},
     "output_type": "execute_result"
    }
   ],
   "source": [
    "test_matrix + test_vector"
   ]
  },
  {
   "cell_type": "markdown",
   "id": "c7b18592",
   "metadata": {},
   "source": [
    "### Numpy performance \n",
    "- Matrix연산에 있어 속도는 Numpy(c언어) > list comprehension > for문 이다.\n",
    "- 10**9번 연산 기준으로 약 4배 이상의 성능 차이를 보임\n",
    "- 하지만 Numpy는 C로 구현되어 있어 dynamic typing을 포기하므 concatename처럼 계산이 아닌 할당 즉, Data를 붙일 때는 파이썬이 더 빠르다. \n",
    "- 그러므로 대용량 계산에서 가장 흔히 사용됨"
   ]
  },
  {
   "cell_type": "markdown",
   "id": "eb0cdbc9",
   "metadata": {},
   "source": [
    "## comparisions"
   ]
  },
  {
   "cell_type": "markdown",
   "id": "73e90584",
   "metadata": {},
   "source": [
    "### All&Any\n",
    "- Array의 데이터 전부(and) 또는 일부(or)가 조건에 만족하는지에 대한 여부를 반환"
   ]
  },
  {
   "cell_type": "code",
   "execution_count": 180,
   "id": "af1aade9",
   "metadata": {},
   "outputs": [
    {
     "data": {
      "text/plain": [
       "array([0, 1, 2, 3, 4, 5, 6, 7, 8, 9])"
      ]
     },
     "execution_count": 180,
     "metadata": {},
     "output_type": "execute_result"
    }
   ],
   "source": [
    "a = np.arange(10)\n",
    "a"
   ]
  },
  {
   "cell_type": "code",
   "execution_count": 182,
   "id": "3546dd71",
   "metadata": {},
   "outputs": [
    {
     "data": {
      "text/plain": [
       "array([False, False, False, False, False, False,  True,  True,  True,\n",
       "        True])"
      ]
     },
     "execution_count": 182,
     "metadata": {},
     "output_type": "execute_result"
    }
   ],
   "source": [
    "a > 5 # a가 5보다 크다(일종의 broadcasting, 각 데이터를 5와 비교하므로)"
   ]
  },
  {
   "cell_type": "code",
   "execution_count": 184,
   "id": "a85b11ed",
   "metadata": {},
   "outputs": [
    {
     "data": {
      "text/plain": [
       "(True, False)"
      ]
     },
     "execution_count": 184,
     "metadata": {},
     "output_type": "execute_result"
    }
   ],
   "source": [
    "np.any(a > 5)  , np.any(a<0)"
   ]
  },
  {
   "cell_type": "code",
   "execution_count": 185,
   "id": "4fdca113",
   "metadata": {},
   "outputs": [
    {
     "data": {
      "text/plain": [
       "(False, True)"
      ]
     },
     "execution_count": 185,
     "metadata": {},
     "output_type": "execute_result"
    }
   ],
   "source": [
    "np.all(a > 5)  , np.any(a<10)"
   ]
  },
  {
   "cell_type": "markdown",
   "id": "7acebbde",
   "metadata": {},
   "source": [
    "### Comparison operation #2\n",
    "- 여러 조건들에 대한 bool값\n",
    "- logical_and / logical_not / logical_or\n",
    "- 자주는 사용 x"
   ]
  },
  {
   "cell_type": "code",
   "execution_count": 186,
   "id": "b42902a0",
   "metadata": {},
   "outputs": [
    {
     "data": {
      "text/plain": [
       "array([ True, False, False])"
      ]
     },
     "execution_count": 186,
     "metadata": {},
     "output_type": "execute_result"
    }
   ],
   "source": [
    "a = np.array([1,3,0],float)\n",
    "np.logical_and(a > 0, a < 3) # and 조건의 condition"
   ]
  },
  {
   "cell_type": "code",
   "execution_count": 188,
   "id": "95408a4e",
   "metadata": {},
   "outputs": [
    {
     "data": {
      "text/plain": [
       "array([False,  True, False])"
      ]
     },
     "execution_count": 188,
     "metadata": {},
     "output_type": "execute_result"
    }
   ],
   "source": [
    "b = np.array([1,0,1], bool)\n",
    "np.logical_not(b) # NOT조건의 condition"
   ]
  },
  {
   "cell_type": "code",
   "execution_count": 189,
   "id": "513fda88",
   "metadata": {},
   "outputs": [
    {
     "data": {
      "text/plain": [
       "array([ True,  True,  True])"
      ]
     },
     "execution_count": 189,
     "metadata": {},
     "output_type": "execute_result"
    }
   ],
   "source": [
    "c = np.array([0,1,0], bool)\n",
    "np.logical_or(b, c) # or 조건의 condition"
   ]
  },
  {
   "cell_type": "markdown",
   "id": "d6095036",
   "metadata": {},
   "source": [
    "### np.where \n",
    "- 해당 조건에 만족하는 index값 반환\n",
    "- 구조_1 : where(condition, True, False) > 만족하면 True 아니면 False\n",
    "- 구조_2 : where(contdition) > 만족하는 Index반환\n",
    "- 구조_2가 가장 많이 사용"
   ]
  },
  {
   "cell_type": "code",
   "execution_count": 192,
   "id": "ba117575",
   "metadata": {},
   "outputs": [
    {
     "data": {
      "text/plain": [
       "array([3, 3, 2])"
      ]
     },
     "execution_count": 192,
     "metadata": {},
     "output_type": "execute_result"
    }
   ],
   "source": [
    "a = np.array([1,3,0],float)\n",
    "\n",
    "np.where(a > 0, 3, 2) # 각 index별로 True일경우 3을 False일경우 2를 반환"
   ]
  },
  {
   "cell_type": "code",
   "execution_count": 193,
   "id": "6b5faaf5",
   "metadata": {},
   "outputs": [
    {
     "data": {
      "text/plain": [
       "(array([0, 1], dtype=int64),)"
      ]
     },
     "execution_count": 193,
     "metadata": {},
     "output_type": "execute_result"
    }
   ],
   "source": [
    "np.where(a>0) # 만족하는 index반환"
   ]
  },
  {
   "cell_type": "markdown",
   "id": "b5e7e09e",
   "metadata": {},
   "source": [
    "### np.isnan\n",
    "- Not a Number\n",
    "- 숫자가 아니면 True 숫자이면 False반환"
   ]
  },
  {
   "cell_type": "code",
   "execution_count": 195,
   "id": "4f3cd1e6",
   "metadata": {},
   "outputs": [
    {
     "data": {
      "text/plain": [
       "array([False,  True, False])"
      ]
     },
     "execution_count": 195,
     "metadata": {},
     "output_type": "execute_result"
    }
   ],
   "source": [
    "a = np.array([1, np.NaN, np.Inf], float)\n",
    "np.isnan(a)"
   ]
  },
  {
   "cell_type": "markdown",
   "id": "a8d5df41",
   "metadata": {},
   "source": [
    "### mp.isfinite"
   ]
  },
  {
   "cell_type": "code",
   "execution_count": 196,
   "id": "39b1f8da",
   "metadata": {},
   "outputs": [
    {
     "data": {
      "text/plain": [
       "array([ True, False, False])"
      ]
     },
     "execution_count": 196,
     "metadata": {},
     "output_type": "execute_result"
    }
   ],
   "source": [
    "np.isfinite(a)"
   ]
  },
  {
   "cell_type": "markdown",
   "id": "39333cd5",
   "metadata": {},
   "source": [
    "## argmax & argmin\n",
    "#### array내 최대값 또는 최소값의 index를 반환함"
   ]
  },
  {
   "cell_type": "code",
   "execution_count": 197,
   "id": "67b5fd92",
   "metadata": {},
   "outputs": [
    {
     "data": {
      "text/plain": [
       "(5, 0)"
      ]
     },
     "execution_count": 197,
     "metadata": {},
     "output_type": "execute_result"
    }
   ],
   "source": [
    "a = np.array([1,2,4,5,7,78,23,3])\n",
    "np.argmax(a), np.argmin(a)"
   ]
  },
  {
   "cell_type": "markdown",
   "id": "984bf991",
   "metadata": {},
   "source": [
    "#### axis 기반의 반환 "
   ]
  },
  {
   "cell_type": "code",
   "execution_count": 201,
   "id": "ab39db15",
   "metadata": {},
   "outputs": [
    {
     "data": {
      "text/plain": [
       "array([[ 1,  2,  4,  7],\n",
       "       [ 9, 88,  6, 45],\n",
       "       [ 9, 76,  3,  4]])"
      ]
     },
     "execution_count": 201,
     "metadata": {},
     "output_type": "execute_result"
    }
   ],
   "source": [
    "a = np.array([[1,2,4,7],[9,88,6,45],[9,76,3,4]])\n",
    "a"
   ]
  },
  {
   "cell_type": "code",
   "execution_count": 203,
   "id": "4472405a",
   "metadata": {},
   "outputs": [
    {
     "data": {
      "text/plain": [
       "(array([3, 1, 1], dtype=int64), array([0, 0, 2, 2], dtype=int64))"
      ]
     },
     "execution_count": 203,
     "metadata": {},
     "output_type": "execute_result"
    }
   ],
   "source": [
    "np.argmax(a, axis = 1), np.argmin(a, axis = 0) # row별 max , column별 min"
   ]
  },
  {
   "cell_type": "markdown",
   "id": "d32bffb0",
   "metadata": {},
   "source": [
    "### Numpy의 모든 기능들을 다 외울 순 없다. Numpy에서 for문을 쓰는 안좋은 버릇을 버리고 이런것이 있다는 것을 인지하고 필요 할 때 마다 찾아서 사용하자"
   ]
  },
  {
   "cell_type": "markdown",
   "id": "cf6f964f",
   "metadata": {},
   "source": [
    "## boolean index\n",
    "- numpy는 배열의 특정 조건에 따른 값을 배열 형태로 추출 할 수 있다.\n",
    "- Comparison operation 함수들도 모두 사용 가능"
   ]
  },
  {
   "cell_type": "code",
   "execution_count": 204,
   "id": "70c2c628",
   "metadata": {},
   "outputs": [
    {
     "data": {
      "text/plain": [
       "array([False,  True, False, False, False,  True,  True,  True])"
      ]
     },
     "execution_count": 204,
     "metadata": {},
     "output_type": "execute_result"
    }
   ],
   "source": [
    "test_array = np.array([1, 4, 0, 2, 3, 8, 9, 7], float)\n",
    "test_array > 3"
   ]
  },
  {
   "cell_type": "code",
   "execution_count": 205,
   "id": "d681e9fe",
   "metadata": {},
   "outputs": [
    {
     "data": {
      "text/plain": [
       "array([4., 8., 9., 7.])"
      ]
     },
     "execution_count": 205,
     "metadata": {},
     "output_type": "execute_result"
    }
   ],
   "source": [
    "test_array[test_array > 3] # 조건이 True인 index를 활용히 element만 추출"
   ]
  },
  {
   "cell_type": "code",
   "execution_count": 206,
   "id": "7ae76a72",
   "metadata": {},
   "outputs": [
    {
     "data": {
      "text/plain": [
       "array([1., 0., 2.])"
      ]
     },
     "execution_count": 206,
     "metadata": {},
     "output_type": "execute_result"
    }
   ],
   "source": [
    "condition = test_array < 3 # 변수로 지정해서 사용가능\n",
    "test_array[condition]"
   ]
  },
  {
   "cell_type": "code",
   "execution_count": 211,
   "id": "5b8884ec",
   "metadata": {},
   "outputs": [
    {
     "name": "stdout",
     "output_type": "stream",
     "text": [
      "[False False  True False False False  True  True False False False]\n"
     ]
    },
    {
     "data": {
      "text/plain": [
       "array([0, 0, 1, 0, 0, 0, 1, 1, 0, 0, 0])"
      ]
     },
     "execution_count": 211,
     "metadata": {},
     "output_type": "execute_result"
    }
   ],
   "source": [
    "A = np.array([15,16,14,16,15,16,14,14,16,17,15])\n",
    "B = A < 15\n",
    "print(B)\n",
    "\n",
    "# 조건의 만족 여부를 Binary 형태로 출력\n",
    "B.astype(int)"
   ]
  },
  {
   "cell_type": "markdown",
   "id": "2403e225",
   "metadata": {},
   "source": [
    "### fancy index\n",
    "- numpy의 array를 index value로 사용해서 값을 추출하는 방법"
   ]
  },
  {
   "cell_type": "code",
   "execution_count": 212,
   "id": "0bbc5dd2",
   "metadata": {},
   "outputs": [
    {
     "data": {
      "text/plain": [
       "array([2., 2., 4., 8., 6., 4.])"
      ]
     },
     "execution_count": 212,
     "metadata": {},
     "output_type": "execute_result"
    }
   ],
   "source": [
    "a = np.array([2, 4, 6, 8], float)\n",
    "b = np.array([0, 0, 1, 3, 2, 1], int) # index를 담은 값 반드시 integer type!!\n",
    "\n",
    "a[b] # bracket index, b 배열의 값을 index로 하여 a의 값을 추출함"
   ]
  },
  {
   "cell_type": "code",
   "execution_count": 213,
   "id": "c614be49",
   "metadata": {},
   "outputs": [
    {
     "data": {
      "text/plain": [
       "array([2., 2., 4., 8., 6., 4.])"
      ]
     },
     "execution_count": 213,
     "metadata": {},
     "output_type": "execute_result"
    }
   ],
   "source": [
    "# take 함수 : bracket index와 같은 효과\n",
    "# a[b]보다  코드의 가독성 면에서 권장\n",
    "\n",
    "a.take(b) "
   ]
  },
  {
   "cell_type": "markdown",
   "id": "f98f7c64",
   "metadata": {},
   "source": [
    "#### Matrix 형태의 데이터도 fancy index 사용 가능"
   ]
  },
  {
   "cell_type": "code",
   "execution_count": 214,
   "id": "8f7a65dd",
   "metadata": {},
   "outputs": [
    {
     "data": {
      "text/plain": [
       "array([ 1.,  4., 16., 16.,  4.])"
      ]
     },
     "execution_count": 214,
     "metadata": {},
     "output_type": "execute_result"
    }
   ],
   "source": [
    "a = np.array([[1,4],[9,16]], float)\n",
    "row_index = np.array([0,0,1,1,0],int)\n",
    "column_index = np.array([0,1,1,1,1],int)\n",
    "a[row_index, column_index] # 각 각 row, column의 각 인덱스로 변환 함"
   ]
  },
  {
   "cell_type": "markdown",
   "id": "64f889e6",
   "metadata": {},
   "source": [
    "#### Numpy, 특히 fancy index등은 추천시스템에서 많이 사용된다. 추천 시스템은 머신러닝의 일종이긴 하나 좋은 모듈이 없어서 직접 구현을 해야하는 경우가 많기 때문이다."
   ]
  },
  {
   "cell_type": "markdown",
   "id": "0ce0e221",
   "metadata": {},
   "source": [
    "### numpy object - npy\n",
    "- Numpy object(pickle) 형태로 데이터를 저장하고 불러옴\n",
    "- Binary 파일 형태로 저장"
   ]
  },
  {
   "cell_type": "code",
   "execution_count": 217,
   "id": "f52de066",
   "metadata": {},
   "outputs": [],
   "source": [
    "a_int = np.array([1,2,3],dtype=np.int8)\n",
    "np.save(\"npy_test\", arr = a_int)"
   ]
  },
  {
   "cell_type": "code",
   "execution_count": 218,
   "id": "262bfec3",
   "metadata": {},
   "outputs": [
    {
     "data": {
      "text/plain": [
       "array([1, 2, 3], dtype=int8)"
      ]
     },
     "execution_count": 218,
     "metadata": {},
     "output_type": "execute_result"
    }
   ],
   "source": [
    "npy_array = np.load(file = \"npy_test.npy\")\n",
    "npy_array"
   ]
  }
 ],
 "metadata": {
  "kernelspec": {
   "display_name": "Python 3",
   "language": "python",
   "name": "python3"
  },
  "language_info": {
   "codemirror_mode": {
    "name": "ipython",
    "version": 3
   },
   "file_extension": ".py",
   "mimetype": "text/x-python",
   "name": "python",
   "nbconvert_exporter": "python",
   "pygments_lexer": "ipython3",
   "version": "3.8.8"
  }
 },
 "nbformat": 4,
 "nbformat_minor": 5
}
