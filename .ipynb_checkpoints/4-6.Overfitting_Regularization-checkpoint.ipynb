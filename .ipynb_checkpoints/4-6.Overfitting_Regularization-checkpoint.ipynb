{
 "cells": [
  {
   "cell_type": "markdown",
   "id": "09bf816a",
   "metadata": {},
   "source": [
    "# LinearRegression - Overfitting and Regularization"
   ]
  },
  {
   "cell_type": "markdown",
   "id": "eafdfcee",
   "metadata": {},
   "source": [
    "## Overfitting\n",
    "- 학습 데이터에 과다하게 최적화 되어 새로운 데이터의 예측이 떨어짐\n",
    "- occam's razor(오캄의 논리) : 보다 적은 수의 논리로 설명이 가능한 경우, 많은 수의 논리를 세우지  말라"
   ]
  },
  {
   "cell_type": "markdown",
   "id": "7bcb0b18",
   "metadata": {},
   "source": [
    "### Bias - Variance tradeoff\n",
    "- High bias : 원래 모델에 많이 떨어짐, 잘못된 데이터만 계속 학습, 잘못된 Weight만 Update\n",
    "- High variance : 모든 데이터에 민감하게 학습 Error를 고려하지 않음, 모든 Weight가 Update"
   ]
  },
  {
   "cell_type": "markdown",
   "id": "0d40698f",
   "metadata": {},
   "source": [
    "### Overcoming Overfitting\n",
    "- 더 많은 데이터를 활용한다. : 가장 좋은 방법이다.\n",
    "- Feature의 개수를 줄인다.\n",
    "- 적절히 Parameter를 선정한다.\n",
    "- Regularization(정규화)"
   ]
  },
  {
   "cell_type": "markdown",
   "id": "8b3e71cd",
   "metadata": {},
   "source": [
    "### L2 regularization\n",
    "- 기존 Cost function L2(norm) penalty term을 추가\n",
    "- norm(노름) : 벡터의 길이 혹은 크기를 측정하는 방법, L2는 유클리트거리 원점에서 벡터 좌표까지 거리\n",
    "- Stable solution\n",
    "- Only one solution\n",
    "- Non-sparse solution"
   ]
  },
  {
   "cell_type": "markdown",
   "id": "3facf57d",
   "metadata": {},
   "source": [
    "### L1 regularization\n",
    "- 절댓값\n",
    "- 기존 Cost function L1(norm) penalty term을 추가\n",
    "- norm(노름) : 벡터의 길이 혹은 크기를 측정하는 방법, L1은 맨하틑 거리, 원점에서 벡터좌표까지의 거리\n",
    "- Unstable solution\n",
    "- Always on solution\n",
    "- Sparse solution\n",
    "- Feature selection"
   ]
  },
  {
   "cell_type": "code",
   "execution_count": null,
   "id": "56246df5",
   "metadata": {},
   "outputs": [],
   "source": []
  }
 ],
 "metadata": {
  "kernelspec": {
   "display_name": "Python 3",
   "language": "python",
   "name": "python3"
  },
  "language_info": {
   "codemirror_mode": {
    "name": "ipython",
    "version": 3
   },
   "file_extension": ".py",
   "mimetype": "text/x-python",
   "name": "python",
   "nbconvert_exporter": "python",
   "pygments_lexer": "ipython3",
   "version": "3.8.8"
  }
 },
 "nbformat": 4,
 "nbformat_minor": 5
}
